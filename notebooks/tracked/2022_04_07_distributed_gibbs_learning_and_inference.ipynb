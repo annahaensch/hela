{
 "cells": [
  {
   "cell_type": "code",
   "execution_count": 1,
   "metadata": {},
   "outputs": [],
   "source": [
    "import pandas as pd\n",
    "import numpy as np\n",
    "\n",
    "# Hela ML libraries \n",
    "import sys\n",
    "sys.path.append('../../')\n",
    "import hela.hmm as hmm\n",
    "import hela.generation.hmm as hmm_gen\n",
    "\n",
    "# Viz libraries\n",
    "import altair as alt\n",
    "import hela.visualization.hmm as hmmplot \n",
    "import matplotlib.pyplot as plt\n",
    "from hela.visualization.hmm import TU_COLORS\n",
    "%matplotlib inline\n",
    "\n",
    "# Utility Libraries\n",
    "from datetime import datetime\n",
    "from scipy.special import logsumexp\n",
    "from scipy import stats\n",
    "import itertools\n",
    "from IPython.display import Image\n",
    "import time"
   ]
  },
  {
   "cell_type": "markdown",
   "metadata": {},
   "source": [
    "### Generative Model"
   ]
  },
  {
   "cell_type": "code",
   "execution_count": 2,
   "metadata": {},
   "outputs": [
    {
     "name": "stderr",
     "output_type": "stream",
     "text": [
      "../../hela/generation/hmm/factored_model.py:43: VisibleDeprecationWarning: Creating an ndarray from ragged nested sequences (which is a list-or-tuple of lists-or-tuples-or ndarrays with different lengths or shapes) is deprecated. If you meant to do this, you must specify 'dtype=object' when creating the ndarray\n",
      "  self.transition_matrices = np.array(transition_matrices)\n"
     ]
    }
   ],
   "source": [
    "gen = hmm_gen.FactoredHMMGenerativeModel(\n",
    "                                     n_hidden_states =[2,3],\n",
    "                                     n_gaussian_features =2,\n",
    "                                     n_categorical_features = 2)\n",
    "\n",
    "factored_hidden_states = gen.generate_hidden_state_sequence(n_observations = 200)"
   ]
  },
  {
   "cell_type": "code",
   "execution_count": 3,
   "metadata": {},
   "outputs": [],
   "source": [
    "data = gen.generate_observations(factored_hidden_states)\n",
    "fhmm_training_spec = hmm_gen.data_to_fhmm_training_spec(factored_hidden_states, \n",
    "                                   gen.n_hidden_states, \n",
    "                                   data,\n",
    "                                   categorical_features = list(gen.categorical_values.columns), \n",
    "                                   gaussian_features = list(gen.gaussian_values.columns)\n",
    "                                                       )\n",
    "\n",
    "fhmm_config = hmm.FactoredHMMConfiguration.from_spec(fhmm_training_spec)\n",
    "untrained_fhmm_model = fhmm_config.to_model()"
   ]
  },
  {
   "cell_type": "markdown",
   "metadata": {},
   "source": [
    "### Distributed Gibbs Model Training"
   ]
  },
  {
   "cell_type": "code",
   "execution_count": 4,
   "metadata": {},
   "outputs": [
    {
     "name": "stderr",
     "output_type": "stream",
     "text": [
      "../../hela/hmm/factored_models.py:248: VisibleDeprecationWarning: Creating an ndarray from ragged nested sequences (which is a list-or-tuple of lists-or-tuples-or ndarrays with different lengths or shapes) is deprecated. If you meant to do this, you must specify 'dtype=object' when creating the ndarray\n",
      "  for i in range(len(n_hidden_states))\n"
     ]
    }
   ],
   "source": [
    "distributed_gibbs_alg = untrained_fhmm_model.load_learning_interface()\n",
    "start_distributed_train = time.time()\n",
    "distributed_gibbs_model = distributed_gibbs_alg.run(data=data,\n",
    "                                                    method='gibbs',\n",
    "                                                    training_iterations=10,\n",
    "                                                    gibbs_iterations = 10,\n",
    "                                                    burn_down_period = 5, \n",
    "                                                    distributed=True, \n",
    "                                                    n_workers = 2)\n",
    "\n",
    "distributed_train_time = time.time() - start_distributed_train"
   ]
  },
  {
   "cell_type": "code",
   "execution_count": 5,
   "metadata": {},
   "outputs": [
    {
     "data": {
      "text/plain": [
       "34.864121437072754"
      ]
     },
     "execution_count": 5,
     "metadata": {},
     "output_type": "execute_result"
    }
   ],
   "source": [
    "distributed_train_time"
   ]
  },
  {
   "cell_type": "markdown",
   "metadata": {},
   "source": [
    "### Gibbs Model Training"
   ]
  },
  {
   "cell_type": "code",
   "execution_count": 6,
   "metadata": {},
   "outputs": [],
   "source": [
    "gibbs_alg = untrained_fhmm_model.load_learning_interface()\n",
    "start_train = time.time()\n",
    "gibbs_model = gibbs_alg.run(data=data,\n",
    "                            method='gibbs',\n",
    "                            training_iterations=10,\n",
    "                            gibbs_iterations = 10,\n",
    "                            burn_down_period = 5)\n",
    "train_time = time.time() - start_train"
   ]
  },
  {
   "cell_type": "code",
   "execution_count": 7,
   "metadata": {},
   "outputs": [
    {
     "name": "stdout",
     "output_type": "stream",
     "text": [
      "Time for training using Dask: 34.864121437072754\n",
      "Time for training: 36.88130044937134\n"
     ]
    }
   ],
   "source": [
    "print(\"Time for training using Dask: {}\".format(distributed_train_time))\n",
    "print(\"Time for training: {}\".format(train_time))"
   ]
  },
  {
   "cell_type": "markdown",
   "metadata": {},
   "source": [
    "### Distributed Gibbs Inference"
   ]
  },
  {
   "cell_type": "code",
   "execution_count": 8,
   "metadata": {},
   "outputs": [],
   "source": [
    "inf = distributed_gibbs_model.load_inference_interface()\n",
    "start_distributed_inference = time.time()\n",
    "Gamma, Xi, hidden_state_vector_df_distributed = inf.distributed_gibbs_sampling(data,\n",
    "                                                                               iterations = 50,\n",
    "                                                                               burn_down_period=0,\n",
    "                                                                               n_workers = 2)\n",
    "distributed_inference_time = time.time() - start_distributed_inference\n"
   ]
  },
  {
   "cell_type": "markdown",
   "metadata": {},
   "source": [
    "### Gibbs Inference"
   ]
  },
  {
   "cell_type": "code",
   "execution_count": null,
   "metadata": {},
   "outputs": [],
   "source": [
    "inf = gibbs_model.load_inference_interface()\n",
    "start_inference = time.time()\n",
    "Gamma, Xi, hidden_state_vector_df = inf.gibbs_sampling(data,\n",
    "                                                       iterations = 50,\n",
    "                                                       burn_down_period=0)\n",
    "inference_time = time.time() - start_inference"
   ]
  },
  {
   "cell_type": "code",
   "execution_count": null,
   "metadata": {},
   "outputs": [],
   "source": [
    "print(\"Time for inference using Dask: {}\".format(distributed_inference_time))\n",
    "print(\"Time for inference: {}\".format(inference_time))"
   ]
  },
  {
   "cell_type": "code",
   "execution_count": null,
   "metadata": {},
   "outputs": [],
   "source": [
    "flattened_pred_states = gen.flatten_hidden_state_sequence(hidden_state_vector_df_distributed)\n",
    "hmmplot.draw_states(flattened_pred_states, hide_brush=False)"
   ]
  },
  {
   "cell_type": "code",
   "execution_count": null,
   "metadata": {},
   "outputs": [],
   "source": [
    "p_any = np.sum(np.any(np.array(hidden_state_vector_df_distributed) == np.array(factored_hidden_states), axis = 1)) / data.shape[0]\n",
    "p_all = np.sum(np.all(np.array(hidden_state_vector_df_distributed) == np.array(factored_hidden_states), axis = 1)) / data.shape[0]\n",
    "\n",
    "print(\"{}% of the time distributed Gibbs returned the correct hidden state for at least one system.\".format(int(p_any *100)))\n",
    "print(\"\")\n",
    "print(\"{}% of the time distributed Gibbs returned the correct hidden state for every system.\".format(int(p_all *100)))"
   ]
  },
  {
   "cell_type": "code",
   "execution_count": null,
   "metadata": {},
   "outputs": [],
   "source": [
    "flattened_pred_states = gen.flatten_hidden_state_sequence(hidden_state_vector_df)\n",
    "hmmplot.draw_states(flattened_pred_states, hide_brush=False)"
   ]
  },
  {
   "cell_type": "code",
   "execution_count": null,
   "metadata": {},
   "outputs": [],
   "source": [
    "p_any = np.sum(np.any(np.array(hidden_state_vector_df) == np.array(factored_hidden_states), axis = 1)) / data.shape[0]\n",
    "p_all = np.sum(np.all(np.array(hidden_state_vector_df) == np.array(factored_hidden_states), axis = 1)) / data.shape[0]\n",
    "\n",
    "print(\"{}% of the time Gibbs returned the correct hidden state for at least one system.\".format(int(p_any *100)))\n",
    "print(\"\")\n",
    "print(\"{}% of the time Gibbs returned the correct hidden state for every system.\".format(int(p_all *100)))"
   ]
  },
  {
   "cell_type": "code",
   "execution_count": null,
   "metadata": {},
   "outputs": [],
   "source": []
  }
 ],
 "metadata": {
  "kernelspec": {
   "display_name": "Python 3 (ipykernel)",
   "language": "python",
   "name": "python3"
  },
  "language_info": {
   "codemirror_mode": {
    "name": "ipython",
    "version": 3
   },
   "file_extension": ".py",
   "mimetype": "text/x-python",
   "name": "python",
   "nbconvert_exporter": "python",
   "pygments_lexer": "ipython3",
   "version": "3.7.3"
  }
 },
 "nbformat": 4,
 "nbformat_minor": 2
}
