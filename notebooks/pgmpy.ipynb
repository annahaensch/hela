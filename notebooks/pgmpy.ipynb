{
 "cells": [
  {
   "cell_type": "code",
   "execution_count": 1,
   "metadata": {},
   "outputs": [],
   "source": [
    "import pandas as pd\n",
    "import numpy as np\n",
    "\n",
    "import altair as alt\n",
    "import hela.visualization.hmm as hmmplot\n",
    "import matplotlib.pyplot as plt\n",
    "%matplotlib inline\n",
    "\n",
    "from hela import hmm\n",
    "import hela.generation.hmm as gen\n",
    "from scipy.special import logsumexp\n",
    "\n",
    "from datetime import datetime\n",
    "from dask.distributed import Client\n",
    "\n",
    "TU_COLORS = [\n",
    "    \"#9b67ff\", \"#57b3c2\", \"#ffa040\", \"#ff6283\", \"#2ccc72\", \"#1270cb\", \"#bd043a\",\n",
    "    \"#a1c54d\", \"#4c319e\", \"#c6c0fe\", \"#195036\", \"#f6a39f\"\n",
    "]"
   ]
  },
  {
   "cell_type": "markdown",
   "metadata": {},
   "source": [
    "### Factored HMM Generative"
   ]
  },
  {
   "cell_type": "code",
   "execution_count": 2,
   "metadata": {},
   "outputs": [],
   "source": [
    "# factored_generative_model = gen.FactoredHMMGenerativeModel(\n",
    "#                                      ns_hidden_states =[2, 2],\n",
    "#                                      n_gaussian_features = 2,\n",
    "#                                      n_categorical_features = 1)"
   ]
  },
  {
   "cell_type": "code",
   "execution_count": 3,
   "metadata": {},
   "outputs": [],
   "source": [
    "# factored_hidden_states = factored_generative_model.generate_hidden_state_sequence(n_observations = 50)"
   ]
  },
  {
   "cell_type": "code",
   "execution_count": 4,
   "metadata": {},
   "outputs": [],
   "source": [
    "# fhmm_data = factored_generative_model.generate_observations(factored_hidden_states)"
   ]
  },
  {
   "cell_type": "code",
   "execution_count": 5,
   "metadata": {},
   "outputs": [],
   "source": [
    "# fhmm_training_spec = factored_generative_model.generative_model_to_discrete_fhmm_training_spec()\n",
    "# fhmm_training_spec"
   ]
  },
  {
   "cell_type": "code",
   "execution_count": 6,
   "metadata": {},
   "outputs": [],
   "source": [
    "# model_config = hmm.DiscreteFHMMConfiguration.from_spec(fhmm_training_spec)\n",
    "# model_config"
   ]
  },
  {
   "cell_type": "markdown",
   "metadata": {},
   "source": [
    "### HMM Generative"
   ]
  },
  {
   "cell_type": "code",
   "execution_count": 7,
   "metadata": {},
   "outputs": [],
   "source": [
    "generative_model = gen.DiscreteHMMGenerativeModel(\n",
    "                                     n_hidden_states =3,\n",
    "                                     n_gaussian_features=0,\n",
    "                                    n_categorical_features = 2,\n",
    "                                     n_gmm_components = None)"
   ]
  },
  {
   "cell_type": "code",
   "execution_count": 8,
   "metadata": {},
   "outputs": [
    {
     "data": {
      "application/javascript": [
       "const spec = {\"config\": {\"view\": {\"width\": 400, \"height\": 300}, \"mark\": {\"tooltip\": null}}, \"vconcat\": [{\"mark\": {\"type\": \"tick\", \"opacity\": 1, \"size\": 300, \"thickness\": 2}, \"encoding\": {\"color\": {\"type\": \"nominal\", \"field\": \"hidden state\", \"legend\": {\"orient\": \"bottom\", \"title\": \"hidden states\"}, \"scale\": {\"scheme\": \"spectral\"}}, \"tooltip\": [{\"type\": \"temporal\", \"field\": \"time\"}, {\"type\": \"nominal\", \"field\": \"hidden state\"}], \"x\": {\"type\": \"temporal\", \"axis\": {\"title\": null}, \"field\": \"time\", \"scale\": {\"domain\": {\"selection\": \"selector001\"}}}, \"y\": {\"value\": 0}}, \"height\": 150, \"width\": 900}, {\"mark\": {\"type\": \"tick\", \"opacity\": 0, \"size\": 100.0, \"thickness\": 2}, \"encoding\": {\"x\": {\"type\": \"temporal\", \"axis\": {\"title\": null}, \"field\": \"time\", \"scale\": {\"domain\": {\"selection\": \"selector001\"}}}, \"y\": {\"value\": 0}}, \"height\": 25.0, \"selection\": {\"selector001\": {\"type\": \"interval\", \"encodings\": [\"x\"]}}, \"width\": 900}], \"data\": {\"name\": \"data-53467f0b2ff9a38ced60e7ffcfb3ab7f\"}, \"$schema\": \"https://vega.github.io/schema/vega-lite/v3.4.0.json\", \"datasets\": {\"data-53467f0b2ff9a38ced60e7ffcfb3ab7f\": [{\"time\": \"2020-08-01T00:00:00\", \"hidden state\": 1}, {\"time\": \"2020-08-02T00:00:00\", \"hidden state\": 1}, {\"time\": \"2020-08-03T00:00:00\", \"hidden state\": 1}, {\"time\": \"2020-08-04T00:00:00\", \"hidden state\": 1}, {\"time\": \"2020-08-05T00:00:00\", \"hidden state\": 1}, {\"time\": \"2020-08-06T00:00:00\", \"hidden state\": 1}, {\"time\": \"2020-08-07T00:00:00\", \"hidden state\": 1}, {\"time\": \"2020-08-08T00:00:00\", \"hidden state\": 1}, {\"time\": \"2020-08-09T00:00:00\", \"hidden state\": 1}, {\"time\": \"2020-08-10T00:00:00\", \"hidden state\": 1}, {\"time\": \"2020-08-11T00:00:00\", \"hidden state\": 1}, {\"time\": \"2020-08-12T00:00:00\", \"hidden state\": 1}, {\"time\": \"2020-08-13T00:00:00\", \"hidden state\": 1}, {\"time\": \"2020-08-14T00:00:00\", \"hidden state\": 1}, {\"time\": \"2020-08-15T00:00:00\", \"hidden state\": 1}, {\"time\": \"2020-08-16T00:00:00\", \"hidden state\": 1}, {\"time\": \"2020-08-17T00:00:00\", \"hidden state\": 1}, {\"time\": \"2020-08-18T00:00:00\", \"hidden state\": 1}, {\"time\": \"2020-08-19T00:00:00\", \"hidden state\": 1}, {\"time\": \"2020-08-20T00:00:00\", \"hidden state\": 1}, {\"time\": \"2020-08-21T00:00:00\", \"hidden state\": 1}, {\"time\": \"2020-08-22T00:00:00\", \"hidden state\": 1}, {\"time\": \"2020-08-23T00:00:00\", \"hidden state\": 1}, {\"time\": \"2020-08-24T00:00:00\", \"hidden state\": 1}, {\"time\": \"2020-08-25T00:00:00\", \"hidden state\": 2}, {\"time\": \"2020-08-26T00:00:00\", \"hidden state\": 2}, {\"time\": \"2020-08-27T00:00:00\", \"hidden state\": 2}, {\"time\": \"2020-08-28T00:00:00\", \"hidden state\": 2}, {\"time\": \"2020-08-29T00:00:00\", \"hidden state\": 2}, {\"time\": \"2020-08-30T00:00:00\", \"hidden state\": 2}, {\"time\": \"2020-08-31T00:00:00\", \"hidden state\": 2}, {\"time\": \"2020-09-01T00:00:00\", \"hidden state\": 2}, {\"time\": \"2020-09-02T00:00:00\", \"hidden state\": 2}, {\"time\": \"2020-09-03T00:00:00\", \"hidden state\": 2}, {\"time\": \"2020-09-04T00:00:00\", \"hidden state\": 2}, {\"time\": \"2020-09-05T00:00:00\", \"hidden state\": 2}, {\"time\": \"2020-09-06T00:00:00\", \"hidden state\": 2}, {\"time\": \"2020-09-07T00:00:00\", \"hidden state\": 2}, {\"time\": \"2020-09-08T00:00:00\", \"hidden state\": 2}, {\"time\": \"2020-09-09T00:00:00\", \"hidden state\": 2}, {\"time\": \"2020-09-10T00:00:00\", \"hidden state\": 2}, {\"time\": \"2020-09-11T00:00:00\", \"hidden state\": 2}, {\"time\": \"2020-09-12T00:00:00\", \"hidden state\": 2}, {\"time\": \"2020-09-13T00:00:00\", \"hidden state\": 2}, {\"time\": \"2020-09-14T00:00:00\", \"hidden state\": 2}, {\"time\": \"2020-09-15T00:00:00\", \"hidden state\": 2}, {\"time\": \"2020-09-16T00:00:00\", \"hidden state\": 2}, {\"time\": \"2020-09-17T00:00:00\", \"hidden state\": 2}, {\"time\": \"2020-09-18T00:00:00\", \"hidden state\": 2}, {\"time\": \"2020-09-19T00:00:00\", \"hidden state\": 2}, {\"time\": \"2020-09-20T00:00:00\", \"hidden state\": 2}, {\"time\": \"2020-09-21T00:00:00\", \"hidden state\": 2}, {\"time\": \"2020-09-22T00:00:00\", \"hidden state\": 2}, {\"time\": \"2020-09-23T00:00:00\", \"hidden state\": 2}, {\"time\": \"2020-09-24T00:00:00\", \"hidden state\": 2}, {\"time\": \"2020-09-25T00:00:00\", \"hidden state\": 2}, {\"time\": \"2020-09-26T00:00:00\", \"hidden state\": 2}, {\"time\": \"2020-09-27T00:00:00\", \"hidden state\": 2}, {\"time\": \"2020-09-28T00:00:00\", \"hidden state\": 2}, {\"time\": \"2020-09-29T00:00:00\", \"hidden state\": 2}, {\"time\": \"2020-09-30T00:00:00\", \"hidden state\": 2}, {\"time\": \"2020-10-01T00:00:00\", \"hidden state\": 2}, {\"time\": \"2020-10-02T00:00:00\", \"hidden state\": 2}, {\"time\": \"2020-10-03T00:00:00\", \"hidden state\": 2}, {\"time\": \"2020-10-04T00:00:00\", \"hidden state\": 2}, {\"time\": \"2020-10-05T00:00:00\", \"hidden state\": 2}, {\"time\": \"2020-10-06T00:00:00\", \"hidden state\": 2}, {\"time\": \"2020-10-07T00:00:00\", \"hidden state\": 2}, {\"time\": \"2020-10-08T00:00:00\", \"hidden state\": 2}, {\"time\": \"2020-10-09T00:00:00\", \"hidden state\": 2}, {\"time\": \"2020-10-10T00:00:00\", \"hidden state\": 2}, {\"time\": \"2020-10-11T00:00:00\", \"hidden state\": 0}, {\"time\": \"2020-10-12T00:00:00\", \"hidden state\": 0}, {\"time\": \"2020-10-13T00:00:00\", \"hidden state\": 0}, {\"time\": \"2020-10-14T00:00:00\", \"hidden state\": 0}, {\"time\": \"2020-10-15T00:00:00\", \"hidden state\": 0}, {\"time\": \"2020-10-16T00:00:00\", \"hidden state\": 0}, {\"time\": \"2020-10-17T00:00:00\", \"hidden state\": 0}, {\"time\": \"2020-10-18T00:00:00\", \"hidden state\": 0}, {\"time\": \"2020-10-19T00:00:00\", \"hidden state\": 0}, {\"time\": \"2020-10-20T00:00:00\", \"hidden state\": 0}, {\"time\": \"2020-10-21T00:00:00\", \"hidden state\": 0}, {\"time\": \"2020-10-22T00:00:00\", \"hidden state\": 0}, {\"time\": \"2020-10-23T00:00:00\", \"hidden state\": 0}, {\"time\": \"2020-10-24T00:00:00\", \"hidden state\": 0}, {\"time\": \"2020-10-25T00:00:00\", \"hidden state\": 0}, {\"time\": \"2020-10-26T00:00:00\", \"hidden state\": 0}, {\"time\": \"2020-10-27T00:00:00\", \"hidden state\": 0}, {\"time\": \"2020-10-28T00:00:00\", \"hidden state\": 0}, {\"time\": \"2020-10-29T00:00:00\", \"hidden state\": 0}, {\"time\": \"2020-10-30T00:00:00\", \"hidden state\": 0}, {\"time\": \"2020-10-31T00:00:00\", \"hidden state\": 0}, {\"time\": \"2020-11-01T00:00:00\", \"hidden state\": 0}, {\"time\": \"2020-11-02T00:00:00\", \"hidden state\": 0}, {\"time\": \"2020-11-03T00:00:00\", \"hidden state\": 0}, {\"time\": \"2020-11-04T00:00:00\", \"hidden state\": 0}, {\"time\": \"2020-11-05T00:00:00\", \"hidden state\": 0}, {\"time\": \"2020-11-06T00:00:00\", \"hidden state\": 0}, {\"time\": \"2020-11-07T00:00:00\", \"hidden state\": 0}, {\"time\": \"2020-11-08T00:00:00\", \"hidden state\": 0}, {\"time\": \"2020-11-09T00:00:00\", \"hidden state\": 0}, {\"time\": \"2020-11-10T00:00:00\", \"hidden state\": 0}, {\"time\": \"2020-11-11T00:00:00\", \"hidden state\": 0}, {\"time\": \"2020-11-12T00:00:00\", \"hidden state\": 0}, {\"time\": \"2020-11-13T00:00:00\", \"hidden state\": 0}, {\"time\": \"2020-11-14T00:00:00\", \"hidden state\": 0}, {\"time\": \"2020-11-15T00:00:00\", \"hidden state\": 0}, {\"time\": \"2020-11-16T00:00:00\", \"hidden state\": 0}, {\"time\": \"2020-11-17T00:00:00\", \"hidden state\": 0}, {\"time\": \"2020-11-18T00:00:00\", \"hidden state\": 0}, {\"time\": \"2020-11-19T00:00:00\", \"hidden state\": 0}, {\"time\": \"2020-11-20T00:00:00\", \"hidden state\": 0}, {\"time\": \"2020-11-21T00:00:00\", \"hidden state\": 0}, {\"time\": \"2020-11-22T00:00:00\", \"hidden state\": 0}, {\"time\": \"2020-11-23T00:00:00\", \"hidden state\": 0}, {\"time\": \"2020-11-24T00:00:00\", \"hidden state\": 0}, {\"time\": \"2020-11-25T00:00:00\", \"hidden state\": 0}, {\"time\": \"2020-11-26T00:00:00\", \"hidden state\": 0}, {\"time\": \"2020-11-27T00:00:00\", \"hidden state\": 0}, {\"time\": \"2020-11-28T00:00:00\", \"hidden state\": 0}, {\"time\": \"2020-11-29T00:00:00\", \"hidden state\": 0}, {\"time\": \"2020-11-30T00:00:00\", \"hidden state\": 1}, {\"time\": \"2020-12-01T00:00:00\", \"hidden state\": 1}, {\"time\": \"2020-12-02T00:00:00\", \"hidden state\": 1}, {\"time\": \"2020-12-03T00:00:00\", \"hidden state\": 1}, {\"time\": \"2020-12-04T00:00:00\", \"hidden state\": 1}, {\"time\": \"2020-12-05T00:00:00\", \"hidden state\": 1}, {\"time\": \"2020-12-06T00:00:00\", \"hidden state\": 1}, {\"time\": \"2020-12-07T00:00:00\", \"hidden state\": 1}, {\"time\": \"2020-12-08T00:00:00\", \"hidden state\": 1}, {\"time\": \"2020-12-09T00:00:00\", \"hidden state\": 1}, {\"time\": \"2020-12-10T00:00:00\", \"hidden state\": 1}, {\"time\": \"2020-12-11T00:00:00\", \"hidden state\": 1}, {\"time\": \"2020-12-12T00:00:00\", \"hidden state\": 1}, {\"time\": \"2020-12-13T00:00:00\", \"hidden state\": 1}, {\"time\": \"2020-12-14T00:00:00\", \"hidden state\": 1}, {\"time\": \"2020-12-15T00:00:00\", \"hidden state\": 1}, {\"time\": \"2020-12-16T00:00:00\", \"hidden state\": 1}, {\"time\": \"2020-12-17T00:00:00\", \"hidden state\": 1}, {\"time\": \"2020-12-18T00:00:00\", \"hidden state\": 1}, {\"time\": \"2020-12-19T00:00:00\", \"hidden state\": 1}, {\"time\": \"2020-12-20T00:00:00\", \"hidden state\": 1}, {\"time\": \"2020-12-21T00:00:00\", \"hidden state\": 1}, {\"time\": \"2020-12-22T00:00:00\", \"hidden state\": 1}, {\"time\": \"2020-12-23T00:00:00\", \"hidden state\": 1}, {\"time\": \"2020-12-24T00:00:00\", \"hidden state\": 1}, {\"time\": \"2020-12-25T00:00:00\", \"hidden state\": 1}, {\"time\": \"2020-12-26T00:00:00\", \"hidden state\": 1}, {\"time\": \"2020-12-27T00:00:00\", \"hidden state\": 1}, {\"time\": \"2020-12-28T00:00:00\", \"hidden state\": 1}, {\"time\": \"2020-12-29T00:00:00\", \"hidden state\": 1}, {\"time\": \"2020-12-30T00:00:00\", \"hidden state\": 1}, {\"time\": \"2020-12-31T00:00:00\", \"hidden state\": 1}, {\"time\": \"2021-01-01T00:00:00\", \"hidden state\": 1}, {\"time\": \"2021-01-02T00:00:00\", \"hidden state\": 1}, {\"time\": \"2021-01-03T00:00:00\", \"hidden state\": 1}, {\"time\": \"2021-01-04T00:00:00\", \"hidden state\": 1}, {\"time\": \"2021-01-05T00:00:00\", \"hidden state\": 1}, {\"time\": \"2021-01-06T00:00:00\", \"hidden state\": 1}, {\"time\": \"2021-01-07T00:00:00\", \"hidden state\": 1}, {\"time\": \"2021-01-08T00:00:00\", \"hidden state\": 1}, {\"time\": \"2021-01-09T00:00:00\", \"hidden state\": 1}, {\"time\": \"2021-01-10T00:00:00\", \"hidden state\": 1}, {\"time\": \"2021-01-11T00:00:00\", \"hidden state\": 1}, {\"time\": \"2021-01-12T00:00:00\", \"hidden state\": 1}, {\"time\": \"2021-01-13T00:00:00\", \"hidden state\": 1}, {\"time\": \"2021-01-14T00:00:00\", \"hidden state\": 1}, {\"time\": \"2021-01-15T00:00:00\", \"hidden state\": 1}, {\"time\": \"2021-01-16T00:00:00\", \"hidden state\": 1}, {\"time\": \"2021-01-17T00:00:00\", \"hidden state\": 1}, {\"time\": \"2021-01-18T00:00:00\", \"hidden state\": 1}, {\"time\": \"2021-01-19T00:00:00\", \"hidden state\": 1}, {\"time\": \"2021-01-20T00:00:00\", \"hidden state\": 1}, {\"time\": \"2021-01-21T00:00:00\", \"hidden state\": 1}, {\"time\": \"2021-01-22T00:00:00\", \"hidden state\": 1}, {\"time\": \"2021-01-23T00:00:00\", \"hidden state\": 1}, {\"time\": \"2021-01-24T00:00:00\", \"hidden state\": 1}, {\"time\": \"2021-01-25T00:00:00\", \"hidden state\": 1}, {\"time\": \"2021-01-26T00:00:00\", \"hidden state\": 1}, {\"time\": \"2021-01-27T00:00:00\", \"hidden state\": 1}, {\"time\": \"2021-01-28T00:00:00\", \"hidden state\": 1}, {\"time\": \"2021-01-29T00:00:00\", \"hidden state\": 1}, {\"time\": \"2021-01-30T00:00:00\", \"hidden state\": 2}, {\"time\": \"2021-01-31T00:00:00\", \"hidden state\": 2}, {\"time\": \"2021-02-01T00:00:00\", \"hidden state\": 2}, {\"time\": \"2021-02-02T00:00:00\", \"hidden state\": 2}, {\"time\": \"2021-02-03T00:00:00\", \"hidden state\": 2}, {\"time\": \"2021-02-04T00:00:00\", \"hidden state\": 2}, {\"time\": \"2021-02-05T00:00:00\", \"hidden state\": 2}, {\"time\": \"2021-02-06T00:00:00\", \"hidden state\": 2}, {\"time\": \"2021-02-07T00:00:00\", \"hidden state\": 2}, {\"time\": \"2021-02-08T00:00:00\", \"hidden state\": 2}, {\"time\": \"2021-02-09T00:00:00\", \"hidden state\": 2}, {\"time\": \"2021-02-10T00:00:00\", \"hidden state\": 2}, {\"time\": \"2021-02-11T00:00:00\", \"hidden state\": 2}, {\"time\": \"2021-02-12T00:00:00\", \"hidden state\": 2}, {\"time\": \"2021-02-13T00:00:00\", \"hidden state\": 2}, {\"time\": \"2021-02-14T00:00:00\", \"hidden state\": 2}, {\"time\": \"2021-02-15T00:00:00\", \"hidden state\": 2}, {\"time\": \"2021-02-16T00:00:00\", \"hidden state\": 2}, {\"time\": \"2021-02-17T00:00:00\", \"hidden state\": 2}, {\"time\": \"2021-02-18T00:00:00\", \"hidden state\": 2}, {\"time\": \"2021-02-19T00:00:00\", \"hidden state\": 2}, {\"time\": \"2021-02-20T00:00:00\", \"hidden state\": 2}, {\"time\": \"2021-02-21T00:00:00\", \"hidden state\": 2}, {\"time\": \"2021-02-22T00:00:00\", \"hidden state\": 2}, {\"time\": \"2021-02-23T00:00:00\", \"hidden state\": 2}, {\"time\": \"2021-02-24T00:00:00\", \"hidden state\": 2}, {\"time\": \"2021-02-25T00:00:00\", \"hidden state\": 2}, {\"time\": \"2021-02-26T00:00:00\", \"hidden state\": 2}, {\"time\": \"2021-02-27T00:00:00\", \"hidden state\": 2}, {\"time\": \"2021-02-28T00:00:00\", \"hidden state\": 2}, {\"time\": \"2021-03-01T00:00:00\", \"hidden state\": 2}, {\"time\": \"2021-03-02T00:00:00\", \"hidden state\": 2}, {\"time\": \"2021-03-03T00:00:00\", \"hidden state\": 2}, {\"time\": \"2021-03-04T00:00:00\", \"hidden state\": 2}, {\"time\": \"2021-03-05T00:00:00\", \"hidden state\": 2}, {\"time\": \"2021-03-06T00:00:00\", \"hidden state\": 2}, {\"time\": \"2021-03-07T00:00:00\", \"hidden state\": 2}, {\"time\": \"2021-03-08T00:00:00\", \"hidden state\": 2}, {\"time\": \"2021-03-09T00:00:00\", \"hidden state\": 2}, {\"time\": \"2021-03-10T00:00:00\", \"hidden state\": 2}, {\"time\": \"2021-03-11T00:00:00\", \"hidden state\": 2}, {\"time\": \"2021-03-12T00:00:00\", \"hidden state\": 2}, {\"time\": \"2021-03-13T00:00:00\", \"hidden state\": 2}, {\"time\": \"2021-03-14T00:00:00\", \"hidden state\": 2}, {\"time\": \"2021-03-15T00:00:00\", \"hidden state\": 2}, {\"time\": \"2021-03-16T00:00:00\", \"hidden state\": 2}, {\"time\": \"2021-03-17T00:00:00\", \"hidden state\": 2}, {\"time\": \"2021-03-18T00:00:00\", \"hidden state\": 2}, {\"time\": \"2021-03-19T00:00:00\", \"hidden state\": 2}, {\"time\": \"2021-03-20T00:00:00\", \"hidden state\": 2}, {\"time\": \"2021-03-21T00:00:00\", \"hidden state\": 2}, {\"time\": \"2021-03-22T00:00:00\", \"hidden state\": 2}, {\"time\": \"2021-03-23T00:00:00\", \"hidden state\": 2}, {\"time\": \"2021-03-24T00:00:00\", \"hidden state\": 2}, {\"time\": \"2021-03-25T00:00:00\", \"hidden state\": 2}, {\"time\": \"2021-03-26T00:00:00\", \"hidden state\": 2}, {\"time\": \"2021-03-27T00:00:00\", \"hidden state\": 2}, {\"time\": \"2021-03-28T00:00:00\", \"hidden state\": 2}, {\"time\": \"2021-03-29T00:00:00\", \"hidden state\": 2}, {\"time\": \"2021-03-30T00:00:00\", \"hidden state\": 2}, {\"time\": \"2021-03-31T00:00:00\", \"hidden state\": 2}, {\"time\": \"2021-04-01T00:00:00\", \"hidden state\": 2}, {\"time\": \"2021-04-02T00:00:00\", \"hidden state\": 2}, {\"time\": \"2021-04-03T00:00:00\", \"hidden state\": 2}, {\"time\": \"2021-04-04T00:00:00\", \"hidden state\": 2}, {\"time\": \"2021-04-05T00:00:00\", \"hidden state\": 2}, {\"time\": \"2021-04-06T00:00:00\", \"hidden state\": 2}, {\"time\": \"2021-04-07T00:00:00\", \"hidden state\": 2}, {\"time\": \"2021-04-08T00:00:00\", \"hidden state\": 2}, {\"time\": \"2021-04-09T00:00:00\", \"hidden state\": 2}, {\"time\": \"2021-04-10T00:00:00\", \"hidden state\": 2}, {\"time\": \"2021-04-11T00:00:00\", \"hidden state\": 2}, {\"time\": \"2021-04-12T00:00:00\", \"hidden state\": 2}, {\"time\": \"2021-04-13T00:00:00\", \"hidden state\": 0}, {\"time\": \"2021-04-14T00:00:00\", \"hidden state\": 0}, {\"time\": \"2021-04-15T00:00:00\", \"hidden state\": 0}, {\"time\": \"2021-04-16T00:00:00\", \"hidden state\": 0}, {\"time\": \"2021-04-17T00:00:00\", \"hidden state\": 0}, {\"time\": \"2021-04-18T00:00:00\", \"hidden state\": 0}, {\"time\": \"2021-04-19T00:00:00\", \"hidden state\": 0}, {\"time\": \"2021-04-20T00:00:00\", \"hidden state\": 0}, {\"time\": \"2021-04-21T00:00:00\", \"hidden state\": 0}, {\"time\": \"2021-04-22T00:00:00\", \"hidden state\": 0}, {\"time\": \"2021-04-23T00:00:00\", \"hidden state\": 0}, {\"time\": \"2021-04-24T00:00:00\", \"hidden state\": 0}, {\"time\": \"2021-04-25T00:00:00\", \"hidden state\": 0}, {\"time\": \"2021-04-26T00:00:00\", \"hidden state\": 0}, {\"time\": \"2021-04-27T00:00:00\", \"hidden state\": 0}, {\"time\": \"2021-04-28T00:00:00\", \"hidden state\": 0}, {\"time\": \"2021-04-29T00:00:00\", \"hidden state\": 0}, {\"time\": \"2021-04-30T00:00:00\", \"hidden state\": 0}, {\"time\": \"2021-05-01T00:00:00\", \"hidden state\": 0}, {\"time\": \"2021-05-02T00:00:00\", \"hidden state\": 0}, {\"time\": \"2021-05-03T00:00:00\", \"hidden state\": 0}, {\"time\": \"2021-05-04T00:00:00\", \"hidden state\": 0}, {\"time\": \"2021-05-05T00:00:00\", \"hidden state\": 0}, {\"time\": \"2021-05-06T00:00:00\", \"hidden state\": 0}, {\"time\": \"2021-05-07T00:00:00\", \"hidden state\": 0}, {\"time\": \"2021-05-08T00:00:00\", \"hidden state\": 0}, {\"time\": \"2021-05-09T00:00:00\", \"hidden state\": 0}, {\"time\": \"2021-05-10T00:00:00\", \"hidden state\": 0}, {\"time\": \"2021-05-11T00:00:00\", \"hidden state\": 0}, {\"time\": \"2021-05-12T00:00:00\", \"hidden state\": 0}, {\"time\": \"2021-05-13T00:00:00\", \"hidden state\": 0}, {\"time\": \"2021-05-14T00:00:00\", \"hidden state\": 0}, {\"time\": \"2021-05-15T00:00:00\", \"hidden state\": 0}, {\"time\": \"2021-05-16T00:00:00\", \"hidden state\": 0}, {\"time\": \"2021-05-17T00:00:00\", \"hidden state\": 0}, {\"time\": \"2021-05-18T00:00:00\", \"hidden state\": 0}, {\"time\": \"2021-05-19T00:00:00\", \"hidden state\": 0}, {\"time\": \"2021-05-20T00:00:00\", \"hidden state\": 0}, {\"time\": \"2021-05-21T00:00:00\", \"hidden state\": 0}, {\"time\": \"2021-05-22T00:00:00\", \"hidden state\": 0}, {\"time\": \"2021-05-23T00:00:00\", \"hidden state\": 0}, {\"time\": \"2021-05-24T00:00:00\", \"hidden state\": 0}, {\"time\": \"2021-05-25T00:00:00\", \"hidden state\": 0}, {\"time\": \"2021-05-26T00:00:00\", \"hidden state\": 0}, {\"time\": \"2021-05-27T00:00:00\", \"hidden state\": 0}, {\"time\": \"2021-05-28T00:00:00\", \"hidden state\": 0}, {\"time\": \"2021-05-29T00:00:00\", \"hidden state\": 0}, {\"time\": \"2021-05-30T00:00:00\", \"hidden state\": 0}, {\"time\": \"2021-05-31T00:00:00\", \"hidden state\": 0}, {\"time\": \"2021-06-01T00:00:00\", \"hidden state\": 0}, {\"time\": \"2021-06-02T00:00:00\", \"hidden state\": 0}, {\"time\": \"2021-06-03T00:00:00\", \"hidden state\": 0}, {\"time\": \"2021-06-04T00:00:00\", \"hidden state\": 0}, {\"time\": \"2021-06-05T00:00:00\", \"hidden state\": 0}, {\"time\": \"2021-06-06T00:00:00\", \"hidden state\": 0}, {\"time\": \"2021-06-07T00:00:00\", \"hidden state\": 0}, {\"time\": \"2021-06-08T00:00:00\", \"hidden state\": 0}, {\"time\": \"2021-06-09T00:00:00\", \"hidden state\": 0}, {\"time\": \"2021-06-10T00:00:00\", \"hidden state\": 0}, {\"time\": \"2021-06-11T00:00:00\", \"hidden state\": 0}, {\"time\": \"2021-06-12T00:00:00\", \"hidden state\": 0}, {\"time\": \"2021-06-13T00:00:00\", \"hidden state\": 0}, {\"time\": \"2021-06-14T00:00:00\", \"hidden state\": 0}, {\"time\": \"2021-06-15T00:00:00\", \"hidden state\": 0}, {\"time\": \"2021-06-16T00:00:00\", \"hidden state\": 0}, {\"time\": \"2021-06-17T00:00:00\", \"hidden state\": 0}, {\"time\": \"2021-06-18T00:00:00\", \"hidden state\": 0}, {\"time\": \"2021-06-19T00:00:00\", \"hidden state\": 0}, {\"time\": \"2021-06-20T00:00:00\", \"hidden state\": 0}, {\"time\": \"2021-06-21T00:00:00\", \"hidden state\": 0}, {\"time\": \"2021-06-22T00:00:00\", \"hidden state\": 0}, {\"time\": \"2021-06-23T00:00:00\", \"hidden state\": 0}, {\"time\": \"2021-06-24T00:00:00\", \"hidden state\": 0}, {\"time\": \"2021-06-25T00:00:00\", \"hidden state\": 0}, {\"time\": \"2021-06-26T00:00:00\", \"hidden state\": 0}, {\"time\": \"2021-06-27T00:00:00\", \"hidden state\": 0}, {\"time\": \"2021-06-28T00:00:00\", \"hidden state\": 0}, {\"time\": \"2021-06-29T00:00:00\", \"hidden state\": 0}, {\"time\": \"2021-06-30T00:00:00\", \"hidden state\": 0}, {\"time\": \"2021-07-01T00:00:00\", \"hidden state\": 0}, {\"time\": \"2021-07-02T00:00:00\", \"hidden state\": 0}, {\"time\": \"2021-07-03T00:00:00\", \"hidden state\": 0}, {\"time\": \"2021-07-04T00:00:00\", \"hidden state\": 0}, {\"time\": \"2021-07-05T00:00:00\", \"hidden state\": 0}, {\"time\": \"2021-07-06T00:00:00\", \"hidden state\": 0}, {\"time\": \"2021-07-07T00:00:00\", \"hidden state\": 0}, {\"time\": \"2021-07-08T00:00:00\", \"hidden state\": 0}, {\"time\": \"2021-07-09T00:00:00\", \"hidden state\": 0}, {\"time\": \"2021-07-10T00:00:00\", \"hidden state\": 0}, {\"time\": \"2021-07-11T00:00:00\", \"hidden state\": 0}, {\"time\": \"2021-07-12T00:00:00\", \"hidden state\": 0}, {\"time\": \"2021-07-13T00:00:00\", \"hidden state\": 0}, {\"time\": \"2021-07-14T00:00:00\", \"hidden state\": 0}, {\"time\": \"2021-07-15T00:00:00\", \"hidden state\": 0}, {\"time\": \"2021-07-16T00:00:00\", \"hidden state\": 0}, {\"time\": \"2021-07-17T00:00:00\", \"hidden state\": 0}, {\"time\": \"2021-07-18T00:00:00\", \"hidden state\": 0}, {\"time\": \"2021-07-19T00:00:00\", \"hidden state\": 0}, {\"time\": \"2021-07-20T00:00:00\", \"hidden state\": 0}, {\"time\": \"2021-07-21T00:00:00\", \"hidden state\": 0}, {\"time\": \"2021-07-22T00:00:00\", \"hidden state\": 0}, {\"time\": \"2021-07-23T00:00:00\", \"hidden state\": 0}, {\"time\": \"2021-07-24T00:00:00\", \"hidden state\": 0}, {\"time\": \"2021-07-25T00:00:00\", \"hidden state\": 0}, {\"time\": \"2021-07-26T00:00:00\", \"hidden state\": 0}, {\"time\": \"2021-07-27T00:00:00\", \"hidden state\": 0}, {\"time\": \"2021-07-28T00:00:00\", \"hidden state\": 0}, {\"time\": \"2021-07-29T00:00:00\", \"hidden state\": 0}, {\"time\": \"2021-07-30T00:00:00\", \"hidden state\": 0}, {\"time\": \"2021-07-31T00:00:00\", \"hidden state\": 0}, {\"time\": \"2021-08-01T00:00:00\", \"hidden state\": 0}, {\"time\": \"2021-08-02T00:00:00\", \"hidden state\": 0}, {\"time\": \"2021-08-03T00:00:00\", \"hidden state\": 0}, {\"time\": \"2021-08-04T00:00:00\", \"hidden state\": 0}, {\"time\": \"2021-08-05T00:00:00\", \"hidden state\": 0}, {\"time\": \"2021-08-06T00:00:00\", \"hidden state\": 0}, {\"time\": \"2021-08-07T00:00:00\", \"hidden state\": 0}, {\"time\": \"2021-08-08T00:00:00\", \"hidden state\": 0}, {\"time\": \"2021-08-09T00:00:00\", \"hidden state\": 0}, {\"time\": \"2021-08-10T00:00:00\", \"hidden state\": 0}, {\"time\": \"2021-08-11T00:00:00\", \"hidden state\": 0}, {\"time\": \"2021-08-12T00:00:00\", \"hidden state\": 0}, {\"time\": \"2021-08-13T00:00:00\", \"hidden state\": 0}, {\"time\": \"2021-08-14T00:00:00\", \"hidden state\": 0}, {\"time\": \"2021-08-15T00:00:00\", \"hidden state\": 0}, {\"time\": \"2021-08-16T00:00:00\", \"hidden state\": 0}, {\"time\": \"2021-08-17T00:00:00\", \"hidden state\": 0}, {\"time\": \"2021-08-18T00:00:00\", \"hidden state\": 0}, {\"time\": \"2021-08-19T00:00:00\", \"hidden state\": 0}, {\"time\": \"2021-08-20T00:00:00\", \"hidden state\": 0}, {\"time\": \"2021-08-21T00:00:00\", \"hidden state\": 0}, {\"time\": \"2021-08-22T00:00:00\", \"hidden state\": 0}, {\"time\": \"2021-08-23T00:00:00\", \"hidden state\": 0}, {\"time\": \"2021-08-24T00:00:00\", \"hidden state\": 0}, {\"time\": \"2021-08-25T00:00:00\", \"hidden state\": 0}, {\"time\": \"2021-08-26T00:00:00\", \"hidden state\": 0}, {\"time\": \"2021-08-27T00:00:00\", \"hidden state\": 0}, {\"time\": \"2021-08-28T00:00:00\", \"hidden state\": 0}, {\"time\": \"2021-08-29T00:00:00\", \"hidden state\": 1}, {\"time\": \"2021-08-30T00:00:00\", \"hidden state\": 1}, {\"time\": \"2021-08-31T00:00:00\", \"hidden state\": 1}, {\"time\": \"2021-09-01T00:00:00\", \"hidden state\": 1}, {\"time\": \"2021-09-02T00:00:00\", \"hidden state\": 1}, {\"time\": \"2021-09-03T00:00:00\", \"hidden state\": 2}, {\"time\": \"2021-09-04T00:00:00\", \"hidden state\": 2}, {\"time\": \"2021-09-05T00:00:00\", \"hidden state\": 2}, {\"time\": \"2021-09-06T00:00:00\", \"hidden state\": 2}, {\"time\": \"2021-09-07T00:00:00\", \"hidden state\": 2}, {\"time\": \"2021-09-08T00:00:00\", \"hidden state\": 2}, {\"time\": \"2021-09-09T00:00:00\", \"hidden state\": 2}, {\"time\": \"2021-09-10T00:00:00\", \"hidden state\": 2}, {\"time\": \"2021-09-11T00:00:00\", \"hidden state\": 2}, {\"time\": \"2021-09-12T00:00:00\", \"hidden state\": 2}, {\"time\": \"2021-09-13T00:00:00\", \"hidden state\": 2}, {\"time\": \"2021-09-14T00:00:00\", \"hidden state\": 2}, {\"time\": \"2021-09-15T00:00:00\", \"hidden state\": 2}, {\"time\": \"2021-09-16T00:00:00\", \"hidden state\": 2}, {\"time\": \"2021-09-17T00:00:00\", \"hidden state\": 2}, {\"time\": \"2021-09-18T00:00:00\", \"hidden state\": 2}, {\"time\": \"2021-09-19T00:00:00\", \"hidden state\": 2}, {\"time\": \"2021-09-20T00:00:00\", \"hidden state\": 2}, {\"time\": \"2021-09-21T00:00:00\", \"hidden state\": 2}, {\"time\": \"2021-09-22T00:00:00\", \"hidden state\": 2}, {\"time\": \"2021-09-23T00:00:00\", \"hidden state\": 2}, {\"time\": \"2021-09-24T00:00:00\", \"hidden state\": 2}, {\"time\": \"2021-09-25T00:00:00\", \"hidden state\": 2}, {\"time\": \"2021-09-26T00:00:00\", \"hidden state\": 2}, {\"time\": \"2021-09-27T00:00:00\", \"hidden state\": 2}, {\"time\": \"2021-09-28T00:00:00\", \"hidden state\": 2}, {\"time\": \"2021-09-29T00:00:00\", \"hidden state\": 2}, {\"time\": \"2021-09-30T00:00:00\", \"hidden state\": 2}, {\"time\": \"2021-10-01T00:00:00\", \"hidden state\": 2}, {\"time\": \"2021-10-02T00:00:00\", \"hidden state\": 2}, {\"time\": \"2021-10-03T00:00:00\", \"hidden state\": 2}, {\"time\": \"2021-10-04T00:00:00\", \"hidden state\": 2}, {\"time\": \"2021-10-05T00:00:00\", \"hidden state\": 2}, {\"time\": \"2021-10-06T00:00:00\", \"hidden state\": 2}, {\"time\": \"2021-10-07T00:00:00\", \"hidden state\": 2}, {\"time\": \"2021-10-08T00:00:00\", \"hidden state\": 2}, {\"time\": \"2021-10-09T00:00:00\", \"hidden state\": 2}, {\"time\": \"2021-10-10T00:00:00\", \"hidden state\": 2}, {\"time\": \"2021-10-11T00:00:00\", \"hidden state\": 2}, {\"time\": \"2021-10-12T00:00:00\", \"hidden state\": 2}, {\"time\": \"2021-10-13T00:00:00\", \"hidden state\": 2}, {\"time\": \"2021-10-14T00:00:00\", \"hidden state\": 2}, {\"time\": \"2021-10-15T00:00:00\", \"hidden state\": 2}, {\"time\": \"2021-10-16T00:00:00\", \"hidden state\": 2}, {\"time\": \"2021-10-17T00:00:00\", \"hidden state\": 2}, {\"time\": \"2021-10-18T00:00:00\", \"hidden state\": 2}, {\"time\": \"2021-10-19T00:00:00\", \"hidden state\": 2}, {\"time\": \"2021-10-20T00:00:00\", \"hidden state\": 2}, {\"time\": \"2021-10-21T00:00:00\", \"hidden state\": 2}, {\"time\": \"2021-10-22T00:00:00\", \"hidden state\": 2}, {\"time\": \"2021-10-23T00:00:00\", \"hidden state\": 2}, {\"time\": \"2021-10-24T00:00:00\", \"hidden state\": 2}, {\"time\": \"2021-10-25T00:00:00\", \"hidden state\": 2}, {\"time\": \"2021-10-26T00:00:00\", \"hidden state\": 2}, {\"time\": \"2021-10-27T00:00:00\", \"hidden state\": 2}, {\"time\": \"2021-10-28T00:00:00\", \"hidden state\": 2}, {\"time\": \"2021-10-29T00:00:00\", \"hidden state\": 2}, {\"time\": \"2021-10-30T00:00:00\", \"hidden state\": 2}, {\"time\": \"2021-10-31T00:00:00\", \"hidden state\": 2}, {\"time\": \"2021-11-01T00:00:00\", \"hidden state\": 2}, {\"time\": \"2021-11-02T00:00:00\", \"hidden state\": 2}, {\"time\": \"2021-11-03T00:00:00\", \"hidden state\": 2}, {\"time\": \"2021-11-04T00:00:00\", \"hidden state\": 2}, {\"time\": \"2021-11-05T00:00:00\", \"hidden state\": 2}, {\"time\": \"2021-11-06T00:00:00\", \"hidden state\": 2}, {\"time\": \"2021-11-07T00:00:00\", \"hidden state\": 2}, {\"time\": \"2021-11-08T00:00:00\", \"hidden state\": 2}, {\"time\": \"2021-11-09T00:00:00\", \"hidden state\": 2}, {\"time\": \"2021-11-10T00:00:00\", \"hidden state\": 2}, {\"time\": \"2021-11-11T00:00:00\", \"hidden state\": 2}, {\"time\": \"2021-11-12T00:00:00\", \"hidden state\": 2}, {\"time\": \"2021-11-13T00:00:00\", \"hidden state\": 2}, {\"time\": \"2021-11-14T00:00:00\", \"hidden state\": 2}, {\"time\": \"2021-11-15T00:00:00\", \"hidden state\": 2}, {\"time\": \"2021-11-16T00:00:00\", \"hidden state\": 2}, {\"time\": \"2021-11-17T00:00:00\", \"hidden state\": 2}, {\"time\": \"2021-11-18T00:00:00\", \"hidden state\": 2}, {\"time\": \"2021-11-19T00:00:00\", \"hidden state\": 2}, {\"time\": \"2021-11-20T00:00:00\", \"hidden state\": 2}, {\"time\": \"2021-11-21T00:00:00\", \"hidden state\": 2}, {\"time\": \"2021-11-22T00:00:00\", \"hidden state\": 2}, {\"time\": \"2021-11-23T00:00:00\", \"hidden state\": 2}, {\"time\": \"2021-11-24T00:00:00\", \"hidden state\": 2}, {\"time\": \"2021-11-25T00:00:00\", \"hidden state\": 2}, {\"time\": \"2021-11-26T00:00:00\", \"hidden state\": 2}, {\"time\": \"2021-11-27T00:00:00\", \"hidden state\": 2}, {\"time\": \"2021-11-28T00:00:00\", \"hidden state\": 2}, {\"time\": \"2021-11-29T00:00:00\", \"hidden state\": 2}, {\"time\": \"2021-11-30T00:00:00\", \"hidden state\": 2}, {\"time\": \"2021-12-01T00:00:00\", \"hidden state\": 2}, {\"time\": \"2021-12-02T00:00:00\", \"hidden state\": 2}, {\"time\": \"2021-12-03T00:00:00\", \"hidden state\": 2}, {\"time\": \"2021-12-04T00:00:00\", \"hidden state\": 2}, {\"time\": \"2021-12-05T00:00:00\", \"hidden state\": 2}, {\"time\": \"2021-12-06T00:00:00\", \"hidden state\": 2}, {\"time\": \"2021-12-07T00:00:00\", \"hidden state\": 2}, {\"time\": \"2021-12-08T00:00:00\", \"hidden state\": 2}, {\"time\": \"2021-12-09T00:00:00\", \"hidden state\": 2}, {\"time\": \"2021-12-10T00:00:00\", \"hidden state\": 0}, {\"time\": \"2021-12-11T00:00:00\", \"hidden state\": 0}, {\"time\": \"2021-12-12T00:00:00\", \"hidden state\": 0}, {\"time\": \"2021-12-13T00:00:00\", \"hidden state\": 0}, {\"time\": \"2021-12-14T00:00:00\", \"hidden state\": 0}, {\"time\": \"2021-12-15T00:00:00\", \"hidden state\": 0}, {\"time\": \"2021-12-16T00:00:00\", \"hidden state\": 0}, {\"time\": \"2021-12-17T00:00:00\", \"hidden state\": 0}, {\"time\": \"2021-12-18T00:00:00\", \"hidden state\": 0}, {\"time\": \"2021-12-19T00:00:00\", \"hidden state\": 0}, {\"time\": \"2021-12-20T00:00:00\", \"hidden state\": 0}, {\"time\": \"2021-12-21T00:00:00\", \"hidden state\": 0}, {\"time\": \"2021-12-22T00:00:00\", \"hidden state\": 0}, {\"time\": \"2021-12-23T00:00:00\", \"hidden state\": 0}, {\"time\": \"2021-12-24T00:00:00\", \"hidden state\": 0}, {\"time\": \"2021-12-25T00:00:00\", \"hidden state\": 0}, {\"time\": \"2021-12-26T00:00:00\", \"hidden state\": 0}, {\"time\": \"2021-12-27T00:00:00\", \"hidden state\": 0}, {\"time\": \"2021-12-28T00:00:00\", \"hidden state\": 0}, {\"time\": \"2021-12-29T00:00:00\", \"hidden state\": 0}, {\"time\": \"2021-12-30T00:00:00\", \"hidden state\": 0}, {\"time\": \"2021-12-31T00:00:00\", \"hidden state\": 0}, {\"time\": \"2022-01-01T00:00:00\", \"hidden state\": 0}, {\"time\": \"2022-01-02T00:00:00\", \"hidden state\": 0}, {\"time\": \"2022-01-03T00:00:00\", \"hidden state\": 0}, {\"time\": \"2022-01-04T00:00:00\", \"hidden state\": 0}, {\"time\": \"2022-01-05T00:00:00\", \"hidden state\": 0}, {\"time\": \"2022-01-06T00:00:00\", \"hidden state\": 0}, {\"time\": \"2022-01-07T00:00:00\", \"hidden state\": 0}, {\"time\": \"2022-01-08T00:00:00\", \"hidden state\": 0}, {\"time\": \"2022-01-09T00:00:00\", \"hidden state\": 0}, {\"time\": \"2022-01-10T00:00:00\", \"hidden state\": 0}, {\"time\": \"2022-01-11T00:00:00\", \"hidden state\": 0}, {\"time\": \"2022-01-12T00:00:00\", \"hidden state\": 0}, {\"time\": \"2022-01-13T00:00:00\", \"hidden state\": 0}, {\"time\": \"2022-01-14T00:00:00\", \"hidden state\": 0}, {\"time\": \"2022-01-15T00:00:00\", \"hidden state\": 0}, {\"time\": \"2022-01-16T00:00:00\", \"hidden state\": 0}, {\"time\": \"2022-01-17T00:00:00\", \"hidden state\": 0}, {\"time\": \"2022-01-18T00:00:00\", \"hidden state\": 0}, {\"time\": \"2022-01-19T00:00:00\", \"hidden state\": 0}, {\"time\": \"2022-01-20T00:00:00\", \"hidden state\": 0}, {\"time\": \"2022-01-21T00:00:00\", \"hidden state\": 0}, {\"time\": \"2022-01-22T00:00:00\", \"hidden state\": 0}, {\"time\": \"2022-01-23T00:00:00\", \"hidden state\": 0}, {\"time\": \"2022-01-24T00:00:00\", \"hidden state\": 0}, {\"time\": \"2022-01-25T00:00:00\", \"hidden state\": 0}, {\"time\": \"2022-01-26T00:00:00\", \"hidden state\": 0}, {\"time\": \"2022-01-27T00:00:00\", \"hidden state\": 0}, {\"time\": \"2022-01-28T00:00:00\", \"hidden state\": 0}, {\"time\": \"2022-01-29T00:00:00\", \"hidden state\": 0}, {\"time\": \"2022-01-30T00:00:00\", \"hidden state\": 0}, {\"time\": \"2022-01-31T00:00:00\", \"hidden state\": 0}, {\"time\": \"2022-02-01T00:00:00\", \"hidden state\": 0}, {\"time\": \"2022-02-02T00:00:00\", \"hidden state\": 0}, {\"time\": \"2022-02-03T00:00:00\", \"hidden state\": 0}, {\"time\": \"2022-02-04T00:00:00\", \"hidden state\": 0}, {\"time\": \"2022-02-05T00:00:00\", \"hidden state\": 0}, {\"time\": \"2022-02-06T00:00:00\", \"hidden state\": 0}, {\"time\": \"2022-02-07T00:00:00\", \"hidden state\": 0}, {\"time\": \"2022-02-08T00:00:00\", \"hidden state\": 0}, {\"time\": \"2022-02-09T00:00:00\", \"hidden state\": 0}, {\"time\": \"2022-02-10T00:00:00\", \"hidden state\": 0}, {\"time\": \"2022-02-11T00:00:00\", \"hidden state\": 0}, {\"time\": \"2022-02-12T00:00:00\", \"hidden state\": 0}, {\"time\": \"2022-02-13T00:00:00\", \"hidden state\": 0}, {\"time\": \"2022-02-14T00:00:00\", \"hidden state\": 0}, {\"time\": \"2022-02-15T00:00:00\", \"hidden state\": 0}, {\"time\": \"2022-02-16T00:00:00\", \"hidden state\": 0}, {\"time\": \"2022-02-17T00:00:00\", \"hidden state\": 0}, {\"time\": \"2022-02-18T00:00:00\", \"hidden state\": 0}, {\"time\": \"2022-02-19T00:00:00\", \"hidden state\": 1}, {\"time\": \"2022-02-20T00:00:00\", \"hidden state\": 1}, {\"time\": \"2022-02-21T00:00:00\", \"hidden state\": 1}, {\"time\": \"2022-02-22T00:00:00\", \"hidden state\": 1}, {\"time\": \"2022-02-23T00:00:00\", \"hidden state\": 1}, {\"time\": \"2022-02-24T00:00:00\", \"hidden state\": 1}, {\"time\": \"2022-02-25T00:00:00\", \"hidden state\": 1}, {\"time\": \"2022-02-26T00:00:00\", \"hidden state\": 1}, {\"time\": \"2022-02-27T00:00:00\", \"hidden state\": 1}, {\"time\": \"2022-02-28T00:00:00\", \"hidden state\": 1}, {\"time\": \"2022-03-01T00:00:00\", \"hidden state\": 1}, {\"time\": \"2022-03-02T00:00:00\", \"hidden state\": 1}, {\"time\": \"2022-03-03T00:00:00\", \"hidden state\": 1}, {\"time\": \"2022-03-04T00:00:00\", \"hidden state\": 1}, {\"time\": \"2022-03-05T00:00:00\", \"hidden state\": 1}, {\"time\": \"2022-03-06T00:00:00\", \"hidden state\": 1}, {\"time\": \"2022-03-07T00:00:00\", \"hidden state\": 1}, {\"time\": \"2022-03-08T00:00:00\", \"hidden state\": 1}, {\"time\": \"2022-03-09T00:00:00\", \"hidden state\": 1}, {\"time\": \"2022-03-10T00:00:00\", \"hidden state\": 1}, {\"time\": \"2022-03-11T00:00:00\", \"hidden state\": 1}, {\"time\": \"2022-03-12T00:00:00\", \"hidden state\": 1}, {\"time\": \"2022-03-13T00:00:00\", \"hidden state\": 1}, {\"time\": \"2022-03-14T00:00:00\", \"hidden state\": 1}, {\"time\": \"2022-03-15T00:00:00\", \"hidden state\": 2}, {\"time\": \"2022-03-16T00:00:00\", \"hidden state\": 2}, {\"time\": \"2022-03-17T00:00:00\", \"hidden state\": 2}, {\"time\": \"2022-03-18T00:00:00\", \"hidden state\": 2}, {\"time\": \"2022-03-19T00:00:00\", \"hidden state\": 2}, {\"time\": \"2022-03-20T00:00:00\", \"hidden state\": 2}, {\"time\": \"2022-03-21T00:00:00\", \"hidden state\": 2}, {\"time\": \"2022-03-22T00:00:00\", \"hidden state\": 2}, {\"time\": \"2022-03-23T00:00:00\", \"hidden state\": 2}, {\"time\": \"2022-03-24T00:00:00\", \"hidden state\": 2}, {\"time\": \"2022-03-25T00:00:00\", \"hidden state\": 2}, {\"time\": \"2022-03-26T00:00:00\", \"hidden state\": 2}, {\"time\": \"2022-03-27T00:00:00\", \"hidden state\": 2}, {\"time\": \"2022-03-28T00:00:00\", \"hidden state\": 2}, {\"time\": \"2022-03-29T00:00:00\", \"hidden state\": 2}, {\"time\": \"2022-03-30T00:00:00\", \"hidden state\": 2}, {\"time\": \"2022-03-31T00:00:00\", \"hidden state\": 2}, {\"time\": \"2022-04-01T00:00:00\", \"hidden state\": 2}, {\"time\": \"2022-04-02T00:00:00\", \"hidden state\": 2}, {\"time\": \"2022-04-03T00:00:00\", \"hidden state\": 2}, {\"time\": \"2022-04-04T00:00:00\", \"hidden state\": 2}, {\"time\": \"2022-04-05T00:00:00\", \"hidden state\": 2}, {\"time\": \"2022-04-06T00:00:00\", \"hidden state\": 2}, {\"time\": \"2022-04-07T00:00:00\", \"hidden state\": 2}, {\"time\": \"2022-04-08T00:00:00\", \"hidden state\": 2}, {\"time\": \"2022-04-09T00:00:00\", \"hidden state\": 2}, {\"time\": \"2022-04-10T00:00:00\", \"hidden state\": 2}, {\"time\": \"2022-04-11T00:00:00\", \"hidden state\": 2}, {\"time\": \"2022-04-12T00:00:00\", \"hidden state\": 2}, {\"time\": \"2022-04-13T00:00:00\", \"hidden state\": 2}, {\"time\": \"2022-04-14T00:00:00\", \"hidden state\": 2}, {\"time\": \"2022-04-15T00:00:00\", \"hidden state\": 2}, {\"time\": \"2022-04-16T00:00:00\", \"hidden state\": 2}, {\"time\": \"2022-04-17T00:00:00\", \"hidden state\": 2}, {\"time\": \"2022-04-18T00:00:00\", \"hidden state\": 2}, {\"time\": \"2022-04-19T00:00:00\", \"hidden state\": 2}, {\"time\": \"2022-04-20T00:00:00\", \"hidden state\": 2}, {\"time\": \"2022-04-21T00:00:00\", \"hidden state\": 2}, {\"time\": \"2022-04-22T00:00:00\", \"hidden state\": 2}, {\"time\": \"2022-04-23T00:00:00\", \"hidden state\": 2}, {\"time\": \"2022-04-24T00:00:00\", \"hidden state\": 2}, {\"time\": \"2022-04-25T00:00:00\", \"hidden state\": 2}, {\"time\": \"2022-04-26T00:00:00\", \"hidden state\": 2}, {\"time\": \"2022-04-27T00:00:00\", \"hidden state\": 2}, {\"time\": \"2022-04-28T00:00:00\", \"hidden state\": 2}, {\"time\": \"2022-04-29T00:00:00\", \"hidden state\": 2}, {\"time\": \"2022-04-30T00:00:00\", \"hidden state\": 2}, {\"time\": \"2022-05-01T00:00:00\", \"hidden state\": 2}, {\"time\": \"2022-05-02T00:00:00\", \"hidden state\": 2}, {\"time\": \"2022-05-03T00:00:00\", \"hidden state\": 2}, {\"time\": \"2022-05-04T00:00:00\", \"hidden state\": 2}, {\"time\": \"2022-05-05T00:00:00\", \"hidden state\": 2}, {\"time\": \"2022-05-06T00:00:00\", \"hidden state\": 2}, {\"time\": \"2022-05-07T00:00:00\", \"hidden state\": 2}, {\"time\": \"2022-05-08T00:00:00\", \"hidden state\": 2}, {\"time\": \"2022-05-09T00:00:00\", \"hidden state\": 2}, {\"time\": \"2022-05-10T00:00:00\", \"hidden state\": 2}, {\"time\": \"2022-05-11T00:00:00\", \"hidden state\": 2}, {\"time\": \"2022-05-12T00:00:00\", \"hidden state\": 2}, {\"time\": \"2022-05-13T00:00:00\", \"hidden state\": 2}, {\"time\": \"2022-05-14T00:00:00\", \"hidden state\": 2}, {\"time\": \"2022-05-15T00:00:00\", \"hidden state\": 2}, {\"time\": \"2022-05-16T00:00:00\", \"hidden state\": 2}, {\"time\": \"2022-05-17T00:00:00\", \"hidden state\": 2}, {\"time\": \"2022-05-18T00:00:00\", \"hidden state\": 2}, {\"time\": \"2022-05-19T00:00:00\", \"hidden state\": 2}, {\"time\": \"2022-05-20T00:00:00\", \"hidden state\": 2}, {\"time\": \"2022-05-21T00:00:00\", \"hidden state\": 2}, {\"time\": \"2022-05-22T00:00:00\", \"hidden state\": 2}, {\"time\": \"2022-05-23T00:00:00\", \"hidden state\": 2}, {\"time\": \"2022-05-24T00:00:00\", \"hidden state\": 2}, {\"time\": \"2022-05-25T00:00:00\", \"hidden state\": 2}, {\"time\": \"2022-05-26T00:00:00\", \"hidden state\": 2}, {\"time\": \"2022-05-27T00:00:00\", \"hidden state\": 2}, {\"time\": \"2022-05-28T00:00:00\", \"hidden state\": 2}, {\"time\": \"2022-05-29T00:00:00\", \"hidden state\": 2}, {\"time\": \"2022-05-30T00:00:00\", \"hidden state\": 2}, {\"time\": \"2022-05-31T00:00:00\", \"hidden state\": 2}, {\"time\": \"2022-06-01T00:00:00\", \"hidden state\": 2}, {\"time\": \"2022-06-02T00:00:00\", \"hidden state\": 2}, {\"time\": \"2022-06-03T00:00:00\", \"hidden state\": 2}, {\"time\": \"2022-06-04T00:00:00\", \"hidden state\": 2}, {\"time\": \"2022-06-05T00:00:00\", \"hidden state\": 2}, {\"time\": \"2022-06-06T00:00:00\", \"hidden state\": 2}, {\"time\": \"2022-06-07T00:00:00\", \"hidden state\": 2}, {\"time\": \"2022-06-08T00:00:00\", \"hidden state\": 2}, {\"time\": \"2022-06-09T00:00:00\", \"hidden state\": 2}, {\"time\": \"2022-06-10T00:00:00\", \"hidden state\": 2}, {\"time\": \"2022-06-11T00:00:00\", \"hidden state\": 2}, {\"time\": \"2022-06-12T00:00:00\", \"hidden state\": 2}, {\"time\": \"2022-06-13T00:00:00\", \"hidden state\": 2}, {\"time\": \"2022-06-14T00:00:00\", \"hidden state\": 2}, {\"time\": \"2022-06-15T00:00:00\", \"hidden state\": 2}, {\"time\": \"2022-06-16T00:00:00\", \"hidden state\": 2}, {\"time\": \"2022-06-17T00:00:00\", \"hidden state\": 2}, {\"time\": \"2022-06-18T00:00:00\", \"hidden state\": 2}, {\"time\": \"2022-06-19T00:00:00\", \"hidden state\": 2}, {\"time\": \"2022-06-20T00:00:00\", \"hidden state\": 2}, {\"time\": \"2022-06-21T00:00:00\", \"hidden state\": 2}, {\"time\": \"2022-06-22T00:00:00\", \"hidden state\": 2}, {\"time\": \"2022-06-23T00:00:00\", \"hidden state\": 2}, {\"time\": \"2022-06-24T00:00:00\", \"hidden state\": 2}, {\"time\": \"2022-06-25T00:00:00\", \"hidden state\": 2}, {\"time\": \"2022-06-26T00:00:00\", \"hidden state\": 2}, {\"time\": \"2022-06-27T00:00:00\", \"hidden state\": 2}, {\"time\": \"2022-06-28T00:00:00\", \"hidden state\": 2}, {\"time\": \"2022-06-29T00:00:00\", \"hidden state\": 2}, {\"time\": \"2022-06-30T00:00:00\", \"hidden state\": 2}, {\"time\": \"2022-07-01T00:00:00\", \"hidden state\": 2}, {\"time\": \"2022-07-02T00:00:00\", \"hidden state\": 2}, {\"time\": \"2022-07-03T00:00:00\", \"hidden state\": 2}, {\"time\": \"2022-07-04T00:00:00\", \"hidden state\": 2}, {\"time\": \"2022-07-05T00:00:00\", \"hidden state\": 2}, {\"time\": \"2022-07-06T00:00:00\", \"hidden state\": 2}, {\"time\": \"2022-07-07T00:00:00\", \"hidden state\": 2}, {\"time\": \"2022-07-08T00:00:00\", \"hidden state\": 2}, {\"time\": \"2022-07-09T00:00:00\", \"hidden state\": 2}, {\"time\": \"2022-07-10T00:00:00\", \"hidden state\": 2}, {\"time\": \"2022-07-11T00:00:00\", \"hidden state\": 2}, {\"time\": \"2022-07-12T00:00:00\", \"hidden state\": 2}, {\"time\": \"2022-07-13T00:00:00\", \"hidden state\": 2}, {\"time\": \"2022-07-14T00:00:00\", \"hidden state\": 2}, {\"time\": \"2022-07-15T00:00:00\", \"hidden state\": 2}, {\"time\": \"2022-07-16T00:00:00\", \"hidden state\": 0}, {\"time\": \"2022-07-17T00:00:00\", \"hidden state\": 0}, {\"time\": \"2022-07-18T00:00:00\", \"hidden state\": 0}, {\"time\": \"2022-07-19T00:00:00\", \"hidden state\": 0}, {\"time\": \"2022-07-20T00:00:00\", \"hidden state\": 0}, {\"time\": \"2022-07-21T00:00:00\", \"hidden state\": 0}, {\"time\": \"2022-07-22T00:00:00\", \"hidden state\": 0}, {\"time\": \"2022-07-23T00:00:00\", \"hidden state\": 0}, {\"time\": \"2022-07-24T00:00:00\", \"hidden state\": 0}, {\"time\": \"2022-07-25T00:00:00\", \"hidden state\": 0}, {\"time\": \"2022-07-26T00:00:00\", \"hidden state\": 0}, {\"time\": \"2022-07-27T00:00:00\", \"hidden state\": 0}, {\"time\": \"2022-07-28T00:00:00\", \"hidden state\": 0}, {\"time\": \"2022-07-29T00:00:00\", \"hidden state\": 0}, {\"time\": \"2022-07-30T00:00:00\", \"hidden state\": 0}, {\"time\": \"2022-07-31T00:00:00\", \"hidden state\": 0}, {\"time\": \"2022-08-01T00:00:00\", \"hidden state\": 0}, {\"time\": \"2022-08-02T00:00:00\", \"hidden state\": 0}, {\"time\": \"2022-08-03T00:00:00\", \"hidden state\": 0}, {\"time\": \"2022-08-04T00:00:00\", \"hidden state\": 0}, {\"time\": \"2022-08-05T00:00:00\", \"hidden state\": 0}, {\"time\": \"2022-08-06T00:00:00\", \"hidden state\": 0}, {\"time\": \"2022-08-07T00:00:00\", \"hidden state\": 0}, {\"time\": \"2022-08-08T00:00:00\", \"hidden state\": 0}, {\"time\": \"2022-08-09T00:00:00\", \"hidden state\": 1}, {\"time\": \"2022-08-10T00:00:00\", \"hidden state\": 1}, {\"time\": \"2022-08-11T00:00:00\", \"hidden state\": 1}, {\"time\": \"2022-08-12T00:00:00\", \"hidden state\": 1}, {\"time\": \"2022-08-13T00:00:00\", \"hidden state\": 1}, {\"time\": \"2022-08-14T00:00:00\", \"hidden state\": 1}, {\"time\": \"2022-08-15T00:00:00\", \"hidden state\": 1}, {\"time\": \"2022-08-16T00:00:00\", \"hidden state\": 1}, {\"time\": \"2022-08-17T00:00:00\", \"hidden state\": 1}, {\"time\": \"2022-08-18T00:00:00\", \"hidden state\": 1}, {\"time\": \"2022-08-19T00:00:00\", \"hidden state\": 1}, {\"time\": \"2022-08-20T00:00:00\", \"hidden state\": 1}, {\"time\": \"2022-08-21T00:00:00\", \"hidden state\": 1}, {\"time\": \"2022-08-22T00:00:00\", \"hidden state\": 1}, {\"time\": \"2022-08-23T00:00:00\", \"hidden state\": 1}, {\"time\": \"2022-08-24T00:00:00\", \"hidden state\": 1}, {\"time\": \"2022-08-25T00:00:00\", \"hidden state\": 1}, {\"time\": \"2022-08-26T00:00:00\", \"hidden state\": 1}, {\"time\": \"2022-08-27T00:00:00\", \"hidden state\": 1}, {\"time\": \"2022-08-28T00:00:00\", \"hidden state\": 1}, {\"time\": \"2022-08-29T00:00:00\", \"hidden state\": 1}, {\"time\": \"2022-08-30T00:00:00\", \"hidden state\": 1}, {\"time\": \"2022-08-31T00:00:00\", \"hidden state\": 1}, {\"time\": \"2022-09-01T00:00:00\", \"hidden state\": 1}, {\"time\": \"2022-09-02T00:00:00\", \"hidden state\": 1}, {\"time\": \"2022-09-03T00:00:00\", \"hidden state\": 1}, {\"time\": \"2022-09-04T00:00:00\", \"hidden state\": 1}, {\"time\": \"2022-09-05T00:00:00\", \"hidden state\": 1}, {\"time\": \"2022-09-06T00:00:00\", \"hidden state\": 1}, {\"time\": \"2022-09-07T00:00:00\", \"hidden state\": 1}, {\"time\": \"2022-09-08T00:00:00\", \"hidden state\": 1}, {\"time\": \"2022-09-09T00:00:00\", \"hidden state\": 1}, {\"time\": \"2022-09-10T00:00:00\", \"hidden state\": 1}, {\"time\": \"2022-09-11T00:00:00\", \"hidden state\": 1}, {\"time\": \"2022-09-12T00:00:00\", \"hidden state\": 1}, {\"time\": \"2022-09-13T00:00:00\", \"hidden state\": 1}, {\"time\": \"2022-09-14T00:00:00\", \"hidden state\": 1}, {\"time\": \"2022-09-15T00:00:00\", \"hidden state\": 1}, {\"time\": \"2022-09-16T00:00:00\", \"hidden state\": 1}, {\"time\": \"2022-09-17T00:00:00\", \"hidden state\": 1}, {\"time\": \"2022-09-18T00:00:00\", \"hidden state\": 1}, {\"time\": \"2022-09-19T00:00:00\", \"hidden state\": 1}, {\"time\": \"2022-09-20T00:00:00\", \"hidden state\": 1}, {\"time\": \"2022-09-21T00:00:00\", \"hidden state\": 1}, {\"time\": \"2022-09-22T00:00:00\", \"hidden state\": 1}, {\"time\": \"2022-09-23T00:00:00\", \"hidden state\": 1}, {\"time\": \"2022-09-24T00:00:00\", \"hidden state\": 1}, {\"time\": \"2022-09-25T00:00:00\", \"hidden state\": 1}, {\"time\": \"2022-09-26T00:00:00\", \"hidden state\": 1}, {\"time\": \"2022-09-27T00:00:00\", \"hidden state\": 1}, {\"time\": \"2022-09-28T00:00:00\", \"hidden state\": 1}, {\"time\": \"2022-09-29T00:00:00\", \"hidden state\": 1}, {\"time\": \"2022-09-30T00:00:00\", \"hidden state\": 1}, {\"time\": \"2022-10-01T00:00:00\", \"hidden state\": 1}, {\"time\": \"2022-10-02T00:00:00\", \"hidden state\": 1}, {\"time\": \"2022-10-03T00:00:00\", \"hidden state\": 1}, {\"time\": \"2022-10-04T00:00:00\", \"hidden state\": 1}, {\"time\": \"2022-10-05T00:00:00\", \"hidden state\": 1}, {\"time\": \"2022-10-06T00:00:00\", \"hidden state\": 1}, {\"time\": \"2022-10-07T00:00:00\", \"hidden state\": 1}, {\"time\": \"2022-10-08T00:00:00\", \"hidden state\": 1}, {\"time\": \"2022-10-09T00:00:00\", \"hidden state\": 1}, {\"time\": \"2022-10-10T00:00:00\", \"hidden state\": 1}, {\"time\": \"2022-10-11T00:00:00\", \"hidden state\": 1}, {\"time\": \"2022-10-12T00:00:00\", \"hidden state\": 1}, {\"time\": \"2022-10-13T00:00:00\", \"hidden state\": 1}, {\"time\": \"2022-10-14T00:00:00\", \"hidden state\": 1}, {\"time\": \"2022-10-15T00:00:00\", \"hidden state\": 1}, {\"time\": \"2022-10-16T00:00:00\", \"hidden state\": 1}, {\"time\": \"2022-10-17T00:00:00\", \"hidden state\": 1}, {\"time\": \"2022-10-18T00:00:00\", \"hidden state\": 1}, {\"time\": \"2022-10-19T00:00:00\", \"hidden state\": 1}, {\"time\": \"2022-10-20T00:00:00\", \"hidden state\": 1}, {\"time\": \"2022-10-21T00:00:00\", \"hidden state\": 1}, {\"time\": \"2022-10-22T00:00:00\", \"hidden state\": 1}, {\"time\": \"2022-10-23T00:00:00\", \"hidden state\": 1}, {\"time\": \"2022-10-24T00:00:00\", \"hidden state\": 1}, {\"time\": \"2022-10-25T00:00:00\", \"hidden state\": 1}, {\"time\": \"2022-10-26T00:00:00\", \"hidden state\": 1}, {\"time\": \"2022-10-27T00:00:00\", \"hidden state\": 1}, {\"time\": \"2022-10-28T00:00:00\", \"hidden state\": 1}, {\"time\": \"2022-10-29T00:00:00\", \"hidden state\": 1}, {\"time\": \"2022-10-30T00:00:00\", \"hidden state\": 1}, {\"time\": \"2022-10-31T00:00:00\", \"hidden state\": 1}, {\"time\": \"2022-11-01T00:00:00\", \"hidden state\": 1}, {\"time\": \"2022-11-02T00:00:00\", \"hidden state\": 1}, {\"time\": \"2022-11-03T00:00:00\", \"hidden state\": 1}, {\"time\": \"2022-11-04T00:00:00\", \"hidden state\": 1}, {\"time\": \"2022-11-05T00:00:00\", \"hidden state\": 1}, {\"time\": \"2022-11-06T00:00:00\", \"hidden state\": 1}, {\"time\": \"2022-11-07T00:00:00\", \"hidden state\": 1}, {\"time\": \"2022-11-08T00:00:00\", \"hidden state\": 1}, {\"time\": \"2022-11-09T00:00:00\", \"hidden state\": 1}, {\"time\": \"2022-11-10T00:00:00\", \"hidden state\": 1}, {\"time\": \"2022-11-11T00:00:00\", \"hidden state\": 1}, {\"time\": \"2022-11-12T00:00:00\", \"hidden state\": 1}, {\"time\": \"2022-11-13T00:00:00\", \"hidden state\": 1}, {\"time\": \"2022-11-14T00:00:00\", \"hidden state\": 1}, {\"time\": \"2022-11-15T00:00:00\", \"hidden state\": 1}, {\"time\": \"2022-11-16T00:00:00\", \"hidden state\": 1}, {\"time\": \"2022-11-17T00:00:00\", \"hidden state\": 1}, {\"time\": \"2022-11-18T00:00:00\", \"hidden state\": 1}, {\"time\": \"2022-11-19T00:00:00\", \"hidden state\": 1}, {\"time\": \"2022-11-20T00:00:00\", \"hidden state\": 1}, {\"time\": \"2022-11-21T00:00:00\", \"hidden state\": 1}, {\"time\": \"2022-11-22T00:00:00\", \"hidden state\": 1}, {\"time\": \"2022-11-23T00:00:00\", \"hidden state\": 1}, {\"time\": \"2022-11-24T00:00:00\", \"hidden state\": 1}, {\"time\": \"2022-11-25T00:00:00\", \"hidden state\": 1}, {\"time\": \"2022-11-26T00:00:00\", \"hidden state\": 1}, {\"time\": \"2022-11-27T00:00:00\", \"hidden state\": 1}, {\"time\": \"2022-11-28T00:00:00\", \"hidden state\": 1}, {\"time\": \"2022-11-29T00:00:00\", \"hidden state\": 1}, {\"time\": \"2022-11-30T00:00:00\", \"hidden state\": 1}, {\"time\": \"2022-12-01T00:00:00\", \"hidden state\": 1}, {\"time\": \"2022-12-02T00:00:00\", \"hidden state\": 1}, {\"time\": \"2022-12-03T00:00:00\", \"hidden state\": 1}, {\"time\": \"2022-12-04T00:00:00\", \"hidden state\": 1}, {\"time\": \"2022-12-05T00:00:00\", \"hidden state\": 1}, {\"time\": \"2022-12-06T00:00:00\", \"hidden state\": 1}, {\"time\": \"2022-12-07T00:00:00\", \"hidden state\": 1}, {\"time\": \"2022-12-08T00:00:00\", \"hidden state\": 1}, {\"time\": \"2022-12-09T00:00:00\", \"hidden state\": 1}, {\"time\": \"2022-12-10T00:00:00\", \"hidden state\": 1}, {\"time\": \"2022-12-11T00:00:00\", \"hidden state\": 1}, {\"time\": \"2022-12-12T00:00:00\", \"hidden state\": 1}, {\"time\": \"2022-12-13T00:00:00\", \"hidden state\": 1}, {\"time\": \"2022-12-14T00:00:00\", \"hidden state\": 1}, {\"time\": \"2022-12-15T00:00:00\", \"hidden state\": 1}, {\"time\": \"2022-12-16T00:00:00\", \"hidden state\": 1}, {\"time\": \"2022-12-17T00:00:00\", \"hidden state\": 1}, {\"time\": \"2022-12-18T00:00:00\", \"hidden state\": 1}, {\"time\": \"2022-12-19T00:00:00\", \"hidden state\": 1}, {\"time\": \"2022-12-20T00:00:00\", \"hidden state\": 1}, {\"time\": \"2022-12-21T00:00:00\", \"hidden state\": 1}, {\"time\": \"2022-12-22T00:00:00\", \"hidden state\": 1}, {\"time\": \"2022-12-23T00:00:00\", \"hidden state\": 1}, {\"time\": \"2022-12-24T00:00:00\", \"hidden state\": 1}, {\"time\": \"2022-12-25T00:00:00\", \"hidden state\": 1}, {\"time\": \"2022-12-26T00:00:00\", \"hidden state\": 1}, {\"time\": \"2022-12-27T00:00:00\", \"hidden state\": 1}, {\"time\": \"2022-12-28T00:00:00\", \"hidden state\": 1}, {\"time\": \"2022-12-29T00:00:00\", \"hidden state\": 1}, {\"time\": \"2022-12-30T00:00:00\", \"hidden state\": 1}, {\"time\": \"2022-12-31T00:00:00\", \"hidden state\": 1}, {\"time\": \"2023-01-01T00:00:00\", \"hidden state\": 1}, {\"time\": \"2023-01-02T00:00:00\", \"hidden state\": 1}, {\"time\": \"2023-01-03T00:00:00\", \"hidden state\": 1}, {\"time\": \"2023-01-04T00:00:00\", \"hidden state\": 1}, {\"time\": \"2023-01-05T00:00:00\", \"hidden state\": 1}, {\"time\": \"2023-01-06T00:00:00\", \"hidden state\": 1}, {\"time\": \"2023-01-07T00:00:00\", \"hidden state\": 1}, {\"time\": \"2023-01-08T00:00:00\", \"hidden state\": 1}, {\"time\": \"2023-01-09T00:00:00\", \"hidden state\": 1}, {\"time\": \"2023-01-10T00:00:00\", \"hidden state\": 1}, {\"time\": \"2023-01-11T00:00:00\", \"hidden state\": 1}, {\"time\": \"2023-01-12T00:00:00\", \"hidden state\": 1}, {\"time\": \"2023-01-13T00:00:00\", \"hidden state\": 1}, {\"time\": \"2023-01-14T00:00:00\", \"hidden state\": 1}, {\"time\": \"2023-01-15T00:00:00\", \"hidden state\": 1}, {\"time\": \"2023-01-16T00:00:00\", \"hidden state\": 1}, {\"time\": \"2023-01-17T00:00:00\", \"hidden state\": 1}, {\"time\": \"2023-01-18T00:00:00\", \"hidden state\": 1}, {\"time\": \"2023-01-19T00:00:00\", \"hidden state\": 1}, {\"time\": \"2023-01-20T00:00:00\", \"hidden state\": 1}, {\"time\": \"2023-01-21T00:00:00\", \"hidden state\": 1}, {\"time\": \"2023-01-22T00:00:00\", \"hidden state\": 1}, {\"time\": \"2023-01-23T00:00:00\", \"hidden state\": 1}, {\"time\": \"2023-01-24T00:00:00\", \"hidden state\": 1}, {\"time\": \"2023-01-25T00:00:00\", \"hidden state\": 1}, {\"time\": \"2023-01-26T00:00:00\", \"hidden state\": 1}, {\"time\": \"2023-01-27T00:00:00\", \"hidden state\": 1}, {\"time\": \"2023-01-28T00:00:00\", \"hidden state\": 1}, {\"time\": \"2023-01-29T00:00:00\", \"hidden state\": 1}, {\"time\": \"2023-01-30T00:00:00\", \"hidden state\": 1}, {\"time\": \"2023-01-31T00:00:00\", \"hidden state\": 1}, {\"time\": \"2023-02-01T00:00:00\", \"hidden state\": 1}, {\"time\": \"2023-02-02T00:00:00\", \"hidden state\": 1}, {\"time\": \"2023-02-03T00:00:00\", \"hidden state\": 1}, {\"time\": \"2023-02-04T00:00:00\", \"hidden state\": 1}, {\"time\": \"2023-02-05T00:00:00\", \"hidden state\": 1}, {\"time\": \"2023-02-06T00:00:00\", \"hidden state\": 1}, {\"time\": \"2023-02-07T00:00:00\", \"hidden state\": 1}, {\"time\": \"2023-02-08T00:00:00\", \"hidden state\": 1}, {\"time\": \"2023-02-09T00:00:00\", \"hidden state\": 1}, {\"time\": \"2023-02-10T00:00:00\", \"hidden state\": 1}, {\"time\": \"2023-02-11T00:00:00\", \"hidden state\": 1}, {\"time\": \"2023-02-12T00:00:00\", \"hidden state\": 1}, {\"time\": \"2023-02-13T00:00:00\", \"hidden state\": 1}, {\"time\": \"2023-02-14T00:00:00\", \"hidden state\": 1}, {\"time\": \"2023-02-15T00:00:00\", \"hidden state\": 1}, {\"time\": \"2023-02-16T00:00:00\", \"hidden state\": 1}, {\"time\": \"2023-02-17T00:00:00\", \"hidden state\": 1}, {\"time\": \"2023-02-18T00:00:00\", \"hidden state\": 1}, {\"time\": \"2023-02-19T00:00:00\", \"hidden state\": 1}, {\"time\": \"2023-02-20T00:00:00\", \"hidden state\": 1}, {\"time\": \"2023-02-21T00:00:00\", \"hidden state\": 1}, {\"time\": \"2023-02-22T00:00:00\", \"hidden state\": 1}, {\"time\": \"2023-02-23T00:00:00\", \"hidden state\": 1}, {\"time\": \"2023-02-24T00:00:00\", \"hidden state\": 1}, {\"time\": \"2023-02-25T00:00:00\", \"hidden state\": 1}, {\"time\": \"2023-02-26T00:00:00\", \"hidden state\": 1}, {\"time\": \"2023-02-27T00:00:00\", \"hidden state\": 1}, {\"time\": \"2023-02-28T00:00:00\", \"hidden state\": 1}, {\"time\": \"2023-03-01T00:00:00\", \"hidden state\": 1}, {\"time\": \"2023-03-02T00:00:00\", \"hidden state\": 1}, {\"time\": \"2023-03-03T00:00:00\", \"hidden state\": 1}, {\"time\": \"2023-03-04T00:00:00\", \"hidden state\": 1}, {\"time\": \"2023-03-05T00:00:00\", \"hidden state\": 2}, {\"time\": \"2023-03-06T00:00:00\", \"hidden state\": 2}, {\"time\": \"2023-03-07T00:00:00\", \"hidden state\": 2}, {\"time\": \"2023-03-08T00:00:00\", \"hidden state\": 2}, {\"time\": \"2023-03-09T00:00:00\", \"hidden state\": 2}, {\"time\": \"2023-03-10T00:00:00\", \"hidden state\": 2}, {\"time\": \"2023-03-11T00:00:00\", \"hidden state\": 2}, {\"time\": \"2023-03-12T00:00:00\", \"hidden state\": 2}, {\"time\": \"2023-03-13T00:00:00\", \"hidden state\": 2}, {\"time\": \"2023-03-14T00:00:00\", \"hidden state\": 2}, {\"time\": \"2023-03-15T00:00:00\", \"hidden state\": 2}, {\"time\": \"2023-03-16T00:00:00\", \"hidden state\": 2}, {\"time\": \"2023-03-17T00:00:00\", \"hidden state\": 2}, {\"time\": \"2023-03-18T00:00:00\", \"hidden state\": 2}, {\"time\": \"2023-03-19T00:00:00\", \"hidden state\": 2}, {\"time\": \"2023-03-20T00:00:00\", \"hidden state\": 2}, {\"time\": \"2023-03-21T00:00:00\", \"hidden state\": 0}, {\"time\": \"2023-03-22T00:00:00\", \"hidden state\": 0}, {\"time\": \"2023-03-23T00:00:00\", \"hidden state\": 0}, {\"time\": \"2023-03-24T00:00:00\", \"hidden state\": 0}, {\"time\": \"2023-03-25T00:00:00\", \"hidden state\": 0}, {\"time\": \"2023-03-26T00:00:00\", \"hidden state\": 0}, {\"time\": \"2023-03-27T00:00:00\", \"hidden state\": 0}, {\"time\": \"2023-03-28T00:00:00\", \"hidden state\": 0}, {\"time\": \"2023-03-29T00:00:00\", \"hidden state\": 0}, {\"time\": \"2023-03-30T00:00:00\", \"hidden state\": 0}, {\"time\": \"2023-03-31T00:00:00\", \"hidden state\": 0}, {\"time\": \"2023-04-01T00:00:00\", \"hidden state\": 0}, {\"time\": \"2023-04-02T00:00:00\", \"hidden state\": 0}, {\"time\": \"2023-04-03T00:00:00\", \"hidden state\": 0}, {\"time\": \"2023-04-04T00:00:00\", \"hidden state\": 0}, {\"time\": \"2023-04-05T00:00:00\", \"hidden state\": 0}, {\"time\": \"2023-04-06T00:00:00\", \"hidden state\": 0}, {\"time\": \"2023-04-07T00:00:00\", \"hidden state\": 0}, {\"time\": \"2023-04-08T00:00:00\", \"hidden state\": 0}, {\"time\": \"2023-04-09T00:00:00\", \"hidden state\": 0}, {\"time\": \"2023-04-10T00:00:00\", \"hidden state\": 0}, {\"time\": \"2023-04-11T00:00:00\", \"hidden state\": 0}, {\"time\": \"2023-04-12T00:00:00\", \"hidden state\": 0}, {\"time\": \"2023-04-13T00:00:00\", \"hidden state\": 0}, {\"time\": \"2023-04-14T00:00:00\", \"hidden state\": 0}, {\"time\": \"2023-04-15T00:00:00\", \"hidden state\": 0}, {\"time\": \"2023-04-16T00:00:00\", \"hidden state\": 0}, {\"time\": \"2023-04-17T00:00:00\", \"hidden state\": 0}, {\"time\": \"2023-04-18T00:00:00\", \"hidden state\": 0}, {\"time\": \"2023-04-19T00:00:00\", \"hidden state\": 0}, {\"time\": \"2023-04-20T00:00:00\", \"hidden state\": 0}, {\"time\": \"2023-04-21T00:00:00\", \"hidden state\": 0}, {\"time\": \"2023-04-22T00:00:00\", \"hidden state\": 0}, {\"time\": \"2023-04-23T00:00:00\", \"hidden state\": 0}, {\"time\": \"2023-04-24T00:00:00\", \"hidden state\": 0}, {\"time\": \"2023-04-25T00:00:00\", \"hidden state\": 0}, {\"time\": \"2023-04-26T00:00:00\", \"hidden state\": 0}, {\"time\": \"2023-04-27T00:00:00\", \"hidden state\": 0}]}};\n",
       "const opt = {};\n",
       "const type = \"vega-lite\";\n",
       "const id = \"b34ebf8e-683a-4c9d-9424-66b084124d66\";\n",
       "\n",
       "const output_area = this;\n",
       "\n",
       "require([\"nbextensions/jupyter-vega/index\"], function(vega) {\n",
       "  const target = document.createElement(\"div\");\n",
       "  target.id = id;\n",
       "  target.className = \"vega-embed\";\n",
       "\n",
       "  const style = document.createElement(\"style\");\n",
       "  style.textContent = [\n",
       "    \".vega-embed .error p {\",\n",
       "    \"  color: firebrick;\",\n",
       "    \"  font-size: 14px;\",\n",
       "    \"}\",\n",
       "  ].join(\"\\\\n\");\n",
       "\n",
       "  // element is a jQuery wrapped DOM element inside the output area\n",
       "  // see http://ipython.readthedocs.io/en/stable/api/generated/\\\n",
       "  // IPython.display.html#IPython.display.Javascript.__init__\n",
       "  element[0].appendChild(target);\n",
       "  element[0].appendChild(style);\n",
       "\n",
       "  vega.render(\"#\" + id, spec, type, opt, output_area);\n",
       "}, function (err) {\n",
       "  if (err.requireType !== \"scripterror\") {\n",
       "    throw(err);\n",
       "  }\n",
       "});\n"
      ],
      "text/plain": [
       "<vega.vegalite.VegaLite at 0x7f65035429b0>"
      ]
     },
     "metadata": {
      "jupyter-vega": "#b34ebf8e-683a-4c9d-9424-66b084124d66"
     },
     "output_type": "display_data"
    },
    {
     "data": {
      "text/plain": []
     },
     "execution_count": 8,
     "metadata": {},
     "output_type": "execute_result"
    },
    {
     "data": {
      "image/png": "[encoded data removed]"
     },
     "metadata": {
      "jupyter-vega": "#b34ebf8e-683a-4c9d-9424-66b084124d66"
     },
     "output_type": "display_data"
    }
   ],
   "source": [
    "hidden_states = generative_model.generate_hidden_state_sequence(n_observations = 1000)\n",
    "hmmplot.draw_states(hidden_states, hide_brush=False)"
   ]
  },
  {
   "cell_type": "code",
   "execution_count": 9,
   "metadata": {},
   "outputs": [
    {
     "data": {
      "text/html": [
       "<div>\n",
       "<style scoped>\n",
       "    .dataframe tbody tr th:only-of-type {\n",
       "        vertical-align: middle;\n",
       "    }\n",
       "\n",
       "    .dataframe tbody tr th {\n",
       "        vertical-align: top;\n",
       "    }\n",
       "\n",
       "    .dataframe thead th {\n",
       "        text-align: right;\n",
       "    }\n",
       "</style>\n",
       "<table border=\"1\" class=\"dataframe\">\n",
       "  <thead>\n",
       "    <tr style=\"text-align: right;\">\n",
       "      <th></th>\n",
       "      <th>categorical_feature_0</th>\n",
       "      <th>categorical_feature_1</th>\n",
       "    </tr>\n",
       "  </thead>\n",
       "  <tbody>\n",
       "    <tr>\n",
       "      <th>2020-08-01</th>\n",
       "      <td>1</td>\n",
       "      <td>2</td>\n",
       "    </tr>\n",
       "    <tr>\n",
       "      <th>2020-08-02</th>\n",
       "      <td>0</td>\n",
       "      <td>0</td>\n",
       "    </tr>\n",
       "    <tr>\n",
       "      <th>2020-08-03</th>\n",
       "      <td>0</td>\n",
       "      <td>0</td>\n",
       "    </tr>\n",
       "    <tr>\n",
       "      <th>2020-08-04</th>\n",
       "      <td>0</td>\n",
       "      <td>0</td>\n",
       "    </tr>\n",
       "    <tr>\n",
       "      <th>2020-08-05</th>\n",
       "      <td>0</td>\n",
       "      <td>0</td>\n",
       "    </tr>\n",
       "  </tbody>\n",
       "</table>\n",
       "</div>"
      ],
      "text/plain": [
       "            categorical_feature_0  categorical_feature_1\n",
       "2020-08-01                      1                      2\n",
       "2020-08-02                      0                      0\n",
       "2020-08-03                      0                      0\n",
       "2020-08-04                      0                      0\n",
       "2020-08-05                      0                      0"
      ]
     },
     "execution_count": 9,
     "metadata": {},
     "output_type": "execute_result"
    }
   ],
   "source": [
    "hmm_data = generative_model.generate_observations(hidden_states)\n",
    "hmm_data.head()"
   ]
  },
  {
   "cell_type": "code",
   "execution_count": 10,
   "metadata": {},
   "outputs": [],
   "source": [
    "hmm_training_spec = generative_model.generative_model_to_discrete_hmm_training_spec()"
   ]
  },
  {
   "cell_type": "code",
   "execution_count": 11,
   "metadata": {},
   "outputs": [],
   "source": [
    "model_config = hmm.DiscreteHMMConfiguration.from_spec(hmm_training_spec)"
   ]
  },
  {
   "cell_type": "code",
   "execution_count": 12,
   "metadata": {},
   "outputs": [],
   "source": [
    "hmm_model = model_config.to_model()"
   ]
  },
  {
   "cell_type": "markdown",
   "metadata": {},
   "source": [
    "### HMM - DBN parameters"
   ]
  },
  {
   "cell_type": "code",
   "execution_count": 13,
   "metadata": {},
   "outputs": [],
   "source": [
    "# emission matrix\n",
    "emission = np.exp(np.array(hmm_model.categorical_model.log_emission_matrix))\n",
    "\n",
    "# transition matrix\n",
    "transition_matrix = hmm_training_spec['model_parameter_constraints']['transition_constraints']\n",
    "\n",
    "# initial state\n",
    "p_init = hmm_training_spec['model_parameter_constraints']['initial_state_constraints']\n",
    "p_init = np.array(p_init).reshape((3,1))"
   ]
  },
  {
   "cell_type": "code",
   "execution_count": 14,
   "metadata": {},
   "outputs": [
    {
     "name": "stderr",
     "output_type": "stream",
     "text": [
      "/opt/conda/lib/python3.7/site-packages/torch/cuda/__init__.py:52: UserWarning: CUDA initialization: Found no NVIDIA driver on your system. Please check that you have an NVIDIA GPU and installed a driver from http://www.nvidia.com/Download/index.aspx (Triggered internally at  /pytorch/c10/cuda/CUDAFunctions.cpp:100.)\n",
      "  return torch._C._cuda_getDeviceCount() > 0\n"
     ]
    }
   ],
   "source": [
    "from pgmpy.models import DynamicBayesianNetwork as DBN\n",
    "from pgmpy.factors.discrete import TabularCPD\n",
    "\n",
    "from collections import namedtuple\n",
    "import itertools\n",
    "\n",
    "import networkx as nx\n",
    "import numpy as np\n",
    "from tqdm import tqdm\n",
    "\n",
    "from pgmpy.factors import factor_product\n",
    "from pgmpy.inference import Inference\n",
    "from pgmpy.models import BayesianModel, MarkovChain, MarkovModel\n",
    "from pgmpy.utils.mathext import sample_discrete\n",
    "from pgmpy.sampling import _return_samples\n",
    "from pgmpy.global_vars import SHOW_PROGRESS"
   ]
  },
  {
   "cell_type": "code",
   "execution_count": 32,
   "metadata": {},
   "outputs": [],
   "source": [
    "class GibbsSampling(MarkovChain):\n",
    "    \"\"\"\n",
    "    Class for performing Gibbs sampling.\n",
    "    Parameters\n",
    "    ----------\n",
    "    model: BayesianModel or MarkovModel\n",
    "        Model from which variables are inherited and transition probabilities computed.\n",
    "    Examples\n",
    "    --------\n",
    "    Initialization from a BayesianModel object:\n",
    "    >>> from pgmpy.factors.discrete import TabularCPD\n",
    "    >>> from pgmpy.models import BayesianModel\n",
    "    >>> intel_cpd = TabularCPD('intel', 2, [[0.7], [0.3]])\n",
    "    >>> sat_cpd = TabularCPD('sat', 2, [[0.95, 0.2], [0.05, 0.8]], evidence=['intel'], evidence_card=[2])\n",
    "    >>> student = BayesianModel()\n",
    "    >>> student.add_nodes_from(['intel', 'sat'])\n",
    "    >>> student.add_edge('intel', 'sat')\n",
    "    >>> student.add_cpds(intel_cpd, sat_cpd)\n",
    "    >>> from pgmpy.sampling import GibbsSampling\n",
    "    >>> gibbs_chain = GibbsSampling(student)\n",
    "    >>> gibbs_chain.sample(size=3)\n",
    "       intel  sat\n",
    "    0      0    0\n",
    "    1      0    0\n",
    "    2      1    1\n",
    "    \"\"\"\n",
    "\n",
    "    def __init__(self, model=None):\n",
    "        super(GibbsSampling, self).__init__()\n",
    "        if isinstance(model, BayesianModel):\n",
    "            self._get_kernel_from_bayesian_model(model)\n",
    "#         elif isinstance(model, MarkovModel):\n",
    "#             self._get_kernel_from_markov_model(model)\n",
    "        elif isinstance(model, DBN):\n",
    "            self._get_kernel_from_dbn(model)\n",
    "\n",
    "    def _get_kernel_from_dbn(self, model):\n",
    "        \"\"\"\n",
    "        Computes the Gibbs transition models from a Bayesian Network.\n",
    "        'Probabilistic Graphical Model Principles and Techniques', Koller and\n",
    "        Friedman, Section 12.3.3 pp 512-513.\n",
    "        Parameters\n",
    "        ----------\n",
    "        model: BayesianModel\n",
    "            The model from which probabilities will be computed.\n",
    "        \"\"\"\n",
    "        self.variables = tuple(model.nodes())\n",
    "        cpds = [model.get_cpds(node) for node in model.nodes() if model.get_cpds(node) is not None]\n",
    "        self.cardinalities = {\n",
    "            cpd.variable[0]: cpd.variable_card for cpd in cpds\n",
    "        }\n",
    "\n",
    "#         for var in self.variables:\n",
    "#             other_vars = [v for v in self.variables if var != v]\n",
    "#             other_cards = [self.cardinalities[v] for v in other_vars]\n",
    "#             cpds = [cpd for cpd in model.cpds if var in cpd.scope()]\n",
    "#             prod_cpd = factor_product(*cpds)\n",
    "#             kernel = {}\n",
    "#             scope = set(prod_cpd.scope())\n",
    "#             for tup in itertools.product(*[range(card) for card in other_cards]):\n",
    "#                 states = [State(v, s) for v, s in zip(other_vars, tup) if v in scope]\n",
    "#                 prod_cpd_reduced = prod_cpd.to_factor().reduce(states, inplace=False)\n",
    "#                 kernel[tup] = prod_cpd_reduced.values / sum(prod_cpd_reduced.values)\n",
    "#             self.transition_models[var] = kernel\n",
    "\n",
    "    def sample(self, start_state=None, size=1, return_type=\"dataframe\", seed=None):\n",
    "        \"\"\"\n",
    "        Sample from the Markov Chain.\n",
    "        Parameters\n",
    "        ----------\n",
    "        start_state: dict or array-like iterable\n",
    "            Representing the starting states of the variables. If None is passed, a random start_state is chosen.\n",
    "        size: int\n",
    "            Number of samples to be generated.\n",
    "        return_type: string (dataframe | recarray)\n",
    "            Return type for samples, either of 'dataframe' or 'recarray'.\n",
    "            Defaults to 'dataframe'\n",
    "        Returns\n",
    "        -------\n",
    "        sampled: A pandas.DataFrame or a numpy.recarray object depending upon return_type argument\n",
    "            the generated samples\n",
    "        Examples\n",
    "        --------\n",
    "        >>> from pgmpy.factors.discrete import DiscreteFactor\n",
    "        >>> from pgmpy.sampling import GibbsSampling\n",
    "        >>> from pgmpy.models import MarkovModel\n",
    "        >>> model = MarkovModel([('A', 'B'), ('C', 'B')])\n",
    "        >>> factor_ab = DiscreteFactor(['A', 'B'], [2, 2], [1, 2, 3, 4])\n",
    "        >>> factor_cb = DiscreteFactor(['C', 'B'], [2, 2], [5, 6, 7, 8])\n",
    "        >>> model.add_factors(factor_ab, factor_cb)\n",
    "        >>> gibbs = GibbsSampling(model)\n",
    "        >>> gibbs.sample(size=4, return_tupe='dataframe')\n",
    "           A  B  C\n",
    "        0  0  1  1\n",
    "        1  1  0  0\n",
    "        2  1  1  0\n",
    "        3  1  1  1\n",
    "        \"\"\"\n",
    "        if start_state is None and self.state is None:\n",
    "            self.state = self.random_state()\n",
    "        elif start_state is not None:\n",
    "            self.set_start_state(start_state)\n",
    "\n",
    "        types = [(var_name, \"int\") for var_name in self.variables]\n",
    "        sampled = np.zeros(size, dtype=types).view(np.recarray)\n",
    "        sampled[0] = tuple(st for var, st in self.state)\n",
    "        for i in tqdm(range(size - 1)):\n",
    "            for j, (var, st) in enumerate(self.state):\n",
    "                other_st = tuple(st for v, st in self.state if var != v)\n",
    "                next_st = sample_discrete(\n",
    "                    list(range(self.cardinalities[var])),\n",
    "                    self.transition_models[var][other_st],\n",
    "                    seed=seed,\n",
    "                )[0]\n",
    "                self.state[j] = State(var, next_st)\n",
    "            sampled[i + 1] = tuple(st for var, st in self.state)\n",
    "\n",
    "        return _return_samples(return_type, sampled)"
   ]
  },
  {
   "cell_type": "markdown",
   "metadata": {},
   "source": [
    "### DBN-HMM Model"
   ]
  },
  {
   "cell_type": "code",
   "execution_count": 33,
   "metadata": {},
   "outputs": [],
   "source": [
    "hmm = DBN()\n",
    "\n",
    "hmm.add_edges_from([(('hs', 0), ('hs', 1)), # hs_(t=0) -> hs_(t=1)\n",
    "                    (('hs', 0), ('obs', 0))]) # hs_(t=0) -> obs_(t=0)"
   ]
  },
  {
   "cell_type": "code",
   "execution_count": 34,
   "metadata": {},
   "outputs": [
    {
     "data": {
      "text/plain": [
       "NodeView((('hs', 0), ('hs', 1), ('obs', 0), ('obs', 1)))"
      ]
     },
     "execution_count": 34,
     "metadata": {},
     "output_type": "execute_result"
    }
   ],
   "source": [
    "hmm.nodes"
   ]
  },
  {
   "cell_type": "code",
   "execution_count": 35,
   "metadata": {},
   "outputs": [
    {
     "data": {
      "text/plain": [
       "OutEdgeView([(('hs', 0), ('hs', 1)), (('hs', 0), ('obs', 0)), (('hs', 1), ('obs', 1))])"
      ]
     },
     "execution_count": 35,
     "metadata": {},
     "output_type": "execute_result"
    }
   ],
   "source": [
    "hmm.edges()"
   ]
  },
  {
   "cell_type": "code",
   "execution_count": 36,
   "metadata": {},
   "outputs": [
    {
     "name": "stdout",
     "output_type": "stream",
     "text": [
      "[<TabularCPD representing P(('obs', 0):6 | ('hs', 0):3) at 0x7f64afe51438>, <TabularCPD representing P(('hs', 0):3) at 0x7f64afe00668>]\n",
      "[<TabularCPD representing P(('hs', 1):3 | ('hs', 0):3) at 0x7f64afe514e0>]\n"
     ]
    }
   ],
   "source": [
    "transition_cpd = TabularCPD(('hs', 1), 3, transition_matrix, \n",
    "                            evidence=[('hs', 0)], evidence_card=[3])\n",
    "\n",
    "emission_cpd = TabularCPD(('obs', 0), 6, emission, \n",
    "                          evidence=[('hs', 0)], evidence_card=[3])\n",
    "initial_cpd = TabularCPD(('hs', 0), 3, p_init)\n",
    "\n",
    "hmm.add_cpds(transition_cpd, emission_cpd, initial_cpd)\n",
    "for i in range(2):\n",
    "    print(hmm.get_cpds(time_slice=i))"
   ]
  },
  {
   "cell_type": "code",
   "execution_count": 37,
   "metadata": {},
   "outputs": [
    {
     "data": {
      "text/plain": [
       "True"
      ]
     },
     "execution_count": 37,
     "metadata": {},
     "output_type": "execute_result"
    }
   ],
   "source": [
    "hmm.check_model()"
   ]
  },
  {
   "cell_type": "code",
   "execution_count": 38,
   "metadata": {},
   "outputs": [],
   "source": [
    "hmm_chain = GibbsSampling(hmm)"
   ]
  },
  {
   "cell_type": "code",
   "execution_count": 51,
   "metadata": {},
   "outputs": [
    {
     "name": "stdout",
     "output_type": "stream",
     "text": [
      "('hs', 0)\n",
      "[('hs', 1), ('obs', 0), ('obs', 1)]\n",
      "[3, 6, 6]\n",
      "[<TabularCPD representing P(('hs', 1):3 | ('hs', 0):3) at 0x7f64afe514e0>, <TabularCPD representing P(('obs', 0):6 | ('hs', 0):3) at 0x7f64afe51438>, <TabularCPD representing P(('hs', 0):3) at 0x7f64afe00668>]\n",
      "+--------------+---------------+---------------+---------------+---------------+---------------+---------------+----------------------+------------------------+------------------------+------------------------+------------------------+-----------------------+---------------+---------------+---------------+---------------+---------------+---------------+\n",
      "| ('hs', 0)    | ('hs', 0)(0)  | ('hs', 0)(0)  | ('hs', 0)(0)  | ('hs', 0)(0)  | ('hs', 0)(0)  | ('hs', 0)(0)  | ('hs', 0)(1)         | ('hs', 0)(1)           | ('hs', 0)(1)           | ('hs', 0)(1)           | ('hs', 0)(1)           | ('hs', 0)(1)          | ('hs', 0)(2)  | ('hs', 0)(2)  | ('hs', 0)(2)  | ('hs', 0)(2)  | ('hs', 0)(2)  | ('hs', 0)(2)  |\n",
      "+--------------+---------------+---------------+---------------+---------------+---------------+---------------+----------------------+------------------------+------------------------+------------------------+------------------------+-----------------------+---------------+---------------+---------------+---------------+---------------+---------------+\n",
      "| ('obs', 0)   | ('obs', 0)(0) | ('obs', 0)(1) | ('obs', 0)(2) | ('obs', 0)(3) | ('obs', 0)(4) | ('obs', 0)(5) | ('obs', 0)(0)        | ('obs', 0)(1)          | ('obs', 0)(2)          | ('obs', 0)(3)          | ('obs', 0)(4)          | ('obs', 0)(5)         | ('obs', 0)(0) | ('obs', 0)(1) | ('obs', 0)(2) | ('obs', 0)(3) | ('obs', 0)(4) | ('obs', 0)(5) |\n",
      "+--------------+---------------+---------------+---------------+---------------+---------------+---------------+----------------------+------------------------+------------------------+------------------------+------------------------+-----------------------+---------------+---------------+---------------+---------------+---------------+---------------+\n",
      "| ('hs', 1)(0) | 0.0           | 0.0           | 0.0           | 0.0           | 0.0           | 0.0           | 0.014791477875507742 | 4.543512133722135e-06  | 0.00018710772612866191 | 0.00017486868829805124 | 0.00019551058701422963 | 0.0002199167528158933 | 0.0           | 0.0           | 0.0           | 0.0           | 0.0           | 0.0           |\n",
      "+--------------+---------------+---------------+---------------+---------------+---------------+---------------+----------------------+------------------------+------------------------+------------------------+------------------------+-----------------------+---------------+---------------+---------------+---------------+---------------+---------------+\n",
      "| ('hs', 1)(1) | 0.0           | 0.0           | 0.0           | 0.0           | 0.0           | 0.0           | 0.9362974629693553   | 0.00028760336996606494 | 0.011843880020015747   | 0.011069151479268537   | 0.012375779360640046   | 0.013920684563029953  | 0.0           | 0.0           | 0.0           | 0.0           | 0.0           | 0.0           |\n",
      "+--------------+---------------+---------------+---------------+---------------+---------------+---------------+----------------------+------------------------+------------------------+------------------------+------------------------+-----------------------+---------------+---------------+---------------+---------------+---------------+---------------+\n",
      "| ('hs', 1)(2) | 0.0           | 0.0           | 0.0           | 0.0           | 0.0           | 0.0           | 0.0                  | 0.0                    | 0.0                    | 0.0                    | 0.0                    | 0.0                   | 0.0           | 0.0           | 0.0           | 0.0           | 0.0           | 0.0           |\n",
      "+--------------+---------------+---------------+---------------+---------------+---------------+---------------+----------------------+------------------------+------------------------+------------------------+------------------------+-----------------------+---------------+---------------+---------------+---------------+---------------+---------------+\n",
      "('hs', 1)\n",
      "[('hs', 0), ('obs', 0), ('obs', 1)]\n",
      "[3, 6, 6]\n",
      "[<TabularCPD representing P(('hs', 1):3 | ('hs', 0):3) at 0x7f64afe514e0>]\n",
      "+--------------+----------------------+--------------------+----------------------+\n",
      "| ('hs', 0)    | ('hs', 0)(0)         | ('hs', 0)(1)       | ('hs', 0)(2)         |\n",
      "+--------------+----------------------+--------------------+----------------------+\n",
      "| ('hs', 1)(0) | 0.9844265748581017   | 0.0155734251418983 | 0.0                  |\n",
      "+--------------+----------------------+--------------------+----------------------+\n",
      "| ('hs', 1)(1) | 0.0                  | 0.9857945617622756 | 0.014205438237724355 |\n",
      "+--------------+----------------------+--------------------+----------------------+\n",
      "| ('hs', 1)(2) | 0.015274826121587481 | 0.0                | 0.9847251738784125   |\n",
      "+--------------+----------------------+--------------------+----------------------+\n",
      "('obs', 0)\n",
      "[('hs', 0), ('hs', 1), ('obs', 1)]\n",
      "[3, 3, 6]\n",
      "[<TabularCPD representing P(('obs', 0):6 | ('hs', 0):3) at 0x7f64afe51438>]\n",
      "+---------------+----------------------+----------------------+----------------------+\n",
      "| ('hs', 0)     | ('hs', 0)(0)         | ('hs', 0)(1)         | ('hs', 0)(2)         |\n",
      "+---------------+----------------------+----------------------+----------------------+\n",
      "| ('obs', 0)(0) | 0.05923941138433836  | 0.9497896410541808   | 0.025734923706425144 |\n",
      "+---------------+----------------------+----------------------+----------------------+\n",
      "| ('obs', 0)(1) | 0.7677590145494717   | 0.000291747774964314 | 0.043527100983036804 |\n",
      "+---------------+----------------------+----------------------+----------------------+\n",
      "| ('obs', 0)(2) | 0.04866985335188724  | 0.01201455199635388  | 0.006595708443598759 |\n",
      "+---------------+----------------------+----------------------+----------------------+\n",
      "| ('obs', 0)(3) | 0.03251285098330359  | 0.011228659508407658 | 0.03568592662866551  |\n",
      "+---------------+----------------------+----------------------+----------------------+\n",
      "| ('obs', 0)(4) | 0.0349195038124994   | 0.01255411608126163  | 0.00799425980075582  |\n",
      "+---------------+----------------------+----------------------+----------------------+\n",
      "| ('obs', 0)(5) | 0.056899365918499686 | 0.014121283584831671 | 0.880462080437518    |\n",
      "+---------------+----------------------+----------------------+----------------------+\n",
      "('obs', 1)\n",
      "[('hs', 0), ('hs', 1), ('obs', 0)]\n",
      "[3, 3, 6]\n",
      "[]\n"
     ]
    },
    {
     "ename": "NotImplementedError",
     "evalue": "All the args are expected to be instances of the same factor class.",
     "output_type": "error",
     "traceback": [
      "\u001b[0;31m---------------------------------------------------------------------------\u001b[0m",
      "\u001b[0;31mNotImplementedError\u001b[0m                       Traceback (most recent call last)",
      "\u001b[0;32m<ipython-input-51-22f90d1acccf>\u001b[0m in \u001b[0;36m<module>\u001b[0;34m\u001b[0m\n\u001b[1;32m      9\u001b[0m     \u001b[0mcpds\u001b[0m \u001b[0;34m=\u001b[0m \u001b[0;34m[\u001b[0m\u001b[0mcpd\u001b[0m \u001b[0;32mfor\u001b[0m \u001b[0mcpd\u001b[0m \u001b[0;32min\u001b[0m \u001b[0mmodel\u001b[0m\u001b[0;34m.\u001b[0m\u001b[0mcpds\u001b[0m \u001b[0;32mif\u001b[0m \u001b[0mvar\u001b[0m \u001b[0;32min\u001b[0m \u001b[0mcpd\u001b[0m\u001b[0;34m.\u001b[0m\u001b[0mscope\u001b[0m\u001b[0;34m(\u001b[0m\u001b[0;34m)\u001b[0m\u001b[0;34m]\u001b[0m\u001b[0;34m\u001b[0m\u001b[0;34m\u001b[0m\u001b[0m\n\u001b[1;32m     10\u001b[0m     \u001b[0mprint\u001b[0m\u001b[0;34m(\u001b[0m\u001b[0mcpds\u001b[0m\u001b[0;34m)\u001b[0m\u001b[0;34m\u001b[0m\u001b[0;34m\u001b[0m\u001b[0m\n\u001b[0;32m---> 11\u001b[0;31m     \u001b[0mprod_cpd\u001b[0m \u001b[0;34m=\u001b[0m \u001b[0mfactor_product\u001b[0m\u001b[0;34m(\u001b[0m\u001b[0;34m*\u001b[0m\u001b[0mcpds\u001b[0m\u001b[0;34m)\u001b[0m\u001b[0;34m\u001b[0m\u001b[0;34m\u001b[0m\u001b[0m\n\u001b[0m\u001b[1;32m     12\u001b[0m     \u001b[0mprint\u001b[0m\u001b[0;34m(\u001b[0m\u001b[0mprod_cpd\u001b[0m\u001b[0;34m)\u001b[0m\u001b[0;34m\u001b[0m\u001b[0;34m\u001b[0m\u001b[0m\n\u001b[1;32m     13\u001b[0m     \u001b[0mkernel\u001b[0m \u001b[0;34m=\u001b[0m \u001b[0;34m{\u001b[0m\u001b[0;34m}\u001b[0m\u001b[0;34m\u001b[0m\u001b[0;34m\u001b[0m\u001b[0m\n",
      "\u001b[0;32m/opt/conda/lib/python3.7/site-packages/pgmpy/factors/base.py\u001b[0m in \u001b[0;36mfactor_product\u001b[0;34m(*args)\u001b[0m\n\u001b[1;32m     65\u001b[0m     \u001b[0;32melif\u001b[0m \u001b[0mlen\u001b[0m\u001b[0;34m(\u001b[0m\u001b[0mset\u001b[0m\u001b[0;34m(\u001b[0m\u001b[0mmap\u001b[0m\u001b[0;34m(\u001b[0m\u001b[0mtype\u001b[0m\u001b[0;34m,\u001b[0m \u001b[0margs\u001b[0m\u001b[0;34m)\u001b[0m\u001b[0;34m)\u001b[0m\u001b[0;34m)\u001b[0m \u001b[0;34m!=\u001b[0m \u001b[0;36m1\u001b[0m\u001b[0;34m:\u001b[0m\u001b[0;34m\u001b[0m\u001b[0;34m\u001b[0m\u001b[0m\n\u001b[1;32m     66\u001b[0m         raise NotImplementedError(\n\u001b[0;32m---> 67\u001b[0;31m             \u001b[0;34m\"All the args are expected to be instances of the same factor class.\"\u001b[0m\u001b[0;34m\u001b[0m\u001b[0;34m\u001b[0m\u001b[0m\n\u001b[0m\u001b[1;32m     68\u001b[0m         )\n\u001b[1;32m     69\u001b[0m \u001b[0;34m\u001b[0m\u001b[0m\n",
      "\u001b[0;31mNotImplementedError\u001b[0m: All the args are expected to be instances of the same factor class."
     ]
    }
   ],
   "source": [
    "self = hmm_chain\n",
    "model = hmm\n",
    "for var in self.variables:\n",
    "    print(var)\n",
    "    other_vars = [v for v in self.variables if var != v]\n",
    "    print(other_vars)\n",
    "    other_cards = [self.cardinalities[v[0]] for v in other_vars]\n",
    "    print(other_cards)\n",
    "    cpds = [cpd for cpd in model.cpds if var in cpd.scope()]\n",
    "    print(cpds)\n",
    "    prod_cpd = factor_product(*cpds)\n",
    "    print(prod_cpd)\n",
    "    kernel = {}\n",
    "    scope = set(prod_cpd.scope())"
   ]
  },
  {
   "cell_type": "code",
   "execution_count": 31,
   "metadata": {},
   "outputs": [
    {
     "name": "stdout",
     "output_type": "stream",
     "text": [
      "intel\n",
      "sat\n"
     ]
    }
   ],
   "source": [
    "self = gibbs_chain\n",
    "for var in self.variables:\n",
    "    print(var)"
   ]
  },
  {
   "cell_type": "markdown",
   "metadata": {},
   "source": [
    "### Bayesian Model Comparison"
   ]
  },
  {
   "cell_type": "code",
   "execution_count": 30,
   "metadata": {},
   "outputs": [],
   "source": [
    "from pgmpy.factors.discrete import TabularCPD\n",
    "from pgmpy.models import BayesianModel\n",
    "from pgmpy.sampling import GibbsSampling\n",
    "intel_cpd = TabularCPD('intel', 2, [[0.7], [0.3]])\n",
    "sat_cpd = TabularCPD('sat', 2, [[0.95, 0.2], [0.05, 0.8]], evidence=['intel'], evidence_card=[2])\n",
    "student = BayesianModel()\n",
    "student.add_nodes_from(['intel', 'sat'])\n",
    "student.add_edge('intel', 'sat')\n",
    "student.add_cpds(intel_cpd, sat_cpd)\n",
    "\n",
    "\n",
    "gibbs_chain = GibbsSampling(student)\n",
    "# gibbs_chain.sample(size=1000)"
   ]
  },
  {
   "cell_type": "code",
   "execution_count": 35,
   "metadata": {},
   "outputs": [
    {
     "data": {
      "text/plain": [
       "dict"
      ]
     },
     "execution_count": 35,
     "metadata": {},
     "output_type": "execute_result"
    }
   ],
   "source": [
    "type(gibbs_chain.transition_models)"
   ]
  },
  {
   "cell_type": "code",
   "execution_count": 27,
   "metadata": {},
   "outputs": [
    {
     "name": "stdout",
     "output_type": "stream",
     "text": [
      "['intel' 'sat']\n",
      "{'intel': 2, 'sat': 2}\n"
     ]
    }
   ],
   "source": [
    "model = student\n",
    "b_variables = np.array(model.nodes())\n",
    "b_cardinalities = {\n",
    "    var: model.get_cpds(var).variable_card for var in b_variables\n",
    "}\n",
    "\n",
    "print(b_variables)\n",
    "print(b_cardinalities)"
   ]
  },
  {
   "cell_type": "code",
   "execution_count": 28,
   "metadata": {},
   "outputs": [
    {
     "name": "stdout",
     "output_type": "stream",
     "text": [
      "+----------+--------------+\n",
      "| intel    |   phi(intel) |\n",
      "+==========+==============+\n",
      "| intel(0) |       0.6650 |\n",
      "+----------+--------------+\n",
      "| intel(1) |       0.0600 |\n",
      "+----------+--------------+\n",
      "+----------+--------------+\n",
      "| intel    |   phi(intel) |\n",
      "+==========+==============+\n",
      "| intel(0) |       0.0350 |\n",
      "+----------+--------------+\n",
      "| intel(1) |       0.2400 |\n",
      "+----------+--------------+\n",
      "+--------+------------+\n",
      "| sat    |   phi(sat) |\n",
      "+========+============+\n",
      "| sat(0) |     0.9500 |\n",
      "+--------+------------+\n",
      "| sat(1) |     0.0500 |\n",
      "+--------+------------+\n",
      "+--------+------------+\n",
      "| sat    |   phi(sat) |\n",
      "+========+============+\n",
      "| sat(0) |     0.2000 |\n",
      "+--------+------------+\n",
      "| sat(1) |     0.8000 |\n",
      "+--------+------------+\n"
     ]
    }
   ],
   "source": [
    "State = namedtuple(\"State\", [\"var\", \"state\"])\n",
    "b_transition_models = {}\n",
    "for var in b_variables:\n",
    "    # all other vars eg intel\n",
    "    other_vars = [v for v in b_variables if var != v]\n",
    "    # all other cards eg [2]\n",
    "    other_cards = [b_cardinalities[v] for v in other_vars]\n",
    "    # cpds where var is in scope\n",
    "    cpds = [cpd for cpd in model.cpds if var in cpd.scope()]\n",
    "    prod_cpd = factor_product(*cpds)\n",
    "#     print(prod_cpd)\n",
    "    kernel = {}\n",
    "    scope = set(prod_cpd.scope()) #{'intel', 'sat'}\n",
    "#     print(scope)\n",
    "    for tup in itertools.product(*[range(card) for card in other_cards]):\n",
    "#         print(tup) #iterating through other cardinalities? (0,) / (1,)\n",
    "        states = [State(v, s) for v, s in zip(other_vars, tup) if v in scope] # [State(var='sat', state=0)] eg.\n",
    "#         print(states)\n",
    "        prod_cpd_reduced = prod_cpd.to_factor().reduce(states, inplace=False) # separates all of the columns\n",
    "        print(prod_cpd_reduced)\n",
    "        kernel[tup] = prod_cpd_reduced.values / sum(prod_cpd_reduced.values)\n",
    "    b_transition_models[var] = kernel"
   ]
  },
  {
   "cell_type": "code",
   "execution_count": 29,
   "metadata": {},
   "outputs": [
    {
     "data": {
      "text/plain": [
       "{'intel': {(0,): array([0.91724138, 0.08275862]),\n",
       "  (1,): array([0.12727273, 0.87272727])},\n",
       " 'sat': {(0,): array([0.95, 0.05]), (1,): array([0.2, 0.8])}}"
      ]
     },
     "execution_count": 29,
     "metadata": {},
     "output_type": "execute_result"
    }
   ],
   "source": [
    "b_transition_models"
   ]
  },
  {
   "cell_type": "code",
   "execution_count": 36,
   "metadata": {},
   "outputs": [
    {
     "name": "stdout",
     "output_type": "stream",
     "text": [
      "T\n"
     ]
    },
    {
     "data": {
      "text/plain": [
       "[State(var='intel', state=1), State(var='sat', state=0)]"
      ]
     },
     "execution_count": 36,
     "metadata": {},
     "output_type": "execute_result"
    }
   ],
   "source": [
    "self = gibbs_chain\n",
    "if self.state is None:\n",
    "    print(\"T\")\n",
    "    self.state = self.random_state()\n",
    "elif start_state is not None:\n",
    "    print(\"yikes\")\n",
    "    self.set_start_state(start_state)\n",
    "self.state"
   ]
  },
  {
   "cell_type": "code",
   "execution_count": 44,
   "metadata": {},
   "outputs": [
    {
     "name": "stdout",
     "output_type": "stream",
     "text": [
      "[('intel', 'int'), ('sat', 'int')]\n",
      "[(0, 0) (0, 0) (0, 0)]\n",
      "[(1, 0) (0, 0) (0, 0)]\n"
     ]
    }
   ],
   "source": [
    "size = 3\n",
    "types = [(var_name, \"int\") for var_name in self.variables]\n",
    "print(types) # [('intel', 'int'), ('sat', 'int')]\n",
    "sampled = np.zeros(size, dtype=types).view(np.recarray)\n",
    "print(sampled) # [(0, 0) (0, 0) (0, 0)]\n",
    "sampled[0] = tuple(st for var, st in self.state)\n",
    "print(sampled) #[(1, 0) (0, 0) (0, 0)]"
   ]
  },
  {
   "cell_type": "code",
   "execution_count": 51,
   "metadata": {},
   "outputs": [
    {
     "name": "stdout",
     "output_type": "stream",
     "text": [
      "0\n",
      "j  0\n",
      "(var, st)  ('intel', 1)\n",
      "(0,)\n",
      "0\n",
      "[State(var='intel', state=0), State(var='sat', state=0)]\n",
      "j  1\n",
      "(var, st)  ('sat', 0)\n",
      "(0,)\n",
      "0\n",
      "[State(var='intel', state=0), State(var='sat', state=0)]\n",
      "1\n",
      "j  0\n",
      "(var, st)  ('intel', 0)\n",
      "(0,)\n",
      "1\n",
      "[State(var='intel', state=1), State(var='sat', state=0)]\n",
      "j  1\n",
      "(var, st)  ('sat', 0)\n",
      "(1,)\n",
      "1\n",
      "[State(var='intel', state=1), State(var='sat', state=1)]\n"
     ]
    }
   ],
   "source": [
    "for i in range(size - 1):\n",
    "    print(i) # 0, 1\n",
    "    for j, (var, st) in enumerate(self.state):\n",
    "        print(\"j \", j) #0, 1, 0, 1\n",
    "        print(\"(var, st) \", (var, st)) #('intel', 1), ('sat', 0), ('intel', 1), ('sat', 0)\n",
    "        other_st = tuple(st for v, st in self.state if var != v)\n",
    "        print(other_st) # (0,), (1,)\n",
    "        next_st = sample_discrete(\n",
    "            list(range(self.cardinalities[var])),\n",
    "            self.transition_models[var][other_st],\n",
    "            seed=None,\n",
    "        )[0]\n",
    "        print(next_st)\n",
    "        self.state[j] = State(var, next_st)\n",
    "        print(self.state)\n",
    "#     sampled[i + 1] = tuple(st for var, st in self.state)"
   ]
  },
  {
   "cell_type": "code",
   "execution_count": 179,
   "metadata": {},
   "outputs": [],
   "source": [
    "hmm = BayesianModel()\n",
    "hmm.add_nodes_from(['t1', 't2', 't3', 't4', 't5'])\n",
    "hmm.add_nodes_from(['h1', 'h2', 'h3', 'h4', 'h5'])\n",
    "# transitions\n",
    "hmm.add_edge('h1', 'h2')\n",
    "hmm.add_edge('h2', 'h3')\n",
    "hmm.add_edge('h3', 'h4')\n",
    "hmm.add_edge('h4', 'h5')\n",
    "# emissions\n",
    "hmm.add_edge('h1', 't1')\n",
    "hmm.add_edge('h2', 't2')\n",
    "hmm.add_edge('h3', 't3')\n",
    "hmm.add_edge('h4', 't4')\n",
    "hmm.add_edge('h5', 't5')"
   ]
  },
  {
   "cell_type": "code",
   "execution_count": 180,
   "metadata": {},
   "outputs": [],
   "source": [
    "p_init = hmm_training_spec['model_parameter_constraints']['initial_state_constraints']\n",
    "p_init = np.array(p_init).reshape((3, 1))\n",
    "initial_cpd = TabularCPD('h1', 3, p_init)"
   ]
  },
  {
   "cell_type": "code",
   "execution_count": 181,
   "metadata": {},
   "outputs": [
    {
     "data": {
      "text/plain": [
       "[<TabularCPD representing P(h1:3) at 0x7f34dda481d0>]"
      ]
     },
     "execution_count": 181,
     "metadata": {},
     "output_type": "execute_result"
    }
   ],
   "source": [
    "hmm.add_cpds(initial_cpd)\n",
    "hmm.get_cpds()"
   ]
  },
  {
   "cell_type": "code",
   "execution_count": 182,
   "metadata": {},
   "outputs": [
    {
     "data": {
      "text/plain": [
       "array([[0.98442657, 0.01557343, 0.        ],\n",
       "       [0.        , 0.98579456, 0.01420544],\n",
       "       [0.01527483, 0.        , 0.98472517]])"
      ]
     },
     "execution_count": 182,
     "metadata": {},
     "output_type": "execute_result"
    }
   ],
   "source": [
    "p_transition = hmm_training_spec['model_parameter_constraints']['transition_constraints']\n",
    "p_transition"
   ]
  },
  {
   "cell_type": "code",
   "execution_count": 183,
   "metadata": {},
   "outputs": [
    {
     "data": {
      "text/plain": [
       "[<TabularCPD representing P(h1:3) at 0x7f34dda481d0>,\n",
       " <TabularCPD representing P(h2:3 | h1:3) at 0x7f34a0f5ad68>,\n",
       " <TabularCPD representing P(h3:3 | h2:3) at 0x7f34a0f5a240>,\n",
       " <TabularCPD representing P(h4:3 | h3:3) at 0x7f34a0eff470>,\n",
       " <TabularCPD representing P(h5:3 | h4:3) at 0x7f34a0effcc0>]"
      ]
     },
     "execution_count": 183,
     "metadata": {},
     "output_type": "execute_result"
    }
   ],
   "source": [
    "# sat_cpd = TabularCPD('sat', 2, [[0.95, 0.2], [0.05, 0.8]], evidence=['intel'], evidence_card=[2])\n",
    "h2_cpd = TabularCPD('h2', 3, p_transition, evidence=['h1'], evidence_card=[3])\n",
    "h3_cpd = TabularCPD('h3', 3, p_transition, evidence=['h2'], evidence_card=[3])\n",
    "h4_cpd = TabularCPD('h4', 3, p_transition, evidence=['h3'], evidence_card=[3])\n",
    "h5_cpd = TabularCPD('h5', 3, p_transition, evidence=['h4'], evidence_card=[3])\n",
    "hmm.add_cpds(h2_cpd, h3_cpd, h4_cpd, h5_cpd)\n",
    "hmm.get_cpds()"
   ]
  },
  {
   "cell_type": "code",
   "execution_count": 184,
   "metadata": {},
   "outputs": [
    {
     "data": {
      "text/plain": [
       "[<TabularCPD representing P(h1:3) at 0x7f34dda481d0>,\n",
       " <TabularCPD representing P(h2:3 | h1:3) at 0x7f34a0f5ad68>,\n",
       " <TabularCPD representing P(h3:3 | h2:3) at 0x7f34a0f5a240>,\n",
       " <TabularCPD representing P(h4:3 | h3:3) at 0x7f34a0eff470>,\n",
       " <TabularCPD representing P(h5:3 | h4:3) at 0x7f34a0effcc0>,\n",
       " <TabularCPD representing P(t1:6 | h1:3) at 0x7f34dda26ef0>,\n",
       " <TabularCPD representing P(t2:6 | h2:3) at 0x7f34dda26780>,\n",
       " <TabularCPD representing P(t3:6 | h3:3) at 0x7f34dda26668>,\n",
       " <TabularCPD representing P(t4:6 | h4:3) at 0x7f34dda26a20>,\n",
       " <TabularCPD representing P(t5:6 | h5:3) at 0x7f34dda26c88>]"
      ]
     },
     "execution_count": 184,
     "metadata": {},
     "output_type": "execute_result"
    }
   ],
   "source": [
    "emission = np.exp(np.array(model.categorical_model.log_emission_matrix))\n",
    "t1_cpd = TabularCPD('t1', 6, emission, evidence=['h1'], evidence_card=[3])\n",
    "t2_cpd = TabularCPD('t2', 6, emission, evidence=['h2'], evidence_card=[3])\n",
    "t3_cpd = TabularCPD('t3', 6, emission, evidence=['h3'], evidence_card=[3])\n",
    "t4_cpd = TabularCPD('t4', 6, emission, evidence=['h4'], evidence_card=[3])\n",
    "t5_cpd = TabularCPD('t5', 6, emission, evidence=['h5'], evidence_card=[3])\n",
    "hmm.add_cpds(t1_cpd, t2_cpd, t3_cpd, t4_cpd, t5_cpd)\n",
    "hmm.get_cpds()"
   ]
  },
  {
   "cell_type": "code",
   "execution_count": 186,
   "metadata": {},
   "outputs": [
    {
     "data": {
      "text/plain": [
       "True"
      ]
     },
     "execution_count": 186,
     "metadata": {},
     "output_type": "execute_result"
    }
   ],
   "source": [
    "hmm.check_model()"
   ]
  },
  {
   "cell_type": "code",
   "execution_count": 69,
   "metadata": {},
   "outputs": [
    {
     "data": {
      "text/plain": [
       "NodeView(('intel', 'sat'))"
      ]
     },
     "execution_count": 69,
     "metadata": {},
     "output_type": "execute_result"
    }
   ],
   "source": [
    "student.nodes"
   ]
  },
  {
   "cell_type": "code",
   "execution_count": 86,
   "metadata": {},
   "outputs": [
    {
     "name": "stdout",
     "output_type": "stream",
     "text": [
      "t1\n",
      "6\n",
      "t2\n",
      "6\n",
      "t3\n",
      "6\n",
      "t4\n",
      "6\n",
      "t5\n",
      "6\n",
      "h1\n",
      "3\n",
      "h2\n",
      "3\n",
      "h3\n",
      "3\n",
      "h4\n",
      "3\n",
      "h5\n",
      "3\n"
     ]
    }
   ],
   "source": [
    "for node in hmm.nodes:\n",
    "    print(node)\n",
    "    try:\n",
    "        print(hmm.get_cpds(node).variable_card)\n",
    "    except: print(\" \")"
   ]
  },
  {
   "cell_type": "code",
   "execution_count": null,
   "metadata": {},
   "outputs": [],
   "source": []
  }
 ],
 "metadata": {
  "kernelspec": {
   "display_name": "Python 3",
   "language": "python",
   "name": "python3"
  },
  "language_info": {
   "codemirror_mode": {
    "name": "ipython",
    "version": 3
   },
   "file_extension": ".py",
   "mimetype": "text/x-python",
   "name": "python",
   "nbconvert_exporter": "python",
   "pygments_lexer": "ipython3",
   "version": "3.7.3"
  }
 },
 "nbformat": 4,
 "nbformat_minor": 2
}
