{
 "cells": [
  {
   "cell_type": "code",
   "execution_count": 3,
   "metadata": {},
   "outputs": [
    {
     "name": "stderr",
     "output_type": "stream",
     "text": [
      "WARNING:root:Replacing existing CPD for ('Z', 1)\n",
      "Eliminating: ('Z', 1): 100%|██████████| 1/1 [00:00<00:00, 96.47it/s]\n"
     ]
    }
   ],
   "source": [
    "from pgmpy.factors.discrete import TabularCPD\n",
    "from pgmpy.models import DynamicBayesianNetwork as DBN\n",
    "from pgmpy.inference import DBNInference\n",
    "dbnet = DBN()\n",
    "dbnet.add_edges_from([(('Z', 0), ('X', 0)), (('X', 0), ('Y', 0)),\n",
    "                      (('Z', 0), ('Z', 1))])\n",
    "z_start_cpd = TabularCPD(('Z', 0), 2, [[0.5], [0.5]])\n",
    "x_i_cpd = TabularCPD(('X', 0), 2, [[0.6, 0.9],\n",
    "                                   [0.4, 0.1]],\n",
    "                     evidence=[('Z', 0)],\n",
    "                     evidence_card=[2])\n",
    "y_i_cpd = TabularCPD(('Y', 0), 2, [[0.2, 0.3],\n",
    "                                   [0.8, 0.7]],\n",
    "                     evidence=[('X', 0)],\n",
    "                     evidence_card=[2])\n",
    "z_trans_cpd = TabularCPD(('Z', 1), 2, [[0.4, 0.7],\n",
    "                                       [0.6, 0.3]],\n",
    "                     evidence=[('Z', 0)],\n",
    "                     evidence_card=[2])\n",
    "dbnet.add_cpds(z_start_cpd, z_trans_cpd, x_i_cpd, y_i_cpd)\n",
    "dbnet.initialize_initial_state()\n",
    "dbn_inf = DBNInference(dbnet)\n",
    "forward = dbn_inf.forward_inference([('X', 2)], {('Y', 0):1, ('Y', 1):0, ('Y', 2):1})\n",
    "\n",
    "# dbn_inf.start_junction_tree.nodes()\n",
    "# NodeView(((('X', 0), ('Y', 0)), (('X', 0), ('Z', 0))))\n",
    "# dbn_inf.one_and_half_junction_tree.nodes()\n",
    "# NodeView(((('Z', 1), ('Z', 0)), (('Y', 1), ('X', 1)), (('Z', 1), ('X', 1))))"
   ]
  },
  {
   "cell_type": "code",
   "execution_count": 4,
   "metadata": {},
   "outputs": [
    {
     "data": {
      "text/plain": [
       "array([0.76738736, 0.23261264])"
      ]
     },
     "execution_count": 4,
     "metadata": {},
     "output_type": "execute_result"
    }
   ],
   "source": [
    "forward[('X', 2)].values\n",
    "# array([0.76738736, 0.23261264])"
   ]
  },
  {
   "cell_type": "code",
   "execution_count": 5,
   "metadata": {},
   "outputs": [
    {
     "name": "stderr",
     "output_type": "stream",
     "text": [
      "WARNING:root:Replacing existing CPD for ('Z', 1)\n"
     ]
    }
   ],
   "source": [
    "dbnet = DBN()\n",
    "dbnet.add_edges_from([(('Z', 0), ('X', 0)), (('X', 0), ('Y', 0)),\n",
    "                      (('Z', 0), ('Z', 1))])\n",
    "z_start_cpd = TabularCPD(('Z', 0), 2, [[0.5], [0.5]])\n",
    "x_i_cpd = TabularCPD(('X', 0), 2, [[0.6, 0.9],\n",
    "                                   [0.4, 0.1]],\n",
    "                     evidence=[('Z', 0)],\n",
    "                     evidence_card=[2])\n",
    "y_i_cpd = TabularCPD(('Y', 0), 2, [[0.2, 0.3],\n",
    "                                   [0.8, 0.7]],\n",
    "                     evidence=[('X', 0)],\n",
    "                     evidence_card=[2])\n",
    "z_trans_cpd = TabularCPD(('Z', 1), 2, [[0.4, 0.7],\n",
    "                                       [0.6, 0.3]],\n",
    "                     evidence=[('Z', 0)],\n",
    "                     evidence_card=[2])\n",
    "dbnet.add_cpds(z_start_cpd, z_trans_cpd, x_i_cpd, y_i_cpd)\n",
    "dbnet.initialize_initial_state()\n",
    "dbn_inf = DBNInference(dbnet)"
   ]
  },
  {
   "cell_type": "code",
   "execution_count": 6,
   "metadata": {},
   "outputs": [],
   "source": [
    "from collections import defaultdict\n",
    "from itertools import tee, chain, combinations\n",
    "\n",
    "from pgmpy.factors.discrete import DiscreteFactor\n",
    "from pgmpy.factors import factor_product\n",
    "from pgmpy.inference import Inference, BeliefPropagation\n"
   ]
  },
  {
   "cell_type": "code",
   "execution_count": 7,
   "metadata": {},
   "outputs": [
    {
     "name": "stdout",
     "output_type": "stream",
     "text": [
      "defaultdict(<class 'list'>, {2: [('X', 2)]})\n"
     ]
    }
   ],
   "source": [
    "variables = [('X', 2)]\n",
    "evidence = {('Y', 0):1, ('Y', 1):0, ('Y', 2):1}\n",
    "variable_dict = defaultdict(list)\n",
    "for var in variables:\n",
    "    variable_dict[var[1]].append(var)\n",
    "print(variable_dict)"
   ]
  },
  {
   "cell_type": "code",
   "execution_count": 8,
   "metadata": {},
   "outputs": [
    {
     "name": "stdout",
     "output_type": "stream",
     "text": [
      "2\n",
      "2\n",
      "2\n"
     ]
    }
   ],
   "source": [
    "time_range = max(variable_dict)\n",
    "print(time_range)\n",
    "if evidence:\n",
    "    evid_time_range = max([time_slice for var, time_slice in evidence.keys()])\n",
    "    time_range = max(time_range, evid_time_range)\n",
    "print(evid_time_range)\n",
    "print(time_range)"
   ]
  },
  {
   "cell_type": "code",
   "execution_count": 11,
   "metadata": {},
   "outputs": [
    {
     "name": "stdout",
     "output_type": "stream",
     "text": [
      "{('Y', 0): 1}\n"
     ]
    }
   ],
   "source": [
    "self = dbn_inf\n",
    "start_bp = BeliefPropagation(self.start_junction_tree)\n",
    "mid_bp = BeliefPropagation(self.one_and_half_junction_tree)\n",
    "evidence_0 = self._get_evidence(evidence, 0, 0)\n",
    "interface_nodes_dict = {}\n",
    "potential_dict = {}\n",
    "print(evidence_0)"
   ]
  },
  {
   "cell_type": "code",
   "execution_count": null,
   "metadata": {},
   "outputs": [],
   "source": []
  },
  {
   "cell_type": "code",
   "execution_count": 12,
   "metadata": {},
   "outputs": [
    {
     "name": "stdout",
     "output_type": "stream",
     "text": [
      "+-------------+-------------+--------------------------+\n",
      "| ('X', 0)    | ('Z', 0)    |   phi(('X', 0),('Z', 0)) |\n",
      "+=============+=============+==========================+\n",
      "| ('X', 0)(0) | ('Z', 0)(0) |                   0.2400 |\n",
      "+-------------+-------------+--------------------------+\n",
      "| ('X', 0)(0) | ('Z', 0)(1) |                   0.3600 |\n",
      "+-------------+-------------+--------------------------+\n",
      "| ('X', 0)(1) | ('Z', 0)(0) |                   0.1400 |\n",
      "+-------------+-------------+--------------------------+\n",
      "| ('X', 0)(1) | ('Z', 0)(1) |                   0.0350 |\n",
      "+-------------+-------------+--------------------------+\n"
     ]
    }
   ],
   "source": [
    "if evidence:\n",
    "    interface_nodes_dict = {\n",
    "        k: v for k, v in evidence_0.items() if k in self.interface_nodes_0\n",
    "    }\n",
    "initial_factor = self._get_factor(start_bp, evidence_0)\n",
    "print(initial_factor)"
   ]
  },
  {
   "cell_type": "code",
   "execution_count": null,
   "metadata": {},
   "outputs": [],
   "source": []
  }
 ],
 "metadata": {
  "kernelspec": {
   "display_name": "Python 3",
   "language": "python",
   "name": "python3"
  },
  "language_info": {
   "codemirror_mode": {
    "name": "ipython",
    "version": 3
   },
   "file_extension": ".py",
   "mimetype": "text/x-python",
   "name": "python",
   "nbconvert_exporter": "python",
   "pygments_lexer": "ipython3",
   "version": "3.7.3"
  }
 },
 "nbformat": 4,
 "nbformat_minor": 2
}
