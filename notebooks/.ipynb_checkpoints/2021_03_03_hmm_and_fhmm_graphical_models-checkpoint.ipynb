{
 "cells": [
  {
   "cell_type": "code",
   "execution_count": 1,
   "metadata": {},
   "outputs": [
    {
     "name": "stderr",
     "output_type": "stream",
     "text": [
      "/opt/conda/lib/python3.7/site-packages/torch/cuda/__init__.py:52: UserWarning: CUDA initialization: Found no NVIDIA driver on your system. Please check that you have an NVIDIA GPU and installed a driver from http://www.nvidia.com/Download/index.aspx (Triggered internally at  /pytorch/c10/cuda/CUDAFunctions.cpp:100.)\n",
      "  return torch._C._cuda_getDeviceCount() > 0\n"
     ]
    }
   ],
   "source": [
    "import pandas as pd\n",
    "import numpy as np\n",
    "\n",
    "# Hela ML libraries \n",
    "from hela import hmm\n",
    "import hela.generation.hmm as hmm_gen\n",
    "\n",
    "# Viz libraries\n",
    "import altair as alt\n",
    "import hela.visualization.hmm as hmmplot \n",
    "import matplotlib.pyplot as plt\n",
    "from hela.visualization.hmm import TU_COLORS\n",
    "%matplotlib inline\n",
    "\n",
    "# Utility Libraries\n",
    "from datetime import datetime\n",
    "from dask.distributed import Client\n",
    "from scipy.special import logsumexp\n",
    "from scipy import stats\n",
    "import itertools\n",
    "\n",
    "# PGMPy\n",
    "from hela.hmm_graphical import DynamicBayesianNetwork as DBN\n",
    "from pgmpy.factors.discrete import TabularCPD\n"
   ]
  },
  {
   "cell_type": "markdown",
   "metadata": {},
   "source": [
    "### HMM Generative Model"
   ]
  },
  {
   "cell_type": "code",
   "execution_count": 2,
   "metadata": {},
   "outputs": [],
   "source": [
    "generative_model = hmm_gen.DiscreteHMMGenerativeModel(\n",
    "                                     n_hidden_states =3,\n",
    "                                     n_gaussian_features=1,\n",
    "                                    n_categorical_features = 2,\n",
    "                                     n_gmm_components = None)"
   ]
  },
  {
   "cell_type": "code",
   "execution_count": 3,
   "metadata": {},
   "outputs": [
    {
     "data": {
      "application/javascript": [
       "const spec = {\"config\": {\"view\": {\"width\": 400, \"height\": 300}, \"mark\": {\"tooltip\": null}}, \"vconcat\": [{\"mark\": {\"type\": \"tick\", \"opacity\": 1, \"size\": 300, \"thickness\": 2}, \"encoding\": {\"color\": {\"type\": \"nominal\", \"field\": \"hidden state\", \"legend\": {\"orient\": \"bottom\", \"title\": \"hidden states\"}, \"scale\": {\"scheme\": \"spectral\"}}, \"tooltip\": [{\"type\": \"temporal\", \"field\": \"time\"}, {\"type\": \"nominal\", \"field\": \"hidden state\"}], \"x\": {\"type\": \"temporal\", \"axis\": {\"title\": null}, \"field\": \"time\", \"scale\": {\"domain\": {\"selection\": \"selector001\"}}}, \"y\": {\"value\": 0}}, \"height\": 150, \"width\": 900}, {\"mark\": {\"type\": \"tick\", \"opacity\": 0, \"size\": 100.0, \"thickness\": 2}, \"encoding\": {\"x\": {\"type\": \"temporal\", \"axis\": {\"title\": null}, \"field\": \"time\", \"scale\": {\"domain\": {\"selection\": \"selector001\"}}}, \"y\": {\"value\": 0}}, \"height\": 25.0, \"selection\": {\"selector001\": {\"type\": \"interval\", \"encodings\": [\"x\"]}}, \"width\": 900}], \"data\": {\"name\": \"data-9df7ee83dcab775e1811b05879c8b8c8\"}, \"$schema\": \"https://vega.github.io/schema/vega-lite/v3.4.0.json\", \"datasets\": {\"data-9df7ee83dcab775e1811b05879c8b8c8\": [{\"time\": \"2020-08-01T00:00:00\", \"hidden state\": 1}, {\"time\": \"2020-08-02T00:00:00\", \"hidden state\": 1}, {\"time\": \"2020-08-03T00:00:00\", \"hidden state\": 1}, {\"time\": \"2020-08-04T00:00:00\", \"hidden state\": 1}, {\"time\": \"2020-08-05T00:00:00\", \"hidden state\": 1}, {\"time\": \"2020-08-06T00:00:00\", \"hidden state\": 1}, {\"time\": \"2020-08-07T00:00:00\", \"hidden state\": 1}, {\"time\": \"2020-08-08T00:00:00\", \"hidden state\": 1}, {\"time\": \"2020-08-09T00:00:00\", \"hidden state\": 1}, {\"time\": \"2020-08-10T00:00:00\", \"hidden state\": 1}, {\"time\": \"2020-08-11T00:00:00\", \"hidden state\": 1}, {\"time\": \"2020-08-12T00:00:00\", \"hidden state\": 1}, {\"time\": \"2020-08-13T00:00:00\", \"hidden state\": 1}, {\"time\": \"2020-08-14T00:00:00\", \"hidden state\": 1}, {\"time\": \"2020-08-15T00:00:00\", \"hidden state\": 1}, {\"time\": \"2020-08-16T00:00:00\", \"hidden state\": 1}, {\"time\": \"2020-08-17T00:00:00\", \"hidden state\": 1}, {\"time\": \"2020-08-18T00:00:00\", \"hidden state\": 1}, {\"time\": \"2020-08-19T00:00:00\", \"hidden state\": 1}, {\"time\": \"2020-08-20T00:00:00\", \"hidden state\": 1}, {\"time\": \"2020-08-21T00:00:00\", \"hidden state\": 1}, {\"time\": \"2020-08-22T00:00:00\", \"hidden state\": 2}, {\"time\": \"2020-08-23T00:00:00\", \"hidden state\": 2}, {\"time\": \"2020-08-24T00:00:00\", \"hidden state\": 2}, {\"time\": \"2020-08-25T00:00:00\", \"hidden state\": 2}, {\"time\": \"2020-08-26T00:00:00\", \"hidden state\": 2}, {\"time\": \"2020-08-27T00:00:00\", \"hidden state\": 2}, {\"time\": \"2020-08-28T00:00:00\", \"hidden state\": 2}, {\"time\": \"2020-08-29T00:00:00\", \"hidden state\": 2}, {\"time\": \"2020-08-30T00:00:00\", \"hidden state\": 2}, {\"time\": \"2020-08-31T00:00:00\", \"hidden state\": 2}, {\"time\": \"2020-09-01T00:00:00\", \"hidden state\": 2}, {\"time\": \"2020-09-02T00:00:00\", \"hidden state\": 2}, {\"time\": \"2020-09-03T00:00:00\", \"hidden state\": 2}, {\"time\": \"2020-09-04T00:00:00\", \"hidden state\": 2}, {\"time\": \"2020-09-05T00:00:00\", \"hidden state\": 2}, {\"time\": \"2020-09-06T00:00:00\", \"hidden state\": 2}, {\"time\": \"2020-09-07T00:00:00\", \"hidden state\": 2}, {\"time\": \"2020-09-08T00:00:00\", \"hidden state\": 2}, {\"time\": \"2020-09-09T00:00:00\", \"hidden state\": 2}, {\"time\": \"2020-09-10T00:00:00\", \"hidden state\": 2}, {\"time\": \"2020-09-11T00:00:00\", \"hidden state\": 2}, {\"time\": \"2020-09-12T00:00:00\", \"hidden state\": 2}, {\"time\": \"2020-09-13T00:00:00\", \"hidden state\": 2}, {\"time\": \"2020-09-14T00:00:00\", \"hidden state\": 2}, {\"time\": \"2020-09-15T00:00:00\", \"hidden state\": 2}, {\"time\": \"2020-09-16T00:00:00\", \"hidden state\": 2}, {\"time\": \"2020-09-17T00:00:00\", \"hidden state\": 2}, {\"time\": \"2020-09-18T00:00:00\", \"hidden state\": 2}, {\"time\": \"2020-09-19T00:00:00\", \"hidden state\": 2}, {\"time\": \"2020-09-20T00:00:00\", \"hidden state\": 2}, {\"time\": \"2020-09-21T00:00:00\", \"hidden state\": 2}, {\"time\": \"2020-09-22T00:00:00\", \"hidden state\": 2}, {\"time\": \"2020-09-23T00:00:00\", \"hidden state\": 2}, {\"time\": \"2020-09-24T00:00:00\", \"hidden state\": 2}, {\"time\": \"2020-09-25T00:00:00\", \"hidden state\": 2}, {\"time\": \"2020-09-26T00:00:00\", \"hidden state\": 2}, {\"time\": \"2020-09-27T00:00:00\", \"hidden state\": 2}, {\"time\": \"2020-09-28T00:00:00\", \"hidden state\": 2}, {\"time\": \"2020-09-29T00:00:00\", \"hidden state\": 2}, {\"time\": \"2020-09-30T00:00:00\", \"hidden state\": 2}, {\"time\": \"2020-10-01T00:00:00\", \"hidden state\": 2}, {\"time\": \"2020-10-02T00:00:00\", \"hidden state\": 2}, {\"time\": \"2020-10-03T00:00:00\", \"hidden state\": 2}, {\"time\": \"2020-10-04T00:00:00\", \"hidden state\": 2}, {\"time\": \"2020-10-05T00:00:00\", \"hidden state\": 2}, {\"time\": \"2020-10-06T00:00:00\", \"hidden state\": 2}, {\"time\": \"2020-10-07T00:00:00\", \"hidden state\": 2}, {\"time\": \"2020-10-08T00:00:00\", \"hidden state\": 0}, {\"time\": \"2020-10-09T00:00:00\", \"hidden state\": 0}, {\"time\": \"2020-10-10T00:00:00\", \"hidden state\": 0}, {\"time\": \"2020-10-11T00:00:00\", \"hidden state\": 0}, {\"time\": \"2020-10-12T00:00:00\", \"hidden state\": 0}, {\"time\": \"2020-10-13T00:00:00\", \"hidden state\": 0}, {\"time\": \"2020-10-14T00:00:00\", \"hidden state\": 0}, {\"time\": \"2020-10-15T00:00:00\", \"hidden state\": 0}, {\"time\": \"2020-10-16T00:00:00\", \"hidden state\": 0}, {\"time\": \"2020-10-17T00:00:00\", \"hidden state\": 0}, {\"time\": \"2020-10-18T00:00:00\", \"hidden state\": 0}, {\"time\": \"2020-10-19T00:00:00\", \"hidden state\": 0}, {\"time\": \"2020-10-20T00:00:00\", \"hidden state\": 0}, {\"time\": \"2020-10-21T00:00:00\", \"hidden state\": 0}, {\"time\": \"2020-10-22T00:00:00\", \"hidden state\": 0}, {\"time\": \"2020-10-23T00:00:00\", \"hidden state\": 0}, {\"time\": \"2020-10-24T00:00:00\", \"hidden state\": 0}, {\"time\": \"2020-10-25T00:00:00\", \"hidden state\": 0}, {\"time\": \"2020-10-26T00:00:00\", \"hidden state\": 0}, {\"time\": \"2020-10-27T00:00:00\", \"hidden state\": 0}, {\"time\": \"2020-10-28T00:00:00\", \"hidden state\": 0}, {\"time\": \"2020-10-29T00:00:00\", \"hidden state\": 0}, {\"time\": \"2020-10-30T00:00:00\", \"hidden state\": 0}, {\"time\": \"2020-10-31T00:00:00\", \"hidden state\": 0}, {\"time\": \"2020-11-01T00:00:00\", \"hidden state\": 0}, {\"time\": \"2020-11-02T00:00:00\", \"hidden state\": 0}, {\"time\": \"2020-11-03T00:00:00\", \"hidden state\": 0}, {\"time\": \"2020-11-04T00:00:00\", \"hidden state\": 0}, {\"time\": \"2020-11-05T00:00:00\", \"hidden state\": 0}, {\"time\": \"2020-11-06T00:00:00\", \"hidden state\": 0}, {\"time\": \"2020-11-07T00:00:00\", \"hidden state\": 0}, {\"time\": \"2020-11-08T00:00:00\", \"hidden state\": 0}, {\"time\": \"2020-11-09T00:00:00\", \"hidden state\": 0}, {\"time\": \"2020-11-10T00:00:00\", \"hidden state\": 0}, {\"time\": \"2020-11-11T00:00:00\", \"hidden state\": 0}, {\"time\": \"2020-11-12T00:00:00\", \"hidden state\": 0}, {\"time\": \"2020-11-13T00:00:00\", \"hidden state\": 0}, {\"time\": \"2020-11-14T00:00:00\", \"hidden state\": 0}, {\"time\": \"2020-11-15T00:00:00\", \"hidden state\": 0}, {\"time\": \"2020-11-16T00:00:00\", \"hidden state\": 0}, {\"time\": \"2020-11-17T00:00:00\", \"hidden state\": 0}, {\"time\": \"2020-11-18T00:00:00\", \"hidden state\": 0}, {\"time\": \"2020-11-19T00:00:00\", \"hidden state\": 0}, {\"time\": \"2020-11-20T00:00:00\", \"hidden state\": 0}, {\"time\": \"2020-11-21T00:00:00\", \"hidden state\": 0}, {\"time\": \"2020-11-22T00:00:00\", \"hidden state\": 0}, {\"time\": \"2020-11-23T00:00:00\", \"hidden state\": 0}, {\"time\": \"2020-11-24T00:00:00\", \"hidden state\": 0}, {\"time\": \"2020-11-25T00:00:00\", \"hidden state\": 0}, {\"time\": \"2020-11-26T00:00:00\", \"hidden state\": 0}, {\"time\": \"2020-11-27T00:00:00\", \"hidden state\": 1}, {\"time\": \"2020-11-28T00:00:00\", \"hidden state\": 1}, {\"time\": \"2020-11-29T00:00:00\", \"hidden state\": 1}, {\"time\": \"2020-11-30T00:00:00\", \"hidden state\": 1}, {\"time\": \"2020-12-01T00:00:00\", \"hidden state\": 1}, {\"time\": \"2020-12-02T00:00:00\", \"hidden state\": 1}, {\"time\": \"2020-12-03T00:00:00\", \"hidden state\": 1}, {\"time\": \"2020-12-04T00:00:00\", \"hidden state\": 1}, {\"time\": \"2020-12-05T00:00:00\", \"hidden state\": 1}, {\"time\": \"2020-12-06T00:00:00\", \"hidden state\": 1}, {\"time\": \"2020-12-07T00:00:00\", \"hidden state\": 1}, {\"time\": \"2020-12-08T00:00:00\", \"hidden state\": 1}, {\"time\": \"2020-12-09T00:00:00\", \"hidden state\": 1}, {\"time\": \"2020-12-10T00:00:00\", \"hidden state\": 1}, {\"time\": \"2020-12-11T00:00:00\", \"hidden state\": 1}, {\"time\": \"2020-12-12T00:00:00\", \"hidden state\": 1}, {\"time\": \"2020-12-13T00:00:00\", \"hidden state\": 1}, {\"time\": \"2020-12-14T00:00:00\", \"hidden state\": 1}, {\"time\": \"2020-12-15T00:00:00\", \"hidden state\": 1}, {\"time\": \"2020-12-16T00:00:00\", \"hidden state\": 1}, {\"time\": \"2020-12-17T00:00:00\", \"hidden state\": 1}, {\"time\": \"2020-12-18T00:00:00\", \"hidden state\": 1}, {\"time\": \"2020-12-19T00:00:00\", \"hidden state\": 1}, {\"time\": \"2020-12-20T00:00:00\", \"hidden state\": 1}, {\"time\": \"2020-12-21T00:00:00\", \"hidden state\": 1}, {\"time\": \"2020-12-22T00:00:00\", \"hidden state\": 1}, {\"time\": \"2020-12-23T00:00:00\", \"hidden state\": 1}, {\"time\": \"2020-12-24T00:00:00\", \"hidden state\": 1}, {\"time\": \"2020-12-25T00:00:00\", \"hidden state\": 1}, {\"time\": \"2020-12-26T00:00:00\", \"hidden state\": 1}, {\"time\": \"2020-12-27T00:00:00\", \"hidden state\": 1}, {\"time\": \"2020-12-28T00:00:00\", \"hidden state\": 1}, {\"time\": \"2020-12-29T00:00:00\", \"hidden state\": 1}, {\"time\": \"2020-12-30T00:00:00\", \"hidden state\": 1}, {\"time\": \"2020-12-31T00:00:00\", \"hidden state\": 1}, {\"time\": \"2021-01-01T00:00:00\", \"hidden state\": 1}, {\"time\": \"2021-01-02T00:00:00\", \"hidden state\": 1}, {\"time\": \"2021-01-03T00:00:00\", \"hidden state\": 1}, {\"time\": \"2021-01-04T00:00:00\", \"hidden state\": 1}, {\"time\": \"2021-01-05T00:00:00\", \"hidden state\": 1}, {\"time\": \"2021-01-06T00:00:00\", \"hidden state\": 1}, {\"time\": \"2021-01-07T00:00:00\", \"hidden state\": 1}, {\"time\": \"2021-01-08T00:00:00\", \"hidden state\": 1}, {\"time\": \"2021-01-09T00:00:00\", \"hidden state\": 1}, {\"time\": \"2021-01-10T00:00:00\", \"hidden state\": 1}, {\"time\": \"2021-01-11T00:00:00\", \"hidden state\": 1}, {\"time\": \"2021-01-12T00:00:00\", \"hidden state\": 1}, {\"time\": \"2021-01-13T00:00:00\", \"hidden state\": 1}, {\"time\": \"2021-01-14T00:00:00\", \"hidden state\": 1}, {\"time\": \"2021-01-15T00:00:00\", \"hidden state\": 1}, {\"time\": \"2021-01-16T00:00:00\", \"hidden state\": 1}, {\"time\": \"2021-01-17T00:00:00\", \"hidden state\": 1}, {\"time\": \"2021-01-18T00:00:00\", \"hidden state\": 1}, {\"time\": \"2021-01-19T00:00:00\", \"hidden state\": 1}, {\"time\": \"2021-01-20T00:00:00\", \"hidden state\": 1}, {\"time\": \"2021-01-21T00:00:00\", \"hidden state\": 1}, {\"time\": \"2021-01-22T00:00:00\", \"hidden state\": 1}, {\"time\": \"2021-01-23T00:00:00\", \"hidden state\": 1}, {\"time\": \"2021-01-24T00:00:00\", \"hidden state\": 1}, {\"time\": \"2021-01-25T00:00:00\", \"hidden state\": 1}, {\"time\": \"2021-01-26T00:00:00\", \"hidden state\": 1}, {\"time\": \"2021-01-27T00:00:00\", \"hidden state\": 2}, {\"time\": \"2021-01-28T00:00:00\", \"hidden state\": 2}, {\"time\": \"2021-01-29T00:00:00\", \"hidden state\": 2}, {\"time\": \"2021-01-30T00:00:00\", \"hidden state\": 2}, {\"time\": \"2021-01-31T00:00:00\", \"hidden state\": 2}, {\"time\": \"2021-02-01T00:00:00\", \"hidden state\": 2}, {\"time\": \"2021-02-02T00:00:00\", \"hidden state\": 2}, {\"time\": \"2021-02-03T00:00:00\", \"hidden state\": 2}, {\"time\": \"2021-02-04T00:00:00\", \"hidden state\": 2}, {\"time\": \"2021-02-05T00:00:00\", \"hidden state\": 2}, {\"time\": \"2021-02-06T00:00:00\", \"hidden state\": 2}, {\"time\": \"2021-02-07T00:00:00\", \"hidden state\": 2}, {\"time\": \"2021-02-08T00:00:00\", \"hidden state\": 2}, {\"time\": \"2021-02-09T00:00:00\", \"hidden state\": 2}, {\"time\": \"2021-02-10T00:00:00\", \"hidden state\": 2}, {\"time\": \"2021-02-11T00:00:00\", \"hidden state\": 2}, {\"time\": \"2021-02-12T00:00:00\", \"hidden state\": 2}, {\"time\": \"2021-02-13T00:00:00\", \"hidden state\": 2}, {\"time\": \"2021-02-14T00:00:00\", \"hidden state\": 2}, {\"time\": \"2021-02-15T00:00:00\", \"hidden state\": 2}, {\"time\": \"2021-02-16T00:00:00\", \"hidden state\": 2}, {\"time\": \"2021-02-17T00:00:00\", \"hidden state\": 2}, {\"time\": \"2021-02-18T00:00:00\", \"hidden state\": 2}, {\"time\": \"2021-02-19T00:00:00\", \"hidden state\": 2}, {\"time\": \"2021-02-20T00:00:00\", \"hidden state\": 2}, {\"time\": \"2021-02-21T00:00:00\", \"hidden state\": 2}, {\"time\": \"2021-02-22T00:00:00\", \"hidden state\": 2}, {\"time\": \"2021-02-23T00:00:00\", \"hidden state\": 2}, {\"time\": \"2021-02-24T00:00:00\", \"hidden state\": 2}, {\"time\": \"2021-02-25T00:00:00\", \"hidden state\": 2}, {\"time\": \"2021-02-26T00:00:00\", \"hidden state\": 2}, {\"time\": \"2021-02-27T00:00:00\", \"hidden state\": 2}, {\"time\": \"2021-02-28T00:00:00\", \"hidden state\": 2}, {\"time\": \"2021-03-01T00:00:00\", \"hidden state\": 2}, {\"time\": \"2021-03-02T00:00:00\", \"hidden state\": 2}, {\"time\": \"2021-03-03T00:00:00\", \"hidden state\": 2}, {\"time\": \"2021-03-04T00:00:00\", \"hidden state\": 2}, {\"time\": \"2021-03-05T00:00:00\", \"hidden state\": 2}, {\"time\": \"2021-03-06T00:00:00\", \"hidden state\": 2}, {\"time\": \"2021-03-07T00:00:00\", \"hidden state\": 2}, {\"time\": \"2021-03-08T00:00:00\", \"hidden state\": 2}, {\"time\": \"2021-03-09T00:00:00\", \"hidden state\": 2}, {\"time\": \"2021-03-10T00:00:00\", \"hidden state\": 2}, {\"time\": \"2021-03-11T00:00:00\", \"hidden state\": 2}, {\"time\": \"2021-03-12T00:00:00\", \"hidden state\": 2}, {\"time\": \"2021-03-13T00:00:00\", \"hidden state\": 2}, {\"time\": \"2021-03-14T00:00:00\", \"hidden state\": 2}, {\"time\": \"2021-03-15T00:00:00\", \"hidden state\": 2}, {\"time\": \"2021-03-16T00:00:00\", \"hidden state\": 2}, {\"time\": \"2021-03-17T00:00:00\", \"hidden state\": 2}, {\"time\": \"2021-03-18T00:00:00\", \"hidden state\": 2}, {\"time\": \"2021-03-19T00:00:00\", \"hidden state\": 2}, {\"time\": \"2021-03-20T00:00:00\", \"hidden state\": 2}, {\"time\": \"2021-03-21T00:00:00\", \"hidden state\": 2}, {\"time\": \"2021-03-22T00:00:00\", \"hidden state\": 2}, {\"time\": \"2021-03-23T00:00:00\", \"hidden state\": 2}, {\"time\": \"2021-03-24T00:00:00\", \"hidden state\": 2}, {\"time\": \"2021-03-25T00:00:00\", \"hidden state\": 2}, {\"time\": \"2021-03-26T00:00:00\", \"hidden state\": 2}, {\"time\": \"2021-03-27T00:00:00\", \"hidden state\": 2}, {\"time\": \"2021-03-28T00:00:00\", \"hidden state\": 2}, {\"time\": \"2021-03-29T00:00:00\", \"hidden state\": 2}, {\"time\": \"2021-03-30T00:00:00\", \"hidden state\": 2}, {\"time\": \"2021-03-31T00:00:00\", \"hidden state\": 2}, {\"time\": \"2021-04-01T00:00:00\", \"hidden state\": 2}, {\"time\": \"2021-04-02T00:00:00\", \"hidden state\": 2}, {\"time\": \"2021-04-03T00:00:00\", \"hidden state\": 2}, {\"time\": \"2021-04-04T00:00:00\", \"hidden state\": 2}, {\"time\": \"2021-04-05T00:00:00\", \"hidden state\": 2}, {\"time\": \"2021-04-06T00:00:00\", \"hidden state\": 2}, {\"time\": \"2021-04-07T00:00:00\", \"hidden state\": 2}, {\"time\": \"2021-04-08T00:00:00\", \"hidden state\": 2}, {\"time\": \"2021-04-09T00:00:00\", \"hidden state\": 2}, {\"time\": \"2021-04-10T00:00:00\", \"hidden state\": 0}, {\"time\": \"2021-04-11T00:00:00\", \"hidden state\": 0}, {\"time\": \"2021-04-12T00:00:00\", \"hidden state\": 0}, {\"time\": \"2021-04-13T00:00:00\", \"hidden state\": 0}, {\"time\": \"2021-04-14T00:00:00\", \"hidden state\": 0}, {\"time\": \"2021-04-15T00:00:00\", \"hidden state\": 0}, {\"time\": \"2021-04-16T00:00:00\", \"hidden state\": 0}, {\"time\": \"2021-04-17T00:00:00\", \"hidden state\": 0}, {\"time\": \"2021-04-18T00:00:00\", \"hidden state\": 0}, {\"time\": \"2021-04-19T00:00:00\", \"hidden state\": 0}, {\"time\": \"2021-04-20T00:00:00\", \"hidden state\": 0}, {\"time\": \"2021-04-21T00:00:00\", \"hidden state\": 0}, {\"time\": \"2021-04-22T00:00:00\", \"hidden state\": 0}, {\"time\": \"2021-04-23T00:00:00\", \"hidden state\": 0}, {\"time\": \"2021-04-24T00:00:00\", \"hidden state\": 0}, {\"time\": \"2021-04-25T00:00:00\", \"hidden state\": 0}, {\"time\": \"2021-04-26T00:00:00\", \"hidden state\": 0}, {\"time\": \"2021-04-27T00:00:00\", \"hidden state\": 0}, {\"time\": \"2021-04-28T00:00:00\", \"hidden state\": 0}, {\"time\": \"2021-04-29T00:00:00\", \"hidden state\": 0}, {\"time\": \"2021-04-30T00:00:00\", \"hidden state\": 0}, {\"time\": \"2021-05-01T00:00:00\", \"hidden state\": 0}, {\"time\": \"2021-05-02T00:00:00\", \"hidden state\": 0}, {\"time\": \"2021-05-03T00:00:00\", \"hidden state\": 0}, {\"time\": \"2021-05-04T00:00:00\", \"hidden state\": 0}, {\"time\": \"2021-05-05T00:00:00\", \"hidden state\": 0}, {\"time\": \"2021-05-06T00:00:00\", \"hidden state\": 0}, {\"time\": \"2021-05-07T00:00:00\", \"hidden state\": 0}, {\"time\": \"2021-05-08T00:00:00\", \"hidden state\": 0}, {\"time\": \"2021-05-09T00:00:00\", \"hidden state\": 0}, {\"time\": \"2021-05-10T00:00:00\", \"hidden state\": 0}, {\"time\": \"2021-05-11T00:00:00\", \"hidden state\": 0}, {\"time\": \"2021-05-12T00:00:00\", \"hidden state\": 0}, {\"time\": \"2021-05-13T00:00:00\", \"hidden state\": 0}, {\"time\": \"2021-05-14T00:00:00\", \"hidden state\": 0}, {\"time\": \"2021-05-15T00:00:00\", \"hidden state\": 0}, {\"time\": \"2021-05-16T00:00:00\", \"hidden state\": 0}, {\"time\": \"2021-05-17T00:00:00\", \"hidden state\": 0}, {\"time\": \"2021-05-18T00:00:00\", \"hidden state\": 0}, {\"time\": \"2021-05-19T00:00:00\", \"hidden state\": 0}, {\"time\": \"2021-05-20T00:00:00\", \"hidden state\": 0}, {\"time\": \"2021-05-21T00:00:00\", \"hidden state\": 0}, {\"time\": \"2021-05-22T00:00:00\", \"hidden state\": 0}, {\"time\": \"2021-05-23T00:00:00\", \"hidden state\": 0}, {\"time\": \"2021-05-24T00:00:00\", \"hidden state\": 0}, {\"time\": \"2021-05-25T00:00:00\", \"hidden state\": 0}, {\"time\": \"2021-05-26T00:00:00\", \"hidden state\": 0}, {\"time\": \"2021-05-27T00:00:00\", \"hidden state\": 0}, {\"time\": \"2021-05-28T00:00:00\", \"hidden state\": 0}, {\"time\": \"2021-05-29T00:00:00\", \"hidden state\": 0}, {\"time\": \"2021-05-30T00:00:00\", \"hidden state\": 0}, {\"time\": \"2021-05-31T00:00:00\", \"hidden state\": 0}, {\"time\": \"2021-06-01T00:00:00\", \"hidden state\": 0}, {\"time\": \"2021-06-02T00:00:00\", \"hidden state\": 0}, {\"time\": \"2021-06-03T00:00:00\", \"hidden state\": 0}, {\"time\": \"2021-06-04T00:00:00\", \"hidden state\": 0}, {\"time\": \"2021-06-05T00:00:00\", \"hidden state\": 0}, {\"time\": \"2021-06-06T00:00:00\", \"hidden state\": 0}, {\"time\": \"2021-06-07T00:00:00\", \"hidden state\": 0}, {\"time\": \"2021-06-08T00:00:00\", \"hidden state\": 0}, {\"time\": \"2021-06-09T00:00:00\", \"hidden state\": 0}, {\"time\": \"2021-06-10T00:00:00\", \"hidden state\": 0}, {\"time\": \"2021-06-11T00:00:00\", \"hidden state\": 0}, {\"time\": \"2021-06-12T00:00:00\", \"hidden state\": 0}, {\"time\": \"2021-06-13T00:00:00\", \"hidden state\": 0}, {\"time\": \"2021-06-14T00:00:00\", \"hidden state\": 0}, {\"time\": \"2021-06-15T00:00:00\", \"hidden state\": 0}, {\"time\": \"2021-06-16T00:00:00\", \"hidden state\": 0}, {\"time\": \"2021-06-17T00:00:00\", \"hidden state\": 0}, {\"time\": \"2021-06-18T00:00:00\", \"hidden state\": 0}, {\"time\": \"2021-06-19T00:00:00\", \"hidden state\": 0}, {\"time\": \"2021-06-20T00:00:00\", \"hidden state\": 0}, {\"time\": \"2021-06-21T00:00:00\", \"hidden state\": 0}, {\"time\": \"2021-06-22T00:00:00\", \"hidden state\": 0}, {\"time\": \"2021-06-23T00:00:00\", \"hidden state\": 0}, {\"time\": \"2021-06-24T00:00:00\", \"hidden state\": 0}, {\"time\": \"2021-06-25T00:00:00\", \"hidden state\": 0}, {\"time\": \"2021-06-26T00:00:00\", \"hidden state\": 0}, {\"time\": \"2021-06-27T00:00:00\", \"hidden state\": 0}, {\"time\": \"2021-06-28T00:00:00\", \"hidden state\": 0}, {\"time\": \"2021-06-29T00:00:00\", \"hidden state\": 0}, {\"time\": \"2021-06-30T00:00:00\", \"hidden state\": 0}, {\"time\": \"2021-07-01T00:00:00\", \"hidden state\": 0}, {\"time\": \"2021-07-02T00:00:00\", \"hidden state\": 0}, {\"time\": \"2021-07-03T00:00:00\", \"hidden state\": 0}, {\"time\": \"2021-07-04T00:00:00\", \"hidden state\": 0}, {\"time\": \"2021-07-05T00:00:00\", \"hidden state\": 0}, {\"time\": \"2021-07-06T00:00:00\", \"hidden state\": 0}, {\"time\": \"2021-07-07T00:00:00\", \"hidden state\": 0}, {\"time\": \"2021-07-08T00:00:00\", \"hidden state\": 0}, {\"time\": \"2021-07-09T00:00:00\", \"hidden state\": 0}, {\"time\": \"2021-07-10T00:00:00\", \"hidden state\": 0}, {\"time\": \"2021-07-11T00:00:00\", \"hidden state\": 0}, {\"time\": \"2021-07-12T00:00:00\", \"hidden state\": 0}, {\"time\": \"2021-07-13T00:00:00\", \"hidden state\": 0}, {\"time\": \"2021-07-14T00:00:00\", \"hidden state\": 0}, {\"time\": \"2021-07-15T00:00:00\", \"hidden state\": 0}, {\"time\": \"2021-07-16T00:00:00\", \"hidden state\": 0}, {\"time\": \"2021-07-17T00:00:00\", \"hidden state\": 0}, {\"time\": \"2021-07-18T00:00:00\", \"hidden state\": 0}, {\"time\": \"2021-07-19T00:00:00\", \"hidden state\": 0}, {\"time\": \"2021-07-20T00:00:00\", \"hidden state\": 0}, {\"time\": \"2021-07-21T00:00:00\", \"hidden state\": 0}, {\"time\": \"2021-07-22T00:00:00\", \"hidden state\": 0}, {\"time\": \"2021-07-23T00:00:00\", \"hidden state\": 0}, {\"time\": \"2021-07-24T00:00:00\", \"hidden state\": 0}, {\"time\": \"2021-07-25T00:00:00\", \"hidden state\": 0}, {\"time\": \"2021-07-26T00:00:00\", \"hidden state\": 0}, {\"time\": \"2021-07-27T00:00:00\", \"hidden state\": 0}, {\"time\": \"2021-07-28T00:00:00\", \"hidden state\": 0}, {\"time\": \"2021-07-29T00:00:00\", \"hidden state\": 0}, {\"time\": \"2021-07-30T00:00:00\", \"hidden state\": 0}, {\"time\": \"2021-07-31T00:00:00\", \"hidden state\": 0}, {\"time\": \"2021-08-01T00:00:00\", \"hidden state\": 0}, {\"time\": \"2021-08-02T00:00:00\", \"hidden state\": 0}, {\"time\": \"2021-08-03T00:00:00\", \"hidden state\": 0}, {\"time\": \"2021-08-04T00:00:00\", \"hidden state\": 0}, {\"time\": \"2021-08-05T00:00:00\", \"hidden state\": 0}, {\"time\": \"2021-08-06T00:00:00\", \"hidden state\": 0}, {\"time\": \"2021-08-07T00:00:00\", \"hidden state\": 0}, {\"time\": \"2021-08-08T00:00:00\", \"hidden state\": 0}, {\"time\": \"2021-08-09T00:00:00\", \"hidden state\": 0}, {\"time\": \"2021-08-10T00:00:00\", \"hidden state\": 0}, {\"time\": \"2021-08-11T00:00:00\", \"hidden state\": 0}, {\"time\": \"2021-08-12T00:00:00\", \"hidden state\": 0}, {\"time\": \"2021-08-13T00:00:00\", \"hidden state\": 0}, {\"time\": \"2021-08-14T00:00:00\", \"hidden state\": 0}, {\"time\": \"2021-08-15T00:00:00\", \"hidden state\": 0}, {\"time\": \"2021-08-16T00:00:00\", \"hidden state\": 0}, {\"time\": \"2021-08-17T00:00:00\", \"hidden state\": 0}, {\"time\": \"2021-08-18T00:00:00\", \"hidden state\": 0}, {\"time\": \"2021-08-19T00:00:00\", \"hidden state\": 0}, {\"time\": \"2021-08-20T00:00:00\", \"hidden state\": 0}, {\"time\": \"2021-08-21T00:00:00\", \"hidden state\": 0}, {\"time\": \"2021-08-22T00:00:00\", \"hidden state\": 0}, {\"time\": \"2021-08-23T00:00:00\", \"hidden state\": 0}, {\"time\": \"2021-08-24T00:00:00\", \"hidden state\": 0}, {\"time\": \"2021-08-25T00:00:00\", \"hidden state\": 0}, {\"time\": \"2021-08-26T00:00:00\", \"hidden state\": 1}, {\"time\": \"2021-08-27T00:00:00\", \"hidden state\": 1}, {\"time\": \"2021-08-28T00:00:00\", \"hidden state\": 1}, {\"time\": \"2021-08-29T00:00:00\", \"hidden state\": 1}, {\"time\": \"2021-08-30T00:00:00\", \"hidden state\": 1}, {\"time\": \"2021-08-31T00:00:00\", \"hidden state\": 2}, {\"time\": \"2021-09-01T00:00:00\", \"hidden state\": 2}, {\"time\": \"2021-09-02T00:00:00\", \"hidden state\": 2}, {\"time\": \"2021-09-03T00:00:00\", \"hidden state\": 2}, {\"time\": \"2021-09-04T00:00:00\", \"hidden state\": 2}, {\"time\": \"2021-09-05T00:00:00\", \"hidden state\": 2}, {\"time\": \"2021-09-06T00:00:00\", \"hidden state\": 2}, {\"time\": \"2021-09-07T00:00:00\", \"hidden state\": 2}, {\"time\": \"2021-09-08T00:00:00\", \"hidden state\": 2}, {\"time\": \"2021-09-09T00:00:00\", \"hidden state\": 2}, {\"time\": \"2021-09-10T00:00:00\", \"hidden state\": 2}, {\"time\": \"2021-09-11T00:00:00\", \"hidden state\": 2}, {\"time\": \"2021-09-12T00:00:00\", \"hidden state\": 2}, {\"time\": \"2021-09-13T00:00:00\", \"hidden state\": 2}, {\"time\": \"2021-09-14T00:00:00\", \"hidden state\": 2}, {\"time\": \"2021-09-15T00:00:00\", \"hidden state\": 2}, {\"time\": \"2021-09-16T00:00:00\", \"hidden state\": 2}, {\"time\": \"2021-09-17T00:00:00\", \"hidden state\": 2}, {\"time\": \"2021-09-18T00:00:00\", \"hidden state\": 2}, {\"time\": \"2021-09-19T00:00:00\", \"hidden state\": 2}, {\"time\": \"2021-09-20T00:00:00\", \"hidden state\": 2}, {\"time\": \"2021-09-21T00:00:00\", \"hidden state\": 2}, {\"time\": \"2021-09-22T00:00:00\", \"hidden state\": 2}, {\"time\": \"2021-09-23T00:00:00\", \"hidden state\": 2}, {\"time\": \"2021-09-24T00:00:00\", \"hidden state\": 2}, {\"time\": \"2021-09-25T00:00:00\", \"hidden state\": 2}, {\"time\": \"2021-09-26T00:00:00\", \"hidden state\": 2}, {\"time\": \"2021-09-27T00:00:00\", \"hidden state\": 2}, {\"time\": \"2021-09-28T00:00:00\", \"hidden state\": 2}, {\"time\": \"2021-09-29T00:00:00\", \"hidden state\": 2}, {\"time\": \"2021-09-30T00:00:00\", \"hidden state\": 2}, {\"time\": \"2021-10-01T00:00:00\", \"hidden state\": 2}, {\"time\": \"2021-10-02T00:00:00\", \"hidden state\": 2}, {\"time\": \"2021-10-03T00:00:00\", \"hidden state\": 2}, {\"time\": \"2021-10-04T00:00:00\", \"hidden state\": 2}, {\"time\": \"2021-10-05T00:00:00\", \"hidden state\": 2}, {\"time\": \"2021-10-06T00:00:00\", \"hidden state\": 2}, {\"time\": \"2021-10-07T00:00:00\", \"hidden state\": 2}, {\"time\": \"2021-10-08T00:00:00\", \"hidden state\": 2}, {\"time\": \"2021-10-09T00:00:00\", \"hidden state\": 2}, {\"time\": \"2021-10-10T00:00:00\", \"hidden state\": 2}, {\"time\": \"2021-10-11T00:00:00\", \"hidden state\": 2}, {\"time\": \"2021-10-12T00:00:00\", \"hidden state\": 2}, {\"time\": \"2021-10-13T00:00:00\", \"hidden state\": 2}, {\"time\": \"2021-10-14T00:00:00\", \"hidden state\": 2}, {\"time\": \"2021-10-15T00:00:00\", \"hidden state\": 2}, {\"time\": \"2021-10-16T00:00:00\", \"hidden state\": 2}, {\"time\": \"2021-10-17T00:00:00\", \"hidden state\": 2}, {\"time\": \"2021-10-18T00:00:00\", \"hidden state\": 2}, {\"time\": \"2021-10-19T00:00:00\", \"hidden state\": 2}, {\"time\": \"2021-10-20T00:00:00\", \"hidden state\": 2}, {\"time\": \"2021-10-21T00:00:00\", \"hidden state\": 2}, {\"time\": \"2021-10-22T00:00:00\", \"hidden state\": 2}, {\"time\": \"2021-10-23T00:00:00\", \"hidden state\": 2}, {\"time\": \"2021-10-24T00:00:00\", \"hidden state\": 2}, {\"time\": \"2021-10-25T00:00:00\", \"hidden state\": 2}, {\"time\": \"2021-10-26T00:00:00\", \"hidden state\": 2}, {\"time\": \"2021-10-27T00:00:00\", \"hidden state\": 2}, {\"time\": \"2021-10-28T00:00:00\", \"hidden state\": 2}, {\"time\": \"2021-10-29T00:00:00\", \"hidden state\": 2}, {\"time\": \"2021-10-30T00:00:00\", \"hidden state\": 2}, {\"time\": \"2021-10-31T00:00:00\", \"hidden state\": 2}, {\"time\": \"2021-11-01T00:00:00\", \"hidden state\": 2}, {\"time\": \"2021-11-02T00:00:00\", \"hidden state\": 2}, {\"time\": \"2021-11-03T00:00:00\", \"hidden state\": 2}, {\"time\": \"2021-11-04T00:00:00\", \"hidden state\": 2}, {\"time\": \"2021-11-05T00:00:00\", \"hidden state\": 2}, {\"time\": \"2021-11-06T00:00:00\", \"hidden state\": 2}, {\"time\": \"2021-11-07T00:00:00\", \"hidden state\": 2}, {\"time\": \"2021-11-08T00:00:00\", \"hidden state\": 2}, {\"time\": \"2021-11-09T00:00:00\", \"hidden state\": 2}, {\"time\": \"2021-11-10T00:00:00\", \"hidden state\": 2}, {\"time\": \"2021-11-11T00:00:00\", \"hidden state\": 2}, {\"time\": \"2021-11-12T00:00:00\", \"hidden state\": 2}, {\"time\": \"2021-11-13T00:00:00\", \"hidden state\": 2}, {\"time\": \"2021-11-14T00:00:00\", \"hidden state\": 2}, {\"time\": \"2021-11-15T00:00:00\", \"hidden state\": 2}, {\"time\": \"2021-11-16T00:00:00\", \"hidden state\": 2}, {\"time\": \"2021-11-17T00:00:00\", \"hidden state\": 2}, {\"time\": \"2021-11-18T00:00:00\", \"hidden state\": 2}, {\"time\": \"2021-11-19T00:00:00\", \"hidden state\": 2}, {\"time\": \"2021-11-20T00:00:00\", \"hidden state\": 2}, {\"time\": \"2021-11-21T00:00:00\", \"hidden state\": 2}, {\"time\": \"2021-11-22T00:00:00\", \"hidden state\": 2}, {\"time\": \"2021-11-23T00:00:00\", \"hidden state\": 2}, {\"time\": \"2021-11-24T00:00:00\", \"hidden state\": 2}, {\"time\": \"2021-11-25T00:00:00\", \"hidden state\": 2}, {\"time\": \"2021-11-26T00:00:00\", \"hidden state\": 2}, {\"time\": \"2021-11-27T00:00:00\", \"hidden state\": 2}, {\"time\": \"2021-11-28T00:00:00\", \"hidden state\": 2}, {\"time\": \"2021-11-29T00:00:00\", \"hidden state\": 2}, {\"time\": \"2021-11-30T00:00:00\", \"hidden state\": 2}, {\"time\": \"2021-12-01T00:00:00\", \"hidden state\": 2}, {\"time\": \"2021-12-02T00:00:00\", \"hidden state\": 2}, {\"time\": \"2021-12-03T00:00:00\", \"hidden state\": 2}, {\"time\": \"2021-12-04T00:00:00\", \"hidden state\": 2}, {\"time\": \"2021-12-05T00:00:00\", \"hidden state\": 2}, {\"time\": \"2021-12-06T00:00:00\", \"hidden state\": 2}, {\"time\": \"2021-12-07T00:00:00\", \"hidden state\": 0}, {\"time\": \"2021-12-08T00:00:00\", \"hidden state\": 0}, {\"time\": \"2021-12-09T00:00:00\", \"hidden state\": 0}, {\"time\": \"2021-12-10T00:00:00\", \"hidden state\": 0}, {\"time\": \"2021-12-11T00:00:00\", \"hidden state\": 0}, {\"time\": \"2021-12-12T00:00:00\", \"hidden state\": 0}, {\"time\": \"2021-12-13T00:00:00\", \"hidden state\": 0}, {\"time\": \"2021-12-14T00:00:00\", \"hidden state\": 0}, {\"time\": \"2021-12-15T00:00:00\", \"hidden state\": 0}, {\"time\": \"2021-12-16T00:00:00\", \"hidden state\": 0}, {\"time\": \"2021-12-17T00:00:00\", \"hidden state\": 0}, {\"time\": \"2021-12-18T00:00:00\", \"hidden state\": 0}, {\"time\": \"2021-12-19T00:00:00\", \"hidden state\": 0}, {\"time\": \"2021-12-20T00:00:00\", \"hidden state\": 0}, {\"time\": \"2021-12-21T00:00:00\", \"hidden state\": 0}, {\"time\": \"2021-12-22T00:00:00\", \"hidden state\": 0}, {\"time\": \"2021-12-23T00:00:00\", \"hidden state\": 0}, {\"time\": \"2021-12-24T00:00:00\", \"hidden state\": 0}, {\"time\": \"2021-12-25T00:00:00\", \"hidden state\": 0}, {\"time\": \"2021-12-26T00:00:00\", \"hidden state\": 0}, {\"time\": \"2021-12-27T00:00:00\", \"hidden state\": 0}, {\"time\": \"2021-12-28T00:00:00\", \"hidden state\": 0}, {\"time\": \"2021-12-29T00:00:00\", \"hidden state\": 0}, {\"time\": \"2021-12-30T00:00:00\", \"hidden state\": 0}, {\"time\": \"2021-12-31T00:00:00\", \"hidden state\": 0}, {\"time\": \"2022-01-01T00:00:00\", \"hidden state\": 0}, {\"time\": \"2022-01-02T00:00:00\", \"hidden state\": 0}, {\"time\": \"2022-01-03T00:00:00\", \"hidden state\": 0}, {\"time\": \"2022-01-04T00:00:00\", \"hidden state\": 0}, {\"time\": \"2022-01-05T00:00:00\", \"hidden state\": 0}, {\"time\": \"2022-01-06T00:00:00\", \"hidden state\": 0}, {\"time\": \"2022-01-07T00:00:00\", \"hidden state\": 0}, {\"time\": \"2022-01-08T00:00:00\", \"hidden state\": 0}, {\"time\": \"2022-01-09T00:00:00\", \"hidden state\": 0}, {\"time\": \"2022-01-10T00:00:00\", \"hidden state\": 0}, {\"time\": \"2022-01-11T00:00:00\", \"hidden state\": 0}, {\"time\": \"2022-01-12T00:00:00\", \"hidden state\": 0}, {\"time\": \"2022-01-13T00:00:00\", \"hidden state\": 0}, {\"time\": \"2022-01-14T00:00:00\", \"hidden state\": 0}, {\"time\": \"2022-01-15T00:00:00\", \"hidden state\": 0}, {\"time\": \"2022-01-16T00:00:00\", \"hidden state\": 0}, {\"time\": \"2022-01-17T00:00:00\", \"hidden state\": 0}, {\"time\": \"2022-01-18T00:00:00\", \"hidden state\": 0}, {\"time\": \"2022-01-19T00:00:00\", \"hidden state\": 0}, {\"time\": \"2022-01-20T00:00:00\", \"hidden state\": 0}, {\"time\": \"2022-01-21T00:00:00\", \"hidden state\": 0}, {\"time\": \"2022-01-22T00:00:00\", \"hidden state\": 0}, {\"time\": \"2022-01-23T00:00:00\", \"hidden state\": 0}, {\"time\": \"2022-01-24T00:00:00\", \"hidden state\": 0}, {\"time\": \"2022-01-25T00:00:00\", \"hidden state\": 0}, {\"time\": \"2022-01-26T00:00:00\", \"hidden state\": 0}, {\"time\": \"2022-01-27T00:00:00\", \"hidden state\": 0}, {\"time\": \"2022-01-28T00:00:00\", \"hidden state\": 0}, {\"time\": \"2022-01-29T00:00:00\", \"hidden state\": 0}, {\"time\": \"2022-01-30T00:00:00\", \"hidden state\": 0}, {\"time\": \"2022-01-31T00:00:00\", \"hidden state\": 0}, {\"time\": \"2022-02-01T00:00:00\", \"hidden state\": 0}, {\"time\": \"2022-02-02T00:00:00\", \"hidden state\": 0}, {\"time\": \"2022-02-03T00:00:00\", \"hidden state\": 0}, {\"time\": \"2022-02-04T00:00:00\", \"hidden state\": 0}, {\"time\": \"2022-02-05T00:00:00\", \"hidden state\": 0}, {\"time\": \"2022-02-06T00:00:00\", \"hidden state\": 0}, {\"time\": \"2022-02-07T00:00:00\", \"hidden state\": 0}, {\"time\": \"2022-02-08T00:00:00\", \"hidden state\": 0}, {\"time\": \"2022-02-09T00:00:00\", \"hidden state\": 0}, {\"time\": \"2022-02-10T00:00:00\", \"hidden state\": 0}, {\"time\": \"2022-02-11T00:00:00\", \"hidden state\": 0}, {\"time\": \"2022-02-12T00:00:00\", \"hidden state\": 0}, {\"time\": \"2022-02-13T00:00:00\", \"hidden state\": 0}, {\"time\": \"2022-02-14T00:00:00\", \"hidden state\": 0}, {\"time\": \"2022-02-15T00:00:00\", \"hidden state\": 0}, {\"time\": \"2022-02-16T00:00:00\", \"hidden state\": 1}, {\"time\": \"2022-02-17T00:00:00\", \"hidden state\": 1}, {\"time\": \"2022-02-18T00:00:00\", \"hidden state\": 1}, {\"time\": \"2022-02-19T00:00:00\", \"hidden state\": 1}, {\"time\": \"2022-02-20T00:00:00\", \"hidden state\": 1}, {\"time\": \"2022-02-21T00:00:00\", \"hidden state\": 1}, {\"time\": \"2022-02-22T00:00:00\", \"hidden state\": 1}, {\"time\": \"2022-02-23T00:00:00\", \"hidden state\": 1}, {\"time\": \"2022-02-24T00:00:00\", \"hidden state\": 1}, {\"time\": \"2022-02-25T00:00:00\", \"hidden state\": 1}, {\"time\": \"2022-02-26T00:00:00\", \"hidden state\": 1}, {\"time\": \"2022-02-27T00:00:00\", \"hidden state\": 1}, {\"time\": \"2022-02-28T00:00:00\", \"hidden state\": 1}, {\"time\": \"2022-03-01T00:00:00\", \"hidden state\": 1}, {\"time\": \"2022-03-02T00:00:00\", \"hidden state\": 1}, {\"time\": \"2022-03-03T00:00:00\", \"hidden state\": 1}, {\"time\": \"2022-03-04T00:00:00\", \"hidden state\": 1}, {\"time\": \"2022-03-05T00:00:00\", \"hidden state\": 1}, {\"time\": \"2022-03-06T00:00:00\", \"hidden state\": 1}, {\"time\": \"2022-03-07T00:00:00\", \"hidden state\": 1}, {\"time\": \"2022-03-08T00:00:00\", \"hidden state\": 1}, {\"time\": \"2022-03-09T00:00:00\", \"hidden state\": 1}, {\"time\": \"2022-03-10T00:00:00\", \"hidden state\": 1}, {\"time\": \"2022-03-11T00:00:00\", \"hidden state\": 1}, {\"time\": \"2022-03-12T00:00:00\", \"hidden state\": 2}, {\"time\": \"2022-03-13T00:00:00\", \"hidden state\": 2}, {\"time\": \"2022-03-14T00:00:00\", \"hidden state\": 2}, {\"time\": \"2022-03-15T00:00:00\", \"hidden state\": 2}, {\"time\": \"2022-03-16T00:00:00\", \"hidden state\": 2}, {\"time\": \"2022-03-17T00:00:00\", \"hidden state\": 2}, {\"time\": \"2022-03-18T00:00:00\", \"hidden state\": 2}, {\"time\": \"2022-03-19T00:00:00\", \"hidden state\": 2}, {\"time\": \"2022-03-20T00:00:00\", \"hidden state\": 2}, {\"time\": \"2022-03-21T00:00:00\", \"hidden state\": 2}, {\"time\": \"2022-03-22T00:00:00\", \"hidden state\": 2}, {\"time\": \"2022-03-23T00:00:00\", \"hidden state\": 2}, {\"time\": \"2022-03-24T00:00:00\", \"hidden state\": 2}, {\"time\": \"2022-03-25T00:00:00\", \"hidden state\": 2}, {\"time\": \"2022-03-26T00:00:00\", \"hidden state\": 2}, {\"time\": \"2022-03-27T00:00:00\", \"hidden state\": 2}, {\"time\": \"2022-03-28T00:00:00\", \"hidden state\": 2}, {\"time\": \"2022-03-29T00:00:00\", \"hidden state\": 2}, {\"time\": \"2022-03-30T00:00:00\", \"hidden state\": 2}, {\"time\": \"2022-03-31T00:00:00\", \"hidden state\": 2}, {\"time\": \"2022-04-01T00:00:00\", \"hidden state\": 2}, {\"time\": \"2022-04-02T00:00:00\", \"hidden state\": 2}, {\"time\": \"2022-04-03T00:00:00\", \"hidden state\": 2}, {\"time\": \"2022-04-04T00:00:00\", \"hidden state\": 2}, {\"time\": \"2022-04-05T00:00:00\", \"hidden state\": 2}, {\"time\": \"2022-04-06T00:00:00\", \"hidden state\": 2}, {\"time\": \"2022-04-07T00:00:00\", \"hidden state\": 2}, {\"time\": \"2022-04-08T00:00:00\", \"hidden state\": 2}, {\"time\": \"2022-04-09T00:00:00\", \"hidden state\": 2}, {\"time\": \"2022-04-10T00:00:00\", \"hidden state\": 2}, {\"time\": \"2022-04-11T00:00:00\", \"hidden state\": 2}, {\"time\": \"2022-04-12T00:00:00\", \"hidden state\": 2}, {\"time\": \"2022-04-13T00:00:00\", \"hidden state\": 2}, {\"time\": \"2022-04-14T00:00:00\", \"hidden state\": 2}, {\"time\": \"2022-04-15T00:00:00\", \"hidden state\": 2}, {\"time\": \"2022-04-16T00:00:00\", \"hidden state\": 2}, {\"time\": \"2022-04-17T00:00:00\", \"hidden state\": 2}, {\"time\": \"2022-04-18T00:00:00\", \"hidden state\": 2}, {\"time\": \"2022-04-19T00:00:00\", \"hidden state\": 2}, {\"time\": \"2022-04-20T00:00:00\", \"hidden state\": 2}, {\"time\": \"2022-04-21T00:00:00\", \"hidden state\": 2}, {\"time\": \"2022-04-22T00:00:00\", \"hidden state\": 2}, {\"time\": \"2022-04-23T00:00:00\", \"hidden state\": 2}, {\"time\": \"2022-04-24T00:00:00\", \"hidden state\": 2}, {\"time\": \"2022-04-25T00:00:00\", \"hidden state\": 2}, {\"time\": \"2022-04-26T00:00:00\", \"hidden state\": 2}, {\"time\": \"2022-04-27T00:00:00\", \"hidden state\": 2}, {\"time\": \"2022-04-28T00:00:00\", \"hidden state\": 2}, {\"time\": \"2022-04-29T00:00:00\", \"hidden state\": 2}, {\"time\": \"2022-04-30T00:00:00\", \"hidden state\": 2}, {\"time\": \"2022-05-01T00:00:00\", \"hidden state\": 2}, {\"time\": \"2022-05-02T00:00:00\", \"hidden state\": 2}, {\"time\": \"2022-05-03T00:00:00\", \"hidden state\": 2}, {\"time\": \"2022-05-04T00:00:00\", \"hidden state\": 2}, {\"time\": \"2022-05-05T00:00:00\", \"hidden state\": 2}, {\"time\": \"2022-05-06T00:00:00\", \"hidden state\": 2}, {\"time\": \"2022-05-07T00:00:00\", \"hidden state\": 2}, {\"time\": \"2022-05-08T00:00:00\", \"hidden state\": 2}, {\"time\": \"2022-05-09T00:00:00\", \"hidden state\": 2}, {\"time\": \"2022-05-10T00:00:00\", \"hidden state\": 2}, {\"time\": \"2022-05-11T00:00:00\", \"hidden state\": 2}, {\"time\": \"2022-05-12T00:00:00\", \"hidden state\": 2}, {\"time\": \"2022-05-13T00:00:00\", \"hidden state\": 2}, {\"time\": \"2022-05-14T00:00:00\", \"hidden state\": 2}, {\"time\": \"2022-05-15T00:00:00\", \"hidden state\": 2}, {\"time\": \"2022-05-16T00:00:00\", \"hidden state\": 2}, {\"time\": \"2022-05-17T00:00:00\", \"hidden state\": 2}, {\"time\": \"2022-05-18T00:00:00\", \"hidden state\": 2}, {\"time\": \"2022-05-19T00:00:00\", \"hidden state\": 2}, {\"time\": \"2022-05-20T00:00:00\", \"hidden state\": 2}, {\"time\": \"2022-05-21T00:00:00\", \"hidden state\": 2}, {\"time\": \"2022-05-22T00:00:00\", \"hidden state\": 2}, {\"time\": \"2022-05-23T00:00:00\", \"hidden state\": 2}, {\"time\": \"2022-05-24T00:00:00\", \"hidden state\": 2}, {\"time\": \"2022-05-25T00:00:00\", \"hidden state\": 2}, {\"time\": \"2022-05-26T00:00:00\", \"hidden state\": 2}, {\"time\": \"2022-05-27T00:00:00\", \"hidden state\": 2}, {\"time\": \"2022-05-28T00:00:00\", \"hidden state\": 2}, {\"time\": \"2022-05-29T00:00:00\", \"hidden state\": 2}, {\"time\": \"2022-05-30T00:00:00\", \"hidden state\": 2}, {\"time\": \"2022-05-31T00:00:00\", \"hidden state\": 2}, {\"time\": \"2022-06-01T00:00:00\", \"hidden state\": 2}, {\"time\": \"2022-06-02T00:00:00\", \"hidden state\": 2}, {\"time\": \"2022-06-03T00:00:00\", \"hidden state\": 2}, {\"time\": \"2022-06-04T00:00:00\", \"hidden state\": 2}, {\"time\": \"2022-06-05T00:00:00\", \"hidden state\": 2}, {\"time\": \"2022-06-06T00:00:00\", \"hidden state\": 2}, {\"time\": \"2022-06-07T00:00:00\", \"hidden state\": 2}, {\"time\": \"2022-06-08T00:00:00\", \"hidden state\": 2}, {\"time\": \"2022-06-09T00:00:00\", \"hidden state\": 2}, {\"time\": \"2022-06-10T00:00:00\", \"hidden state\": 2}, {\"time\": \"2022-06-11T00:00:00\", \"hidden state\": 2}, {\"time\": \"2022-06-12T00:00:00\", \"hidden state\": 2}, {\"time\": \"2022-06-13T00:00:00\", \"hidden state\": 2}, {\"time\": \"2022-06-14T00:00:00\", \"hidden state\": 2}, {\"time\": \"2022-06-15T00:00:00\", \"hidden state\": 2}, {\"time\": \"2022-06-16T00:00:00\", \"hidden state\": 2}, {\"time\": \"2022-06-17T00:00:00\", \"hidden state\": 2}, {\"time\": \"2022-06-18T00:00:00\", \"hidden state\": 2}, {\"time\": \"2022-06-19T00:00:00\", \"hidden state\": 2}, {\"time\": \"2022-06-20T00:00:00\", \"hidden state\": 2}, {\"time\": \"2022-06-21T00:00:00\", \"hidden state\": 2}, {\"time\": \"2022-06-22T00:00:00\", \"hidden state\": 2}, {\"time\": \"2022-06-23T00:00:00\", \"hidden state\": 2}, {\"time\": \"2022-06-24T00:00:00\", \"hidden state\": 2}, {\"time\": \"2022-06-25T00:00:00\", \"hidden state\": 2}, {\"time\": \"2022-06-26T00:00:00\", \"hidden state\": 2}, {\"time\": \"2022-06-27T00:00:00\", \"hidden state\": 2}, {\"time\": \"2022-06-28T00:00:00\", \"hidden state\": 2}, {\"time\": \"2022-06-29T00:00:00\", \"hidden state\": 2}, {\"time\": \"2022-06-30T00:00:00\", \"hidden state\": 2}, {\"time\": \"2022-07-01T00:00:00\", \"hidden state\": 2}, {\"time\": \"2022-07-02T00:00:00\", \"hidden state\": 2}, {\"time\": \"2022-07-03T00:00:00\", \"hidden state\": 2}, {\"time\": \"2022-07-04T00:00:00\", \"hidden state\": 2}, {\"time\": \"2022-07-05T00:00:00\", \"hidden state\": 2}, {\"time\": \"2022-07-06T00:00:00\", \"hidden state\": 2}, {\"time\": \"2022-07-07T00:00:00\", \"hidden state\": 2}, {\"time\": \"2022-07-08T00:00:00\", \"hidden state\": 2}, {\"time\": \"2022-07-09T00:00:00\", \"hidden state\": 2}, {\"time\": \"2022-07-10T00:00:00\", \"hidden state\": 2}, {\"time\": \"2022-07-11T00:00:00\", \"hidden state\": 2}, {\"time\": \"2022-07-12T00:00:00\", \"hidden state\": 2}, {\"time\": \"2022-07-13T00:00:00\", \"hidden state\": 0}, {\"time\": \"2022-07-14T00:00:00\", \"hidden state\": 0}, {\"time\": \"2022-07-15T00:00:00\", \"hidden state\": 0}, {\"time\": \"2022-07-16T00:00:00\", \"hidden state\": 0}, {\"time\": \"2022-07-17T00:00:00\", \"hidden state\": 0}, {\"time\": \"2022-07-18T00:00:00\", \"hidden state\": 0}, {\"time\": \"2022-07-19T00:00:00\", \"hidden state\": 0}, {\"time\": \"2022-07-20T00:00:00\", \"hidden state\": 0}, {\"time\": \"2022-07-21T00:00:00\", \"hidden state\": 0}, {\"time\": \"2022-07-22T00:00:00\", \"hidden state\": 0}, {\"time\": \"2022-07-23T00:00:00\", \"hidden state\": 0}, {\"time\": \"2022-07-24T00:00:00\", \"hidden state\": 0}, {\"time\": \"2022-07-25T00:00:00\", \"hidden state\": 0}, {\"time\": \"2022-07-26T00:00:00\", \"hidden state\": 0}, {\"time\": \"2022-07-27T00:00:00\", \"hidden state\": 0}, {\"time\": \"2022-07-28T00:00:00\", \"hidden state\": 0}, {\"time\": \"2022-07-29T00:00:00\", \"hidden state\": 0}, {\"time\": \"2022-07-30T00:00:00\", \"hidden state\": 0}, {\"time\": \"2022-07-31T00:00:00\", \"hidden state\": 0}, {\"time\": \"2022-08-01T00:00:00\", \"hidden state\": 0}, {\"time\": \"2022-08-02T00:00:00\", \"hidden state\": 0}, {\"time\": \"2022-08-03T00:00:00\", \"hidden state\": 0}, {\"time\": \"2022-08-04T00:00:00\", \"hidden state\": 0}, {\"time\": \"2022-08-05T00:00:00\", \"hidden state\": 0}, {\"time\": \"2022-08-06T00:00:00\", \"hidden state\": 1}, {\"time\": \"2022-08-07T00:00:00\", \"hidden state\": 1}, {\"time\": \"2022-08-08T00:00:00\", \"hidden state\": 1}, {\"time\": \"2022-08-09T00:00:00\", \"hidden state\": 1}, {\"time\": \"2022-08-10T00:00:00\", \"hidden state\": 1}, {\"time\": \"2022-08-11T00:00:00\", \"hidden state\": 1}, {\"time\": \"2022-08-12T00:00:00\", \"hidden state\": 1}, {\"time\": \"2022-08-13T00:00:00\", \"hidden state\": 1}, {\"time\": \"2022-08-14T00:00:00\", \"hidden state\": 1}, {\"time\": \"2022-08-15T00:00:00\", \"hidden state\": 1}, {\"time\": \"2022-08-16T00:00:00\", \"hidden state\": 1}, {\"time\": \"2022-08-17T00:00:00\", \"hidden state\": 1}, {\"time\": \"2022-08-18T00:00:00\", \"hidden state\": 1}, {\"time\": \"2022-08-19T00:00:00\", \"hidden state\": 1}, {\"time\": \"2022-08-20T00:00:00\", \"hidden state\": 1}, {\"time\": \"2022-08-21T00:00:00\", \"hidden state\": 1}, {\"time\": \"2022-08-22T00:00:00\", \"hidden state\": 1}, {\"time\": \"2022-08-23T00:00:00\", \"hidden state\": 1}, {\"time\": \"2022-08-24T00:00:00\", \"hidden state\": 1}, {\"time\": \"2022-08-25T00:00:00\", \"hidden state\": 1}, {\"time\": \"2022-08-26T00:00:00\", \"hidden state\": 1}, {\"time\": \"2022-08-27T00:00:00\", \"hidden state\": 1}, {\"time\": \"2022-08-28T00:00:00\", \"hidden state\": 1}, {\"time\": \"2022-08-29T00:00:00\", \"hidden state\": 1}, {\"time\": \"2022-08-30T00:00:00\", \"hidden state\": 1}, {\"time\": \"2022-08-31T00:00:00\", \"hidden state\": 1}, {\"time\": \"2022-09-01T00:00:00\", \"hidden state\": 1}, {\"time\": \"2022-09-02T00:00:00\", \"hidden state\": 1}, {\"time\": \"2022-09-03T00:00:00\", \"hidden state\": 1}, {\"time\": \"2022-09-04T00:00:00\", \"hidden state\": 1}, {\"time\": \"2022-09-05T00:00:00\", \"hidden state\": 1}, {\"time\": \"2022-09-06T00:00:00\", \"hidden state\": 1}, {\"time\": \"2022-09-07T00:00:00\", \"hidden state\": 1}, {\"time\": \"2022-09-08T00:00:00\", \"hidden state\": 1}, {\"time\": \"2022-09-09T00:00:00\", \"hidden state\": 1}, {\"time\": \"2022-09-10T00:00:00\", \"hidden state\": 1}, {\"time\": \"2022-09-11T00:00:00\", \"hidden state\": 1}, {\"time\": \"2022-09-12T00:00:00\", \"hidden state\": 1}, {\"time\": \"2022-09-13T00:00:00\", \"hidden state\": 1}, {\"time\": \"2022-09-14T00:00:00\", \"hidden state\": 1}, {\"time\": \"2022-09-15T00:00:00\", \"hidden state\": 1}, {\"time\": \"2022-09-16T00:00:00\", \"hidden state\": 1}, {\"time\": \"2022-09-17T00:00:00\", \"hidden state\": 1}, {\"time\": \"2022-09-18T00:00:00\", \"hidden state\": 1}, {\"time\": \"2022-09-19T00:00:00\", \"hidden state\": 1}, {\"time\": \"2022-09-20T00:00:00\", \"hidden state\": 1}, {\"time\": \"2022-09-21T00:00:00\", \"hidden state\": 1}, {\"time\": \"2022-09-22T00:00:00\", \"hidden state\": 1}, {\"time\": \"2022-09-23T00:00:00\", \"hidden state\": 1}, {\"time\": \"2022-09-24T00:00:00\", \"hidden state\": 1}, {\"time\": \"2022-09-25T00:00:00\", \"hidden state\": 1}, {\"time\": \"2022-09-26T00:00:00\", \"hidden state\": 1}, {\"time\": \"2022-09-27T00:00:00\", \"hidden state\": 1}, {\"time\": \"2022-09-28T00:00:00\", \"hidden state\": 1}, {\"time\": \"2022-09-29T00:00:00\", \"hidden state\": 1}, {\"time\": \"2022-09-30T00:00:00\", \"hidden state\": 1}, {\"time\": \"2022-10-01T00:00:00\", \"hidden state\": 1}, {\"time\": \"2022-10-02T00:00:00\", \"hidden state\": 1}, {\"time\": \"2022-10-03T00:00:00\", \"hidden state\": 1}, {\"time\": \"2022-10-04T00:00:00\", \"hidden state\": 1}, {\"time\": \"2022-10-05T00:00:00\", \"hidden state\": 1}, {\"time\": \"2022-10-06T00:00:00\", \"hidden state\": 1}, {\"time\": \"2022-10-07T00:00:00\", \"hidden state\": 1}, {\"time\": \"2022-10-08T00:00:00\", \"hidden state\": 1}, {\"time\": \"2022-10-09T00:00:00\", \"hidden state\": 1}, {\"time\": \"2022-10-10T00:00:00\", \"hidden state\": 1}, {\"time\": \"2022-10-11T00:00:00\", \"hidden state\": 1}, {\"time\": \"2022-10-12T00:00:00\", \"hidden state\": 1}, {\"time\": \"2022-10-13T00:00:00\", \"hidden state\": 1}, {\"time\": \"2022-10-14T00:00:00\", \"hidden state\": 1}, {\"time\": \"2022-10-15T00:00:00\", \"hidden state\": 1}, {\"time\": \"2022-10-16T00:00:00\", \"hidden state\": 1}, {\"time\": \"2022-10-17T00:00:00\", \"hidden state\": 1}, {\"time\": \"2022-10-18T00:00:00\", \"hidden state\": 1}, {\"time\": \"2022-10-19T00:00:00\", \"hidden state\": 1}, {\"time\": \"2022-10-20T00:00:00\", \"hidden state\": 1}, {\"time\": \"2022-10-21T00:00:00\", \"hidden state\": 1}, {\"time\": \"2022-10-22T00:00:00\", \"hidden state\": 1}, {\"time\": \"2022-10-23T00:00:00\", \"hidden state\": 1}, {\"time\": \"2022-10-24T00:00:00\", \"hidden state\": 1}, {\"time\": \"2022-10-25T00:00:00\", \"hidden state\": 1}, {\"time\": \"2022-10-26T00:00:00\", \"hidden state\": 1}, {\"time\": \"2022-10-27T00:00:00\", \"hidden state\": 1}, {\"time\": \"2022-10-28T00:00:00\", \"hidden state\": 1}, {\"time\": \"2022-10-29T00:00:00\", \"hidden state\": 1}, {\"time\": \"2022-10-30T00:00:00\", \"hidden state\": 1}, {\"time\": \"2022-10-31T00:00:00\", \"hidden state\": 1}, {\"time\": \"2022-11-01T00:00:00\", \"hidden state\": 1}, {\"time\": \"2022-11-02T00:00:00\", \"hidden state\": 1}, {\"time\": \"2022-11-03T00:00:00\", \"hidden state\": 1}, {\"time\": \"2022-11-04T00:00:00\", \"hidden state\": 1}, {\"time\": \"2022-11-05T00:00:00\", \"hidden state\": 1}, {\"time\": \"2022-11-06T00:00:00\", \"hidden state\": 1}, {\"time\": \"2022-11-07T00:00:00\", \"hidden state\": 1}, {\"time\": \"2022-11-08T00:00:00\", \"hidden state\": 1}, {\"time\": \"2022-11-09T00:00:00\", \"hidden state\": 1}, {\"time\": \"2022-11-10T00:00:00\", \"hidden state\": 1}, {\"time\": \"2022-11-11T00:00:00\", \"hidden state\": 1}, {\"time\": \"2022-11-12T00:00:00\", \"hidden state\": 1}, {\"time\": \"2022-11-13T00:00:00\", \"hidden state\": 1}, {\"time\": \"2022-11-14T00:00:00\", \"hidden state\": 1}, {\"time\": \"2022-11-15T00:00:00\", \"hidden state\": 1}, {\"time\": \"2022-11-16T00:00:00\", \"hidden state\": 1}, {\"time\": \"2022-11-17T00:00:00\", \"hidden state\": 1}, {\"time\": \"2022-11-18T00:00:00\", \"hidden state\": 1}, {\"time\": \"2022-11-19T00:00:00\", \"hidden state\": 1}, {\"time\": \"2022-11-20T00:00:00\", \"hidden state\": 1}, {\"time\": \"2022-11-21T00:00:00\", \"hidden state\": 1}, {\"time\": \"2022-11-22T00:00:00\", \"hidden state\": 1}, {\"time\": \"2022-11-23T00:00:00\", \"hidden state\": 1}, {\"time\": \"2022-11-24T00:00:00\", \"hidden state\": 1}, {\"time\": \"2022-11-25T00:00:00\", \"hidden state\": 1}, {\"time\": \"2022-11-26T00:00:00\", \"hidden state\": 1}, {\"time\": \"2022-11-27T00:00:00\", \"hidden state\": 1}, {\"time\": \"2022-11-28T00:00:00\", \"hidden state\": 1}, {\"time\": \"2022-11-29T00:00:00\", \"hidden state\": 1}, {\"time\": \"2022-11-30T00:00:00\", \"hidden state\": 1}, {\"time\": \"2022-12-01T00:00:00\", \"hidden state\": 1}, {\"time\": \"2022-12-02T00:00:00\", \"hidden state\": 1}, {\"time\": \"2022-12-03T00:00:00\", \"hidden state\": 1}, {\"time\": \"2022-12-04T00:00:00\", \"hidden state\": 1}, {\"time\": \"2022-12-05T00:00:00\", \"hidden state\": 1}, {\"time\": \"2022-12-06T00:00:00\", \"hidden state\": 1}, {\"time\": \"2022-12-07T00:00:00\", \"hidden state\": 1}, {\"time\": \"2022-12-08T00:00:00\", \"hidden state\": 1}, {\"time\": \"2022-12-09T00:00:00\", \"hidden state\": 1}, {\"time\": \"2022-12-10T00:00:00\", \"hidden state\": 1}, {\"time\": \"2022-12-11T00:00:00\", \"hidden state\": 1}, {\"time\": \"2022-12-12T00:00:00\", \"hidden state\": 1}, {\"time\": \"2022-12-13T00:00:00\", \"hidden state\": 1}, {\"time\": \"2022-12-14T00:00:00\", \"hidden state\": 1}, {\"time\": \"2022-12-15T00:00:00\", \"hidden state\": 1}, {\"time\": \"2022-12-16T00:00:00\", \"hidden state\": 1}, {\"time\": \"2022-12-17T00:00:00\", \"hidden state\": 1}, {\"time\": \"2022-12-18T00:00:00\", \"hidden state\": 1}, {\"time\": \"2022-12-19T00:00:00\", \"hidden state\": 1}, {\"time\": \"2022-12-20T00:00:00\", \"hidden state\": 1}, {\"time\": \"2022-12-21T00:00:00\", \"hidden state\": 1}, {\"time\": \"2022-12-22T00:00:00\", \"hidden state\": 1}, {\"time\": \"2022-12-23T00:00:00\", \"hidden state\": 1}, {\"time\": \"2022-12-24T00:00:00\", \"hidden state\": 1}, {\"time\": \"2022-12-25T00:00:00\", \"hidden state\": 1}, {\"time\": \"2022-12-26T00:00:00\", \"hidden state\": 1}, {\"time\": \"2022-12-27T00:00:00\", \"hidden state\": 1}, {\"time\": \"2022-12-28T00:00:00\", \"hidden state\": 1}, {\"time\": \"2022-12-29T00:00:00\", \"hidden state\": 1}, {\"time\": \"2022-12-30T00:00:00\", \"hidden state\": 1}, {\"time\": \"2022-12-31T00:00:00\", \"hidden state\": 1}, {\"time\": \"2023-01-01T00:00:00\", \"hidden state\": 1}, {\"time\": \"2023-01-02T00:00:00\", \"hidden state\": 1}, {\"time\": \"2023-01-03T00:00:00\", \"hidden state\": 1}, {\"time\": \"2023-01-04T00:00:00\", \"hidden state\": 1}, {\"time\": \"2023-01-05T00:00:00\", \"hidden state\": 1}, {\"time\": \"2023-01-06T00:00:00\", \"hidden state\": 1}, {\"time\": \"2023-01-07T00:00:00\", \"hidden state\": 1}, {\"time\": \"2023-01-08T00:00:00\", \"hidden state\": 1}, {\"time\": \"2023-01-09T00:00:00\", \"hidden state\": 1}, {\"time\": \"2023-01-10T00:00:00\", \"hidden state\": 1}, {\"time\": \"2023-01-11T00:00:00\", \"hidden state\": 1}, {\"time\": \"2023-01-12T00:00:00\", \"hidden state\": 1}, {\"time\": \"2023-01-13T00:00:00\", \"hidden state\": 1}, {\"time\": \"2023-01-14T00:00:00\", \"hidden state\": 1}, {\"time\": \"2023-01-15T00:00:00\", \"hidden state\": 1}, {\"time\": \"2023-01-16T00:00:00\", \"hidden state\": 1}, {\"time\": \"2023-01-17T00:00:00\", \"hidden state\": 1}, {\"time\": \"2023-01-18T00:00:00\", \"hidden state\": 1}, {\"time\": \"2023-01-19T00:00:00\", \"hidden state\": 1}, {\"time\": \"2023-01-20T00:00:00\", \"hidden state\": 1}, {\"time\": \"2023-01-21T00:00:00\", \"hidden state\": 1}, {\"time\": \"2023-01-22T00:00:00\", \"hidden state\": 1}, {\"time\": \"2023-01-23T00:00:00\", \"hidden state\": 1}, {\"time\": \"2023-01-24T00:00:00\", \"hidden state\": 1}, {\"time\": \"2023-01-25T00:00:00\", \"hidden state\": 1}, {\"time\": \"2023-01-26T00:00:00\", \"hidden state\": 1}, {\"time\": \"2023-01-27T00:00:00\", \"hidden state\": 1}, {\"time\": \"2023-01-28T00:00:00\", \"hidden state\": 1}, {\"time\": \"2023-01-29T00:00:00\", \"hidden state\": 1}, {\"time\": \"2023-01-30T00:00:00\", \"hidden state\": 1}, {\"time\": \"2023-01-31T00:00:00\", \"hidden state\": 1}, {\"time\": \"2023-02-01T00:00:00\", \"hidden state\": 1}, {\"time\": \"2023-02-02T00:00:00\", \"hidden state\": 1}, {\"time\": \"2023-02-03T00:00:00\", \"hidden state\": 1}, {\"time\": \"2023-02-04T00:00:00\", \"hidden state\": 1}, {\"time\": \"2023-02-05T00:00:00\", \"hidden state\": 1}, {\"time\": \"2023-02-06T00:00:00\", \"hidden state\": 1}, {\"time\": \"2023-02-07T00:00:00\", \"hidden state\": 1}, {\"time\": \"2023-02-08T00:00:00\", \"hidden state\": 1}, {\"time\": \"2023-02-09T00:00:00\", \"hidden state\": 1}, {\"time\": \"2023-02-10T00:00:00\", \"hidden state\": 1}, {\"time\": \"2023-02-11T00:00:00\", \"hidden state\": 1}, {\"time\": \"2023-02-12T00:00:00\", \"hidden state\": 1}, {\"time\": \"2023-02-13T00:00:00\", \"hidden state\": 1}, {\"time\": \"2023-02-14T00:00:00\", \"hidden state\": 1}, {\"time\": \"2023-02-15T00:00:00\", \"hidden state\": 1}, {\"time\": \"2023-02-16T00:00:00\", \"hidden state\": 1}, {\"time\": \"2023-02-17T00:00:00\", \"hidden state\": 1}, {\"time\": \"2023-02-18T00:00:00\", \"hidden state\": 1}, {\"time\": \"2023-02-19T00:00:00\", \"hidden state\": 1}, {\"time\": \"2023-02-20T00:00:00\", \"hidden state\": 1}, {\"time\": \"2023-02-21T00:00:00\", \"hidden state\": 1}, {\"time\": \"2023-02-22T00:00:00\", \"hidden state\": 1}, {\"time\": \"2023-02-23T00:00:00\", \"hidden state\": 1}, {\"time\": \"2023-02-24T00:00:00\", \"hidden state\": 1}, {\"time\": \"2023-02-25T00:00:00\", \"hidden state\": 1}, {\"time\": \"2023-02-26T00:00:00\", \"hidden state\": 1}, {\"time\": \"2023-02-27T00:00:00\", \"hidden state\": 1}, {\"time\": \"2023-02-28T00:00:00\", \"hidden state\": 1}, {\"time\": \"2023-03-01T00:00:00\", \"hidden state\": 1}, {\"time\": \"2023-03-02T00:00:00\", \"hidden state\": 2}, {\"time\": \"2023-03-03T00:00:00\", \"hidden state\": 2}, {\"time\": \"2023-03-04T00:00:00\", \"hidden state\": 2}, {\"time\": \"2023-03-05T00:00:00\", \"hidden state\": 2}, {\"time\": \"2023-03-06T00:00:00\", \"hidden state\": 2}, {\"time\": \"2023-03-07T00:00:00\", \"hidden state\": 2}, {\"time\": \"2023-03-08T00:00:00\", \"hidden state\": 2}, {\"time\": \"2023-03-09T00:00:00\", \"hidden state\": 2}, {\"time\": \"2023-03-10T00:00:00\", \"hidden state\": 2}, {\"time\": \"2023-03-11T00:00:00\", \"hidden state\": 2}, {\"time\": \"2023-03-12T00:00:00\", \"hidden state\": 2}, {\"time\": \"2023-03-13T00:00:00\", \"hidden state\": 2}, {\"time\": \"2023-03-14T00:00:00\", \"hidden state\": 2}, {\"time\": \"2023-03-15T00:00:00\", \"hidden state\": 2}, {\"time\": \"2023-03-16T00:00:00\", \"hidden state\": 2}, {\"time\": \"2023-03-17T00:00:00\", \"hidden state\": 2}, {\"time\": \"2023-03-18T00:00:00\", \"hidden state\": 0}, {\"time\": \"2023-03-19T00:00:00\", \"hidden state\": 0}, {\"time\": \"2023-03-20T00:00:00\", \"hidden state\": 0}, {\"time\": \"2023-03-21T00:00:00\", \"hidden state\": 0}, {\"time\": \"2023-03-22T00:00:00\", \"hidden state\": 0}, {\"time\": \"2023-03-23T00:00:00\", \"hidden state\": 0}, {\"time\": \"2023-03-24T00:00:00\", \"hidden state\": 0}, {\"time\": \"2023-03-25T00:00:00\", \"hidden state\": 0}, {\"time\": \"2023-03-26T00:00:00\", \"hidden state\": 0}, {\"time\": \"2023-03-27T00:00:00\", \"hidden state\": 0}, {\"time\": \"2023-03-28T00:00:00\", \"hidden state\": 0}, {\"time\": \"2023-03-29T00:00:00\", \"hidden state\": 0}, {\"time\": \"2023-03-30T00:00:00\", \"hidden state\": 0}, {\"time\": \"2023-03-31T00:00:00\", \"hidden state\": 0}, {\"time\": \"2023-04-01T00:00:00\", \"hidden state\": 0}, {\"time\": \"2023-04-02T00:00:00\", \"hidden state\": 0}, {\"time\": \"2023-04-03T00:00:00\", \"hidden state\": 0}, {\"time\": \"2023-04-04T00:00:00\", \"hidden state\": 0}, {\"time\": \"2023-04-05T00:00:00\", \"hidden state\": 0}, {\"time\": \"2023-04-06T00:00:00\", \"hidden state\": 0}, {\"time\": \"2023-04-07T00:00:00\", \"hidden state\": 0}, {\"time\": \"2023-04-08T00:00:00\", \"hidden state\": 0}, {\"time\": \"2023-04-09T00:00:00\", \"hidden state\": 0}, {\"time\": \"2023-04-10T00:00:00\", \"hidden state\": 0}, {\"time\": \"2023-04-11T00:00:00\", \"hidden state\": 0}, {\"time\": \"2023-04-12T00:00:00\", \"hidden state\": 0}, {\"time\": \"2023-04-13T00:00:00\", \"hidden state\": 0}, {\"time\": \"2023-04-14T00:00:00\", \"hidden state\": 0}, {\"time\": \"2023-04-15T00:00:00\", \"hidden state\": 0}, {\"time\": \"2023-04-16T00:00:00\", \"hidden state\": 0}, {\"time\": \"2023-04-17T00:00:00\", \"hidden state\": 0}, {\"time\": \"2023-04-18T00:00:00\", \"hidden state\": 0}, {\"time\": \"2023-04-19T00:00:00\", \"hidden state\": 0}, {\"time\": \"2023-04-20T00:00:00\", \"hidden state\": 0}, {\"time\": \"2023-04-21T00:00:00\", \"hidden state\": 0}, {\"time\": \"2023-04-22T00:00:00\", \"hidden state\": 0}, {\"time\": \"2023-04-23T00:00:00\", \"hidden state\": 0}, {\"time\": \"2023-04-24T00:00:00\", \"hidden state\": 0}, {\"time\": \"2023-04-25T00:00:00\", \"hidden state\": 1}, {\"time\": \"2023-04-26T00:00:00\", \"hidden state\": 1}, {\"time\": \"2023-04-27T00:00:00\", \"hidden state\": 1}]}};\n",
       "const opt = {};\n",
       "const type = \"vega-lite\";\n",
       "const id = \"821d7e6b-583a-4275-a16c-a12b6bc4215c\";\n",
       "\n",
       "const output_area = this;\n",
       "\n",
       "require([\"nbextensions/jupyter-vega/index\"], function(vega) {\n",
       "  const target = document.createElement(\"div\");\n",
       "  target.id = id;\n",
       "  target.className = \"vega-embed\";\n",
       "\n",
       "  const style = document.createElement(\"style\");\n",
       "  style.textContent = [\n",
       "    \".vega-embed .error p {\",\n",
       "    \"  color: firebrick;\",\n",
       "    \"  font-size: 14px;\",\n",
       "    \"}\",\n",
       "  ].join(\"\\\\n\");\n",
       "\n",
       "  // element is a jQuery wrapped DOM element inside the output area\n",
       "  // see http://ipython.readthedocs.io/en/stable/api/generated/\\\n",
       "  // IPython.display.html#IPython.display.Javascript.__init__\n",
       "  element[0].appendChild(target);\n",
       "  element[0].appendChild(style);\n",
       "\n",
       "  vega.render(\"#\" + id, spec, type, opt, output_area);\n",
       "}, function (err) {\n",
       "  if (err.requireType !== \"scripterror\") {\n",
       "    throw(err);\n",
       "  }\n",
       "});\n"
      ],
      "text/plain": [
       "<vega.vegalite.VegaLite at 0x7f4fac5e7748>"
      ]
     },
     "metadata": {
      "jupyter-vega": "#821d7e6b-583a-4275-a16c-a12b6bc4215c"
     },
     "output_type": "display_data"
    },
    {
     "data": {
      "text/plain": []
     },
     "execution_count": 3,
     "metadata": {},
     "output_type": "execute_result"
    },
    {
     "data": {
      "image/png": "[encoded data removed]"
     },
     "metadata": {
      "jupyter-vega": "#821d7e6b-583a-4275-a16c-a12b6bc4215c"
     },
     "output_type": "display_data"
    }
   ],
   "source": [
    "hidden_states = generative_model.generate_hidden_state_sequence(n_observations = 1000)\n",
    "hmmplot.draw_states(hidden_states, hide_brush=False)"
   ]
  },
  {
   "cell_type": "code",
   "execution_count": 4,
   "metadata": {},
   "outputs": [
    {
     "data": {
      "text/html": [
       "<div>\n",
       "<style scoped>\n",
       "    .dataframe tbody tr th:only-of-type {\n",
       "        vertical-align: middle;\n",
       "    }\n",
       "\n",
       "    .dataframe tbody tr th {\n",
       "        vertical-align: top;\n",
       "    }\n",
       "\n",
       "    .dataframe thead th {\n",
       "        text-align: right;\n",
       "    }\n",
       "</style>\n",
       "<table border=\"1\" class=\"dataframe\">\n",
       "  <thead>\n",
       "    <tr style=\"text-align: right;\">\n",
       "      <th></th>\n",
       "      <th>categorical_feature_0</th>\n",
       "      <th>categorical_feature_1</th>\n",
       "      <th>gaussian_feature_0</th>\n",
       "    </tr>\n",
       "  </thead>\n",
       "  <tbody>\n",
       "    <tr>\n",
       "      <th>2020-08-01</th>\n",
       "      <td>0</td>\n",
       "      <td>0</td>\n",
       "      <td>-3.146506</td>\n",
       "    </tr>\n",
       "    <tr>\n",
       "      <th>2020-08-02</th>\n",
       "      <td>0</td>\n",
       "      <td>0</td>\n",
       "      <td>-2.920497</td>\n",
       "    </tr>\n",
       "    <tr>\n",
       "      <th>2020-08-03</th>\n",
       "      <td>1</td>\n",
       "      <td>0</td>\n",
       "      <td>-2.389016</td>\n",
       "    </tr>\n",
       "    <tr>\n",
       "      <th>2020-08-04</th>\n",
       "      <td>0</td>\n",
       "      <td>0</td>\n",
       "      <td>-1.754649</td>\n",
       "    </tr>\n",
       "    <tr>\n",
       "      <th>2020-08-05</th>\n",
       "      <td>0</td>\n",
       "      <td>0</td>\n",
       "      <td>-2.590890</td>\n",
       "    </tr>\n",
       "  </tbody>\n",
       "</table>\n",
       "</div>"
      ],
      "text/plain": [
       "            categorical_feature_0  categorical_feature_1  gaussian_feature_0\n",
       "2020-08-01                      0                      0           -3.146506\n",
       "2020-08-02                      0                      0           -2.920497\n",
       "2020-08-03                      1                      0           -2.389016\n",
       "2020-08-04                      0                      0           -1.754649\n",
       "2020-08-05                      0                      0           -2.590890"
      ]
     },
     "execution_count": 4,
     "metadata": {},
     "output_type": "execute_result"
    }
   ],
   "source": [
    "hmm_data = generative_model.generate_observations(hidden_states)\n",
    "hmm_data.head()"
   ]
  },
  {
   "cell_type": "code",
   "execution_count": 5,
   "metadata": {},
   "outputs": [],
   "source": [
    "hmm_training_spec = generative_model.generative_model_to_discrete_hmm_training_spec()"
   ]
  },
  {
   "cell_type": "code",
   "execution_count": 6,
   "metadata": {},
   "outputs": [],
   "source": [
    "model_config = hmm.DiscreteHMMConfiguration.from_spec(hmm_training_spec)"
   ]
  },
  {
   "cell_type": "code",
   "execution_count": 7,
   "metadata": {},
   "outputs": [],
   "source": [
    "hmm_model = model_config.to_model()\n"
   ]
  },
  {
   "cell_type": "code",
   "execution_count": 36,
   "metadata": {},
   "outputs": [
    {
     "name": "stdout",
     "output_type": "stream",
     "text": [
      "[[[ 2]]\n",
      "\n",
      " [[-2]]\n",
      "\n",
      " [[-3]]]\n"
     ]
    },
    {
     "data": {
      "text/plain": [
       "array([[[[0.06533073]]],\n",
       "\n",
       "\n",
       "       [[[0.39233808]]],\n",
       "\n",
       "\n",
       "       [[[1.68168963]]]])"
      ]
     },
     "execution_count": 36,
     "metadata": {},
     "output_type": "execute_result"
    }
   ],
   "source": [
    "print(hmm_model.gaussian_mixture_model.means)\n",
    "hmm_model.gaussian_mixture_model.covariances"
   ]
  },
  {
   "cell_type": "markdown",
   "metadata": {},
   "source": [
    "### PGMpy Structure of HMM with categorical data"
   ]
  },
  {
   "cell_type": "code",
   "execution_count": 8,
   "metadata": {},
   "outputs": [],
   "source": [
    "def generate_hmm_categorical_DBN(model):\n",
    "    \n",
    "    # Empty Dynamic Bayes Network\n",
    "    hmm_graph = DBN.DynamicBayesianNetwork()\n",
    "    \n",
    "    # Creates recursive HMM structure\n",
    "    hmm_graph.add_nodes_from([('hs', 0), ('hs', 1), ('obs', 0), ('obs', 1)], \n",
    "                             latent=[True, True, False, False])\n",
    "    \n",
    "    hmm_graph.add_edges_from([(('hs', 0), ('hs', 1)), # hs[t=0] -> hs[t=1]\n",
    "                        (('hs', 0), ('obs', 0)), # hs[t=0] -> obs[t=0]\n",
    "                       (('hs', 1), ('obs', 1))])  # hs[t=1] -> obs[t=1]\n",
    "    \n",
    "    emission = np.exp(np.array(model.categorical_model.log_emission_matrix))\n",
    "    transition_matrix = np.exp(model.log_transition)\n",
    "    initial_state = np.exp(model.log_initial_state).reshape((len(model.log_initial_state),1))\n",
    "    \n",
    "    emission_card = len(hmm_model.categorical_model.finite_values)\n",
    "    hidden_states_card = model.n_hidden_states\n",
    "    \n",
    "    transition_cpd = TabularCPD(('hs', 1), hidden_states_card, transition_matrix, \n",
    "                            evidence=[('hs', 0)], evidence_card=[hidden_states_card])\n",
    "\n",
    "    emission0_cpd = TabularCPD(('obs', 0), emission_card, emission, \n",
    "                              evidence=[('hs', 0)], evidence_card=[hidden_states_card])\n",
    "\n",
    "    emission1_cpd = TabularCPD(('obs', 1), emission_card, emission, \n",
    "                              evidence=[('hs', 1)], evidence_card=[hidden_states_card])\n",
    "\n",
    "    initial_cpd = TabularCPD(('hs', 0), hidden_states_card, initial_state)\n",
    "\n",
    "    hmm_graph.add_cpds(transition_cpd, emission0_cpd, emission1_cpd, initial_cpd)\n",
    "    \n",
    "    return hmm_graph"
   ]
  },
  {
   "cell_type": "code",
   "execution_count": 9,
   "metadata": {},
   "outputs": [],
   "source": [
    "hmm_graph = generate_hmm_categorical_DBN(hmm_model)"
   ]
  },
  {
   "cell_type": "code",
   "execution_count": 10,
   "metadata": {},
   "outputs": [
    {
     "name": "stdout",
     "output_type": "stream",
     "text": [
      "latent status for node hs at time step 0:  {'latent': True}\n",
      "latent status for node hs at time step 1:  {'latent': True}\n",
      "latent status for node obs at time step 0:  {'latent': False}\n",
      "latent status for node obs at time step 1:  {'latent': False}\n"
     ]
    }
   ],
   "source": [
    "for node in hmm_graph.nodes:\n",
    "    print(\"latent status for node {} at time step {}: \".format(node[0], node[1]), \n",
    "          hmm_graph.nodes[node])"
   ]
  },
  {
   "cell_type": "code",
   "execution_count": 11,
   "metadata": {},
   "outputs": [
    {
     "data": {
      "text/plain": [
       "OutEdgeView([(('hs', 0), ('hs', 1)), (('hs', 0), ('obs', 0)), (('hs', 1), ('obs', 1))])"
      ]
     },
     "execution_count": 11,
     "metadata": {},
     "output_type": "execute_result"
    }
   ],
   "source": [
    "hmm_graph.edges()"
   ]
  },
  {
   "cell_type": "code",
   "execution_count": 12,
   "metadata": {},
   "outputs": [
    {
     "data": {
      "text/plain": [
       "[<TabularCPD representing P(('obs', 0):6 | ('hs', 0):3) at 0x7f4fac5504e0>,\n",
       " <TabularCPD representing P(('hs', 0):3) at 0x7f4fac550588>]"
      ]
     },
     "execution_count": 12,
     "metadata": {},
     "output_type": "execute_result"
    }
   ],
   "source": [
    "hmm_graph.get_cpds(time_slice=0)"
   ]
  },
  {
   "cell_type": "code",
   "execution_count": 13,
   "metadata": {},
   "outputs": [
    {
     "data": {
      "text/plain": [
       "[<TabularCPD representing P(('obs', 1):6 | ('hs', 1):3) at 0x7f4fac550550>,\n",
       " <TabularCPD representing P(('hs', 1):3 | ('hs', 0):3) at 0x7f4fac5f3e10>]"
      ]
     },
     "execution_count": 13,
     "metadata": {},
     "output_type": "execute_result"
    }
   ],
   "source": [
    "hmm_graph.get_cpds(time_slice=1)"
   ]
  },
  {
   "cell_type": "code",
   "execution_count": 14,
   "metadata": {},
   "outputs": [
    {
     "name": "stderr",
     "output_type": "stream",
     "text": [
      "/opt/conda/lib/python3.7/site-packages/pgmpy/factors/discrete/CPD.py:499: UserWarning: Same ordering provided as current\n",
      "  warn(\"Same ordering provided as current\")\n"
     ]
    },
    {
     "data": {
      "text/plain": [
       "True"
      ]
     },
     "execution_count": 14,
     "metadata": {},
     "output_type": "execute_result"
    }
   ],
   "source": [
    "# This checks that the CPD tables between edges are valid\n",
    "\n",
    "hmm_graph.check_model()"
   ]
  },
  {
   "cell_type": "code",
   "execution_count": 28,
   "metadata": {},
   "outputs": [],
   "source": [
    "hmm_graph.initialize_initial_state()"
   ]
  },
  {
   "cell_type": "code",
   "execution_count": 29,
   "metadata": {},
   "outputs": [
    {
     "data": {
      "text/plain": [
       "True"
      ]
     },
     "execution_count": 29,
     "metadata": {},
     "output_type": "execute_result"
    }
   ],
   "source": [
    "hmm_graph.check_model()"
   ]
  },
  {
   "cell_type": "code",
   "execution_count": 30,
   "metadata": {},
   "outputs": [
    {
     "data": {
      "text/plain": [
       "OutEdgeView([(('hs', 0), ('hs', 1)), (('hs', 0), ('obs', 0)), (('hs', 1), ('obs', 1))])"
      ]
     },
     "execution_count": 30,
     "metadata": {},
     "output_type": "execute_result"
    }
   ],
   "source": [
    "hmm_graph.edges()"
   ]
  },
  {
   "cell_type": "code",
   "execution_count": 31,
   "metadata": {},
   "outputs": [
    {
     "data": {
      "text/plain": [
       "[<TabularCPD representing P(('obs', 0):6 | ('hs', 0):3) at 0x7f4fac5504e0>,\n",
       " <TabularCPD representing P(('hs', 0):3) at 0x7f4fac550588>]"
      ]
     },
     "execution_count": 31,
     "metadata": {},
     "output_type": "execute_result"
    }
   ],
   "source": [
    "hmm_graph.get_cpds(time_slice=0)"
   ]
  },
  {
   "cell_type": "code",
   "execution_count": 32,
   "metadata": {},
   "outputs": [
    {
     "data": {
      "text/plain": [
       "[<TabularCPD representing P(('obs', 1):6 | ('hs', 1):3) at 0x7f4fac550550>,\n",
       " <TabularCPD representing P(('hs', 1):3 | ('hs', 0):3) at 0x7f4fac5f3e10>]"
      ]
     },
     "execution_count": 32,
     "metadata": {},
     "output_type": "execute_result"
    }
   ],
   "source": [
    "hmm_graph.get_cpds(time_slice=1)"
   ]
  },
  {
   "cell_type": "code",
   "execution_count": 33,
   "metadata": {},
   "outputs": [
    {
     "data": {
      "text/plain": [
       "[('hs', 0)]"
      ]
     },
     "execution_count": 33,
     "metadata": {},
     "output_type": "execute_result"
    }
   ],
   "source": [
    "hmm_graph.get_interface_nodes()"
   ]
  },
  {
   "cell_type": "code",
   "execution_count": 34,
   "metadata": {},
   "outputs": [
    {
     "ename": "NetworkXError",
     "evalue": "The node hs is not in the digraph.",
     "output_type": "error",
     "traceback": [
      "\u001b[0;31m---------------------------------------------------------------------------\u001b[0m",
      "\u001b[0;31mKeyError\u001b[0m                                  Traceback (most recent call last)",
      "\u001b[0;32m/opt/conda/lib/python3.7/site-packages/networkx/classes/digraph.py\u001b[0m in \u001b[0;36mpredecessors\u001b[0;34m(self, n)\u001b[0m\n\u001b[1;32m    821\u001b[0m         \u001b[0;32mtry\u001b[0m\u001b[0;34m:\u001b[0m\u001b[0;34m\u001b[0m\u001b[0;34m\u001b[0m\u001b[0m\n\u001b[0;32m--> 822\u001b[0;31m             \u001b[0;32mreturn\u001b[0m \u001b[0miter\u001b[0m\u001b[0;34m(\u001b[0m\u001b[0mself\u001b[0m\u001b[0;34m.\u001b[0m\u001b[0m_pred\u001b[0m\u001b[0;34m[\u001b[0m\u001b[0mn\u001b[0m\u001b[0;34m]\u001b[0m\u001b[0;34m)\u001b[0m\u001b[0;34m\u001b[0m\u001b[0;34m\u001b[0m\u001b[0m\n\u001b[0m\u001b[1;32m    823\u001b[0m         \u001b[0;32mexcept\u001b[0m \u001b[0mKeyError\u001b[0m\u001b[0;34m:\u001b[0m\u001b[0;34m\u001b[0m\u001b[0;34m\u001b[0m\u001b[0m\n",
      "\u001b[0;31mKeyError\u001b[0m: 'hs'",
      "\nDuring handling of the above exception, another exception occurred:\n",
      "\u001b[0;31mNetworkXError\u001b[0m                             Traceback (most recent call last)",
      "\u001b[0;32m<ipython-input-34-3462e01f2c9d>\u001b[0m in \u001b[0;36m<module>\u001b[0;34m\u001b[0m\n\u001b[0;32m----> 1\u001b[0;31m \u001b[0mhmm_graph\u001b[0m\u001b[0;34m.\u001b[0m\u001b[0mget_independencies\u001b[0m\u001b[0;34m(\u001b[0m\u001b[0;34m)\u001b[0m\u001b[0;34m\u001b[0m\u001b[0;34m\u001b[0m\u001b[0m\n\u001b[0m",
      "\u001b[0;32m/hela/hela/hmm_graphical/DAG.py\u001b[0m in \u001b[0;36mget_independencies\u001b[0;34m(self, latex)\u001b[0m\n",
      "\u001b[0;32m/hela/hela/hmm_graphical/DAG.py\u001b[0m in \u001b[0;36mactive_trail_nodes\u001b[0;34m(self, variables, observed)\u001b[0m\n",
      "\u001b[0;32m/opt/conda/lib/python3.7/site-packages/networkx/classes/digraph.py\u001b[0m in \u001b[0;36mpredecessors\u001b[0;34m(self, n)\u001b[0m\n\u001b[1;32m    822\u001b[0m             \u001b[0;32mreturn\u001b[0m \u001b[0miter\u001b[0m\u001b[0;34m(\u001b[0m\u001b[0mself\u001b[0m\u001b[0;34m.\u001b[0m\u001b[0m_pred\u001b[0m\u001b[0;34m[\u001b[0m\u001b[0mn\u001b[0m\u001b[0;34m]\u001b[0m\u001b[0;34m)\u001b[0m\u001b[0;34m\u001b[0m\u001b[0;34m\u001b[0m\u001b[0m\n\u001b[1;32m    823\u001b[0m         \u001b[0;32mexcept\u001b[0m \u001b[0mKeyError\u001b[0m\u001b[0;34m:\u001b[0m\u001b[0;34m\u001b[0m\u001b[0;34m\u001b[0m\u001b[0m\n\u001b[0;32m--> 824\u001b[0;31m             \u001b[0;32mraise\u001b[0m \u001b[0mNetworkXError\u001b[0m\u001b[0;34m(\u001b[0m\u001b[0;34m\"The node %s is not in the digraph.\"\u001b[0m \u001b[0;34m%\u001b[0m \u001b[0;34m(\u001b[0m\u001b[0mn\u001b[0m\u001b[0;34m,\u001b[0m\u001b[0;34m)\u001b[0m\u001b[0;34m)\u001b[0m\u001b[0;34m\u001b[0m\u001b[0;34m\u001b[0m\u001b[0m\n\u001b[0m\u001b[1;32m    825\u001b[0m \u001b[0;34m\u001b[0m\u001b[0m\n\u001b[1;32m    826\u001b[0m     \u001b[0;34m@\u001b[0m\u001b[0mproperty\u001b[0m\u001b[0;34m\u001b[0m\u001b[0;34m\u001b[0m\u001b[0m\n",
      "\u001b[0;31mNetworkXError\u001b[0m: The node hs is not in the digraph."
     ]
    }
   ],
   "source": [
    "hmm_graph.get_independencies()"
   ]
  },
  {
   "cell_type": "markdown",
   "metadata": {},
   "source": [
    "### FHMM Generative Model"
   ]
  },
  {
   "cell_type": "code",
   "execution_count": 15,
   "metadata": {},
   "outputs": [
    {
     "data": {
      "text/html": [
       "<div>\n",
       "<style scoped>\n",
       "    .dataframe tbody tr th:only-of-type {\n",
       "        vertical-align: middle;\n",
       "    }\n",
       "\n",
       "    .dataframe tbody tr th {\n",
       "        vertical-align: top;\n",
       "    }\n",
       "\n",
       "    .dataframe thead th {\n",
       "        text-align: right;\n",
       "    }\n",
       "</style>\n",
       "<table border=\"1\" class=\"dataframe\">\n",
       "  <thead>\n",
       "    <tr style=\"text-align: right;\">\n",
       "      <th></th>\n",
       "      <th>0</th>\n",
       "      <th>1</th>\n",
       "      <th>2</th>\n",
       "    </tr>\n",
       "  </thead>\n",
       "  <tbody>\n",
       "    <tr>\n",
       "      <th>2020-08-01</th>\n",
       "      <td>0</td>\n",
       "      <td>0</td>\n",
       "      <td>1</td>\n",
       "    </tr>\n",
       "    <tr>\n",
       "      <th>2020-08-02</th>\n",
       "      <td>0</td>\n",
       "      <td>0</td>\n",
       "      <td>1</td>\n",
       "    </tr>\n",
       "    <tr>\n",
       "      <th>2020-08-03</th>\n",
       "      <td>0</td>\n",
       "      <td>0</td>\n",
       "      <td>1</td>\n",
       "    </tr>\n",
       "    <tr>\n",
       "      <th>2020-08-04</th>\n",
       "      <td>0</td>\n",
       "      <td>0</td>\n",
       "      <td>1</td>\n",
       "    </tr>\n",
       "    <tr>\n",
       "      <th>2020-08-05</th>\n",
       "      <td>0</td>\n",
       "      <td>0</td>\n",
       "      <td>1</td>\n",
       "    </tr>\n",
       "  </tbody>\n",
       "</table>\n",
       "</div>"
      ],
      "text/plain": [
       "            0  1  2\n",
       "2020-08-01  0  0  1\n",
       "2020-08-02  0  0  1\n",
       "2020-08-03  0  0  1\n",
       "2020-08-04  0  0  1\n",
       "2020-08-05  0  0  1"
      ]
     },
     "execution_count": 15,
     "metadata": {},
     "output_type": "execute_result"
    }
   ],
   "source": [
    "gen = hmm_gen.FactoredHMMGenerativeModel(\n",
    "                                     ns_hidden_states =[3, 2, 2],\n",
    "                                     n_gaussian_features =2,\n",
    "                                     n_categorical_features = 2)\n",
    "\n",
    "factored_hidden_states = gen.generate_hidden_state_sequence(n_observations = 500)\n",
    "factored_hidden_states.head()"
   ]
  },
  {
   "cell_type": "code",
   "execution_count": 16,
   "metadata": {},
   "outputs": [
    {
     "data": {
      "application/javascript": [
       "const spec = {\"config\": {\"view\": {\"width\": 400, \"height\": 300}, \"mark\": {\"tooltip\": null}}, \"vconcat\": [{\"mark\": {\"type\": \"tick\", \"opacity\": 1, \"size\": 300, \"thickness\": 2}, \"encoding\": {\"color\": {\"type\": \"nominal\", \"field\": \"hidden state\", \"legend\": {\"orient\": \"bottom\", \"title\": \"hidden states\"}, \"scale\": {\"scheme\": \"spectral\"}}, \"tooltip\": [{\"type\": \"temporal\", \"field\": \"time\"}, {\"type\": \"nominal\", \"field\": \"hidden state\"}], \"x\": {\"type\": \"temporal\", \"axis\": {\"title\": null}, \"field\": \"time\", \"scale\": {\"domain\": {\"selection\": \"selector002\"}}}, \"y\": {\"value\": 0}}, \"height\": 150, \"width\": 900}, {\"mark\": {\"type\": \"tick\", \"opacity\": 0, \"size\": 100.0, \"thickness\": 2}, \"encoding\": {\"x\": {\"type\": \"temporal\", \"axis\": {\"title\": null}, \"field\": \"time\", \"scale\": {\"domain\": {\"selection\": \"selector002\"}}}, \"y\": {\"value\": 0}}, \"height\": 25.0, \"selection\": {\"selector002\": {\"type\": \"interval\", \"encodings\": [\"x\"]}}, \"width\": 900}], \"data\": {\"name\": \"data-fc07596d93c73be45a4d1641bca5b044\"}, \"$schema\": \"https://vega.github.io/schema/vega-lite/v3.4.0.json\", \"datasets\": {\"data-fc07596d93c73be45a4d1641bca5b044\": [{\"time\": \"2020-08-01T00:00:00\", \"hidden state\": 0}, {\"time\": \"2020-08-02T00:00:00\", \"hidden state\": 0}, {\"time\": \"2020-08-03T00:00:00\", \"hidden state\": 0}, {\"time\": \"2020-08-04T00:00:00\", \"hidden state\": 0}, {\"time\": \"2020-08-05T00:00:00\", \"hidden state\": 0}, {\"time\": \"2020-08-06T00:00:00\", \"hidden state\": 0}, {\"time\": \"2020-08-07T00:00:00\", \"hidden state\": 0}, {\"time\": \"2020-08-08T00:00:00\", \"hidden state\": 0}, {\"time\": \"2020-08-09T00:00:00\", \"hidden state\": 0}, {\"time\": \"2020-08-10T00:00:00\", \"hidden state\": 0}, {\"time\": \"2020-08-11T00:00:00\", \"hidden state\": 0}, {\"time\": \"2020-08-12T00:00:00\", \"hidden state\": 0}, {\"time\": \"2020-08-13T00:00:00\", \"hidden state\": 0}, {\"time\": \"2020-08-14T00:00:00\", \"hidden state\": 0}, {\"time\": \"2020-08-15T00:00:00\", \"hidden state\": 0}, {\"time\": \"2020-08-16T00:00:00\", \"hidden state\": 0}, {\"time\": \"2020-08-17T00:00:00\", \"hidden state\": 1}, {\"time\": \"2020-08-18T00:00:00\", \"hidden state\": 0}, {\"time\": \"2020-08-19T00:00:00\", \"hidden state\": 0}, {\"time\": \"2020-08-20T00:00:00\", \"hidden state\": 2}, {\"time\": \"2020-08-21T00:00:00\", \"hidden state\": 2}, {\"time\": \"2020-08-22T00:00:00\", \"hidden state\": 2}, {\"time\": \"2020-08-23T00:00:00\", \"hidden state\": 2}, {\"time\": \"2020-08-24T00:00:00\", \"hidden state\": 2}, {\"time\": \"2020-08-25T00:00:00\", \"hidden state\": 2}, {\"time\": \"2020-08-26T00:00:00\", \"hidden state\": 3}, {\"time\": \"2020-08-27T00:00:00\", \"hidden state\": 3}, {\"time\": \"2020-08-28T00:00:00\", \"hidden state\": 3}, {\"time\": \"2020-08-29T00:00:00\", \"hidden state\": 3}, {\"time\": \"2020-08-30T00:00:00\", \"hidden state\": 3}, {\"time\": \"2020-08-31T00:00:00\", \"hidden state\": 1}, {\"time\": \"2020-09-01T00:00:00\", \"hidden state\": 1}, {\"time\": \"2020-09-02T00:00:00\", \"hidden state\": 1}, {\"time\": \"2020-09-03T00:00:00\", \"hidden state\": 1}, {\"time\": \"2020-09-04T00:00:00\", \"hidden state\": 1}, {\"time\": \"2020-09-05T00:00:00\", \"hidden state\": 1}, {\"time\": \"2020-09-06T00:00:00\", \"hidden state\": 1}, {\"time\": \"2020-09-07T00:00:00\", \"hidden state\": 1}, {\"time\": \"2020-09-08T00:00:00\", \"hidden state\": 1}, {\"time\": \"2020-09-09T00:00:00\", \"hidden state\": 1}, {\"time\": \"2020-09-10T00:00:00\", \"hidden state\": 1}, {\"time\": \"2020-09-11T00:00:00\", \"hidden state\": 0}, {\"time\": \"2020-09-12T00:00:00\", \"hidden state\": 0}, {\"time\": \"2020-09-13T00:00:00\", \"hidden state\": 0}, {\"time\": \"2020-09-14T00:00:00\", \"hidden state\": 0}, {\"time\": \"2020-09-15T00:00:00\", \"hidden state\": 0}, {\"time\": \"2020-09-16T00:00:00\", \"hidden state\": 0}, {\"time\": \"2020-09-17T00:00:00\", \"hidden state\": 0}, {\"time\": \"2020-09-18T00:00:00\", \"hidden state\": 0}, {\"time\": \"2020-09-19T00:00:00\", \"hidden state\": 0}, {\"time\": \"2020-09-20T00:00:00\", \"hidden state\": 0}, {\"time\": \"2020-09-21T00:00:00\", \"hidden state\": 0}, {\"time\": \"2020-09-22T00:00:00\", \"hidden state\": 0}, {\"time\": \"2020-09-23T00:00:00\", \"hidden state\": 2}, {\"time\": \"2020-09-24T00:00:00\", \"hidden state\": 2}, {\"time\": \"2020-09-25T00:00:00\", \"hidden state\": 2}, {\"time\": \"2020-09-26T00:00:00\", \"hidden state\": 2}, {\"time\": \"2020-09-27T00:00:00\", \"hidden state\": 2}, {\"time\": \"2020-09-28T00:00:00\", \"hidden state\": 2}, {\"time\": \"2020-09-29T00:00:00\", \"hidden state\": 3}, {\"time\": \"2020-09-30T00:00:00\", \"hidden state\": 3}, {\"time\": \"2020-10-01T00:00:00\", \"hidden state\": 1}, {\"time\": \"2020-10-02T00:00:00\", \"hidden state\": 1}, {\"time\": \"2020-10-03T00:00:00\", \"hidden state\": 1}, {\"time\": \"2020-10-04T00:00:00\", \"hidden state\": 1}, {\"time\": \"2020-10-05T00:00:00\", \"hidden state\": 1}, {\"time\": \"2020-10-06T00:00:00\", \"hidden state\": 1}, {\"time\": \"2020-10-07T00:00:00\", \"hidden state\": 1}, {\"time\": \"2020-10-08T00:00:00\", \"hidden state\": 1}, {\"time\": \"2020-10-09T00:00:00\", \"hidden state\": 1}, {\"time\": \"2020-10-10T00:00:00\", \"hidden state\": 1}, {\"time\": \"2020-10-11T00:00:00\", \"hidden state\": 1}, {\"time\": \"2020-10-12T00:00:00\", \"hidden state\": 1}, {\"time\": \"2020-10-13T00:00:00\", \"hidden state\": 1}, {\"time\": \"2020-10-14T00:00:00\", \"hidden state\": 1}, {\"time\": \"2020-10-15T00:00:00\", \"hidden state\": 1}, {\"time\": \"2020-10-16T00:00:00\", \"hidden state\": 0}, {\"time\": \"2020-10-17T00:00:00\", \"hidden state\": 0}, {\"time\": \"2020-10-18T00:00:00\", \"hidden state\": 0}, {\"time\": \"2020-10-19T00:00:00\", \"hidden state\": 0}, {\"time\": \"2020-10-20T00:00:00\", \"hidden state\": 0}, {\"time\": \"2020-10-21T00:00:00\", \"hidden state\": 0}, {\"time\": \"2020-10-22T00:00:00\", \"hidden state\": 4}, {\"time\": \"2020-10-23T00:00:00\", \"hidden state\": 4}, {\"time\": \"2020-10-24T00:00:00\", \"hidden state\": 4}, {\"time\": \"2020-10-25T00:00:00\", \"hidden state\": 4}, {\"time\": \"2020-10-26T00:00:00\", \"hidden state\": 4}, {\"time\": \"2020-10-27T00:00:00\", \"hidden state\": 4}, {\"time\": \"2020-10-28T00:00:00\", \"hidden state\": 4}, {\"time\": \"2020-10-29T00:00:00\", \"hidden state\": 4}, {\"time\": \"2020-10-30T00:00:00\", \"hidden state\": 4}, {\"time\": \"2020-10-31T00:00:00\", \"hidden state\": 4}, {\"time\": \"2020-11-01T00:00:00\", \"hidden state\": 4}, {\"time\": \"2020-11-02T00:00:00\", \"hidden state\": 4}, {\"time\": \"2020-11-03T00:00:00\", \"hidden state\": 5}, {\"time\": \"2020-11-04T00:00:00\", \"hidden state\": 6}, {\"time\": \"2020-11-05T00:00:00\", \"hidden state\": 6}, {\"time\": \"2020-11-06T00:00:00\", \"hidden state\": 6}, {\"time\": \"2020-11-07T00:00:00\", \"hidden state\": 6}, {\"time\": \"2020-11-08T00:00:00\", \"hidden state\": 6}, {\"time\": \"2020-11-09T00:00:00\", \"hidden state\": 6}, {\"time\": \"2020-11-10T00:00:00\", \"hidden state\": 6}, {\"time\": \"2020-11-11T00:00:00\", \"hidden state\": 6}, {\"time\": \"2020-11-12T00:00:00\", \"hidden state\": 6}, {\"time\": \"2020-11-13T00:00:00\", \"hidden state\": 5}, {\"time\": \"2020-11-14T00:00:00\", \"hidden state\": 5}, {\"time\": \"2020-11-15T00:00:00\", \"hidden state\": 5}, {\"time\": \"2020-11-16T00:00:00\", \"hidden state\": 5}, {\"time\": \"2020-11-17T00:00:00\", \"hidden state\": 5}, {\"time\": \"2020-11-18T00:00:00\", \"hidden state\": 5}, {\"time\": \"2020-11-19T00:00:00\", \"hidden state\": 5}, {\"time\": \"2020-11-20T00:00:00\", \"hidden state\": 5}, {\"time\": \"2020-11-21T00:00:00\", \"hidden state\": 5}, {\"time\": \"2020-11-22T00:00:00\", \"hidden state\": 5}, {\"time\": \"2020-11-23T00:00:00\", \"hidden state\": 5}, {\"time\": \"2020-11-24T00:00:00\", \"hidden state\": 5}, {\"time\": \"2020-11-25T00:00:00\", \"hidden state\": 5}, {\"time\": \"2020-11-26T00:00:00\", \"hidden state\": 5}, {\"time\": \"2020-11-27T00:00:00\", \"hidden state\": 5}, {\"time\": \"2020-11-28T00:00:00\", \"hidden state\": 5}, {\"time\": \"2020-11-29T00:00:00\", \"hidden state\": 4}, {\"time\": \"2020-11-30T00:00:00\", \"hidden state\": 4}, {\"time\": \"2020-12-01T00:00:00\", \"hidden state\": 5}, {\"time\": \"2020-12-02T00:00:00\", \"hidden state\": 5}, {\"time\": \"2020-12-03T00:00:00\", \"hidden state\": 5}, {\"time\": \"2020-12-04T00:00:00\", \"hidden state\": 4}, {\"time\": \"2020-12-05T00:00:00\", \"hidden state\": 4}, {\"time\": \"2020-12-06T00:00:00\", \"hidden state\": 4}, {\"time\": \"2020-12-07T00:00:00\", \"hidden state\": 4}, {\"time\": \"2020-12-08T00:00:00\", \"hidden state\": 4}, {\"time\": \"2020-12-09T00:00:00\", \"hidden state\": 5}, {\"time\": \"2020-12-10T00:00:00\", \"hidden state\": 5}, {\"time\": \"2020-12-11T00:00:00\", \"hidden state\": 5}, {\"time\": \"2020-12-12T00:00:00\", \"hidden state\": 5}, {\"time\": \"2020-12-13T00:00:00\", \"hidden state\": 5}, {\"time\": \"2020-12-14T00:00:00\", \"hidden state\": 5}, {\"time\": \"2020-12-15T00:00:00\", \"hidden state\": 5}, {\"time\": \"2020-12-16T00:00:00\", \"hidden state\": 5}, {\"time\": \"2020-12-17T00:00:00\", \"hidden state\": 5}, {\"time\": \"2020-12-18T00:00:00\", \"hidden state\": 5}, {\"time\": \"2020-12-19T00:00:00\", \"hidden state\": 5}, {\"time\": \"2020-12-20T00:00:00\", \"hidden state\": 5}, {\"time\": \"2020-12-21T00:00:00\", \"hidden state\": 5}, {\"time\": \"2020-12-22T00:00:00\", \"hidden state\": 5}, {\"time\": \"2020-12-23T00:00:00\", \"hidden state\": 5}, {\"time\": \"2020-12-24T00:00:00\", \"hidden state\": 5}, {\"time\": \"2020-12-25T00:00:00\", \"hidden state\": 6}, {\"time\": \"2020-12-26T00:00:00\", \"hidden state\": 7}, {\"time\": \"2020-12-27T00:00:00\", \"hidden state\": 7}, {\"time\": \"2020-12-28T00:00:00\", \"hidden state\": 7}, {\"time\": \"2020-12-29T00:00:00\", \"hidden state\": 6}, {\"time\": \"2020-12-30T00:00:00\", \"hidden state\": 7}, {\"time\": \"2020-12-31T00:00:00\", \"hidden state\": 7}, {\"time\": \"2021-01-01T00:00:00\", \"hidden state\": 7}, {\"time\": \"2021-01-02T00:00:00\", \"hidden state\": 7}, {\"time\": \"2021-01-03T00:00:00\", \"hidden state\": 5}, {\"time\": \"2021-01-04T00:00:00\", \"hidden state\": 5}, {\"time\": \"2021-01-05T00:00:00\", \"hidden state\": 5}, {\"time\": \"2021-01-06T00:00:00\", \"hidden state\": 6}, {\"time\": \"2021-01-07T00:00:00\", \"hidden state\": 6}, {\"time\": \"2021-01-08T00:00:00\", \"hidden state\": 6}, {\"time\": \"2021-01-09T00:00:00\", \"hidden state\": 6}, {\"time\": \"2021-01-10T00:00:00\", \"hidden state\": 7}, {\"time\": \"2021-01-11T00:00:00\", \"hidden state\": 7}, {\"time\": \"2021-01-12T00:00:00\", \"hidden state\": 7}, {\"time\": \"2021-01-13T00:00:00\", \"hidden state\": 7}, {\"time\": \"2021-01-14T00:00:00\", \"hidden state\": 7}, {\"time\": \"2021-01-15T00:00:00\", \"hidden state\": 7}, {\"time\": \"2021-01-16T00:00:00\", \"hidden state\": 7}, {\"time\": \"2021-01-17T00:00:00\", \"hidden state\": 7}, {\"time\": \"2021-01-18T00:00:00\", \"hidden state\": 7}, {\"time\": \"2021-01-19T00:00:00\", \"hidden state\": 7}, {\"time\": \"2021-01-20T00:00:00\", \"hidden state\": 7}, {\"time\": \"2021-01-21T00:00:00\", \"hidden state\": 7}, {\"time\": \"2021-01-22T00:00:00\", \"hidden state\": 7}, {\"time\": \"2021-01-23T00:00:00\", \"hidden state\": 7}, {\"time\": \"2021-01-24T00:00:00\", \"hidden state\": 7}, {\"time\": \"2021-01-25T00:00:00\", \"hidden state\": 7}, {\"time\": \"2021-01-26T00:00:00\", \"hidden state\": 7}, {\"time\": \"2021-01-27T00:00:00\", \"hidden state\": 7}, {\"time\": \"2021-01-28T00:00:00\", \"hidden state\": 7}, {\"time\": \"2021-01-29T00:00:00\", \"hidden state\": 7}, {\"time\": \"2021-01-30T00:00:00\", \"hidden state\": 7}, {\"time\": \"2021-01-31T00:00:00\", \"hidden state\": 7}, {\"time\": \"2021-02-01T00:00:00\", \"hidden state\": 7}, {\"time\": \"2021-02-02T00:00:00\", \"hidden state\": 7}, {\"time\": \"2021-02-03T00:00:00\", \"hidden state\": 7}, {\"time\": \"2021-02-04T00:00:00\", \"hidden state\": 4}, {\"time\": \"2021-02-05T00:00:00\", \"hidden state\": 4}, {\"time\": \"2021-02-06T00:00:00\", \"hidden state\": 4}, {\"time\": \"2021-02-07T00:00:00\", \"hidden state\": 4}, {\"time\": \"2021-02-08T00:00:00\", \"hidden state\": 4}, {\"time\": \"2021-02-09T00:00:00\", \"hidden state\": 4}, {\"time\": \"2021-02-10T00:00:00\", \"hidden state\": 4}, {\"time\": \"2021-02-11T00:00:00\", \"hidden state\": 4}, {\"time\": \"2021-02-12T00:00:00\", \"hidden state\": 4}, {\"time\": \"2021-02-13T00:00:00\", \"hidden state\": 5}, {\"time\": \"2021-02-14T00:00:00\", \"hidden state\": 4}, {\"time\": \"2021-02-15T00:00:00\", \"hidden state\": 4}, {\"time\": \"2021-02-16T00:00:00\", \"hidden state\": 4}, {\"time\": \"2021-02-17T00:00:00\", \"hidden state\": 4}, {\"time\": \"2021-02-18T00:00:00\", \"hidden state\": 4}, {\"time\": \"2021-02-19T00:00:00\", \"hidden state\": 4}, {\"time\": \"2021-02-20T00:00:00\", \"hidden state\": 4}, {\"time\": \"2021-02-21T00:00:00\", \"hidden state\": 4}, {\"time\": \"2021-02-22T00:00:00\", \"hidden state\": 4}, {\"time\": \"2021-02-23T00:00:00\", \"hidden state\": 4}, {\"time\": \"2021-02-24T00:00:00\", \"hidden state\": 4}, {\"time\": \"2021-02-25T00:00:00\", \"hidden state\": 4}, {\"time\": \"2021-02-26T00:00:00\", \"hidden state\": 4}, {\"time\": \"2021-02-27T00:00:00\", \"hidden state\": 5}, {\"time\": \"2021-02-28T00:00:00\", \"hidden state\": 5}, {\"time\": \"2021-03-01T00:00:00\", \"hidden state\": 5}, {\"time\": \"2021-03-02T00:00:00\", \"hidden state\": 5}, {\"time\": \"2021-03-03T00:00:00\", \"hidden state\": 5}, {\"time\": \"2021-03-04T00:00:00\", \"hidden state\": 5}, {\"time\": \"2021-03-05T00:00:00\", \"hidden state\": 5}, {\"time\": \"2021-03-06T00:00:00\", \"hidden state\": 5}, {\"time\": \"2021-03-07T00:00:00\", \"hidden state\": 5}, {\"time\": \"2021-03-08T00:00:00\", \"hidden state\": 5}, {\"time\": \"2021-03-09T00:00:00\", \"hidden state\": 5}, {\"time\": \"2021-03-10T00:00:00\", \"hidden state\": 5}, {\"time\": \"2021-03-11T00:00:00\", \"hidden state\": 5}, {\"time\": \"2021-03-12T00:00:00\", \"hidden state\": 4}, {\"time\": \"2021-03-13T00:00:00\", \"hidden state\": 4}, {\"time\": \"2021-03-14T00:00:00\", \"hidden state\": 4}, {\"time\": \"2021-03-15T00:00:00\", \"hidden state\": 4}, {\"time\": \"2021-03-16T00:00:00\", \"hidden state\": 4}, {\"time\": \"2021-03-17T00:00:00\", \"hidden state\": 4}, {\"time\": \"2021-03-18T00:00:00\", \"hidden state\": 4}, {\"time\": \"2021-03-19T00:00:00\", \"hidden state\": 4}, {\"time\": \"2021-03-20T00:00:00\", \"hidden state\": 4}, {\"time\": \"2021-03-21T00:00:00\", \"hidden state\": 4}, {\"time\": \"2021-03-22T00:00:00\", \"hidden state\": 5}, {\"time\": \"2021-03-23T00:00:00\", \"hidden state\": 5}, {\"time\": \"2021-03-24T00:00:00\", \"hidden state\": 5}, {\"time\": \"2021-03-25T00:00:00\", \"hidden state\": 5}, {\"time\": \"2021-03-26T00:00:00\", \"hidden state\": 5}, {\"time\": \"2021-03-27T00:00:00\", \"hidden state\": 5}, {\"time\": \"2021-03-28T00:00:00\", \"hidden state\": 5}, {\"time\": \"2021-03-29T00:00:00\", \"hidden state\": 5}, {\"time\": \"2021-03-30T00:00:00\", \"hidden state\": 5}, {\"time\": \"2021-03-31T00:00:00\", \"hidden state\": 5}, {\"time\": \"2021-04-01T00:00:00\", \"hidden state\": 5}, {\"time\": \"2021-04-02T00:00:00\", \"hidden state\": 5}, {\"time\": \"2021-04-03T00:00:00\", \"hidden state\": 5}, {\"time\": \"2021-04-04T00:00:00\", \"hidden state\": 5}, {\"time\": \"2021-04-05T00:00:00\", \"hidden state\": 5}, {\"time\": \"2021-04-06T00:00:00\", \"hidden state\": 5}, {\"time\": \"2021-04-07T00:00:00\", \"hidden state\": 5}, {\"time\": \"2021-04-08T00:00:00\", \"hidden state\": 6}, {\"time\": \"2021-04-09T00:00:00\", \"hidden state\": 6}, {\"time\": \"2021-04-10T00:00:00\", \"hidden state\": 6}, {\"time\": \"2021-04-11T00:00:00\", \"hidden state\": 6}, {\"time\": \"2021-04-12T00:00:00\", \"hidden state\": 5}, {\"time\": \"2021-04-13T00:00:00\", \"hidden state\": 5}, {\"time\": \"2021-04-14T00:00:00\", \"hidden state\": 5}, {\"time\": \"2021-04-15T00:00:00\", \"hidden state\": 5}, {\"time\": \"2021-04-16T00:00:00\", \"hidden state\": 5}, {\"time\": \"2021-04-17T00:00:00\", \"hidden state\": 5}, {\"time\": \"2021-04-18T00:00:00\", \"hidden state\": 5}, {\"time\": \"2021-04-19T00:00:00\", \"hidden state\": 5}, {\"time\": \"2021-04-20T00:00:00\", \"hidden state\": 4}, {\"time\": \"2021-04-21T00:00:00\", \"hidden state\": 4}, {\"time\": \"2021-04-22T00:00:00\", \"hidden state\": 4}, {\"time\": \"2021-04-23T00:00:00\", \"hidden state\": 4}, {\"time\": \"2021-04-24T00:00:00\", \"hidden state\": 4}, {\"time\": \"2021-04-25T00:00:00\", \"hidden state\": 4}, {\"time\": \"2021-04-26T00:00:00\", \"hidden state\": 4}, {\"time\": \"2021-04-27T00:00:00\", \"hidden state\": 4}, {\"time\": \"2021-04-28T00:00:00\", \"hidden state\": 4}, {\"time\": \"2021-04-29T00:00:00\", \"hidden state\": 4}, {\"time\": \"2021-04-30T00:00:00\", \"hidden state\": 4}, {\"time\": \"2021-05-01T00:00:00\", \"hidden state\": 4}, {\"time\": \"2021-05-02T00:00:00\", \"hidden state\": 4}, {\"time\": \"2021-05-03T00:00:00\", \"hidden state\": 4}, {\"time\": \"2021-05-04T00:00:00\", \"hidden state\": 4}, {\"time\": \"2021-05-05T00:00:00\", \"hidden state\": 5}, {\"time\": \"2021-05-06T00:00:00\", \"hidden state\": 6}, {\"time\": \"2021-05-07T00:00:00\", \"hidden state\": 5}, {\"time\": \"2021-05-08T00:00:00\", \"hidden state\": 5}, {\"time\": \"2021-05-09T00:00:00\", \"hidden state\": 5}, {\"time\": \"2021-05-10T00:00:00\", \"hidden state\": 5}, {\"time\": \"2021-05-11T00:00:00\", \"hidden state\": 5}, {\"time\": \"2021-05-12T00:00:00\", \"hidden state\": 8}, {\"time\": \"2021-05-13T00:00:00\", \"hidden state\": 8}, {\"time\": \"2021-05-14T00:00:00\", \"hidden state\": 9}, {\"time\": \"2021-05-15T00:00:00\", \"hidden state\": 9}, {\"time\": \"2021-05-16T00:00:00\", \"hidden state\": 9}, {\"time\": \"2021-05-17T00:00:00\", \"hidden state\": 9}, {\"time\": \"2021-05-18T00:00:00\", \"hidden state\": 8}, {\"time\": \"2021-05-19T00:00:00\", \"hidden state\": 8}, {\"time\": \"2021-05-20T00:00:00\", \"hidden state\": 8}, {\"time\": \"2021-05-21T00:00:00\", \"hidden state\": 8}, {\"time\": \"2021-05-22T00:00:00\", \"hidden state\": 8}, {\"time\": \"2021-05-23T00:00:00\", \"hidden state\": 8}, {\"time\": \"2021-05-24T00:00:00\", \"hidden state\": 8}, {\"time\": \"2021-05-25T00:00:00\", \"hidden state\": 8}, {\"time\": \"2021-05-26T00:00:00\", \"hidden state\": 8}, {\"time\": \"2021-05-27T00:00:00\", \"hidden state\": 8}, {\"time\": \"2021-05-28T00:00:00\", \"hidden state\": 8}, {\"time\": \"2021-05-29T00:00:00\", \"hidden state\": 8}, {\"time\": \"2021-05-30T00:00:00\", \"hidden state\": 8}, {\"time\": \"2021-05-31T00:00:00\", \"hidden state\": 8}, {\"time\": \"2021-06-01T00:00:00\", \"hidden state\": 8}, {\"time\": \"2021-06-02T00:00:00\", \"hidden state\": 8}, {\"time\": \"2021-06-03T00:00:00\", \"hidden state\": 8}, {\"time\": \"2021-06-04T00:00:00\", \"hidden state\": 8}, {\"time\": \"2021-06-05T00:00:00\", \"hidden state\": 8}, {\"time\": \"2021-06-06T00:00:00\", \"hidden state\": 8}, {\"time\": \"2021-06-07T00:00:00\", \"hidden state\": 8}, {\"time\": \"2021-06-08T00:00:00\", \"hidden state\": 10}, {\"time\": \"2021-06-09T00:00:00\", \"hidden state\": 10}, {\"time\": \"2021-06-10T00:00:00\", \"hidden state\": 10}, {\"time\": \"2021-06-11T00:00:00\", \"hidden state\": 10}, {\"time\": \"2021-06-12T00:00:00\", \"hidden state\": 10}, {\"time\": \"2021-06-13T00:00:00\", \"hidden state\": 10}, {\"time\": \"2021-06-14T00:00:00\", \"hidden state\": 11}, {\"time\": \"2021-06-15T00:00:00\", \"hidden state\": 9}, {\"time\": \"2021-06-16T00:00:00\", \"hidden state\": 9}, {\"time\": \"2021-06-17T00:00:00\", \"hidden state\": 11}, {\"time\": \"2021-06-18T00:00:00\", \"hidden state\": 11}, {\"time\": \"2021-06-19T00:00:00\", \"hidden state\": 8}, {\"time\": \"2021-06-20T00:00:00\", \"hidden state\": 8}, {\"time\": \"2021-06-21T00:00:00\", \"hidden state\": 8}, {\"time\": \"2021-06-22T00:00:00\", \"hidden state\": 10}, {\"time\": \"2021-06-23T00:00:00\", \"hidden state\": 10}, {\"time\": \"2021-06-24T00:00:00\", \"hidden state\": 11}, {\"time\": \"2021-06-25T00:00:00\", \"hidden state\": 9}, {\"time\": \"2021-06-26T00:00:00\", \"hidden state\": 9}, {\"time\": \"2021-06-27T00:00:00\", \"hidden state\": 9}, {\"time\": \"2021-06-28T00:00:00\", \"hidden state\": 9}, {\"time\": \"2021-06-29T00:00:00\", \"hidden state\": 9}, {\"time\": \"2021-06-30T00:00:00\", \"hidden state\": 9}, {\"time\": \"2021-07-01T00:00:00\", \"hidden state\": 11}, {\"time\": \"2021-07-02T00:00:00\", \"hidden state\": 11}, {\"time\": \"2021-07-03T00:00:00\", \"hidden state\": 11}, {\"time\": \"2021-07-04T00:00:00\", \"hidden state\": 11}, {\"time\": \"2021-07-05T00:00:00\", \"hidden state\": 11}, {\"time\": \"2021-07-06T00:00:00\", \"hidden state\": 11}, {\"time\": \"2021-07-07T00:00:00\", \"hidden state\": 11}, {\"time\": \"2021-07-08T00:00:00\", \"hidden state\": 11}, {\"time\": \"2021-07-09T00:00:00\", \"hidden state\": 11}, {\"time\": \"2021-07-10T00:00:00\", \"hidden state\": 11}, {\"time\": \"2021-07-11T00:00:00\", \"hidden state\": 11}, {\"time\": \"2021-07-12T00:00:00\", \"hidden state\": 11}, {\"time\": \"2021-07-13T00:00:00\", \"hidden state\": 11}, {\"time\": \"2021-07-14T00:00:00\", \"hidden state\": 11}, {\"time\": \"2021-07-15T00:00:00\", \"hidden state\": 11}, {\"time\": \"2021-07-16T00:00:00\", \"hidden state\": 9}, {\"time\": \"2021-07-17T00:00:00\", \"hidden state\": 9}, {\"time\": \"2021-07-18T00:00:00\", \"hidden state\": 9}, {\"time\": \"2021-07-19T00:00:00\", \"hidden state\": 9}, {\"time\": \"2021-07-20T00:00:00\", \"hidden state\": 9}, {\"time\": \"2021-07-21T00:00:00\", \"hidden state\": 9}, {\"time\": \"2021-07-22T00:00:00\", \"hidden state\": 9}, {\"time\": \"2021-07-23T00:00:00\", \"hidden state\": 9}, {\"time\": \"2021-07-24T00:00:00\", \"hidden state\": 11}, {\"time\": \"2021-07-25T00:00:00\", \"hidden state\": 11}, {\"time\": \"2021-07-26T00:00:00\", \"hidden state\": 11}, {\"time\": \"2021-07-27T00:00:00\", \"hidden state\": 11}, {\"time\": \"2021-07-28T00:00:00\", \"hidden state\": 11}, {\"time\": \"2021-07-29T00:00:00\", \"hidden state\": 9}, {\"time\": \"2021-07-30T00:00:00\", \"hidden state\": 9}, {\"time\": \"2021-07-31T00:00:00\", \"hidden state\": 9}, {\"time\": \"2021-08-01T00:00:00\", \"hidden state\": 9}, {\"time\": \"2021-08-02T00:00:00\", \"hidden state\": 9}, {\"time\": \"2021-08-03T00:00:00\", \"hidden state\": 11}, {\"time\": \"2021-08-04T00:00:00\", \"hidden state\": 11}, {\"time\": \"2021-08-05T00:00:00\", \"hidden state\": 11}, {\"time\": \"2021-08-06T00:00:00\", \"hidden state\": 11}, {\"time\": \"2021-08-07T00:00:00\", \"hidden state\": 11}, {\"time\": \"2021-08-08T00:00:00\", \"hidden state\": 11}, {\"time\": \"2021-08-09T00:00:00\", \"hidden state\": 11}, {\"time\": \"2021-08-10T00:00:00\", \"hidden state\": 9}, {\"time\": \"2021-08-11T00:00:00\", \"hidden state\": 9}, {\"time\": \"2021-08-12T00:00:00\", \"hidden state\": 9}, {\"time\": \"2021-08-13T00:00:00\", \"hidden state\": 9}, {\"time\": \"2021-08-14T00:00:00\", \"hidden state\": 9}, {\"time\": \"2021-08-15T00:00:00\", \"hidden state\": 9}, {\"time\": \"2021-08-16T00:00:00\", \"hidden state\": 8}, {\"time\": \"2021-08-17T00:00:00\", \"hidden state\": 8}, {\"time\": \"2021-08-18T00:00:00\", \"hidden state\": 8}, {\"time\": \"2021-08-19T00:00:00\", \"hidden state\": 8}, {\"time\": \"2021-08-20T00:00:00\", \"hidden state\": 8}, {\"time\": \"2021-08-21T00:00:00\", \"hidden state\": 8}, {\"time\": \"2021-08-22T00:00:00\", \"hidden state\": 8}, {\"time\": \"2021-08-23T00:00:00\", \"hidden state\": 8}, {\"time\": \"2021-08-24T00:00:00\", \"hidden state\": 10}, {\"time\": \"2021-08-25T00:00:00\", \"hidden state\": 10}, {\"time\": \"2021-08-26T00:00:00\", \"hidden state\": 10}, {\"time\": \"2021-08-27T00:00:00\", \"hidden state\": 10}, {\"time\": \"2021-08-28T00:00:00\", \"hidden state\": 10}, {\"time\": \"2021-08-29T00:00:00\", \"hidden state\": 10}, {\"time\": \"2021-08-30T00:00:00\", \"hidden state\": 10}, {\"time\": \"2021-08-31T00:00:00\", \"hidden state\": 10}, {\"time\": \"2021-09-01T00:00:00\", \"hidden state\": 10}, {\"time\": \"2021-09-02T00:00:00\", \"hidden state\": 10}, {\"time\": \"2021-09-03T00:00:00\", \"hidden state\": 10}, {\"time\": \"2021-09-04T00:00:00\", \"hidden state\": 10}, {\"time\": \"2021-09-05T00:00:00\", \"hidden state\": 10}, {\"time\": \"2021-09-06T00:00:00\", \"hidden state\": 10}, {\"time\": \"2021-09-07T00:00:00\", \"hidden state\": 10}, {\"time\": \"2021-09-08T00:00:00\", \"hidden state\": 10}, {\"time\": \"2021-09-09T00:00:00\", \"hidden state\": 10}, {\"time\": \"2021-09-10T00:00:00\", \"hidden state\": 10}, {\"time\": \"2021-09-11T00:00:00\", \"hidden state\": 8}, {\"time\": \"2021-09-12T00:00:00\", \"hidden state\": 8}, {\"time\": \"2021-09-13T00:00:00\", \"hidden state\": 8}, {\"time\": \"2021-09-14T00:00:00\", \"hidden state\": 8}, {\"time\": \"2021-09-15T00:00:00\", \"hidden state\": 10}, {\"time\": \"2021-09-16T00:00:00\", \"hidden state\": 10}, {\"time\": \"2021-09-17T00:00:00\", \"hidden state\": 10}, {\"time\": \"2021-09-18T00:00:00\", \"hidden state\": 10}, {\"time\": \"2021-09-19T00:00:00\", \"hidden state\": 8}, {\"time\": \"2021-09-20T00:00:00\", \"hidden state\": 8}, {\"time\": \"2021-09-21T00:00:00\", \"hidden state\": 9}, {\"time\": \"2021-09-22T00:00:00\", \"hidden state\": 9}, {\"time\": \"2021-09-23T00:00:00\", \"hidden state\": 9}, {\"time\": \"2021-09-24T00:00:00\", \"hidden state\": 9}, {\"time\": \"2021-09-25T00:00:00\", \"hidden state\": 9}, {\"time\": \"2021-09-26T00:00:00\", \"hidden state\": 9}, {\"time\": \"2021-09-27T00:00:00\", \"hidden state\": 9}, {\"time\": \"2021-09-28T00:00:00\", \"hidden state\": 9}, {\"time\": \"2021-09-29T00:00:00\", \"hidden state\": 9}, {\"time\": \"2021-09-30T00:00:00\", \"hidden state\": 9}, {\"time\": \"2021-10-01T00:00:00\", \"hidden state\": 9}, {\"time\": \"2021-10-02T00:00:00\", \"hidden state\": 9}, {\"time\": \"2021-10-03T00:00:00\", \"hidden state\": 9}, {\"time\": \"2021-10-04T00:00:00\", \"hidden state\": 9}, {\"time\": \"2021-10-05T00:00:00\", \"hidden state\": 9}, {\"time\": \"2021-10-06T00:00:00\", \"hidden state\": 3}, {\"time\": \"2021-10-07T00:00:00\", \"hidden state\": 2}, {\"time\": \"2021-10-08T00:00:00\", \"hidden state\": 2}, {\"time\": \"2021-10-09T00:00:00\", \"hidden state\": 2}, {\"time\": \"2021-10-10T00:00:00\", \"hidden state\": 2}, {\"time\": \"2021-10-11T00:00:00\", \"hidden state\": 2}, {\"time\": \"2021-10-12T00:00:00\", \"hidden state\": 2}, {\"time\": \"2021-10-13T00:00:00\", \"hidden state\": 2}, {\"time\": \"2021-10-14T00:00:00\", \"hidden state\": 0}, {\"time\": \"2021-10-15T00:00:00\", \"hidden state\": 0}, {\"time\": \"2021-10-16T00:00:00\", \"hidden state\": 0}, {\"time\": \"2021-10-17T00:00:00\", \"hidden state\": 0}, {\"time\": \"2021-10-18T00:00:00\", \"hidden state\": 0}, {\"time\": \"2021-10-19T00:00:00\", \"hidden state\": 0}, {\"time\": \"2021-10-20T00:00:00\", \"hidden state\": 0}, {\"time\": \"2021-10-21T00:00:00\", \"hidden state\": 0}, {\"time\": \"2021-10-22T00:00:00\", \"hidden state\": 0}, {\"time\": \"2021-10-23T00:00:00\", \"hidden state\": 1}, {\"time\": \"2021-10-24T00:00:00\", \"hidden state\": 1}, {\"time\": \"2021-10-25T00:00:00\", \"hidden state\": 1}, {\"time\": \"2021-10-26T00:00:00\", \"hidden state\": 5}, {\"time\": \"2021-10-27T00:00:00\", \"hidden state\": 5}, {\"time\": \"2021-10-28T00:00:00\", \"hidden state\": 5}, {\"time\": \"2021-10-29T00:00:00\", \"hidden state\": 5}, {\"time\": \"2021-10-30T00:00:00\", \"hidden state\": 5}, {\"time\": \"2021-10-31T00:00:00\", \"hidden state\": 5}, {\"time\": \"2021-11-01T00:00:00\", \"hidden state\": 4}, {\"time\": \"2021-11-02T00:00:00\", \"hidden state\": 4}, {\"time\": \"2021-11-03T00:00:00\", \"hidden state\": 4}, {\"time\": \"2021-11-04T00:00:00\", \"hidden state\": 4}, {\"time\": \"2021-11-05T00:00:00\", \"hidden state\": 4}, {\"time\": \"2021-11-06T00:00:00\", \"hidden state\": 4}, {\"time\": \"2021-11-07T00:00:00\", \"hidden state\": 5}, {\"time\": \"2021-11-08T00:00:00\", \"hidden state\": 5}, {\"time\": \"2021-11-09T00:00:00\", \"hidden state\": 5}, {\"time\": \"2021-11-10T00:00:00\", \"hidden state\": 5}, {\"time\": \"2021-11-11T00:00:00\", \"hidden state\": 5}, {\"time\": \"2021-11-12T00:00:00\", \"hidden state\": 4}, {\"time\": \"2021-11-13T00:00:00\", \"hidden state\": 4}, {\"time\": \"2021-11-14T00:00:00\", \"hidden state\": 4}, {\"time\": \"2021-11-15T00:00:00\", \"hidden state\": 4}, {\"time\": \"2021-11-16T00:00:00\", \"hidden state\": 4}, {\"time\": \"2021-11-17T00:00:00\", \"hidden state\": 4}, {\"time\": \"2021-11-18T00:00:00\", \"hidden state\": 4}, {\"time\": \"2021-11-19T00:00:00\", \"hidden state\": 4}, {\"time\": \"2021-11-20T00:00:00\", \"hidden state\": 4}, {\"time\": \"2021-11-21T00:00:00\", \"hidden state\": 5}, {\"time\": \"2021-11-22T00:00:00\", \"hidden state\": 5}, {\"time\": \"2021-11-23T00:00:00\", \"hidden state\": 5}, {\"time\": \"2021-11-24T00:00:00\", \"hidden state\": 5}, {\"time\": \"2021-11-25T00:00:00\", \"hidden state\": 5}, {\"time\": \"2021-11-26T00:00:00\", \"hidden state\": 5}, {\"time\": \"2021-11-27T00:00:00\", \"hidden state\": 6}, {\"time\": \"2021-11-28T00:00:00\", \"hidden state\": 6}, {\"time\": \"2021-11-29T00:00:00\", \"hidden state\": 6}, {\"time\": \"2021-11-30T00:00:00\", \"hidden state\": 6}, {\"time\": \"2021-12-01T00:00:00\", \"hidden state\": 6}, {\"time\": \"2021-12-02T00:00:00\", \"hidden state\": 6}, {\"time\": \"2021-12-03T00:00:00\", \"hidden state\": 6}, {\"time\": \"2021-12-04T00:00:00\", \"hidden state\": 6}, {\"time\": \"2021-12-05T00:00:00\", \"hidden state\": 6}, {\"time\": \"2021-12-06T00:00:00\", \"hidden state\": 6}, {\"time\": \"2021-12-07T00:00:00\", \"hidden state\": 6}, {\"time\": \"2021-12-08T00:00:00\", \"hidden state\": 6}, {\"time\": \"2021-12-09T00:00:00\", \"hidden state\": 6}, {\"time\": \"2021-12-10T00:00:00\", \"hidden state\": 6}, {\"time\": \"2021-12-11T00:00:00\", \"hidden state\": 6}, {\"time\": \"2021-12-12T00:00:00\", \"hidden state\": 6}, {\"time\": \"2021-12-13T00:00:00\", \"hidden state\": 6}]}};\n",
       "const opt = {};\n",
       "const type = \"vega-lite\";\n",
       "const id = \"c061cfb4-cf97-4540-94a7-f0bef5830f2b\";\n",
       "\n",
       "const output_area = this;\n",
       "\n",
       "require([\"nbextensions/jupyter-vega/index\"], function(vega) {\n",
       "  const target = document.createElement(\"div\");\n",
       "  target.id = id;\n",
       "  target.className = \"vega-embed\";\n",
       "\n",
       "  const style = document.createElement(\"style\");\n",
       "  style.textContent = [\n",
       "    \".vega-embed .error p {\",\n",
       "    \"  color: firebrick;\",\n",
       "    \"  font-size: 14px;\",\n",
       "    \"}\",\n",
       "  ].join(\"\\\\n\");\n",
       "\n",
       "  // element is a jQuery wrapped DOM element inside the output area\n",
       "  // see http://ipython.readthedocs.io/en/stable/api/generated/\\\n",
       "  // IPython.display.html#IPython.display.Javascript.__init__\n",
       "  element[0].appendChild(target);\n",
       "  element[0].appendChild(style);\n",
       "\n",
       "  vega.render(\"#\" + id, spec, type, opt, output_area);\n",
       "}, function (err) {\n",
       "  if (err.requireType !== \"scripterror\") {\n",
       "    throw(err);\n",
       "  }\n",
       "});\n"
      ],
      "text/plain": [
       "<vega.vegalite.VegaLite at 0x7f503c76d2b0>"
      ]
     },
     "metadata": {
      "jupyter-vega": "#c061cfb4-cf97-4540-94a7-f0bef5830f2b"
     },
     "output_type": "display_data"
    },
    {
     "data": {
      "image/png": "[encoded data removed]"
     },
     "metadata": {
      "jupyter-vega": "#c061cfb4-cf97-4540-94a7-f0bef5830f2b"
     },
     "output_type": "display_data"
    },
    {
     "data": {
      "text/plain": []
     },
     "execution_count": 16,
     "metadata": {},
     "output_type": "execute_result"
    }
   ],
   "source": [
    "flattened_hidden_states = gen.flatten_hidden_state_sequence(factored_hidden_states)\n",
    "hmmplot.draw_states(flattened_hidden_states, hide_brush=False)"
   ]
  },
  {
   "cell_type": "code",
   "execution_count": 17,
   "metadata": {},
   "outputs": [
    {
     "data": {
      "text/html": [
       "<div>\n",
       "<style scoped>\n",
       "    .dataframe tbody tr th:only-of-type {\n",
       "        vertical-align: middle;\n",
       "    }\n",
       "\n",
       "    .dataframe tbody tr th {\n",
       "        vertical-align: top;\n",
       "    }\n",
       "\n",
       "    .dataframe thead th {\n",
       "        text-align: right;\n",
       "    }\n",
       "</style>\n",
       "<table border=\"1\" class=\"dataframe\">\n",
       "  <thead>\n",
       "    <tr style=\"text-align: right;\">\n",
       "      <th></th>\n",
       "      <th>categorical_feature_0</th>\n",
       "      <th>categorical_feature_1</th>\n",
       "      <th>gaussian_feature_0</th>\n",
       "      <th>gaussian_feature_1</th>\n",
       "    </tr>\n",
       "  </thead>\n",
       "  <tbody>\n",
       "    <tr>\n",
       "      <th>2020-08-01</th>\n",
       "      <td>0</td>\n",
       "      <td>0</td>\n",
       "      <td>0.665125</td>\n",
       "      <td>3.697183</td>\n",
       "    </tr>\n",
       "    <tr>\n",
       "      <th>2020-08-02</th>\n",
       "      <td>0</td>\n",
       "      <td>0</td>\n",
       "      <td>0.305853</td>\n",
       "      <td>3.186638</td>\n",
       "    </tr>\n",
       "    <tr>\n",
       "      <th>2020-08-03</th>\n",
       "      <td>0</td>\n",
       "      <td>0</td>\n",
       "      <td>-1.689515</td>\n",
       "      <td>4.345930</td>\n",
       "    </tr>\n",
       "    <tr>\n",
       "      <th>2020-08-04</th>\n",
       "      <td>0</td>\n",
       "      <td>0</td>\n",
       "      <td>-0.030034</td>\n",
       "      <td>4.993107</td>\n",
       "    </tr>\n",
       "    <tr>\n",
       "      <th>2020-08-05</th>\n",
       "      <td>1</td>\n",
       "      <td>2</td>\n",
       "      <td>-0.879515</td>\n",
       "      <td>2.815902</td>\n",
       "    </tr>\n",
       "  </tbody>\n",
       "</table>\n",
       "</div>"
      ],
      "text/plain": [
       "            categorical_feature_0  categorical_feature_1  gaussian_feature_0  \\\n",
       "2020-08-01                      0                      0            0.665125   \n",
       "2020-08-02                      0                      0            0.305853   \n",
       "2020-08-03                      0                      0           -1.689515   \n",
       "2020-08-04                      0                      0           -0.030034   \n",
       "2020-08-05                      1                      2           -0.879515   \n",
       "\n",
       "            gaussian_feature_1  \n",
       "2020-08-01            3.697183  \n",
       "2020-08-02            3.186638  \n",
       "2020-08-03            4.345930  \n",
       "2020-08-04            4.993107  \n",
       "2020-08-05            2.815902  "
      ]
     },
     "execution_count": 17,
     "metadata": {},
     "output_type": "execute_result"
    }
   ],
   "source": [
    "data = gen.generate_observations(factored_hidden_states)\n",
    "data.head()"
   ]
  },
  {
   "cell_type": "code",
   "execution_count": 18,
   "metadata": {},
   "outputs": [],
   "source": [
    "fhmm_training_spec = hmm_gen.data_to_fhmm_training_spec(factored_hidden_states, \n",
    "                                   gen.ns_hidden_states, \n",
    "                                   data,\n",
    "                                   categorical_features = list(gen.categorical_values.columns), \n",
    "                                   gaussian_features = list(gen.gaussian_values.columns))\n",
    "\n",
    "fhmm_config = hmm.FactoredHMMConfiguration.from_spec(fhmm_training_spec)"
   ]
  },
  {
   "cell_type": "code",
   "execution_count": 19,
   "metadata": {},
   "outputs": [],
   "source": [
    "fhmm_config = hmm.FactoredHMMConfiguration.from_spec(fhmm_training_spec)\n",
    "fhmm_model = fhmm_config.to_model()"
   ]
  },
  {
   "cell_type": "code",
   "execution_count": 20,
   "metadata": {},
   "outputs": [],
   "source": [
    "def generate_fhmm_categorical_DBN(model):\n",
    "    \n",
    "    # Empty Dynamic Bayes Network\n",
    "    fhmm_graph = DBN.DynamicBayesianNetwork()\n",
    "\n",
    "    categorical_nodes = [(feat, 0) for feat in model.categorical_features for i in range(2)]\n",
    "    # Add observation nodes for t = 0, t = 1\n",
    "    fhmm_graph.add_nodes_from([('obs', 0),('obs', 1)], \n",
    "                              latent = [False, False])\n",
    "      \n",
    "    # Creates a recursive FHMM structure which can be repeated across timesteps (somehow?)\n",
    "    for i, hidden_state in enumerate(model.ns_hidden_states):\n",
    "        \n",
    "        current_system = 'system_{i}'.format(i)\n",
    "        \n",
    "        # Adds latent nodes for t=0, t=1\n",
    "        fhmm_graph.add_nodes_from([(current_system, 0), (current_system, 1)], \n",
    "                                   latent=[True, True])\n",
    "        \n",
    "        fhmm_graph.add_edges_from([((current_system, 0), # latent state[t=0] -> latent state[t=1]\n",
    "                                    (current_system, 1)),\n",
    "                                  ((current_system, 0), # latent state[t=0] -> observation[t=0]\n",
    "                                  ('obs', 0)),\n",
    "                                  ((current_system, 1), # latent state[t=1] -> observation[t=1]\n",
    "                                   ('obs', 1))])\n",
    "        \n",
    "        transition_matrix = np.exp(model.log_transition)[i][:hidden_state,:hidden_state]\n",
    "        \n",
    "        initial_state_vector = np.exp(model.log_initial_state)[i:i+1,:hidden_state].reshape(-1,1)\n",
    "\n",
    "        \n",
    "        transition_cpd = TabularCPD((current_system, 1), hidden_state, transition_matrix,\n",
    "                                    evidence=[(current_system, 0)], evidence_card = [hidden_state])\n",
    "        \n",
    "\n",
    "        initial_state_cpd = TabularCPD((current_system, 0), hidden_state, initial_state_vector)\n",
    "        \n",
    "        fhmm_graph.add_cpds(transition_cpd, initial_state_cpd)\n",
    "        \n",
    "    emission_matrix = np.exp(model.categorical_model.log_emission_matrix)\n",
    "        \n",
    "    emission_card = len(model.categorical_model.categorical_values)\n",
    "    \n",
    "    emission0_evidence = [node for node in fhmm_graph.get_slice_nodes(time_slice=0) \n",
    "                          if fhmm_graph.nodes[node]['latent']]\n",
    "    emission1_evidence = [node for node in fhmm_graph.get_slice_nodes(time_slice=1) \n",
    "                          if fhmm_graph.nodes[node]['latent']]\n",
    "    \n",
    "    emission0_cpd = TabularCPD(('obs', 0), emission_card, emission_matrix, evidence=emission0_evidence, \n",
    "                                  evidence_card = model.ns_hidden_states)\n",
    "        \n",
    "    emission1_cpd = TabularCPD(('obs', 1), emission_card, emission_matrix, evidence=emission1_evidence, \n",
    "                                  evidence_card = model.ns_hidden_states)  \n",
    "    \n",
    "    fhmm_graph.add_cpds(emission0_cpd, emission1_cpd)\n",
    "    \n",
    "    \n",
    "    return fhmm_graph"
   ]
  },
  {
   "cell_type": "code",
   "execution_count": 49,
   "metadata": {},
   "outputs": [],
   "source": [
    "fhmm_graph = DBN.DynamicBayesianNetwork()\n",
    "fhmm_model.categorical_features\n",
    "categorical_nodes = [(feat, i) for feat in fhmm_model.categorical_features for i in range(2)]\n",
    "fhmm_graph.add_nodes_from(categorical_nodes, \n",
    "                          latent = [False]*len(categorical_nodes))\n",
    "fhmm_model.gaussian_features\n",
    "gaussian_nodes = [(feat, i) for feat in fhmm_model.gaussian_features for i in range(2)]"
   ]
  },
  {
   "cell_type": "code",
   "execution_count": null,
   "metadata": {},
   "outputs": [],
   "source": []
  },
  {
   "cell_type": "code",
   "execution_count": 21,
   "metadata": {},
   "outputs": [],
   "source": [
    "fhmm_graph = generate_fhmm_categorical_DBN(fhmm_model)"
   ]
  },
  {
   "cell_type": "code",
   "execution_count": 22,
   "metadata": {},
   "outputs": [
    {
     "data": {
      "text/plain": [
       "OutEdgeView([(('system_0', 0), ('system_0', 1)), (('system_0', 0), ('obs', 0)), (('system_0', 1), ('obs', 1)), (('system_1', 0), ('system_1', 1)), (('system_1', 0), ('obs', 0)), (('system_1', 1), ('obs', 1)), (('system_2', 0), ('system_2', 1)), (('system_2', 0), ('obs', 0)), (('system_2', 1), ('obs', 1))])"
      ]
     },
     "execution_count": 22,
     "metadata": {},
     "output_type": "execute_result"
    }
   ],
   "source": [
    "fhmm_graph.edges"
   ]
  },
  {
   "cell_type": "code",
   "execution_count": 24,
   "metadata": {},
   "outputs": [
    {
     "name": "stdout",
     "output_type": "stream",
     "text": [
      "latent status for node obs at time step 0:  {'latent': False}\n",
      "latent status for node obs at time step 1:  {'latent': False}\n",
      "latent status for node system_0 at time step 0:  {'latent': True}\n",
      "latent status for node system_0 at time step 1:  {'latent': True}\n",
      "latent status for node system_1 at time step 0:  {'latent': True}\n",
      "latent status for node system_1 at time step 1:  {'latent': True}\n",
      "latent status for node system_2 at time step 0:  {'latent': True}\n",
      "latent status for node system_2 at time step 1:  {'latent': True}\n"
     ]
    }
   ],
   "source": [
    "for node in fhmm_graph.nodes:\n",
    "    print(\"latent status for node {} at time step {}: \".format(node[0], node[1]), \n",
    "          fhmm_graph.nodes[node])"
   ]
  },
  {
   "cell_type": "code",
   "execution_count": 25,
   "metadata": {},
   "outputs": [
    {
     "name": "stderr",
     "output_type": "stream",
     "text": [
      "/opt/conda/lib/python3.7/site-packages/pgmpy/factors/discrete/CPD.py:499: UserWarning: Same ordering provided as current\n",
      "  warn(\"Same ordering provided as current\")\n"
     ]
    },
    {
     "data": {
      "text/plain": [
       "True"
      ]
     },
     "execution_count": 25,
     "metadata": {},
     "output_type": "execute_result"
    }
   ],
   "source": [
    "fhmm_graph.check_model()"
   ]
  },
  {
   "cell_type": "code",
   "execution_count": 26,
   "metadata": {},
   "outputs": [
    {
     "data": {
      "text/plain": [
       "[<TabularCPD representing P(('system_0', 0):3) at 0x7f4faa4b6668>,\n",
       " <TabularCPD representing P(('obs', 0):6 | ('system_0', 0):3, ('system_2', 0):2, ('system_1', 0):2) at 0x7f4faa517ef0>,\n",
       " <TabularCPD representing P(('system_2', 0):2) at 0x7f4faa4b67b8>,\n",
       " <TabularCPD representing P(('system_1', 0):2) at 0x7f4faa4b64e0>]"
      ]
     },
     "execution_count": 26,
     "metadata": {},
     "output_type": "execute_result"
    }
   ],
   "source": [
    "fhmm_graph.get_cpds(time_slice=0)"
   ]
  },
  {
   "cell_type": "code",
   "execution_count": 27,
   "metadata": {},
   "outputs": [
    {
     "data": {
      "text/plain": [
       "[<TabularCPD representing P(('system_0', 1):3 | ('system_0', 0):3) at 0x7f4faa4b6630>,\n",
       " <TabularCPD representing P(('obs', 1):6 | ('system_0', 1):3, ('system_2', 1):2, ('system_1', 1):2) at 0x7f4faa4b65c0>,\n",
       " <TabularCPD representing P(('system_2', 1):2 | ('system_2', 0):2) at 0x7f4faa4b6780>,\n",
       " <TabularCPD representing P(('system_1', 1):2 | ('system_1', 0):2) at 0x7f4faa4b64a8>]"
      ]
     },
     "execution_count": 27,
     "metadata": {},
     "output_type": "execute_result"
    }
   ],
   "source": [
    "fhmm_graph.get_cpds(time_slice=1)"
   ]
  },
  {
   "cell_type": "code",
   "execution_count": 39,
   "metadata": {},
   "outputs": [
    {
     "data": {
      "text/plain": [
       "masked_array(\n",
       "  data=[[[0.8959289358727007, 1.1660030750799217, 3.1859228917838327],\n",
       "         [2.112980008426064, -1.398312301943989, -2.0449422978189262]],\n",
       "\n",
       "        [[0.889253177337503, 3.2462219618898023, --],\n",
       "         [-0.4435990069891127, -1.6820928868348266, --]],\n",
       "\n",
       "        [[1.7672649394756046, 1.6359612363600458, --],\n",
       "         [-1.9737074149194755, 0.34055629412200683, --]]],\n",
       "  mask=[[[False, False, False],\n",
       "         [False, False, False]],\n",
       "\n",
       "        [[False, False,  True],\n",
       "         [False, False,  True]],\n",
       "\n",
       "        [[False, False,  True],\n",
       "         [False, False,  True]]],\n",
       "  fill_value=0.0)"
      ]
     },
     "execution_count": 39,
     "metadata": {},
     "output_type": "execute_result"
    }
   ],
   "source": [
    "fhmm_model.gaussian_model.means"
   ]
  },
  {
   "cell_type": "code",
   "execution_count": 40,
   "metadata": {},
   "outputs": [
    {
     "data": {
      "text/plain": [
       "array([[ 2.94621038, -1.28011062],\n",
       "       [-1.28011062,  4.84036407]])"
      ]
     },
     "execution_count": 40,
     "metadata": {},
     "output_type": "execute_result"
    }
   ],
   "source": [
    "fhmm_model.gaussian_model.covariance"
   ]
  },
  {
   "cell_type": "code",
   "execution_count": 42,
   "metadata": {},
   "outputs": [
    {
     "data": {
      "text/plain": [
       "[<TabularCPD representing P(('system_0', 1):3 | ('system_0', 0):3) at 0x7f4faa4b6630>,\n",
       " <TabularCPD representing P(('system_0', 0):3) at 0x7f4faa4b6668>,\n",
       " <TabularCPD representing P(('system_1', 1):2 | ('system_1', 0):2) at 0x7f4faa4b64a8>,\n",
       " <TabularCPD representing P(('system_1', 0):2) at 0x7f4faa4b64e0>,\n",
       " <TabularCPD representing P(('system_2', 1):2 | ('system_2', 0):2) at 0x7f4faa4b6780>,\n",
       " <TabularCPD representing P(('system_2', 0):2) at 0x7f4faa4b67b8>,\n",
       " <TabularCPD representing P(('obs', 0):6 | ('system_0', 0):3, ('system_2', 0):2, ('system_1', 0):2) at 0x7f4faa517ef0>,\n",
       " <TabularCPD representing P(('obs', 1):6 | ('system_0', 1):3, ('system_2', 1):2, ('system_1', 1):2) at 0x7f4faa4b65c0>]"
      ]
     },
     "execution_count": 42,
     "metadata": {},
     "output_type": "execute_result"
    }
   ],
   "source": [
    "fhmm_graph.cpds"
   ]
  },
  {
   "cell_type": "code",
   "execution_count": 43,
   "metadata": {},
   "outputs": [],
   "source": [
    "from pgmpy.factors.continuous import ContinuousFactor"
   ]
  },
  {
   "cell_type": "code",
   "execution_count": null,
   "metadata": {},
   "outputs": [],
   "source": [
    "gaussian_factor = ContinuousFactor([('obs', 0)], \"gaussian\", mean=)"
   ]
  }
 ],
 "metadata": {
  "kernelspec": {
   "display_name": "Python 3",
   "language": "python",
   "name": "python3"
  },
  "language_info": {
   "codemirror_mode": {
    "name": "ipython",
    "version": 3
   },
   "file_extension": ".py",
   "mimetype": "text/x-python",
   "name": "python",
   "nbconvert_exporter": "python",
   "pygments_lexer": "ipython3",
   "version": "3.7.3"
  }
 },
 "nbformat": 4,
 "nbformat_minor": 2
}
