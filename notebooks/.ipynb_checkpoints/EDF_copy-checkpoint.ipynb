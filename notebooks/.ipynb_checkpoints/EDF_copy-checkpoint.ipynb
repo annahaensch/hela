{
 "cells": [
  {
   "cell_type": "code",
   "execution_count": 41,
   "metadata": {},
   "outputs": [
    {
     "data": {
      "text/plain": [
       "(52705, 725)"
      ]
     },
     "execution_count": 41,
     "metadata": {},
     "output_type": "execute_result"
    }
   ],
   "source": [
    "import pandas as pd\n",
    "\n",
    "df = pd.read_parquet('data/interim/Phase_I/Version_2020_07_07/Synchronized_datasets/WT01_sync.pq')\n",
    "cols = [col for col in df.columns.tolist() if 'WTOperationState' in col]\n",
    "sel_col_ind=[1,2,10,12]\n",
    "\n",
    "new_cols = []\n",
    "new_cols.append(cols[1])\n",
    "new_cols.append(cols[2])\n",
    "new_cols.append(cols[10])\n",
    "new_cols.append(cols[11])\n",
    "df.loc[df['WTOperationState__n_transitions']!=0,new_cols]\n",
    "df.shape"
   ]
  },
  {
   "cell_type": "code",
   "execution_count": 16,
   "metadata": {},
   "outputs": [
    {
     "data": {
      "text/html": [
       "<div>\n",
       "<style scoped>\n",
       "    .dataframe tbody tr th:only-of-type {\n",
       "        vertical-align: middle;\n",
       "    }\n",
       "\n",
       "    .dataframe tbody tr th {\n",
       "        vertical-align: top;\n",
       "    }\n",
       "\n",
       "    .dataframe thead th {\n",
       "        text-align: right;\n",
       "    }\n",
       "</style>\n",
       "<table border=\"1\" class=\"dataframe\">\n",
       "  <thead>\n",
       "    <tr style=\"text-align: right;\">\n",
       "      <th></th>\n",
       "      <th>DateTime_TrafoTemp</th>\n",
       "      <th>TrafoTemp</th>\n",
       "    </tr>\n",
       "  </thead>\n",
       "  <tbody>\n",
       "    <tr>\n",
       "      <th>10</th>\n",
       "      <td>2016-01-01 17:42:06.680008</td>\n",
       "      <td>49.0</td>\n",
       "    </tr>\n",
       "    <tr>\n",
       "      <th>11</th>\n",
       "      <td>2016-01-01 19:45:42.245010</td>\n",
       "      <td>53.0</td>\n",
       "    </tr>\n",
       "    <tr>\n",
       "      <th>12</th>\n",
       "      <td>2016-01-01 20:43:59.957001</td>\n",
       "      <td>56.0</td>\n",
       "    </tr>\n",
       "    <tr>\n",
       "      <th>13</th>\n",
       "      <td>2016-01-01 21:36:17.952011</td>\n",
       "      <td>59.0</td>\n",
       "    </tr>\n",
       "    <tr>\n",
       "      <th>14</th>\n",
       "      <td>2016-01-01 22:41:45.478012</td>\n",
       "      <td>61.0</td>\n",
       "    </tr>\n",
       "    <tr>\n",
       "      <th>15</th>\n",
       "      <td>2016-01-02 00:37:21.073013</td>\n",
       "      <td>66.0</td>\n",
       "    </tr>\n",
       "    <tr>\n",
       "      <th>16</th>\n",
       "      <td>2016-01-02 00:37:51.058014</td>\n",
       "      <td>66.0</td>\n",
       "    </tr>\n",
       "    <tr>\n",
       "      <th>17</th>\n",
       "      <td>2016-01-02 01:36:08.848999</td>\n",
       "      <td>67.0</td>\n",
       "    </tr>\n",
       "    <tr>\n",
       "      <th>18</th>\n",
       "      <td>2016-01-02 01:49:58.318008</td>\n",
       "      <td>Bad</td>\n",
       "    </tr>\n",
       "    <tr>\n",
       "      <th>19</th>\n",
       "      <td>2016-01-02 01:56:08.082001</td>\n",
       "      <td>68.0</td>\n",
       "    </tr>\n",
       "    <tr>\n",
       "      <th>20</th>\n",
       "      <td>2016-01-02 01:56:48.068008</td>\n",
       "      <td>Bad</td>\n",
       "    </tr>\n",
       "  </tbody>\n",
       "</table>\n",
       "</div>"
      ],
      "text/plain": [
       "            DateTime_TrafoTemp TrafoTemp\n",
       "10  2016-01-01 17:42:06.680008      49.0\n",
       "11  2016-01-01 19:45:42.245010      53.0\n",
       "12  2016-01-01 20:43:59.957001      56.0\n",
       "13  2016-01-01 21:36:17.952011      59.0\n",
       "14  2016-01-01 22:41:45.478012      61.0\n",
       "15  2016-01-02 00:37:21.073013      66.0\n",
       "16  2016-01-02 00:37:51.058014      66.0\n",
       "17  2016-01-02 01:36:08.848999      67.0\n",
       "18  2016-01-02 01:49:58.318008       Bad\n",
       "19  2016-01-02 01:56:08.082001      68.0\n",
       "20  2016-01-02 01:56:48.068008       Bad"
      ]
     },
     "execution_count": 16,
     "metadata": {},
     "output_type": "execute_result"
    }
   ],
   "source": [
    "import pandas as pd\n",
    "\n",
    "df = pd.read_csv('data/interim/Phase_I/Teesside_data/Teesside_WT01/WT01_2016_01.csv', delimiter = ';', skiprows = 1)\n",
    "df.loc[10:20, ['DateTime_TrafoTemp','TrafoTemp']]"
   ]
  },
  {
   "cell_type": "code",
   "execution_count": 44,
   "metadata": {},
   "outputs": [
    {
     "data": {
      "text/plain": [
       "DateTime_10minAvg                      2016-01-12 14:20:00\n",
       "ActivePower_Avg-SQL-10minAvg                             0\n",
       "ActivePower_Max-SQL-10minAvg                             0\n",
       "ActivePower_Min-SQL-10minAvg                             0\n",
       "Amb_WindSpeed1_Avg-SQL-10minAvg                          0\n",
       "                                              ...         \n",
       "WpsStatus_Fault condition                                0\n",
       "WpsStatus_Faultless                                      0\n",
       "WpsStatus_No communication with WTC                      0\n",
       "WpsStatus_Service mode                                   0\n",
       "WpsStatus__n_transitions                                 0\n",
       "Name: 1670, Length: 726, dtype: object"
      ]
     },
     "execution_count": 44,
     "metadata": {},
     "output_type": "execute_result"
    }
   ],
   "source": [
    "df.reset_index().loc[1670,:]"
   ]
  },
  {
   "cell_type": "code",
   "execution_count": null,
   "metadata": {},
   "outputs": [],
   "source": []
  }
 ],
 "metadata": {
  "kernelspec": {
   "display_name": "Python 3",
   "language": "python",
   "name": "python3"
  },
  "language_info": {
   "codemirror_mode": {
    "name": "ipython",
    "version": 3
   },
   "file_extension": ".py",
   "mimetype": "text/x-python",
   "name": "python",
   "nbconvert_exporter": "python",
   "pygments_lexer": "ipython3",
   "version": "3.7.3"
  }
 },
 "nbformat": 4,
 "nbformat_minor": 4
}
