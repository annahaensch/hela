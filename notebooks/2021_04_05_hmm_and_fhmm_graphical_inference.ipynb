{
 "cells": [
  {
   "cell_type": "code",
   "execution_count": 1,
   "metadata": {},
   "outputs": [],
   "source": [
    "import pandas as pd\n",
    "import numpy as np\n",
    "\n",
    "# Hela ML libraries \n",
    "from hela import hmm\n",
    "import hela.generation.hmm as hmm_gen\n",
    "\n",
    "# Viz libraries\n",
    "import altair as alt\n",
    "import hela.visualization.hmm as hmmplot \n",
    "import matplotlib.pyplot as plt\n",
    "from hela.visualization.hmm import TU_COLORS\n",
    "%matplotlib inline\n",
    "\n",
    "# Utility Libraries\n",
    "from datetime import datetime\n",
    "from dask.distributed import Client\n",
    "from scipy.special import logsumexp\n",
    "from scipy import stats\n",
    "import itertools\n",
    "from IPython.display import Image\n",
    "\n",
    "# PGMPy\n",
    "from hela.hmm.graphical_models import DynamicBayesianNetwork as dbn\n",
    "from hela.hmm.graphical_models import structured_inference as dbn_inf"
   ]
  },
  {
   "cell_type": "markdown",
   "metadata": {},
   "source": [
    "### FHMM Model"
   ]
  },
  {
   "cell_type": "code",
   "execution_count": 2,
   "metadata": {},
   "outputs": [],
   "source": [
    "gen = hmm_gen.FactoredHMMGenerativeModel(\n",
    "                                     ns_hidden_states =[2, 2],\n",
    "                                     n_gaussian_features = 0,\n",
    "                                     n_categorical_features = 1)\n",
    "\n",
    "factored_hidden_states = gen.generate_hidden_state_sequence(n_observations = 500)"
   ]
  },
  {
   "cell_type": "code",
   "execution_count": 3,
   "metadata": {},
   "outputs": [
    {
     "data": {
      "application/javascript": [
       "const spec = {\"config\": {\"view\": {\"width\": 400, \"height\": 300}, \"mark\": {\"tooltip\": null}}, \"vconcat\": [{\"mark\": {\"type\": \"tick\", \"opacity\": 1, \"size\": 300, \"thickness\": 2}, \"encoding\": {\"color\": {\"type\": \"nominal\", \"field\": \"hidden state\", \"legend\": {\"orient\": \"bottom\", \"title\": \"hidden states\"}, \"scale\": {\"scheme\": \"spectral\"}}, \"tooltip\": [{\"type\": \"temporal\", \"field\": \"time\"}, {\"type\": \"nominal\", \"field\": \"hidden state\"}], \"x\": {\"type\": \"temporal\", \"axis\": {\"title\": null}, \"field\": \"time\", \"scale\": {\"domain\": {\"selection\": \"selector001\"}}}, \"y\": {\"value\": 0}}, \"height\": 150, \"width\": 900}, {\"mark\": {\"type\": \"tick\", \"opacity\": 0, \"size\": 100.0, \"thickness\": 2}, \"encoding\": {\"x\": {\"type\": \"temporal\", \"axis\": {\"title\": null}, \"field\": \"time\", \"scale\": {\"domain\": {\"selection\": \"selector001\"}}}, \"y\": {\"value\": 0}}, \"height\": 25.0, \"selection\": {\"selector001\": {\"type\": \"interval\", \"encodings\": [\"x\"]}}, \"width\": 900}], \"data\": {\"name\": \"data-2805e1b23c0573bf351c44c9f5c95fdc\"}, \"$schema\": \"https://vega.github.io/schema/vega-lite/v3.4.0.json\", \"datasets\": {\"data-2805e1b23c0573bf351c44c9f5c95fdc\": [{\"time\": \"2020-08-01T00:00:00\", \"hidden state\": 0}, {\"time\": \"2020-08-02T00:00:00\", \"hidden state\": 0}, {\"time\": \"2020-08-03T00:00:00\", \"hidden state\": 0}, {\"time\": \"2020-08-04T00:00:00\", \"hidden state\": 0}, {\"time\": \"2020-08-05T00:00:00\", \"hidden state\": 0}, {\"time\": \"2020-08-06T00:00:00\", \"hidden state\": 0}, {\"time\": \"2020-08-07T00:00:00\", \"hidden state\": 0}, {\"time\": \"2020-08-08T00:00:00\", \"hidden state\": 0}, {\"time\": \"2020-08-09T00:00:00\", \"hidden state\": 0}, {\"time\": \"2020-08-10T00:00:00\", \"hidden state\": 0}, {\"time\": \"2020-08-11T00:00:00\", \"hidden state\": 0}, {\"time\": \"2020-08-12T00:00:00\", \"hidden state\": 0}, {\"time\": \"2020-08-13T00:00:00\", \"hidden state\": 0}, {\"time\": \"2020-08-14T00:00:00\", \"hidden state\": 0}, {\"time\": \"2020-08-15T00:00:00\", \"hidden state\": 0}, {\"time\": \"2020-08-16T00:00:00\", \"hidden state\": 1}, {\"time\": \"2020-08-17T00:00:00\", \"hidden state\": 1}, {\"time\": \"2020-08-18T00:00:00\", \"hidden state\": 1}, {\"time\": \"2020-08-19T00:00:00\", \"hidden state\": 1}, {\"time\": \"2020-08-20T00:00:00\", \"hidden state\": 1}, {\"time\": \"2020-08-21T00:00:00\", \"hidden state\": 1}, {\"time\": \"2020-08-22T00:00:00\", \"hidden state\": 1}, {\"time\": \"2020-08-23T00:00:00\", \"hidden state\": 1}, {\"time\": \"2020-08-24T00:00:00\", \"hidden state\": 1}, {\"time\": \"2020-08-25T00:00:00\", \"hidden state\": 1}, {\"time\": \"2020-08-26T00:00:00\", \"hidden state\": 1}, {\"time\": \"2020-08-27T00:00:00\", \"hidden state\": 1}, {\"time\": \"2020-08-28T00:00:00\", \"hidden state\": 1}, {\"time\": \"2020-08-29T00:00:00\", \"hidden state\": 1}, {\"time\": \"2020-08-30T00:00:00\", \"hidden state\": 1}, {\"time\": \"2020-08-31T00:00:00\", \"hidden state\": 1}, {\"time\": \"2020-09-01T00:00:00\", \"hidden state\": 1}, {\"time\": \"2020-09-02T00:00:00\", \"hidden state\": 1}, {\"time\": \"2020-09-03T00:00:00\", \"hidden state\": 1}, {\"time\": \"2020-09-04T00:00:00\", \"hidden state\": 1}, {\"time\": \"2020-09-05T00:00:00\", \"hidden state\": 0}, {\"time\": \"2020-09-06T00:00:00\", \"hidden state\": 0}, {\"time\": \"2020-09-07T00:00:00\", \"hidden state\": 0}, {\"time\": \"2020-09-08T00:00:00\", \"hidden state\": 0}, {\"time\": \"2020-09-09T00:00:00\", \"hidden state\": 0}, {\"time\": \"2020-09-10T00:00:00\", \"hidden state\": 0}, {\"time\": \"2020-09-11T00:00:00\", \"hidden state\": 0}, {\"time\": \"2020-09-12T00:00:00\", \"hidden state\": 0}, {\"time\": \"2020-09-13T00:00:00\", \"hidden state\": 0}, {\"time\": \"2020-09-14T00:00:00\", \"hidden state\": 0}, {\"time\": \"2020-09-15T00:00:00\", \"hidden state\": 0}, {\"time\": \"2020-09-16T00:00:00\", \"hidden state\": 0}, {\"time\": \"2020-09-17T00:00:00\", \"hidden state\": 0}, {\"time\": \"2020-09-18T00:00:00\", \"hidden state\": 2}, {\"time\": \"2020-09-19T00:00:00\", \"hidden state\": 2}, {\"time\": \"2020-09-20T00:00:00\", \"hidden state\": 2}, {\"time\": \"2020-09-21T00:00:00\", \"hidden state\": 0}, {\"time\": \"2020-09-22T00:00:00\", \"hidden state\": 0}, {\"time\": \"2020-09-23T00:00:00\", \"hidden state\": 0}, {\"time\": \"2020-09-24T00:00:00\", \"hidden state\": 0}, {\"time\": \"2020-09-25T00:00:00\", \"hidden state\": 0}, {\"time\": \"2020-09-26T00:00:00\", \"hidden state\": 0}, {\"time\": \"2020-09-27T00:00:00\", \"hidden state\": 0}, {\"time\": \"2020-09-28T00:00:00\", \"hidden state\": 0}, {\"time\": \"2020-09-29T00:00:00\", \"hidden state\": 0}, {\"time\": \"2020-09-30T00:00:00\", \"hidden state\": 0}, {\"time\": \"2020-10-01T00:00:00\", \"hidden state\": 0}, {\"time\": \"2020-10-02T00:00:00\", \"hidden state\": 0}, {\"time\": \"2020-10-03T00:00:00\", \"hidden state\": 0}, {\"time\": \"2020-10-04T00:00:00\", \"hidden state\": 0}, {\"time\": \"2020-10-05T00:00:00\", \"hidden state\": 0}, {\"time\": \"2020-10-06T00:00:00\", \"hidden state\": 0}, {\"time\": \"2020-10-07T00:00:00\", \"hidden state\": 0}, {\"time\": \"2020-10-08T00:00:00\", \"hidden state\": 0}, {\"time\": \"2020-10-09T00:00:00\", \"hidden state\": 0}, {\"time\": \"2020-10-10T00:00:00\", \"hidden state\": 0}, {\"time\": \"2020-10-11T00:00:00\", \"hidden state\": 0}, {\"time\": \"2020-10-12T00:00:00\", \"hidden state\": 2}, {\"time\": \"2020-10-13T00:00:00\", \"hidden state\": 2}, {\"time\": \"2020-10-14T00:00:00\", \"hidden state\": 2}, {\"time\": \"2020-10-15T00:00:00\", \"hidden state\": 2}, {\"time\": \"2020-10-16T00:00:00\", \"hidden state\": 2}, {\"time\": \"2020-10-17T00:00:00\", \"hidden state\": 2}, {\"time\": \"2020-10-18T00:00:00\", \"hidden state\": 3}, {\"time\": \"2020-10-19T00:00:00\", \"hidden state\": 3}, {\"time\": \"2020-10-20T00:00:00\", \"hidden state\": 3}, {\"time\": \"2020-10-21T00:00:00\", \"hidden state\": 3}, {\"time\": \"2020-10-22T00:00:00\", \"hidden state\": 3}, {\"time\": \"2020-10-23T00:00:00\", \"hidden state\": 3}, {\"time\": \"2020-10-24T00:00:00\", \"hidden state\": 3}, {\"time\": \"2020-10-25T00:00:00\", \"hidden state\": 3}, {\"time\": \"2020-10-26T00:00:00\", \"hidden state\": 3}, {\"time\": \"2020-10-27T00:00:00\", \"hidden state\": 3}, {\"time\": \"2020-10-28T00:00:00\", \"hidden state\": 3}, {\"time\": \"2020-10-29T00:00:00\", \"hidden state\": 3}, {\"time\": \"2020-10-30T00:00:00\", \"hidden state\": 3}, {\"time\": \"2020-10-31T00:00:00\", \"hidden state\": 3}, {\"time\": \"2020-11-01T00:00:00\", \"hidden state\": 3}, {\"time\": \"2020-11-02T00:00:00\", \"hidden state\": 1}, {\"time\": \"2020-11-03T00:00:00\", \"hidden state\": 1}, {\"time\": \"2020-11-04T00:00:00\", \"hidden state\": 1}, {\"time\": \"2020-11-05T00:00:00\", \"hidden state\": 1}, {\"time\": \"2020-11-06T00:00:00\", \"hidden state\": 1}, {\"time\": \"2020-11-07T00:00:00\", \"hidden state\": 1}, {\"time\": \"2020-11-08T00:00:00\", \"hidden state\": 1}, {\"time\": \"2020-11-09T00:00:00\", \"hidden state\": 1}, {\"time\": \"2020-11-10T00:00:00\", \"hidden state\": 1}, {\"time\": \"2020-11-11T00:00:00\", \"hidden state\": 1}, {\"time\": \"2020-11-12T00:00:00\", \"hidden state\": 1}, {\"time\": \"2020-11-13T00:00:00\", \"hidden state\": 1}, {\"time\": \"2020-11-14T00:00:00\", \"hidden state\": 1}, {\"time\": \"2020-11-15T00:00:00\", \"hidden state\": 1}, {\"time\": \"2020-11-16T00:00:00\", \"hidden state\": 1}, {\"time\": \"2020-11-17T00:00:00\", \"hidden state\": 1}, {\"time\": \"2020-11-18T00:00:00\", \"hidden state\": 1}, {\"time\": \"2020-11-19T00:00:00\", \"hidden state\": 1}, {\"time\": \"2020-11-20T00:00:00\", \"hidden state\": 1}, {\"time\": \"2020-11-21T00:00:00\", \"hidden state\": 1}, {\"time\": \"2020-11-22T00:00:00\", \"hidden state\": 1}, {\"time\": \"2020-11-23T00:00:00\", \"hidden state\": 1}, {\"time\": \"2020-11-24T00:00:00\", \"hidden state\": 1}, {\"time\": \"2020-11-25T00:00:00\", \"hidden state\": 1}, {\"time\": \"2020-11-26T00:00:00\", \"hidden state\": 1}, {\"time\": \"2020-11-27T00:00:00\", \"hidden state\": 1}, {\"time\": \"2020-11-28T00:00:00\", \"hidden state\": 1}, {\"time\": \"2020-11-29T00:00:00\", \"hidden state\": 1}, {\"time\": \"2020-11-30T00:00:00\", \"hidden state\": 1}, {\"time\": \"2020-12-01T00:00:00\", \"hidden state\": 1}, {\"time\": \"2020-12-02T00:00:00\", \"hidden state\": 1}, {\"time\": \"2020-12-03T00:00:00\", \"hidden state\": 1}, {\"time\": \"2020-12-04T00:00:00\", \"hidden state\": 1}, {\"time\": \"2020-12-05T00:00:00\", \"hidden state\": 1}, {\"time\": \"2020-12-06T00:00:00\", \"hidden state\": 1}, {\"time\": \"2020-12-07T00:00:00\", \"hidden state\": 1}, {\"time\": \"2020-12-08T00:00:00\", \"hidden state\": 1}, {\"time\": \"2020-12-09T00:00:00\", \"hidden state\": 1}, {\"time\": \"2020-12-10T00:00:00\", \"hidden state\": 1}, {\"time\": \"2020-12-11T00:00:00\", \"hidden state\": 1}, {\"time\": \"2020-12-12T00:00:00\", \"hidden state\": 1}, {\"time\": \"2020-12-13T00:00:00\", \"hidden state\": 1}, {\"time\": \"2020-12-14T00:00:00\", \"hidden state\": 1}, {\"time\": \"2020-12-15T00:00:00\", \"hidden state\": 1}, {\"time\": \"2020-12-16T00:00:00\", \"hidden state\": 1}, {\"time\": \"2020-12-17T00:00:00\", \"hidden state\": 1}, {\"time\": \"2020-12-18T00:00:00\", \"hidden state\": 1}, {\"time\": \"2020-12-19T00:00:00\", \"hidden state\": 1}, {\"time\": \"2020-12-20T00:00:00\", \"hidden state\": 1}, {\"time\": \"2020-12-21T00:00:00\", \"hidden state\": 1}, {\"time\": \"2020-12-22T00:00:00\", \"hidden state\": 1}, {\"time\": \"2020-12-23T00:00:00\", \"hidden state\": 1}, {\"time\": \"2020-12-24T00:00:00\", \"hidden state\": 1}, {\"time\": \"2020-12-25T00:00:00\", \"hidden state\": 1}, {\"time\": \"2020-12-26T00:00:00\", \"hidden state\": 1}, {\"time\": \"2020-12-27T00:00:00\", \"hidden state\": 1}, {\"time\": \"2020-12-28T00:00:00\", \"hidden state\": 1}, {\"time\": \"2020-12-29T00:00:00\", \"hidden state\": 1}, {\"time\": \"2020-12-30T00:00:00\", \"hidden state\": 1}, {\"time\": \"2020-12-31T00:00:00\", \"hidden state\": 1}, {\"time\": \"2021-01-01T00:00:00\", \"hidden state\": 1}, {\"time\": \"2021-01-02T00:00:00\", \"hidden state\": 1}, {\"time\": \"2021-01-03T00:00:00\", \"hidden state\": 1}, {\"time\": \"2021-01-04T00:00:00\", \"hidden state\": 1}, {\"time\": \"2021-01-05T00:00:00\", \"hidden state\": 1}, {\"time\": \"2021-01-06T00:00:00\", \"hidden state\": 1}, {\"time\": \"2021-01-07T00:00:00\", \"hidden state\": 1}, {\"time\": \"2021-01-08T00:00:00\", \"hidden state\": 1}, {\"time\": \"2021-01-09T00:00:00\", \"hidden state\": 1}, {\"time\": \"2021-01-10T00:00:00\", \"hidden state\": 1}, {\"time\": \"2021-01-11T00:00:00\", \"hidden state\": 1}, {\"time\": \"2021-01-12T00:00:00\", \"hidden state\": 1}, {\"time\": \"2021-01-13T00:00:00\", \"hidden state\": 1}, {\"time\": \"2021-01-14T00:00:00\", \"hidden state\": 1}, {\"time\": \"2021-01-15T00:00:00\", \"hidden state\": 1}, {\"time\": \"2021-01-16T00:00:00\", \"hidden state\": 1}, {\"time\": \"2021-01-17T00:00:00\", \"hidden state\": 1}, {\"time\": \"2021-01-18T00:00:00\", \"hidden state\": 1}, {\"time\": \"2021-01-19T00:00:00\", \"hidden state\": 1}, {\"time\": \"2021-01-20T00:00:00\", \"hidden state\": 1}, {\"time\": \"2021-01-21T00:00:00\", \"hidden state\": 1}, {\"time\": \"2021-01-22T00:00:00\", \"hidden state\": 1}, {\"time\": \"2021-01-23T00:00:00\", \"hidden state\": 1}, {\"time\": \"2021-01-24T00:00:00\", \"hidden state\": 1}, {\"time\": \"2021-01-25T00:00:00\", \"hidden state\": 1}, {\"time\": \"2021-01-26T00:00:00\", \"hidden state\": 0}, {\"time\": \"2021-01-27T00:00:00\", \"hidden state\": 0}, {\"time\": \"2021-01-28T00:00:00\", \"hidden state\": 0}, {\"time\": \"2021-01-29T00:00:00\", \"hidden state\": 0}, {\"time\": \"2021-01-30T00:00:00\", \"hidden state\": 0}, {\"time\": \"2021-01-31T00:00:00\", \"hidden state\": 0}, {\"time\": \"2021-02-01T00:00:00\", \"hidden state\": 0}, {\"time\": \"2021-02-02T00:00:00\", \"hidden state\": 0}, {\"time\": \"2021-02-03T00:00:00\", \"hidden state\": 0}, {\"time\": \"2021-02-04T00:00:00\", \"hidden state\": 1}, {\"time\": \"2021-02-05T00:00:00\", \"hidden state\": 1}, {\"time\": \"2021-02-06T00:00:00\", \"hidden state\": 1}, {\"time\": \"2021-02-07T00:00:00\", \"hidden state\": 1}, {\"time\": \"2021-02-08T00:00:00\", \"hidden state\": 1}, {\"time\": \"2021-02-09T00:00:00\", \"hidden state\": 1}, {\"time\": \"2021-02-10T00:00:00\", \"hidden state\": 1}, {\"time\": \"2021-02-11T00:00:00\", \"hidden state\": 1}, {\"time\": \"2021-02-12T00:00:00\", \"hidden state\": 1}, {\"time\": \"2021-02-13T00:00:00\", \"hidden state\": 1}, {\"time\": \"2021-02-14T00:00:00\", \"hidden state\": 1}, {\"time\": \"2021-02-15T00:00:00\", \"hidden state\": 1}, {\"time\": \"2021-02-16T00:00:00\", \"hidden state\": 1}, {\"time\": \"2021-02-17T00:00:00\", \"hidden state\": 1}, {\"time\": \"2021-02-18T00:00:00\", \"hidden state\": 1}, {\"time\": \"2021-02-19T00:00:00\", \"hidden state\": 3}, {\"time\": \"2021-02-20T00:00:00\", \"hidden state\": 3}, {\"time\": \"2021-02-21T00:00:00\", \"hidden state\": 3}, {\"time\": \"2021-02-22T00:00:00\", \"hidden state\": 3}, {\"time\": \"2021-02-23T00:00:00\", \"hidden state\": 3}, {\"time\": \"2021-02-24T00:00:00\", \"hidden state\": 3}, {\"time\": \"2021-02-25T00:00:00\", \"hidden state\": 3}, {\"time\": \"2021-02-26T00:00:00\", \"hidden state\": 3}, {\"time\": \"2021-02-27T00:00:00\", \"hidden state\": 3}, {\"time\": \"2021-02-28T00:00:00\", \"hidden state\": 3}, {\"time\": \"2021-03-01T00:00:00\", \"hidden state\": 3}, {\"time\": \"2021-03-02T00:00:00\", \"hidden state\": 3}, {\"time\": \"2021-03-03T00:00:00\", \"hidden state\": 3}, {\"time\": \"2021-03-04T00:00:00\", \"hidden state\": 3}, {\"time\": \"2021-03-05T00:00:00\", \"hidden state\": 3}, {\"time\": \"2021-03-06T00:00:00\", \"hidden state\": 3}, {\"time\": \"2021-03-07T00:00:00\", \"hidden state\": 3}, {\"time\": \"2021-03-08T00:00:00\", \"hidden state\": 3}, {\"time\": \"2021-03-09T00:00:00\", \"hidden state\": 3}, {\"time\": \"2021-03-10T00:00:00\", \"hidden state\": 3}, {\"time\": \"2021-03-11T00:00:00\", \"hidden state\": 3}, {\"time\": \"2021-03-12T00:00:00\", \"hidden state\": 3}, {\"time\": \"2021-03-13T00:00:00\", \"hidden state\": 3}, {\"time\": \"2021-03-14T00:00:00\", \"hidden state\": 3}, {\"time\": \"2021-03-15T00:00:00\", \"hidden state\": 3}, {\"time\": \"2021-03-16T00:00:00\", \"hidden state\": 3}, {\"time\": \"2021-03-17T00:00:00\", \"hidden state\": 3}, {\"time\": \"2021-03-18T00:00:00\", \"hidden state\": 3}, {\"time\": \"2021-03-19T00:00:00\", \"hidden state\": 3}, {\"time\": \"2021-03-20T00:00:00\", \"hidden state\": 3}, {\"time\": \"2021-03-21T00:00:00\", \"hidden state\": 3}, {\"time\": \"2021-03-22T00:00:00\", \"hidden state\": 3}, {\"time\": \"2021-03-23T00:00:00\", \"hidden state\": 3}, {\"time\": \"2021-03-24T00:00:00\", \"hidden state\": 3}, {\"time\": \"2021-03-25T00:00:00\", \"hidden state\": 3}, {\"time\": \"2021-03-26T00:00:00\", \"hidden state\": 3}, {\"time\": \"2021-03-27T00:00:00\", \"hidden state\": 3}, {\"time\": \"2021-03-28T00:00:00\", \"hidden state\": 3}, {\"time\": \"2021-03-29T00:00:00\", \"hidden state\": 3}, {\"time\": \"2021-03-30T00:00:00\", \"hidden state\": 3}, {\"time\": \"2021-03-31T00:00:00\", \"hidden state\": 3}, {\"time\": \"2021-04-01T00:00:00\", \"hidden state\": 3}, {\"time\": \"2021-04-02T00:00:00\", \"hidden state\": 3}, {\"time\": \"2021-04-03T00:00:00\", \"hidden state\": 3}, {\"time\": \"2021-04-04T00:00:00\", \"hidden state\": 3}, {\"time\": \"2021-04-05T00:00:00\", \"hidden state\": 1}, {\"time\": \"2021-04-06T00:00:00\", \"hidden state\": 1}, {\"time\": \"2021-04-07T00:00:00\", \"hidden state\": 1}, {\"time\": \"2021-04-08T00:00:00\", \"hidden state\": 1}, {\"time\": \"2021-04-09T00:00:00\", \"hidden state\": 1}, {\"time\": \"2021-04-10T00:00:00\", \"hidden state\": 1}, {\"time\": \"2021-04-11T00:00:00\", \"hidden state\": 1}, {\"time\": \"2021-04-12T00:00:00\", \"hidden state\": 1}, {\"time\": \"2021-04-13T00:00:00\", \"hidden state\": 1}, {\"time\": \"2021-04-14T00:00:00\", \"hidden state\": 1}, {\"time\": \"2021-04-15T00:00:00\", \"hidden state\": 1}, {\"time\": \"2021-04-16T00:00:00\", \"hidden state\": 1}, {\"time\": \"2021-04-17T00:00:00\", \"hidden state\": 1}, {\"time\": \"2021-04-18T00:00:00\", \"hidden state\": 1}, {\"time\": \"2021-04-19T00:00:00\", \"hidden state\": 1}, {\"time\": \"2021-04-20T00:00:00\", \"hidden state\": 1}, {\"time\": \"2021-04-21T00:00:00\", \"hidden state\": 1}, {\"time\": \"2021-04-22T00:00:00\", \"hidden state\": 1}, {\"time\": \"2021-04-23T00:00:00\", \"hidden state\": 1}, {\"time\": \"2021-04-24T00:00:00\", \"hidden state\": 1}, {\"time\": \"2021-04-25T00:00:00\", \"hidden state\": 1}, {\"time\": \"2021-04-26T00:00:00\", \"hidden state\": 1}, {\"time\": \"2021-04-27T00:00:00\", \"hidden state\": 1}, {\"time\": \"2021-04-28T00:00:00\", \"hidden state\": 3}, {\"time\": \"2021-04-29T00:00:00\", \"hidden state\": 3}, {\"time\": \"2021-04-30T00:00:00\", \"hidden state\": 3}, {\"time\": \"2021-05-01T00:00:00\", \"hidden state\": 3}, {\"time\": \"2021-05-02T00:00:00\", \"hidden state\": 3}, {\"time\": \"2021-05-03T00:00:00\", \"hidden state\": 3}, {\"time\": \"2021-05-04T00:00:00\", \"hidden state\": 3}, {\"time\": \"2021-05-05T00:00:00\", \"hidden state\": 1}, {\"time\": \"2021-05-06T00:00:00\", \"hidden state\": 1}, {\"time\": \"2021-05-07T00:00:00\", \"hidden state\": 1}, {\"time\": \"2021-05-08T00:00:00\", \"hidden state\": 1}, {\"time\": \"2021-05-09T00:00:00\", \"hidden state\": 1}, {\"time\": \"2021-05-10T00:00:00\", \"hidden state\": 1}, {\"time\": \"2021-05-11T00:00:00\", \"hidden state\": 1}, {\"time\": \"2021-05-12T00:00:00\", \"hidden state\": 1}, {\"time\": \"2021-05-13T00:00:00\", \"hidden state\": 1}, {\"time\": \"2021-05-14T00:00:00\", \"hidden state\": 1}, {\"time\": \"2021-05-15T00:00:00\", \"hidden state\": 1}, {\"time\": \"2021-05-16T00:00:00\", \"hidden state\": 1}, {\"time\": \"2021-05-17T00:00:00\", \"hidden state\": 1}, {\"time\": \"2021-05-18T00:00:00\", \"hidden state\": 3}, {\"time\": \"2021-05-19T00:00:00\", \"hidden state\": 3}, {\"time\": \"2021-05-20T00:00:00\", \"hidden state\": 3}, {\"time\": \"2021-05-21T00:00:00\", \"hidden state\": 3}, {\"time\": \"2021-05-22T00:00:00\", \"hidden state\": 3}, {\"time\": \"2021-05-23T00:00:00\", \"hidden state\": 3}, {\"time\": \"2021-05-24T00:00:00\", \"hidden state\": 3}, {\"time\": \"2021-05-25T00:00:00\", \"hidden state\": 3}, {\"time\": \"2021-05-26T00:00:00\", \"hidden state\": 3}, {\"time\": \"2021-05-27T00:00:00\", \"hidden state\": 3}, {\"time\": \"2021-05-28T00:00:00\", \"hidden state\": 3}, {\"time\": \"2021-05-29T00:00:00\", \"hidden state\": 3}, {\"time\": \"2021-05-30T00:00:00\", \"hidden state\": 3}, {\"time\": \"2021-05-31T00:00:00\", \"hidden state\": 3}, {\"time\": \"2021-06-01T00:00:00\", \"hidden state\": 3}, {\"time\": \"2021-06-02T00:00:00\", \"hidden state\": 3}, {\"time\": \"2021-06-03T00:00:00\", \"hidden state\": 3}, {\"time\": \"2021-06-04T00:00:00\", \"hidden state\": 3}, {\"time\": \"2021-06-05T00:00:00\", \"hidden state\": 3}, {\"time\": \"2021-06-06T00:00:00\", \"hidden state\": 3}, {\"time\": \"2021-06-07T00:00:00\", \"hidden state\": 3}, {\"time\": \"2021-06-08T00:00:00\", \"hidden state\": 3}, {\"time\": \"2021-06-09T00:00:00\", \"hidden state\": 3}, {\"time\": \"2021-06-10T00:00:00\", \"hidden state\": 3}, {\"time\": \"2021-06-11T00:00:00\", \"hidden state\": 3}, {\"time\": \"2021-06-12T00:00:00\", \"hidden state\": 3}, {\"time\": \"2021-06-13T00:00:00\", \"hidden state\": 3}, {\"time\": \"2021-06-14T00:00:00\", \"hidden state\": 3}, {\"time\": \"2021-06-15T00:00:00\", \"hidden state\": 3}, {\"time\": \"2021-06-16T00:00:00\", \"hidden state\": 3}, {\"time\": \"2021-06-17T00:00:00\", \"hidden state\": 3}, {\"time\": \"2021-06-18T00:00:00\", \"hidden state\": 3}, {\"time\": \"2021-06-19T00:00:00\", \"hidden state\": 3}, {\"time\": \"2021-06-20T00:00:00\", \"hidden state\": 3}, {\"time\": \"2021-06-21T00:00:00\", \"hidden state\": 3}, {\"time\": \"2021-06-22T00:00:00\", \"hidden state\": 3}, {\"time\": \"2021-06-23T00:00:00\", \"hidden state\": 3}, {\"time\": \"2021-06-24T00:00:00\", \"hidden state\": 3}, {\"time\": \"2021-06-25T00:00:00\", \"hidden state\": 3}, {\"time\": \"2021-06-26T00:00:00\", \"hidden state\": 3}, {\"time\": \"2021-06-27T00:00:00\", \"hidden state\": 3}, {\"time\": \"2021-06-28T00:00:00\", \"hidden state\": 3}, {\"time\": \"2021-06-29T00:00:00\", \"hidden state\": 3}, {\"time\": \"2021-06-30T00:00:00\", \"hidden state\": 3}, {\"time\": \"2021-07-01T00:00:00\", \"hidden state\": 3}, {\"time\": \"2021-07-02T00:00:00\", \"hidden state\": 3}, {\"time\": \"2021-07-03T00:00:00\", \"hidden state\": 3}, {\"time\": \"2021-07-04T00:00:00\", \"hidden state\": 3}, {\"time\": \"2021-07-05T00:00:00\", \"hidden state\": 3}, {\"time\": \"2021-07-06T00:00:00\", \"hidden state\": 3}, {\"time\": \"2021-07-07T00:00:00\", \"hidden state\": 3}, {\"time\": \"2021-07-08T00:00:00\", \"hidden state\": 3}, {\"time\": \"2021-07-09T00:00:00\", \"hidden state\": 3}, {\"time\": \"2021-07-10T00:00:00\", \"hidden state\": 3}, {\"time\": \"2021-07-11T00:00:00\", \"hidden state\": 3}, {\"time\": \"2021-07-12T00:00:00\", \"hidden state\": 3}, {\"time\": \"2021-07-13T00:00:00\", \"hidden state\": 3}, {\"time\": \"2021-07-14T00:00:00\", \"hidden state\": 3}, {\"time\": \"2021-07-15T00:00:00\", \"hidden state\": 3}, {\"time\": \"2021-07-16T00:00:00\", \"hidden state\": 3}, {\"time\": \"2021-07-17T00:00:00\", \"hidden state\": 3}, {\"time\": \"2021-07-18T00:00:00\", \"hidden state\": 3}, {\"time\": \"2021-07-19T00:00:00\", \"hidden state\": 3}, {\"time\": \"2021-07-20T00:00:00\", \"hidden state\": 3}, {\"time\": \"2021-07-21T00:00:00\", \"hidden state\": 3}, {\"time\": \"2021-07-22T00:00:00\", \"hidden state\": 3}, {\"time\": \"2021-07-23T00:00:00\", \"hidden state\": 3}, {\"time\": \"2021-07-24T00:00:00\", \"hidden state\": 3}, {\"time\": \"2021-07-25T00:00:00\", \"hidden state\": 3}, {\"time\": \"2021-07-26T00:00:00\", \"hidden state\": 3}, {\"time\": \"2021-07-27T00:00:00\", \"hidden state\": 3}, {\"time\": \"2021-07-28T00:00:00\", \"hidden state\": 3}, {\"time\": \"2021-07-29T00:00:00\", \"hidden state\": 3}, {\"time\": \"2021-07-30T00:00:00\", \"hidden state\": 3}, {\"time\": \"2021-07-31T00:00:00\", \"hidden state\": 3}, {\"time\": \"2021-08-01T00:00:00\", \"hidden state\": 3}, {\"time\": \"2021-08-02T00:00:00\", \"hidden state\": 3}, {\"time\": \"2021-08-03T00:00:00\", \"hidden state\": 1}, {\"time\": \"2021-08-04T00:00:00\", \"hidden state\": 1}, {\"time\": \"2021-08-05T00:00:00\", \"hidden state\": 1}, {\"time\": \"2021-08-06T00:00:00\", \"hidden state\": 1}, {\"time\": \"2021-08-07T00:00:00\", \"hidden state\": 0}, {\"time\": \"2021-08-08T00:00:00\", \"hidden state\": 0}, {\"time\": \"2021-08-09T00:00:00\", \"hidden state\": 0}, {\"time\": \"2021-08-10T00:00:00\", \"hidden state\": 0}, {\"time\": \"2021-08-11T00:00:00\", \"hidden state\": 0}, {\"time\": \"2021-08-12T00:00:00\", \"hidden state\": 0}, {\"time\": \"2021-08-13T00:00:00\", \"hidden state\": 0}, {\"time\": \"2021-08-14T00:00:00\", \"hidden state\": 0}, {\"time\": \"2021-08-15T00:00:00\", \"hidden state\": 0}, {\"time\": \"2021-08-16T00:00:00\", \"hidden state\": 0}, {\"time\": \"2021-08-17T00:00:00\", \"hidden state\": 0}, {\"time\": \"2021-08-18T00:00:00\", \"hidden state\": 0}, {\"time\": \"2021-08-19T00:00:00\", \"hidden state\": 0}, {\"time\": \"2021-08-20T00:00:00\", \"hidden state\": 0}, {\"time\": \"2021-08-21T00:00:00\", \"hidden state\": 0}, {\"time\": \"2021-08-22T00:00:00\", \"hidden state\": 0}, {\"time\": \"2021-08-23T00:00:00\", \"hidden state\": 0}, {\"time\": \"2021-08-24T00:00:00\", \"hidden state\": 0}, {\"time\": \"2021-08-25T00:00:00\", \"hidden state\": 0}, {\"time\": \"2021-08-26T00:00:00\", \"hidden state\": 0}, {\"time\": \"2021-08-27T00:00:00\", \"hidden state\": 0}, {\"time\": \"2021-08-28T00:00:00\", \"hidden state\": 0}, {\"time\": \"2021-08-29T00:00:00\", \"hidden state\": 0}, {\"time\": \"2021-08-30T00:00:00\", \"hidden state\": 0}, {\"time\": \"2021-08-31T00:00:00\", \"hidden state\": 0}, {\"time\": \"2021-09-01T00:00:00\", \"hidden state\": 0}, {\"time\": \"2021-09-02T00:00:00\", \"hidden state\": 0}, {\"time\": \"2021-09-03T00:00:00\", \"hidden state\": 0}, {\"time\": \"2021-09-04T00:00:00\", \"hidden state\": 0}, {\"time\": \"2021-09-05T00:00:00\", \"hidden state\": 0}, {\"time\": \"2021-09-06T00:00:00\", \"hidden state\": 0}, {\"time\": \"2021-09-07T00:00:00\", \"hidden state\": 0}, {\"time\": \"2021-09-08T00:00:00\", \"hidden state\": 0}, {\"time\": \"2021-09-09T00:00:00\", \"hidden state\": 0}, {\"time\": \"2021-09-10T00:00:00\", \"hidden state\": 0}, {\"time\": \"2021-09-11T00:00:00\", \"hidden state\": 0}, {\"time\": \"2021-09-12T00:00:00\", \"hidden state\": 0}, {\"time\": \"2021-09-13T00:00:00\", \"hidden state\": 0}, {\"time\": \"2021-09-14T00:00:00\", \"hidden state\": 0}, {\"time\": \"2021-09-15T00:00:00\", \"hidden state\": 0}, {\"time\": \"2021-09-16T00:00:00\", \"hidden state\": 0}, {\"time\": \"2021-09-17T00:00:00\", \"hidden state\": 0}, {\"time\": \"2021-09-18T00:00:00\", \"hidden state\": 0}, {\"time\": \"2021-09-19T00:00:00\", \"hidden state\": 0}, {\"time\": \"2021-09-20T00:00:00\", \"hidden state\": 0}, {\"time\": \"2021-09-21T00:00:00\", \"hidden state\": 0}, {\"time\": \"2021-09-22T00:00:00\", \"hidden state\": 0}, {\"time\": \"2021-09-23T00:00:00\", \"hidden state\": 0}, {\"time\": \"2021-09-24T00:00:00\", \"hidden state\": 0}, {\"time\": \"2021-09-25T00:00:00\", \"hidden state\": 0}, {\"time\": \"2021-09-26T00:00:00\", \"hidden state\": 0}, {\"time\": \"2021-09-27T00:00:00\", \"hidden state\": 0}, {\"time\": \"2021-09-28T00:00:00\", \"hidden state\": 0}, {\"time\": \"2021-09-29T00:00:00\", \"hidden state\": 0}, {\"time\": \"2021-09-30T00:00:00\", \"hidden state\": 0}, {\"time\": \"2021-10-01T00:00:00\", \"hidden state\": 0}, {\"time\": \"2021-10-02T00:00:00\", \"hidden state\": 0}, {\"time\": \"2021-10-03T00:00:00\", \"hidden state\": 0}, {\"time\": \"2021-10-04T00:00:00\", \"hidden state\": 0}, {\"time\": \"2021-10-05T00:00:00\", \"hidden state\": 0}, {\"time\": \"2021-10-06T00:00:00\", \"hidden state\": 0}, {\"time\": \"2021-10-07T00:00:00\", \"hidden state\": 0}, {\"time\": \"2021-10-08T00:00:00\", \"hidden state\": 0}, {\"time\": \"2021-10-09T00:00:00\", \"hidden state\": 0}, {\"time\": \"2021-10-10T00:00:00\", \"hidden state\": 0}, {\"time\": \"2021-10-11T00:00:00\", \"hidden state\": 0}, {\"time\": \"2021-10-12T00:00:00\", \"hidden state\": 0}, {\"time\": \"2021-10-13T00:00:00\", \"hidden state\": 0}, {\"time\": \"2021-10-14T00:00:00\", \"hidden state\": 0}, {\"time\": \"2021-10-15T00:00:00\", \"hidden state\": 0}, {\"time\": \"2021-10-16T00:00:00\", \"hidden state\": 0}, {\"time\": \"2021-10-17T00:00:00\", \"hidden state\": 0}, {\"time\": \"2021-10-18T00:00:00\", \"hidden state\": 0}, {\"time\": \"2021-10-19T00:00:00\", \"hidden state\": 0}, {\"time\": \"2021-10-20T00:00:00\", \"hidden state\": 0}, {\"time\": \"2021-10-21T00:00:00\", \"hidden state\": 0}, {\"time\": \"2021-10-22T00:00:00\", \"hidden state\": 0}, {\"time\": \"2021-10-23T00:00:00\", \"hidden state\": 0}, {\"time\": \"2021-10-24T00:00:00\", \"hidden state\": 0}, {\"time\": \"2021-10-25T00:00:00\", \"hidden state\": 0}, {\"time\": \"2021-10-26T00:00:00\", \"hidden state\": 0}, {\"time\": \"2021-10-27T00:00:00\", \"hidden state\": 0}, {\"time\": \"2021-10-28T00:00:00\", \"hidden state\": 0}, {\"time\": \"2021-10-29T00:00:00\", \"hidden state\": 0}, {\"time\": \"2021-10-30T00:00:00\", \"hidden state\": 0}, {\"time\": \"2021-10-31T00:00:00\", \"hidden state\": 0}, {\"time\": \"2021-11-01T00:00:00\", \"hidden state\": 0}, {\"time\": \"2021-11-02T00:00:00\", \"hidden state\": 0}, {\"time\": \"2021-11-03T00:00:00\", \"hidden state\": 0}, {\"time\": \"2021-11-04T00:00:00\", \"hidden state\": 0}, {\"time\": \"2021-11-05T00:00:00\", \"hidden state\": 0}, {\"time\": \"2021-11-06T00:00:00\", \"hidden state\": 0}, {\"time\": \"2021-11-07T00:00:00\", \"hidden state\": 1}, {\"time\": \"2021-11-08T00:00:00\", \"hidden state\": 1}, {\"time\": \"2021-11-09T00:00:00\", \"hidden state\": 1}, {\"time\": \"2021-11-10T00:00:00\", \"hidden state\": 1}, {\"time\": \"2021-11-11T00:00:00\", \"hidden state\": 1}, {\"time\": \"2021-11-12T00:00:00\", \"hidden state\": 1}, {\"time\": \"2021-11-13T00:00:00\", \"hidden state\": 1}, {\"time\": \"2021-11-14T00:00:00\", \"hidden state\": 1}, {\"time\": \"2021-11-15T00:00:00\", \"hidden state\": 1}, {\"time\": \"2021-11-16T00:00:00\", \"hidden state\": 1}, {\"time\": \"2021-11-17T00:00:00\", \"hidden state\": 1}, {\"time\": \"2021-11-18T00:00:00\", \"hidden state\": 1}, {\"time\": \"2021-11-19T00:00:00\", \"hidden state\": 1}, {\"time\": \"2021-11-20T00:00:00\", \"hidden state\": 1}, {\"time\": \"2021-11-21T00:00:00\", \"hidden state\": 1}, {\"time\": \"2021-11-22T00:00:00\", \"hidden state\": 1}, {\"time\": \"2021-11-23T00:00:00\", \"hidden state\": 1}, {\"time\": \"2021-11-24T00:00:00\", \"hidden state\": 1}, {\"time\": \"2021-11-25T00:00:00\", \"hidden state\": 1}, {\"time\": \"2021-11-26T00:00:00\", \"hidden state\": 1}, {\"time\": \"2021-11-27T00:00:00\", \"hidden state\": 1}, {\"time\": \"2021-11-28T00:00:00\", \"hidden state\": 1}, {\"time\": \"2021-11-29T00:00:00\", \"hidden state\": 1}, {\"time\": \"2021-11-30T00:00:00\", \"hidden state\": 1}, {\"time\": \"2021-12-01T00:00:00\", \"hidden state\": 1}, {\"time\": \"2021-12-02T00:00:00\", \"hidden state\": 1}, {\"time\": \"2021-12-03T00:00:00\", \"hidden state\": 1}, {\"time\": \"2021-12-04T00:00:00\", \"hidden state\": 1}, {\"time\": \"2021-12-05T00:00:00\", \"hidden state\": 1}, {\"time\": \"2021-12-06T00:00:00\", \"hidden state\": 1}, {\"time\": \"2021-12-07T00:00:00\", \"hidden state\": 1}, {\"time\": \"2021-12-08T00:00:00\", \"hidden state\": 1}, {\"time\": \"2021-12-09T00:00:00\", \"hidden state\": 1}, {\"time\": \"2021-12-10T00:00:00\", \"hidden state\": 1}, {\"time\": \"2021-12-11T00:00:00\", \"hidden state\": 1}, {\"time\": \"2021-12-12T00:00:00\", \"hidden state\": 1}, {\"time\": \"2021-12-13T00:00:00\", \"hidden state\": 0}]}};\n",
       "const opt = {};\n",
       "const type = \"vega-lite\";\n",
       "const id = \"ee630191-486b-46c3-b6cd-7923fc505b61\";\n",
       "\n",
       "const output_area = this;\n",
       "\n",
       "require([\"nbextensions/jupyter-vega/index\"], function(vega) {\n",
       "  const target = document.createElement(\"div\");\n",
       "  target.id = id;\n",
       "  target.className = \"vega-embed\";\n",
       "\n",
       "  const style = document.createElement(\"style\");\n",
       "  style.textContent = [\n",
       "    \".vega-embed .error p {\",\n",
       "    \"  color: firebrick;\",\n",
       "    \"  font-size: 14px;\",\n",
       "    \"}\",\n",
       "  ].join(\"\\\\n\");\n",
       "\n",
       "  // element is a jQuery wrapped DOM element inside the output area\n",
       "  // see http://ipython.readthedocs.io/en/stable/api/generated/\\\n",
       "  // IPython.display.html#IPython.display.Javascript.__init__\n",
       "  element[0].appendChild(target);\n",
       "  element[0].appendChild(style);\n",
       "\n",
       "  vega.render(\"#\" + id, spec, type, opt, output_area);\n",
       "}, function (err) {\n",
       "  if (err.requireType !== \"scripterror\") {\n",
       "    throw(err);\n",
       "  }\n",
       "});\n"
      ],
      "text/plain": [
       "<vega.vegalite.VegaLite at 0x7fe17e40fda0>"
      ]
     },
     "metadata": {
      "jupyter-vega": "#ee630191-486b-46c3-b6cd-7923fc505b61"
     },
     "output_type": "display_data"
    },
    {
     "data": {
      "image/png": "[encoded data removed]"
     },
     "metadata": {
      "jupyter-vega": "#ee630191-486b-46c3-b6cd-7923fc505b61"
     },
     "output_type": "display_data"
    },
    {
     "data": {
      "text/plain": []
     },
     "execution_count": 3,
     "metadata": {},
     "output_type": "execute_result"
    }
   ],
   "source": [
    "flattened_hidden_states = gen.flatten_hidden_state_sequence(factored_hidden_states)\n",
    "hmmplot.draw_states(flattened_hidden_states, hide_brush=False)"
   ]
  },
  {
   "cell_type": "code",
   "execution_count": 4,
   "metadata": {},
   "outputs": [],
   "source": [
    "fhmm_data = gen.generate_observations(factored_hidden_states)\n",
    "fhmm_training_spec = hmm_gen.data_to_fhmm_training_spec(factored_hidden_states, \n",
    "                                   gen.ns_hidden_states, \n",
    "                                   fhmm_data,\n",
    "                                   categorical_features = list(gen.categorical_values.columns), \n",
    "                                   gaussian_features = [])\n",
    "\n",
    "fhmm_config = hmm.FactoredHMMConfiguration.from_spec(fhmm_training_spec)\n",
    "\n",
    "fhmm_model = fhmm_config.to_model()"
   ]
  },
  {
   "cell_type": "code",
   "execution_count": 5,
   "metadata": {},
   "outputs": [
    {
     "data": {
      "text/plain": [
       "<hela.hmm.graphical_models.DynamicBayesianNetwork.DynamicBayesianNetwork at 0x7fe11b8b9390>"
      ]
     },
     "execution_count": 5,
     "metadata": {},
     "output_type": "execute_result"
    }
   ],
   "source": [
    "fhmm_model.graph"
   ]
  },
  {
   "cell_type": "code",
   "execution_count": 6,
   "metadata": {},
   "outputs": [],
   "source": [
    "system_graphs = fhmm_model.graph.generate_system_graphs()"
   ]
  },
  {
   "cell_type": "code",
   "execution_count": 7,
   "metadata": {},
   "outputs": [
    {
     "name": "stderr",
     "output_type": "stream",
     "text": [
      "WARNING:root:Replacing existing CPD for ('system_0', 1)\n"
     ]
    }
   ],
   "source": [
    "inference = dbn_inf.DBNInference(system_graphs[0])"
   ]
  },
  {
   "cell_type": "code",
   "execution_count": 55,
   "metadata": {},
   "outputs": [
    {
     "name": "stdout",
     "output_type": "stream",
     "text": [
      "[[0.96732026 0.03267974]\n",
      " [0.01445087 0.98554913]]\n",
      "[[0.9 0.1]\n",
      " [0.1 0.9]]\n"
     ]
    },
    {
     "data": {
      "text/plain": [
       "<TabularCPD representing P(('system_0', 1):2 | ('system_0', 0):2) at 0x7fe11b8b9940>"
      ]
     },
     "execution_count": 55,
     "metadata": {},
     "output_type": "execute_result"
    }
   ],
   "source": [
    "print(system_graphs[0].factors[0].values)\n",
    "print(np.array([[.9,.1],[.1,.9]]))\n",
    "system_graphs[0].factors[0]\n",
    "system_graphs[0].factors[0].values = np.array([[.9,.1],[.1,.9]])"
   ]
  },
  {
   "cell_type": "code",
   "execution_count": 56,
   "metadata": {},
   "outputs": [
    {
     "data": {
      "text/plain": [
       "<TabularCPD representing P(('system_0', 1):2 | ('system_0', 0):2) at 0x7fe11b8b9940>"
      ]
     },
     "execution_count": 56,
     "metadata": {},
     "output_type": "execute_result"
    }
   ],
   "source": [
    "system_graphs[0].factors[0].values = np.array([[.9,.1],[.1,.9]])\n",
    "system_graphs[0].factors[0]"
   ]
  },
  {
   "cell_type": "code",
   "execution_count": 57,
   "metadata": {},
   "outputs": [
    {
     "data": {
      "text/plain": [
       "array([[0.9, 0.1],\n",
       "       [0.1, 0.9]])"
      ]
     },
     "execution_count": 57,
     "metadata": {},
     "output_type": "execute_result"
    }
   ],
   "source": [
    "system_graphs[0].factors[0].values"
   ]
  },
  {
   "cell_type": "code",
   "execution_count": 9,
   "metadata": {},
   "outputs": [
    {
     "name": "stdout",
     "output_type": "stream",
     "text": [
      "[0. 1.]\n"
     ]
    },
    {
     "data": {
      "text/plain": [
       "<TabularCPD representing P(('system_0', 0):2) at 0x7fe11b8b97f0>"
      ]
     },
     "execution_count": 9,
     "metadata": {},
     "output_type": "execute_result"
    }
   ],
   "source": [
    "print(system_graphs[0].factors[1].values)\n",
    "system_graphs[0].factors[1]"
   ]
  },
  {
   "cell_type": "code",
   "execution_count": 53,
   "metadata": {},
   "outputs": [
    {
     "name": "stdout",
     "output_type": "stream",
     "text": [
      "[[0.50347222 0.8462799 ]\n",
      " [0.49652778 0.1537201 ]]\n",
      "[1. 1.]\n"
     ]
    },
    {
     "data": {
      "text/plain": [
       "<TabularCPD representing P(('cat_obs', 0):2 | ('system_0', 0):2) at 0x7fe1ac28fe48>"
      ]
     },
     "execution_count": 53,
     "metadata": {},
     "output_type": "execute_result"
    }
   ],
   "source": [
    "print(system_graphs[0].factors[2].values)\n",
    "print(np.sum(system_graphs[0].factors[2].values, axis=0))\n",
    "system_graphs[0].factors[2]"
   ]
  },
  {
   "cell_type": "code",
   "execution_count": 59,
   "metadata": {},
   "outputs": [
    {
     "name": "stdout",
     "output_type": "stream",
     "text": [
      "[[1. 0.]\n",
      " [0. 1.]]\n"
     ]
    },
    {
     "data": {
      "text/plain": [
       "<TabularCPD representing P(('cat_obs', 0):2 | ('system_0', 0):2) at 0x7fe1ac28fe48>"
      ]
     },
     "execution_count": 59,
     "metadata": {},
     "output_type": "execute_result"
    }
   ],
   "source": [
    "system_graphs[0].factors[2].values = np.eye(2)\n",
    "print(system_graphs[0].factors[2].values)\n",
    "system_graphs[0].factors[2]"
   ]
  },
  {
   "cell_type": "code",
   "execution_count": 60,
   "metadata": {},
   "outputs": [
    {
     "name": "stdout",
     "output_type": "stream",
     "text": [
      "[[1. 0.]\n",
      " [0. 1.]]\n"
     ]
    },
    {
     "data": {
      "text/plain": [
       "<TabularCPD representing P(('cat_obs', 1):2 | ('system_0', 1):2) at 0x7fe1ac28fcc0>"
      ]
     },
     "execution_count": 60,
     "metadata": {},
     "output_type": "execute_result"
    }
   ],
   "source": [
    "system_graphs[0].factors[3].values = np.eye(2)\n",
    "print(system_graphs[0].factors[3].values)\n",
    "system_graphs[0].factors[3]"
   ]
  },
  {
   "cell_type": "code",
   "execution_count": 12,
   "metadata": {},
   "outputs": [
    {
     "name": "stdout",
     "output_type": "stream",
     "text": [
      "[('system_0', 0)]\n",
      "[('system_0', 1)]\n"
     ]
    }
   ],
   "source": [
    "print(inference.interface_nodes_0)\n",
    "print(inference.interface_nodes_1)"
   ]
  },
  {
   "cell_type": "code",
   "execution_count": 20,
   "metadata": {},
   "outputs": [
    {
     "name": "stdout",
     "output_type": "stream",
     "text": [
      "[[0.50347222 0.49652778]\n",
      " [0.8462799  0.1537201 ]]\n",
      "[[0.96732026 0.03267974]\n",
      " [0.01445087 0.98554913]]\n"
     ]
    },
    {
     "data": {
      "text/plain": [
       "[<DiscreteFactor representing phi(('system_0', 1):2, ('cat_obs', 1):2) at 0x7fe11b7f5e10>,\n",
       " <DiscreteFactor representing phi(('system_0', 1):2, ('system_0', 0):2) at 0x7fe11b7f5f98>]"
      ]
     },
     "execution_count": 20,
     "metadata": {},
     "output_type": "execute_result"
    }
   ],
   "source": [
    "print(inference.one_and_half_junction_tree.factors[0].values) #emission transpose\n",
    "print(inference.one_and_half_junction_tree.factors[1].values) #transition exact\n",
    "inference.one_and_half_junction_tree.factors"
   ]
  },
  {
   "cell_type": "code",
   "execution_count": 22,
   "metadata": {},
   "outputs": [
    {
     "name": "stdout",
     "output_type": "stream",
     "text": [
      "[[0.        0.8462799]\n",
      " [0.        0.1537201]]\n"
     ]
    },
    {
     "data": {
      "text/plain": [
       "[<DiscreteFactor representing phi(('cat_obs', 0):2, ('system_0', 0):2) at 0x7fe11a7b5160>]"
      ]
     },
     "execution_count": 22,
     "metadata": {},
     "output_type": "execute_result"
    }
   ],
   "source": [
    "print(inference.start_junction_tree.factors[0].values) #emission by initial\n",
    "inference.start_junction_tree.factors"
   ]
  },
  {
   "cell_type": "code",
   "execution_count": 17,
   "metadata": {},
   "outputs": [
    {
     "data": {
      "text/plain": [
       "(('system_0', 1), ('system_0', 0))"
      ]
     },
     "execution_count": 17,
     "metadata": {},
     "output_type": "execute_result"
    }
   ],
   "source": [
    "inference.in_clique"
   ]
  },
  {
   "cell_type": "code",
   "execution_count": 18,
   "metadata": {},
   "outputs": [
    {
     "data": {
      "text/plain": [
       "(('system_0', 1), ('cat_obs', 1))"
      ]
     },
     "execution_count": 18,
     "metadata": {},
     "output_type": "execute_result"
    }
   ],
   "source": [
    "inference.out_clique"
   ]
  },
  {
   "cell_type": "code",
   "execution_count": 23,
   "metadata": {},
   "outputs": [],
   "source": [
    "from collections import defaultdict\n",
    "from itertools import tee, chain, combinations\n",
    "import numpy as np\n",
    "import pandas as pd\n",
    "\n",
    "from pgmpy.factors.discrete import DiscreteFactor\n",
    "from pgmpy.models import BayesianModel\n",
    "from pgmpy.factors import factor_product\n",
    "from pgmpy.inference import Inference, BeliefPropagation\n",
    "\n",
    "self = inference\n",
    "system = self.model.get_latent_nodes()[0][0]\n",
    "observation_node = self.model.get_observable_nodes()[0][0]\n",
    "\n",
    "# variables = [(system, i) for i in range(1,len(fhmm_data))]\n",
    "variables = [(system, i) for i in range(1,100)]\n",
    "evidence = None\n"
   ]
  },
  {
   "cell_type": "code",
   "execution_count": 24,
   "metadata": {},
   "outputs": [],
   "source": [
    "variable_dict = defaultdict(list)\n",
    "for var in variables:\n",
    "    variable_dict[var[1]].append(var)\n",
    "\n",
    "time_range = max(variable_dict)\n",
    "if evidence:\n",
    "    evid_time_range = max(\n",
    "        [time_slice for var, time_slice in evidence.keys()])\n",
    "    time_range = max(time_range, evid_time_range)\n",
    "\n",
    "start_bp = BeliefPropagation(self.start_junction_tree)\n",
    "mid_bp = BeliefPropagation(self.one_and_half_junction_tree)\n",
    "evidence_0 = self._get_evidence(evidence, 0, 0)\n",
    "interface_nodes_dict = {}\n",
    "potential_dict = {}\n",
    "\n",
    "if evidence:\n",
    "    interface_nodes_dict = {\n",
    "        k: v\n",
    "        for k, v in evidence_0.items()\n",
    "        if k in self.interface_nodes_0\n",
    "    }\n",
    "initial_factor = self._get_factor(start_bp, evidence_0)\n",
    "marginalized_factor = self._marginalize_factor(self.interface_nodes_0,\n",
    "                                               initial_factor)\n",
    "potential_dict[0] = marginalized_factor\n",
    "self._update_belief(mid_bp, self.in_clique, marginalized_factor)"
   ]
  },
  {
   "cell_type": "code",
   "execution_count": 26,
   "metadata": {},
   "outputs": [
    {
     "name": "stdout",
     "output_type": "stream",
     "text": [
      "[[0.        0.8462799]\n",
      " [0.        0.1537201]]\n"
     ]
    }
   ],
   "source": [
    "print(initial_factor.values)"
   ]
  },
  {
   "cell_type": "code",
   "execution_count": 27,
   "metadata": {},
   "outputs": [
    {
     "name": "stdout",
     "output_type": "stream",
     "text": [
      "[0. 1.]\n"
     ]
    }
   ],
   "source": [
    "print(marginalized_factor.values)"
   ]
  },
  {
   "cell_type": "code",
   "execution_count": 35,
   "metadata": {},
   "outputs": [
    {
     "data": {
      "text/plain": [
       "array([[0.        , 0.        ],\n",
       "       [0.03267974, 0.98554913]])"
      ]
     },
     "execution_count": 35,
     "metadata": {},
     "output_type": "execute_result"
    }
   ],
   "source": [
    "item = marginalized_factor*inference.one_and_half_junction_tree.factors[1]\n",
    "item.values"
   ]
  },
  {
   "cell_type": "code",
   "execution_count": 47,
   "metadata": {},
   "outputs": [
    {
     "name": "stderr",
     "output_type": "stream",
     "text": [
      "Eliminating: ('cat_obs', 1): 100%|██████████| 2/2 [00:00<00:00, 158.41it/s]"
     ]
    },
    {
     "name": "stdout",
     "output_type": "stream",
     "text": [
      "[0.03209469 0.96790531]\n",
      "[0.03209469 0.96790531]\n",
      "clique_phi [[[0.         0.01645334]\n",
      "  [0.         0.0162264 ]]\n",
      "\n",
      " [[0.         0.83405042]\n",
      "  [0.         0.15149871]]]\n",
      "out_clique_phi [0.03267974 0.98554913]\n",
      "[0.03267974 0.98554913]\n"
     ]
    },
    {
     "name": "stderr",
     "output_type": "stream",
     "text": [
      "\n"
     ]
    }
   ],
   "source": [
    "if variable_dict[0]:\n",
    "    factor_values = start_bp.query(\n",
    "        variable_dict[0], evidence=evidence_0, joint=False)\n",
    "else:\n",
    "    factor_values = {}\n",
    "\n",
    "for time_slice in range(1,2):\n",
    "    evidence_time = self._get_evidence(evidence, time_slice, 1)\n",
    "    if interface_nodes_dict:\n",
    "        evidence_time.update(interface_nodes_dict)\n",
    "        \n",
    "    if variable_dict[time_slice]:\n",
    "        variable_time = self._shift_nodes(variable_dict[time_slice], 1)\n",
    "        new_values = mid_bp.query(\n",
    "            variable_time, evidence=evidence_time, joint=False)\n",
    "        print(new_values[('system_0', 1)].values) #initial * transition (should be the same?)\n",
    "        changed_values = {}\n",
    "        for key in new_values.keys():\n",
    "            new_key = (key[0], time_slice)\n",
    "            new_factor = DiscreteFactor([new_key],\n",
    "                                        new_values[key].cardinality,\n",
    "                                        new_values[key].values)\n",
    "            print(new_factor.values)\n",
    "            changed_values[new_key] = new_factor\n",
    "        factor_values.update(changed_values)\n",
    "    clique_phi = self._get_factor(mid_bp, evidence_time)\n",
    "    print('clique_phi', clique_phi.values)\n",
    "    out_clique_phi = self._marginalize_factor(self.interface_nodes_1,\n",
    "                                              clique_phi)\n",
    "    print('out_clique_phi', out_clique_phi.values)\n",
    "    new_factor = self._shift_factor(out_clique_phi, 0)\n",
    "    print(new_factor.values)\n",
    "    potential_dict[time_slice] = new_factor\n",
    "    mid_bp = BeliefPropagation(self.one_and_half_junction_tree)\n",
    "    self._update_belief(mid_bp, self.in_clique, new_factor)"
   ]
  },
  {
   "cell_type": "code",
   "execution_count": 49,
   "metadata": {},
   "outputs": [
    {
     "name": "stderr",
     "output_type": "stream",
     "text": [
      "Eliminating: ('cat_obs', 1): 100%|██████████| 2/2 [00:00<00:00, 153.22it/s]"
     ]
    },
    {
     "name": "stdout",
     "output_type": "stream",
     "text": [
      "[0.06162548 0.93837452]\n",
      "[0.06162548 0.93837452]\n",
      "clique_phi [[[1.59156497e-02 1.62155756e-02]\n",
      "  [1.56961235e-02 1.59919124e-02]]\n",
      "\n",
      " [[3.99656156e-04 8.21997673e-01]\n",
      "  [7.25944016e-05 1.49309421e-01]]]\n",
      "out_clique_phi [0.06381926 0.97177934]\n",
      "[0.06381926 0.97177934]\n"
     ]
    },
    {
     "name": "stderr",
     "output_type": "stream",
     "text": [
      "\n"
     ]
    }
   ],
   "source": [
    "for time_slice in range(2,3):\n",
    "    evidence_time = self._get_evidence(evidence, time_slice, 1)\n",
    "    if interface_nodes_dict:\n",
    "        evidence_time.update(interface_nodes_dict)\n",
    "        \n",
    "    if variable_dict[time_slice]:\n",
    "        variable_time = self._shift_nodes(variable_dict[time_slice], 1)\n",
    "        new_values = mid_bp.query(\n",
    "            variable_time, evidence=evidence_time, joint=False)\n",
    "        print(new_values[('system_0', 1)].values) #initial * transition (should be the same?)\n",
    "        changed_values = {}\n",
    "        for key in new_values.keys():\n",
    "            new_key = (key[0], time_slice)\n",
    "            new_factor = DiscreteFactor([new_key],\n",
    "                                        new_values[key].cardinality,\n",
    "                                        new_values[key].values)\n",
    "            print(new_factor.values)\n",
    "            changed_values[new_key] = new_factor\n",
    "        factor_values.update(changed_values)\n",
    "    clique_phi = self._get_factor(mid_bp, evidence_time)\n",
    "    print('clique_phi', clique_phi.values)\n",
    "    out_clique_phi = self._marginalize_factor(self.interface_nodes_1,\n",
    "                                              clique_phi)\n",
    "    print('out_clique_phi', out_clique_phi.values)\n",
    "    new_factor = self._shift_factor(out_clique_phi, 0)\n",
    "    print(new_factor.values)\n",
    "    potential_dict[time_slice] = new_factor\n",
    "    mid_bp = BeliefPropagation(self.one_and_half_junction_tree)\n",
    "    self._update_belief(mid_bp, self.in_clique, new_factor)"
   ]
  },
  {
   "cell_type": "code",
   "execution_count": 10,
   "metadata": {},
   "outputs": [
    {
     "name": "stderr",
     "output_type": "stream",
     "text": [
      "Eliminating: ('cat_obs', 1): 100%|██████████| 2/2 [00:00<00:00, 153.44it/s]\n",
      "Eliminating: ('cat_obs', 1): 100%|██████████| 2/2 [00:00<00:00, 124.82it/s]\n",
      "Eliminating: ('cat_obs', 1): 100%|██████████| 2/2 [00:00<00:00, 115.57it/s]\n",
      "Eliminating: ('cat_obs', 1): 100%|██████████| 2/2 [00:00<00:00, 59.14it/s]"
     ]
    },
    {
     "name": "stdout",
     "output_type": "stream",
     "text": [
      "+--------------------+------------------------+\n",
      "| ('system_1', 0)    |   phi(('system_1', 0)) |\n",
      "+====================+========================+\n",
      "| ('system_1', 0)(0) |                 0.0118 |\n",
      "+--------------------+------------------------+\n",
      "| ('system_1', 0)(1) |                 0.9748 |\n",
      "+--------------------+------------------------+\n",
      "+--------------------+------------------------+\n",
      "| ('system_1', 0)    |   phi(('system_1', 0)) |\n",
      "+====================+========================+\n",
      "| ('system_1', 0)(0) |                 0.0231 |\n",
      "+--------------------+------------------------+\n",
      "| ('system_1', 0)(1) |                 0.9506 |\n",
      "+--------------------+------------------------+\n",
      "+--------------------+------------------------+\n",
      "| ('system_1', 0)    |   phi(('system_1', 0)) |\n",
      "+====================+========================+\n",
      "| ('system_1', 0)(0) |                 0.0340 |\n",
      "+--------------------+------------------------+\n",
      "| ('system_1', 0)(1) |                 0.9273 |\n",
      "+--------------------+------------------------+\n"
     ]
    },
    {
     "name": "stderr",
     "output_type": "stream",
     "text": [
      "\n",
      "Eliminating: ('cat_obs', 1): 100%|██████████| 2/2 [00:00<00:00, 128.74it/s]\n",
      "Eliminating: ('cat_obs', 1):   0%|          | 0/2 [00:00<?, ?it/s] "
     ]
    },
    {
     "name": "stdout",
     "output_type": "stream",
     "text": [
      "+--------------------+------------------------+\n",
      "| ('system_1', 0)    |   phi(('system_1', 0)) |\n",
      "+====================+========================+\n",
      "| ('system_1', 0)(0) |                 0.0445 |\n",
      "+--------------------+------------------------+\n",
      "| ('system_1', 0)(1) |                 0.9048 |\n",
      "+--------------------+------------------------+\n",
      "+--------------------+------------------------+\n",
      "| ('system_1', 0)    |   phi(('system_1', 0)) |\n",
      "+====================+========================+\n",
      "| ('system_1', 0)(0) |                 0.0546 |\n",
      "+--------------------+------------------------+\n",
      "| ('system_1', 0)(1) |                 0.8832 |\n",
      "+--------------------+------------------------+\n"
     ]
    },
    {
     "name": "stderr",
     "output_type": "stream",
     "text": [
      "Eliminating: ('cat_obs', 1): 100%|██████████| 2/2 [00:00<00:00, 21.27it/s]\n",
      "Eliminating: ('cat_obs', 1): 100%|██████████| 2/2 [00:00<00:00, 171.01it/s]\n",
      "Eliminating: ('cat_obs', 1): 100%|██████████| 2/2 [00:00<00:00, 174.15it/s]\n",
      "  0%|          | 0/2 [00:00<?, ?it/s]"
     ]
    },
    {
     "name": "stdout",
     "output_type": "stream",
     "text": [
      "+--------------------+------------------------+\n",
      "| ('system_1', 0)    |   phi(('system_1', 0)) |\n",
      "+====================+========================+\n",
      "| ('system_1', 0)(0) |                 0.0644 |\n",
      "+--------------------+------------------------+\n",
      "| ('system_1', 0)(1) |                 0.8623 |\n",
      "+--------------------+------------------------+\n",
      "+--------------------+------------------------+\n",
      "| ('system_1', 0)    |   phi(('system_1', 0)) |\n",
      "+====================+========================+\n",
      "| ('system_1', 0)(0) |                 0.0738 |\n",
      "+--------------------+------------------------+\n",
      "| ('system_1', 0)(1) |                 0.8422 |\n",
      "+--------------------+------------------------+\n",
      "+--------------------+------------------------+\n",
      "| ('system_1', 0)    |   phi(('system_1', 0)) |\n",
      "+====================+========================+\n",
      "| ('system_1', 0)(0) |                 0.0828 |\n",
      "+--------------------+------------------------+\n",
      "| ('system_1', 0)(1) |                 0.8229 |\n",
      "+--------------------+------------------------+\n"
     ]
    },
    {
     "name": "stderr",
     "output_type": "stream",
     "text": [
      "Eliminating: ('cat_obs', 1): 100%|██████████| 2/2 [00:00<00:00, 136.01it/s]\n",
      "Eliminating: ('cat_obs', 1): 100%|██████████| 2/2 [00:00<00:00, 37.44it/s]\n",
      "Eliminating: ('cat_obs', 1): 100%|██████████| 2/2 [00:00<00:00, 197.00it/s]\n",
      "Eliminating: ('cat_obs', 1): 100%|██████████| 2/2 [00:00<00:00, 108.76it/s]\n"
     ]
    },
    {
     "name": "stdout",
     "output_type": "stream",
     "text": [
      "+--------------------+------------------------+\n",
      "| ('system_1', 0)    |   phi(('system_1', 0)) |\n",
      "+====================+========================+\n",
      "| ('system_1', 0)(0) |                 0.0915 |\n",
      "+--------------------+------------------------+\n",
      "| ('system_1', 0)(1) |                 0.8043 |\n",
      "+--------------------+------------------------+\n",
      "+--------------------+------------------------+\n",
      "| ('system_1', 0)    |   phi(('system_1', 0)) |\n",
      "+====================+========================+\n",
      "| ('system_1', 0)(0) |                 0.0999 |\n",
      "+--------------------+------------------------+\n",
      "| ('system_1', 0)(1) |                 0.7864 |\n",
      "+--------------------+------------------------+\n",
      "+--------------------+------------------------+\n",
      "| ('system_1', 0)    |   phi(('system_1', 0)) |\n",
      "+====================+========================+\n",
      "| ('system_1', 0)(0) |                 0.1080 |\n",
      "+--------------------+------------------------+\n",
      "| ('system_1', 0)(1) |                 0.7691 |\n",
      "+--------------------+------------------------+\n"
     ]
    },
    {
     "name": "stderr",
     "output_type": "stream",
     "text": [
      "Eliminating: ('cat_obs', 1): 100%|██████████| 2/2 [00:00<00:00, 187.42it/s]\n",
      "Eliminating: ('cat_obs', 1): 100%|██████████| 2/2 [00:00<00:00, 95.97it/s]\n",
      "Eliminating: ('cat_obs', 1): 100%|██████████| 2/2 [00:00<00:00, 88.32it/s]"
     ]
    },
    {
     "name": "stdout",
     "output_type": "stream",
     "text": [
      "+--------------------+------------------------+\n",
      "| ('system_1', 0)    |   phi(('system_1', 0)) |\n",
      "+====================+========================+\n",
      "| ('system_1', 0)(0) |                 0.1158 |\n",
      "+--------------------+------------------------+\n",
      "| ('system_1', 0)(1) |                 0.7525 |\n",
      "+--------------------+------------------------+\n",
      "+--------------------+------------------------+\n",
      "| ('system_1', 0)    |   phi(('system_1', 0)) |\n",
      "+====================+========================+\n",
      "| ('system_1', 0)(0) |                 0.1233 |\n",
      "+--------------------+------------------------+\n",
      "| ('system_1', 0)(1) |                 0.7364 |\n",
      "+--------------------+------------------------+\n",
      "+--------------------+------------------------+\n",
      "| ('system_1', 0)    |   phi(('system_1', 0)) |\n",
      "+====================+========================+\n",
      "| ('system_1', 0)(0) |                 0.1305 |\n",
      "+--------------------+------------------------+\n",
      "| ('system_1', 0)(1) |                 0.7210 |\n",
      "+--------------------+------------------------+\n",
      "+--------------------+------------------------+\n",
      "| ('system_1', 0)    |   phi(('system_1', 0)) |\n",
      "+====================+========================+\n",
      "| ('system_1', 0)(0) |                 0.1374 |\n",
      "+--------------------+------------------------+\n",
      "| ('system_1', 0)(1) |                 0.7062 |\n",
      "+--------------------+------------------------+\n"
     ]
    },
    {
     "name": "stderr",
     "output_type": "stream",
     "text": [
      "\n",
      "Eliminating: ('cat_obs', 1): 100%|██████████| 2/2 [00:00<00:00, 79.16it/s]\n",
      "Eliminating: ('cat_obs', 1): 100%|██████████| 2/2 [00:00<00:00, 132.63it/s]\n",
      "Eliminating: ('cat_obs', 1): 100%|██████████| 2/2 [00:00<00:00, 97.65it/s]\n",
      "  0%|          | 0/2 [00:00<?, ?it/s]"
     ]
    },
    {
     "name": "stdout",
     "output_type": "stream",
     "text": [
      "+--------------------+------------------------+\n",
      "| ('system_1', 0)    |   phi(('system_1', 0)) |\n",
      "+====================+========================+\n",
      "| ('system_1', 0)(0) |                 0.1441 |\n",
      "+--------------------+------------------------+\n",
      "| ('system_1', 0)(1) |                 0.6919 |\n",
      "+--------------------+------------------------+\n",
      "+--------------------+------------------------+\n",
      "| ('system_1', 0)    |   phi(('system_1', 0)) |\n",
      "+====================+========================+\n",
      "| ('system_1', 0)(0) |                 0.1505 |\n",
      "+--------------------+------------------------+\n",
      "| ('system_1', 0)(1) |                 0.6781 |\n",
      "+--------------------+------------------------+\n",
      "+--------------------+------------------------+\n",
      "| ('system_1', 0)    |   phi(('system_1', 0)) |\n",
      "+====================+========================+\n",
      "| ('system_1', 0)(0) |                 0.1568 |\n",
      "+--------------------+------------------------+\n",
      "| ('system_1', 0)(1) |                 0.6648 |\n",
      "+--------------------+------------------------+\n"
     ]
    },
    {
     "name": "stderr",
     "output_type": "stream",
     "text": [
      "Eliminating: ('cat_obs', 1): 100%|██████████| 2/2 [00:00<00:00, 77.97it/s]\n",
      "Eliminating: ('cat_obs', 1): 100%|██████████| 2/2 [00:00<00:00, 166.58it/s]\n",
      "Eliminating: ('cat_obs', 1): 100%|██████████| 2/2 [00:00<00:00, 85.43it/s]\n",
      "Eliminating: ('cat_obs', 1): 100%|██████████| 2/2 [00:00<00:00, 100.03it/s]"
     ]
    },
    {
     "name": "stdout",
     "output_type": "stream",
     "text": [
      "+--------------------+------------------------+\n",
      "| ('system_1', 0)    |   phi(('system_1', 0)) |\n",
      "+====================+========================+\n",
      "| ('system_1', 0)(0) |                 0.1627 |\n",
      "+--------------------+------------------------+\n",
      "| ('system_1', 0)(1) |                 0.6520 |\n",
      "+--------------------+------------------------+\n",
      "+--------------------+------------------------+\n",
      "| ('system_1', 0)    |   phi(('system_1', 0)) |\n",
      "+====================+========================+\n",
      "| ('system_1', 0)(0) |                 0.1685 |\n",
      "+--------------------+------------------------+\n",
      "| ('system_1', 0)(1) |                 0.6397 |\n",
      "+--------------------+------------------------+\n",
      "+--------------------+------------------------+\n",
      "| ('system_1', 0)    |   phi(('system_1', 0)) |\n",
      "+====================+========================+\n",
      "| ('system_1', 0)(0) |                 0.1740 |\n",
      "+--------------------+------------------------+\n",
      "| ('system_1', 0)(1) |                 0.6279 |\n",
      "+--------------------+------------------------+\n"
     ]
    },
    {
     "name": "stderr",
     "output_type": "stream",
     "text": [
      "\n",
      "Eliminating: ('cat_obs', 1): 100%|██████████| 2/2 [00:00<00:00, 102.37it/s]\n",
      "Eliminating: ('cat_obs', 1): 100%|██████████| 2/2 [00:00<00:00, 391.30it/s]\n",
      "Eliminating: ('cat_obs', 1): 100%|██████████| 2/2 [00:00<00:00, 126.52it/s]\n",
      "Eliminating: ('cat_obs', 1): 100%|██████████| 2/2 [00:00<00:00, 153.73it/s]\n"
     ]
    },
    {
     "name": "stdout",
     "output_type": "stream",
     "text": [
      "+--------------------+------------------------+\n",
      "| ('system_1', 0)    |   phi(('system_1', 0)) |\n",
      "+====================+========================+\n",
      "| ('system_1', 0)(0) |                 0.1794 |\n",
      "+--------------------+------------------------+\n",
      "| ('system_1', 0)(1) |                 0.6164 |\n",
      "+--------------------+------------------------+\n",
      "+--------------------+------------------------+\n",
      "| ('system_1', 0)    |   phi(('system_1', 0)) |\n",
      "+====================+========================+\n",
      "| ('system_1', 0)(0) |                 0.1845 |\n",
      "+--------------------+------------------------+\n",
      "| ('system_1', 0)(1) |                 0.6054 |\n",
      "+--------------------+------------------------+\n",
      "+--------------------+------------------------+\n",
      "| ('system_1', 0)    |   phi(('system_1', 0)) |\n",
      "+====================+========================+\n",
      "| ('system_1', 0)(0) |                 0.1895 |\n",
      "+--------------------+------------------------+\n",
      "| ('system_1', 0)(1) |                 0.5949 |\n",
      "+--------------------+------------------------+\n",
      "+--------------------+------------------------+\n",
      "| ('system_1', 0)    |   phi(('system_1', 0)) |\n",
      "+====================+========================+\n",
      "| ('system_1', 0)(0) |                 0.1942 |\n",
      "+--------------------+------------------------+\n",
      "| ('system_1', 0)(1) |                 0.5847 |\n",
      "+--------------------+------------------------+\n",
      "+--------------------+------------------------+\n",
      "| ('system_1', 0)    |   phi(('system_1', 0)) |\n",
      "+====================+========================+\n",
      "| ('system_1', 0)(0) |                 0.1988 |\n",
      "+--------------------+------------------------+\n",
      "| ('system_1', 0)(1) |                 0.5748 |\n",
      "+--------------------+------------------------+\n"
     ]
    },
    {
     "name": "stderr",
     "output_type": "stream",
     "text": [
      "Eliminating: ('cat_obs', 1): 100%|██████████| 2/2 [00:00<00:00, 89.86it/s]\n",
      "Eliminating: ('cat_obs', 1): 100%|██████████| 2/2 [00:00<00:00, 98.25it/s]\n",
      "Eliminating: ('cat_obs', 1): 100%|██████████| 2/2 [00:00<00:00, 89.55it/s]\n",
      "Eliminating: ('cat_obs', 1): 100%|██████████| 2/2 [00:00<00:00, 171.40it/s]\n",
      "Eliminating: ('cat_obs', 1): 100%|██████████| 2/2 [00:00<00:00, 133.01it/s]"
     ]
    },
    {
     "name": "stdout",
     "output_type": "stream",
     "text": [
      "+--------------------+------------------------+\n",
      "| ('system_1', 0)    |   phi(('system_1', 0)) |\n",
      "+====================+========================+\n",
      "| ('system_1', 0)(0) |                 0.2033 |\n",
      "+--------------------+------------------------+\n",
      "| ('system_1', 0)(1) |                 0.5654 |\n",
      "+--------------------+------------------------+\n",
      "+--------------------+------------------------+\n",
      "| ('system_1', 0)    |   phi(('system_1', 0)) |\n",
      "+====================+========================+\n",
      "| ('system_1', 0)(0) |                 0.2075 |\n",
      "+--------------------+------------------------+\n",
      "| ('system_1', 0)(1) |                 0.5563 |\n",
      "+--------------------+------------------------+\n",
      "+--------------------+------------------------+\n",
      "| ('system_1', 0)    |   phi(('system_1', 0)) |\n",
      "+====================+========================+\n",
      "| ('system_1', 0)(0) |                 0.2116 |\n",
      "+--------------------+------------------------+\n",
      "| ('system_1', 0)(1) |                 0.5475 |\n",
      "+--------------------+------------------------+\n",
      "+--------------------+------------------------+\n",
      "| ('system_1', 0)    |   phi(('system_1', 0)) |\n",
      "+====================+========================+\n",
      "| ('system_1', 0)(0) |                 0.2156 |\n",
      "+--------------------+------------------------+\n",
      "| ('system_1', 0)(1) |                 0.5390 |\n",
      "+--------------------+------------------------+\n"
     ]
    },
    {
     "name": "stderr",
     "output_type": "stream",
     "text": [
      "\n",
      "Eliminating: ('cat_obs', 1): 100%|██████████| 2/2 [00:00<00:00, 59.66it/s]\n",
      "Eliminating: ('cat_obs', 1): 100%|██████████| 2/2 [00:00<00:00, 50.03it/s]\n",
      "Eliminating: ('cat_obs', 1): 100%|██████████| 2/2 [00:00<00:00, 221.70it/s]"
     ]
    },
    {
     "name": "stdout",
     "output_type": "stream",
     "text": [
      "+--------------------+------------------------+\n",
      "| ('system_1', 0)    |   phi(('system_1', 0)) |\n",
      "+====================+========================+\n",
      "| ('system_1', 0)(0) |                 0.2194 |\n",
      "+--------------------+------------------------+\n",
      "| ('system_1', 0)(1) |                 0.5309 |\n",
      "+--------------------+------------------------+\n",
      "+--------------------+------------------------+\n",
      "| ('system_1', 0)    |   phi(('system_1', 0)) |\n",
      "+====================+========================+\n",
      "| ('system_1', 0)(0) |                 0.2230 |\n",
      "+--------------------+------------------------+\n",
      "| ('system_1', 0)(1) |                 0.5231 |\n",
      "+--------------------+------------------------+\n",
      "+--------------------+------------------------+\n",
      "| ('system_1', 0)    |   phi(('system_1', 0)) |\n",
      "+====================+========================+\n",
      "| ('system_1', 0)(0) |                 0.2266 |\n",
      "+--------------------+------------------------+\n",
      "| ('system_1', 0)(1) |                 0.5155 |\n",
      "+--------------------+------------------------+\n",
      "+--------------------+------------------------+\n",
      "| ('system_1', 0)    |   phi(('system_1', 0)) |\n",
      "+====================+========================+\n",
      "| ('system_1', 0)(0) |                 0.2300 |\n",
      "+--------------------+------------------------+\n",
      "| ('system_1', 0)(1) |                 0.5083 |\n",
      "+--------------------+------------------------+\n"
     ]
    },
    {
     "name": "stderr",
     "output_type": "stream",
     "text": [
      "\n",
      "Eliminating: ('cat_obs', 1): 100%|██████████| 2/2 [00:00<00:00, 231.08it/s]\n",
      "Eliminating: ('cat_obs', 1): 100%|██████████| 2/2 [00:00<00:00, 133.84it/s]\n",
      "Eliminating: ('cat_obs', 1): 100%|██████████| 2/2 [00:00<00:00, 283.33it/s]\n",
      "Eliminating: ('cat_obs', 1): 100%|██████████| 2/2 [00:00<00:00, 209.51it/s]\n",
      "Eliminating: ('cat_obs', 1):   0%|          | 0/2 [00:00<?, ?it/s] "
     ]
    },
    {
     "name": "stdout",
     "output_type": "stream",
     "text": [
      "+--------------------+------------------------+\n",
      "| ('system_1', 0)    |   phi(('system_1', 0)) |\n",
      "+====================+========================+\n",
      "| ('system_1', 0)(0) |                 0.2332 |\n",
      "+--------------------+------------------------+\n",
      "| ('system_1', 0)(1) |                 0.5012 |\n",
      "+--------------------+------------------------+\n",
      "+--------------------+------------------------+\n",
      "| ('system_1', 0)    |   phi(('system_1', 0)) |\n",
      "+====================+========================+\n",
      "| ('system_1', 0)(0) |                 0.2364 |\n",
      "+--------------------+------------------------+\n",
      "| ('system_1', 0)(1) |                 0.4945 |\n",
      "+--------------------+------------------------+\n",
      "+--------------------+------------------------+\n",
      "| ('system_1', 0)    |   phi(('system_1', 0)) |\n",
      "+====================+========================+\n",
      "| ('system_1', 0)(0) |                 0.2394 |\n",
      "+--------------------+------------------------+\n",
      "| ('system_1', 0)(1) |                 0.4880 |\n",
      "+--------------------+------------------------+\n",
      "+--------------------+------------------------+\n",
      "| ('system_1', 0)    |   phi(('system_1', 0)) |\n",
      "+====================+========================+\n",
      "| ('system_1', 0)(0) |                 0.2424 |\n",
      "+--------------------+------------------------+\n",
      "| ('system_1', 0)(1) |                 0.4818 |\n",
      "+--------------------+------------------------+\n"
     ]
    },
    {
     "name": "stderr",
     "output_type": "stream",
     "text": [
      "Eliminating: ('cat_obs', 1): 100%|██████████| 2/2 [00:00<00:00, 77.91it/s]\n",
      "Eliminating: ('cat_obs', 1): 100%|██████████| 2/2 [00:00<00:00, 156.84it/s]\n"
     ]
    },
    {
     "name": "stdout",
     "output_type": "stream",
     "text": [
      "+--------------------+------------------------+\n",
      "| ('system_1', 0)    |   phi(('system_1', 0)) |\n",
      "+====================+========================+\n",
      "| ('system_1', 0)(0) |                 0.2452 |\n",
      "+--------------------+------------------------+\n",
      "| ('system_1', 0)(1) |                 0.4757 |\n",
      "+--------------------+------------------------+\n",
      "+--------------------+------------------------+\n",
      "| ('system_1', 0)    |   phi(('system_1', 0)) |\n",
      "+====================+========================+\n",
      "| ('system_1', 0)(0) |                 0.2479 |\n",
      "+--------------------+------------------------+\n",
      "| ('system_1', 0)(1) |                 0.4699 |\n",
      "+--------------------+------------------------+\n"
     ]
    },
    {
     "name": "stderr",
     "output_type": "stream",
     "text": [
      "Eliminating: ('cat_obs', 1): 100%|██████████| 2/2 [00:00<00:00, 77.18it/s]\n",
      "Eliminating: ('cat_obs', 1): 100%|██████████| 2/2 [00:00<00:00, 83.55it/s]\n",
      "Eliminating: ('cat_obs', 1): 100%|██████████| 2/2 [00:00<00:00, 80.90it/s]\n",
      "Eliminating: ('cat_obs', 1): 100%|██████████| 2/2 [00:00<00:00, 198.59it/s]\n"
     ]
    },
    {
     "name": "stdout",
     "output_type": "stream",
     "text": [
      "+--------------------+------------------------+\n",
      "| ('system_1', 0)    |   phi(('system_1', 0)) |\n",
      "+====================+========================+\n",
      "| ('system_1', 0)(0) |                 0.2505 |\n",
      "+--------------------+------------------------+\n",
      "| ('system_1', 0)(1) |                 0.4644 |\n",
      "+--------------------+------------------------+\n",
      "+--------------------+------------------------+\n",
      "| ('system_1', 0)    |   phi(('system_1', 0)) |\n",
      "+====================+========================+\n",
      "| ('system_1', 0)(0) |                 0.2530 |\n",
      "+--------------------+------------------------+\n",
      "| ('system_1', 0)(1) |                 0.4590 |\n",
      "+--------------------+------------------------+\n",
      "+--------------------+------------------------+\n",
      "| ('system_1', 0)    |   phi(('system_1', 0)) |\n",
      "+====================+========================+\n",
      "| ('system_1', 0)(0) |                 0.2554 |\n",
      "+--------------------+------------------------+\n",
      "| ('system_1', 0)(1) |                 0.4538 |\n",
      "+--------------------+------------------------+\n",
      "+--------------------+------------------------+\n",
      "| ('system_1', 0)    |   phi(('system_1', 0)) |\n",
      "+====================+========================+\n",
      "| ('system_1', 0)(0) |                 0.2578 |\n",
      "+--------------------+------------------------+\n",
      "| ('system_1', 0)(1) |                 0.4488 |\n",
      "+--------------------+------------------------+\n"
     ]
    },
    {
     "name": "stderr",
     "output_type": "stream",
     "text": [
      "Eliminating: ('cat_obs', 1): 100%|██████████| 2/2 [00:00<00:00, 170.64it/s]\n",
      "Eliminating: ('cat_obs', 1): 100%|██████████| 2/2 [00:00<00:00, 124.89it/s]\n",
      "Eliminating: ('cat_obs', 1): 100%|██████████| 2/2 [00:00<00:00, 303.73it/s]\n",
      "Eliminating: ('cat_obs', 1): 100%|██████████| 2/2 [00:00<00:00, 126.70it/s]"
     ]
    },
    {
     "name": "stdout",
     "output_type": "stream",
     "text": [
      "+--------------------+------------------------+\n",
      "| ('system_1', 0)    |   phi(('system_1', 0)) |\n",
      "+====================+========================+\n",
      "| ('system_1', 0)(0) |                 0.2600 |\n",
      "+--------------------+------------------------+\n",
      "| ('system_1', 0)(1) |                 0.4440 |\n",
      "+--------------------+------------------------+\n",
      "+--------------------+------------------------+\n",
      "| ('system_1', 0)    |   phi(('system_1', 0)) |\n",
      "+====================+========================+\n",
      "| ('system_1', 0)(0) |                 0.2622 |\n",
      "+--------------------+------------------------+\n",
      "| ('system_1', 0)(1) |                 0.4394 |\n",
      "+--------------------+------------------------+\n",
      "+--------------------+------------------------+\n",
      "| ('system_1', 0)    |   phi(('system_1', 0)) |\n",
      "+====================+========================+\n",
      "| ('system_1', 0)(0) |                 0.2643 |\n",
      "+--------------------+------------------------+\n",
      "| ('system_1', 0)(1) |                 0.4349 |\n",
      "+--------------------+------------------------+\n"
     ]
    },
    {
     "name": "stderr",
     "output_type": "stream",
     "text": [
      "\n",
      "Eliminating: ('cat_obs', 1): 100%|██████████| 2/2 [00:00<00:00, 45.59it/s]\n",
      "Eliminating: ('cat_obs', 1): 100%|██████████| 2/2 [00:00<00:00, 46.72it/s]\n",
      "Eliminating: ('cat_obs', 1):   0%|          | 0/2 [00:00<?, ?it/s] "
     ]
    },
    {
     "name": "stdout",
     "output_type": "stream",
     "text": [
      "+--------------------+------------------------+\n",
      "| ('system_1', 0)    |   phi(('system_1', 0)) |\n",
      "+====================+========================+\n",
      "| ('system_1', 0)(0) |                 0.2663 |\n",
      "+--------------------+------------------------+\n",
      "| ('system_1', 0)(1) |                 0.4306 |\n",
      "+--------------------+------------------------+\n",
      "+--------------------+------------------------+\n",
      "| ('system_1', 0)    |   phi(('system_1', 0)) |\n",
      "+====================+========================+\n",
      "| ('system_1', 0)(0) |                 0.2682 |\n",
      "+--------------------+------------------------+\n",
      "| ('system_1', 0)(1) |                 0.4265 |\n",
      "+--------------------+------------------------+\n",
      "+--------------------+------------------------+\n",
      "| ('system_1', 0)    |   phi(('system_1', 0)) |\n",
      "+====================+========================+\n",
      "| ('system_1', 0)(0) |                 0.2701 |\n",
      "+--------------------+------------------------+\n",
      "| ('system_1', 0)(1) |                 0.4225 |\n",
      "+--------------------+------------------------+\n"
     ]
    },
    {
     "name": "stderr",
     "output_type": "stream",
     "text": [
      "Eliminating: ('cat_obs', 1): 100%|██████████| 2/2 [00:00<00:00, 37.94it/s]\n",
      "Eliminating: ('cat_obs', 1): 100%|██████████| 2/2 [00:00<00:00, 160.44it/s]\n",
      "Eliminating: ('cat_obs', 1): 100%|██████████| 2/2 [00:00<00:00, 78.44it/s]\n",
      "Eliminating: ('cat_obs', 1): 100%|██████████| 2/2 [00:00<00:00, 79.89it/s]\n",
      "Eliminating: ('cat_obs', 1): 100%|██████████| 2/2 [00:00<00:00, 240.41it/s]"
     ]
    },
    {
     "name": "stdout",
     "output_type": "stream",
     "text": [
      "+--------------------+------------------------+\n",
      "| ('system_1', 0)    |   phi(('system_1', 0)) |\n",
      "+====================+========================+\n",
      "| ('system_1', 0)(0) |                 0.2719 |\n",
      "+--------------------+------------------------+\n",
      "| ('system_1', 0)(1) |                 0.4187 |\n",
      "+--------------------+------------------------+\n",
      "+--------------------+------------------------+\n",
      "| ('system_1', 0)    |   phi(('system_1', 0)) |\n",
      "+====================+========================+\n",
      "| ('system_1', 0)(0) |                 0.2736 |\n",
      "+--------------------+------------------------+\n",
      "| ('system_1', 0)(1) |                 0.4150 |\n",
      "+--------------------+------------------------+\n",
      "+--------------------+------------------------+\n",
      "| ('system_1', 0)    |   phi(('system_1', 0)) |\n",
      "+====================+========================+\n",
      "| ('system_1', 0)(0) |                 0.2753 |\n",
      "+--------------------+------------------------+\n",
      "| ('system_1', 0)(1) |                 0.4114 |\n",
      "+--------------------+------------------------+\n",
      "+--------------------+------------------------+\n",
      "| ('system_1', 0)    |   phi(('system_1', 0)) |\n",
      "+====================+========================+\n",
      "| ('system_1', 0)(0) |                 0.2769 |\n",
      "+--------------------+------------------------+\n",
      "| ('system_1', 0)(1) |                 0.4080 |\n",
      "+--------------------+------------------------+\n"
     ]
    },
    {
     "name": "stderr",
     "output_type": "stream",
     "text": [
      "\n",
      "Eliminating: ('cat_obs', 1): 100%|██████████| 2/2 [00:00<00:00, 84.10it/s]\n",
      "Eliminating: ('cat_obs', 1): 100%|██████████| 2/2 [00:00<00:00, 31.74it/s]\n",
      "Eliminating: ('system_1', 0):   0%|          | 0/2 [00:00<?, ?it/s]"
     ]
    },
    {
     "name": "stdout",
     "output_type": "stream",
     "text": [
      "+--------------------+------------------------+\n",
      "| ('system_1', 0)    |   phi(('system_1', 0)) |\n",
      "+====================+========================+\n",
      "| ('system_1', 0)(0) |                 0.2784 |\n",
      "+--------------------+------------------------+\n",
      "| ('system_1', 0)(1) |                 0.4047 |\n",
      "+--------------------+------------------------+\n",
      "+--------------------+------------------------+\n",
      "| ('system_1', 0)    |   phi(('system_1', 0)) |\n",
      "+====================+========================+\n",
      "| ('system_1', 0)(0) |                 0.2799 |\n",
      "+--------------------+------------------------+\n",
      "| ('system_1', 0)(1) |                 0.4015 |\n",
      "+--------------------+------------------------+\n",
      "+--------------------+------------------------+\n",
      "| ('system_1', 0)    |   phi(('system_1', 0)) |\n",
      "+====================+========================+\n",
      "| ('system_1', 0)(0) |                 0.2813 |\n",
      "+--------------------+------------------------+\n",
      "| ('system_1', 0)(1) |                 0.3985 |\n",
      "+--------------------+------------------------+\n"
     ]
    },
    {
     "name": "stderr",
     "output_type": "stream",
     "text": [
      "Eliminating: ('cat_obs', 1): 100%|██████████| 2/2 [00:00<00:00, 48.54it/s]\n",
      "Eliminating: ('cat_obs', 1): 100%|██████████| 2/2 [00:00<00:00, 84.78it/s]\n",
      "Eliminating: ('cat_obs', 1): 100%|██████████| 2/2 [00:00<00:00, 51.97it/s]\n"
     ]
    },
    {
     "name": "stdout",
     "output_type": "stream",
     "text": [
      "+--------------------+------------------------+\n",
      "| ('system_1', 0)    |   phi(('system_1', 0)) |\n",
      "+====================+========================+\n",
      "| ('system_1', 0)(0) |                 0.2827 |\n",
      "+--------------------+------------------------+\n",
      "| ('system_1', 0)(1) |                 0.3955 |\n",
      "+--------------------+------------------------+\n",
      "+--------------------+------------------------+\n",
      "| ('system_1', 0)    |   phi(('system_1', 0)) |\n",
      "+====================+========================+\n",
      "| ('system_1', 0)(0) |                 0.2840 |\n",
      "+--------------------+------------------------+\n",
      "| ('system_1', 0)(1) |                 0.3927 |\n",
      "+--------------------+------------------------+\n",
      "+--------------------+------------------------+\n",
      "| ('system_1', 0)    |   phi(('system_1', 0)) |\n",
      "+====================+========================+\n",
      "| ('system_1', 0)(0) |                 0.2853 |\n",
      "+--------------------+------------------------+\n",
      "| ('system_1', 0)(1) |                 0.3899 |\n",
      "+--------------------+------------------------+\n"
     ]
    },
    {
     "name": "stderr",
     "output_type": "stream",
     "text": [
      "Eliminating: ('cat_obs', 1): 100%|██████████| 2/2 [00:00<00:00, 51.05it/s]\n",
      "Eliminating: ('cat_obs', 1): 100%|██████████| 2/2 [00:00<00:00, 215.80it/s]\n",
      "Eliminating: ('cat_obs', 1): 100%|██████████| 2/2 [00:00<00:00, 139.13it/s]\n",
      "Eliminating: ('cat_obs', 1): 100%|██████████| 2/2 [00:00<00:00, 243.38it/s]\n",
      "Eliminating: ('cat_obs', 1): 100%|██████████| 2/2 [00:00<00:00, 121.91it/s]\n",
      "Eliminating: ('cat_obs', 1): 100%|██████████| 2/2 [00:00<00:00, 204.44it/s]\n"
     ]
    },
    {
     "name": "stdout",
     "output_type": "stream",
     "text": [
      "+--------------------+------------------------+\n",
      "| ('system_1', 0)    |   phi(('system_1', 0)) |\n",
      "+====================+========================+\n",
      "| ('system_1', 0)(0) |                 0.2865 |\n",
      "+--------------------+------------------------+\n",
      "| ('system_1', 0)(1) |                 0.3873 |\n",
      "+--------------------+------------------------+\n",
      "+--------------------+------------------------+\n",
      "| ('system_1', 0)    |   phi(('system_1', 0)) |\n",
      "+====================+========================+\n",
      "| ('system_1', 0)(0) |                 0.2877 |\n",
      "+--------------------+------------------------+\n",
      "| ('system_1', 0)(1) |                 0.3848 |\n",
      "+--------------------+------------------------+\n",
      "+--------------------+------------------------+\n",
      "| ('system_1', 0)    |   phi(('system_1', 0)) |\n",
      "+====================+========================+\n",
      "| ('system_1', 0)(0) |                 0.2889 |\n",
      "+--------------------+------------------------+\n",
      "| ('system_1', 0)(1) |                 0.3823 |\n",
      "+--------------------+------------------------+\n",
      "+--------------------+------------------------+\n",
      "| ('system_1', 0)    |   phi(('system_1', 0)) |\n",
      "+====================+========================+\n",
      "| ('system_1', 0)(0) |                 0.2900 |\n",
      "+--------------------+------------------------+\n",
      "| ('system_1', 0)(1) |                 0.3800 |\n",
      "+--------------------+------------------------+\n",
      "+--------------------+------------------------+\n",
      "| ('system_1', 0)    |   phi(('system_1', 0)) |\n",
      "+====================+========================+\n",
      "| ('system_1', 0)(0) |                 0.2910 |\n",
      "+--------------------+------------------------+\n",
      "| ('system_1', 0)(1) |                 0.3777 |\n",
      "+--------------------+------------------------+\n",
      "+--------------------+------------------------+\n",
      "| ('system_1', 0)    |   phi(('system_1', 0)) |\n",
      "+====================+========================+\n",
      "| ('system_1', 0)(0) |                 0.2920 |\n",
      "+--------------------+------------------------+\n",
      "| ('system_1', 0)(1) |                 0.3755 |\n",
      "+--------------------+------------------------+\n"
     ]
    },
    {
     "name": "stderr",
     "output_type": "stream",
     "text": [
      "Eliminating: ('cat_obs', 1): 100%|██████████| 2/2 [00:00<00:00, 68.57it/s]\n",
      "Eliminating: ('cat_obs', 1): 100%|██████████| 2/2 [00:00<00:00, 37.38it/s]\n",
      "Eliminating: ('cat_obs', 1): 100%|██████████| 2/2 [00:00<00:00, 80.65it/s]\n",
      "Eliminating: ('cat_obs', 1): 100%|██████████| 2/2 [00:00<00:00, 69.43it/s]"
     ]
    },
    {
     "name": "stdout",
     "output_type": "stream",
     "text": [
      "+--------------------+------------------------+\n",
      "| ('system_1', 0)    |   phi(('system_1', 0)) |\n",
      "+====================+========================+\n",
      "| ('system_1', 0)(0) |                 0.2930 |\n",
      "+--------------------+------------------------+\n",
      "| ('system_1', 0)(1) |                 0.3734 |\n",
      "+--------------------+------------------------+\n",
      "+--------------------+------------------------+\n",
      "| ('system_1', 0)    |   phi(('system_1', 0)) |\n",
      "+====================+========================+\n",
      "| ('system_1', 0)(0) |                 0.2940 |\n",
      "+--------------------+------------------------+\n",
      "| ('system_1', 0)(1) |                 0.3714 |\n",
      "+--------------------+------------------------+\n",
      "+--------------------+------------------------+\n",
      "| ('system_1', 0)    |   phi(('system_1', 0)) |\n",
      "+====================+========================+\n",
      "| ('system_1', 0)(0) |                 0.2949 |\n",
      "+--------------------+------------------------+\n",
      "| ('system_1', 0)(1) |                 0.3695 |\n",
      "+--------------------+------------------------+\n"
     ]
    },
    {
     "name": "stderr",
     "output_type": "stream",
     "text": [
      "\n",
      "Eliminating: ('cat_obs', 1): 100%|██████████| 2/2 [00:00<00:00, 39.30it/s]\n",
      "Eliminating: ('cat_obs', 1): 100%|██████████| 2/2 [00:00<00:00, 203.48it/s]\n",
      "Eliminating: ('cat_obs', 1): 100%|██████████| 2/2 [00:00<00:00, 43.76it/s]\n"
     ]
    },
    {
     "name": "stdout",
     "output_type": "stream",
     "text": [
      "+--------------------+------------------------+\n",
      "| ('system_1', 0)    |   phi(('system_1', 0)) |\n",
      "+====================+========================+\n",
      "| ('system_1', 0)(0) |                 0.2957 |\n",
      "+--------------------+------------------------+\n",
      "| ('system_1', 0)(1) |                 0.3676 |\n",
      "+--------------------+------------------------+\n",
      "+--------------------+------------------------+\n",
      "| ('system_1', 0)    |   phi(('system_1', 0)) |\n",
      "+====================+========================+\n",
      "| ('system_1', 0)(0) |                 0.2966 |\n",
      "+--------------------+------------------------+\n",
      "| ('system_1', 0)(1) |                 0.3658 |\n",
      "+--------------------+------------------------+\n",
      "+--------------------+------------------------+\n",
      "| ('system_1', 0)    |   phi(('system_1', 0)) |\n",
      "+====================+========================+\n",
      "| ('system_1', 0)(0) |                 0.2974 |\n",
      "+--------------------+------------------------+\n",
      "| ('system_1', 0)(1) |                 0.3640 |\n",
      "+--------------------+------------------------+\n",
      "+--------------------+------------------------+\n",
      "| ('system_1', 0)    |   phi(('system_1', 0)) |\n",
      "+====================+========================+\n",
      "| ('system_1', 0)(0) |                 0.2982 |\n",
      "+--------------------+------------------------+\n",
      "| ('system_1', 0)(1) |                 0.3624 |\n",
      "+--------------------+------------------------+\n"
     ]
    },
    {
     "name": "stderr",
     "output_type": "stream",
     "text": [
      "Eliminating: ('cat_obs', 1): 100%|██████████| 2/2 [00:00<00:00, 116.52it/s]\n",
      "Eliminating: ('cat_obs', 1): 100%|██████████| 2/2 [00:00<00:00, 586.41it/s]\n",
      "Eliminating: ('cat_obs', 1): 100%|██████████| 2/2 [00:00<00:00, 111.90it/s]\n",
      "Eliminating: ('cat_obs', 1): 100%|██████████| 2/2 [00:00<00:00, 45.26it/s]\n"
     ]
    },
    {
     "name": "stdout",
     "output_type": "stream",
     "text": [
      "+--------------------+------------------------+\n",
      "| ('system_1', 0)    |   phi(('system_1', 0)) |\n",
      "+====================+========================+\n",
      "| ('system_1', 0)(0) |                 0.2989 |\n",
      "+--------------------+------------------------+\n",
      "| ('system_1', 0)(1) |                 0.3607 |\n",
      "+--------------------+------------------------+\n",
      "+--------------------+------------------------+\n",
      "| ('system_1', 0)    |   phi(('system_1', 0)) |\n",
      "+====================+========================+\n",
      "| ('system_1', 0)(0) |                 0.2997 |\n",
      "+--------------------+------------------------+\n",
      "| ('system_1', 0)(1) |                 0.3592 |\n",
      "+--------------------+------------------------+\n",
      "+--------------------+------------------------+\n",
      "| ('system_1', 0)    |   phi(('system_1', 0)) |\n",
      "+====================+========================+\n",
      "| ('system_1', 0)(0) |                 0.3004 |\n",
      "+--------------------+------------------------+\n",
      "| ('system_1', 0)(1) |                 0.3577 |\n",
      "+--------------------+------------------------+\n",
      "+--------------------+------------------------+\n",
      "| ('system_1', 0)    |   phi(('system_1', 0)) |\n",
      "+====================+========================+\n",
      "| ('system_1', 0)(0) |                 0.3010 |\n",
      "+--------------------+------------------------+\n",
      "| ('system_1', 0)(1) |                 0.3562 |\n",
      "+--------------------+------------------------+\n"
     ]
    },
    {
     "name": "stderr",
     "output_type": "stream",
     "text": [
      "Eliminating: ('cat_obs', 1): 100%|██████████| 2/2 [00:00<00:00, 219.39it/s]\n",
      "Eliminating: ('cat_obs', 1): 100%|██████████| 2/2 [00:00<00:00, 258.25it/s]\n",
      "Eliminating: ('cat_obs', 1): 100%|██████████| 2/2 [00:00<00:00, 108.71it/s]\n",
      "Eliminating: ('cat_obs', 1):   0%|          | 0/2 [00:00<?, ?it/s] "
     ]
    },
    {
     "name": "stdout",
     "output_type": "stream",
     "text": [
      "+--------------------+------------------------+\n",
      "| ('system_1', 0)    |   phi(('system_1', 0)) |\n",
      "+====================+========================+\n",
      "| ('system_1', 0)(0) |                 0.3017 |\n",
      "+--------------------+------------------------+\n",
      "| ('system_1', 0)(1) |                 0.3549 |\n",
      "+--------------------+------------------------+\n",
      "+--------------------+------------------------+\n",
      "| ('system_1', 0)    |   phi(('system_1', 0)) |\n",
      "+====================+========================+\n",
      "| ('system_1', 0)(0) |                 0.3023 |\n",
      "+--------------------+------------------------+\n",
      "| ('system_1', 0)(1) |                 0.3535 |\n",
      "+--------------------+------------------------+\n",
      "+--------------------+------------------------+\n",
      "| ('system_1', 0)    |   phi(('system_1', 0)) |\n",
      "+====================+========================+\n",
      "| ('system_1', 0)(0) |                 0.3029 |\n",
      "+--------------------+------------------------+\n",
      "| ('system_1', 0)(1) |                 0.3522 |\n",
      "+--------------------+------------------------+\n"
     ]
    },
    {
     "name": "stderr",
     "output_type": "stream",
     "text": [
      "Eliminating: ('cat_obs', 1): 100%|██████████| 2/2 [00:00<00:00, 70.11it/s]\n",
      "Eliminating: ('cat_obs', 1): 100%|██████████| 2/2 [00:00<00:00, 60.28it/s]\n",
      "Eliminating: ('cat_obs', 1): 100%|██████████| 2/2 [00:00<00:00, 126.05it/s]\n",
      "Eliminating: ('system_1', 0):   0%|          | 0/2 [00:00<?, ?it/s]"
     ]
    },
    {
     "name": "stdout",
     "output_type": "stream",
     "text": [
      "+--------------------+------------------------+\n",
      "| ('system_1', 0)    |   phi(('system_1', 0)) |\n",
      "+====================+========================+\n",
      "| ('system_1', 0)(0) |                 0.3035 |\n",
      "+--------------------+------------------------+\n",
      "| ('system_1', 0)(1) |                 0.3510 |\n",
      "+--------------------+------------------------+\n",
      "+--------------------+------------------------+\n",
      "| ('system_1', 0)    |   phi(('system_1', 0)) |\n",
      "+====================+========================+\n",
      "| ('system_1', 0)(0) |                 0.3041 |\n",
      "+--------------------+------------------------+\n",
      "| ('system_1', 0)(1) |                 0.3498 |\n",
      "+--------------------+------------------------+\n",
      "+--------------------+------------------------+\n",
      "| ('system_1', 0)    |   phi(('system_1', 0)) |\n",
      "+====================+========================+\n",
      "| ('system_1', 0)(0) |                 0.3046 |\n",
      "+--------------------+------------------------+\n",
      "| ('system_1', 0)(1) |                 0.3486 |\n",
      "+--------------------+------------------------+\n"
     ]
    },
    {
     "name": "stderr",
     "output_type": "stream",
     "text": [
      "Eliminating: ('cat_obs', 1): 100%|██████████| 2/2 [00:00<00:00, 203.33it/s]\n",
      "Eliminating: ('cat_obs', 1): 100%|██████████| 2/2 [00:00<00:00, 67.51it/s]\n",
      "Eliminating: ('cat_obs', 1): 100%|██████████| 2/2 [00:00<00:00, 124.87it/s]\n",
      "Eliminating: ('cat_obs', 1): 100%|██████████| 2/2 [00:00<00:00, 90.59it/s]\n"
     ]
    },
    {
     "name": "stdout",
     "output_type": "stream",
     "text": [
      "+--------------------+------------------------+\n",
      "| ('system_1', 0)    |   phi(('system_1', 0)) |\n",
      "+====================+========================+\n",
      "| ('system_1', 0)(0) |                 0.3051 |\n",
      "+--------------------+------------------------+\n",
      "| ('system_1', 0)(1) |                 0.3475 |\n",
      "+--------------------+------------------------+\n",
      "+--------------------+------------------------+\n",
      "| ('system_1', 0)    |   phi(('system_1', 0)) |\n",
      "+====================+========================+\n",
      "| ('system_1', 0)(0) |                 0.3056 |\n",
      "+--------------------+------------------------+\n",
      "| ('system_1', 0)(1) |                 0.3465 |\n",
      "+--------------------+------------------------+\n",
      "+--------------------+------------------------+\n",
      "| ('system_1', 0)    |   phi(('system_1', 0)) |\n",
      "+====================+========================+\n",
      "| ('system_1', 0)(0) |                 0.3061 |\n",
      "+--------------------+------------------------+\n",
      "| ('system_1', 0)(1) |                 0.3454 |\n",
      "+--------------------+------------------------+\n",
      "+--------------------+------------------------+\n",
      "| ('system_1', 0)    |   phi(('system_1', 0)) |\n",
      "+====================+========================+\n",
      "| ('system_1', 0)(0) |                 0.3066 |\n",
      "+--------------------+------------------------+\n",
      "| ('system_1', 0)(1) |                 0.3445 |\n",
      "+--------------------+------------------------+\n"
     ]
    },
    {
     "name": "stderr",
     "output_type": "stream",
     "text": [
      "Eliminating: ('cat_obs', 1): 100%|██████████| 2/2 [00:00<00:00, 100.26it/s]\n",
      "Eliminating: ('cat_obs', 1): 100%|██████████| 2/2 [00:00<00:00, 70.64it/s]\n",
      "Eliminating: ('cat_obs', 1): 100%|██████████| 2/2 [00:00<00:00, 173.94it/s]\n",
      "Eliminating: ('cat_obs', 1): 100%|██████████| 2/2 [00:00<00:00, 146.10it/s]\n",
      "Eliminating: ('cat_obs', 1): 100%|██████████| 2/2 [00:00<00:00, 183.18it/s]\n"
     ]
    },
    {
     "name": "stdout",
     "output_type": "stream",
     "text": [
      "+--------------------+------------------------+\n",
      "| ('system_1', 0)    |   phi(('system_1', 0)) |\n",
      "+====================+========================+\n",
      "| ('system_1', 0)(0) |                 0.3070 |\n",
      "+--------------------+------------------------+\n",
      "| ('system_1', 0)(1) |                 0.3435 |\n",
      "+--------------------+------------------------+\n",
      "+--------------------+------------------------+\n",
      "| ('system_1', 0)    |   phi(('system_1', 0)) |\n",
      "+====================+========================+\n",
      "| ('system_1', 0)(0) |                 0.3074 |\n",
      "+--------------------+------------------------+\n",
      "| ('system_1', 0)(1) |                 0.3426 |\n",
      "+--------------------+------------------------+\n",
      "+--------------------+------------------------+\n",
      "| ('system_1', 0)    |   phi(('system_1', 0)) |\n",
      "+====================+========================+\n",
      "| ('system_1', 0)(0) |                 0.3079 |\n",
      "+--------------------+------------------------+\n",
      "| ('system_1', 0)(1) |                 0.3417 |\n",
      "+--------------------+------------------------+\n",
      "+--------------------+------------------------+\n",
      "| ('system_1', 0)    |   phi(('system_1', 0)) |\n",
      "+====================+========================+\n",
      "| ('system_1', 0)(0) |                 0.3083 |\n",
      "+--------------------+------------------------+\n",
      "| ('system_1', 0)(1) |                 0.3408 |\n",
      "+--------------------+------------------------+\n",
      "+--------------------+------------------------+\n",
      "| ('system_1', 0)    |   phi(('system_1', 0)) |\n",
      "+====================+========================+\n",
      "| ('system_1', 0)(0) |                 0.3086 |\n",
      "+--------------------+------------------------+\n",
      "| ('system_1', 0)(1) |                 0.3400 |\n",
      "+--------------------+------------------------+\n"
     ]
    },
    {
     "name": "stderr",
     "output_type": "stream",
     "text": [
      "Eliminating: ('cat_obs', 1): 100%|██████████| 2/2 [00:00<00:00, 332.92it/s]\n",
      "Eliminating: ('cat_obs', 1): 100%|██████████| 2/2 [00:00<00:00, 88.30it/s]\n",
      "Eliminating: ('cat_obs', 1): 100%|██████████| 2/2 [00:00<00:00, 267.63it/s]\n",
      "Eliminating: ('cat_obs', 1): 100%|██████████| 2/2 [00:00<00:00, 551.19it/s]\n",
      "Eliminating: ('cat_obs', 1): 100%|██████████| 2/2 [00:00<00:00, 215.01it/s]\n",
      "Eliminating: ('cat_obs', 1): 100%|██████████| 2/2 [00:00<00:00, 511.41it/s]\n"
     ]
    },
    {
     "name": "stdout",
     "output_type": "stream",
     "text": [
      "+--------------------+------------------------+\n",
      "| ('system_1', 0)    |   phi(('system_1', 0)) |\n",
      "+====================+========================+\n",
      "| ('system_1', 0)(0) |                 0.3090 |\n",
      "+--------------------+------------------------+\n",
      "| ('system_1', 0)(1) |                 0.3392 |\n",
      "+--------------------+------------------------+\n",
      "+--------------------+------------------------+\n",
      "| ('system_1', 0)    |   phi(('system_1', 0)) |\n",
      "+====================+========================+\n",
      "| ('system_1', 0)(0) |                 0.3094 |\n",
      "+--------------------+------------------------+\n",
      "| ('system_1', 0)(1) |                 0.3385 |\n",
      "+--------------------+------------------------+\n",
      "+--------------------+------------------------+\n",
      "| ('system_1', 0)    |   phi(('system_1', 0)) |\n",
      "+====================+========================+\n",
      "| ('system_1', 0)(0) |                 0.3097 |\n",
      "+--------------------+------------------------+\n",
      "| ('system_1', 0)(1) |                 0.3377 |\n",
      "+--------------------+------------------------+\n",
      "+--------------------+------------------------+\n",
      "| ('system_1', 0)    |   phi(('system_1', 0)) |\n",
      "+====================+========================+\n",
      "| ('system_1', 0)(0) |                 0.3100 |\n",
      "+--------------------+------------------------+\n",
      "| ('system_1', 0)(1) |                 0.3370 |\n",
      "+--------------------+------------------------+\n",
      "+--------------------+------------------------+\n",
      "| ('system_1', 0)    |   phi(('system_1', 0)) |\n",
      "+====================+========================+\n",
      "| ('system_1', 0)(0) |                 0.3103 |\n",
      "+--------------------+------------------------+\n",
      "| ('system_1', 0)(1) |                 0.3364 |\n",
      "+--------------------+------------------------+\n",
      "+--------------------+------------------------+\n",
      "| ('system_1', 0)    |   phi(('system_1', 0)) |\n",
      "+====================+========================+\n",
      "| ('system_1', 0)(0) |                 0.3107 |\n",
      "+--------------------+------------------------+\n",
      "| ('system_1', 0)(1) |                 0.3357 |\n",
      "+--------------------+------------------------+\n"
     ]
    },
    {
     "name": "stderr",
     "output_type": "stream",
     "text": [
      "Eliminating: ('cat_obs', 1): 100%|██████████| 2/2 [00:00<00:00, 145.94it/s]"
     ]
    },
    {
     "name": "stdout",
     "output_type": "stream",
     "text": [
      "+--------------------+------------------------+\n",
      "| ('system_1', 0)    |   phi(('system_1', 0)) |\n",
      "+====================+========================+\n",
      "| ('system_1', 0)(0) |                 0.3109 |\n",
      "+--------------------+------------------------+\n",
      "| ('system_1', 0)(1) |                 0.3351 |\n",
      "+--------------------+------------------------+\n"
     ]
    },
    {
     "name": "stderr",
     "output_type": "stream",
     "text": [
      "\n"
     ]
    }
   ],
   "source": [
    "\n",
    "    evidence_time = self._get_evidence(evidence, time_slice, 1)\n",
    "    if interface_nodes_dict:\n",
    "        evidence_time.update(interface_nodes_dict)\n",
    "\n",
    "    if variable_dict[time_slice]:\n",
    "        variable_time = self._shift_nodes(variable_dict[time_slice], 1)\n",
    "        new_values = mid_bp.query(\n",
    "            variable_time, evidence=evidence_time, joint=False)\n",
    "        changed_values = {}\n",
    "        for key in new_values.keys():\n",
    "            new_key = (key[0], time_slice)\n",
    "            new_factor = DiscreteFactor([new_key],\n",
    "                                        new_values[key].cardinality,\n",
    "                                        new_values[key].values)\n",
    "            changed_values[new_key] = new_factor\n",
    "        factor_values.update(changed_values)\n",
    "    #TO DO: only necessary update spot I think.\n",
    "    clique_phi = self._get_factor(mid_bp, evidence_time)\n",
    "#     final_factor = factor_product(*belief_prop.junction_tree.get_factors())\n",
    "    out_clique_phi = self._marginalize_factor(self.interface_nodes_1,\n",
    "                                              clique_phi)\n",
    "    new_factor = self._shift_factor(out_clique_phi, 0)\n",
    "    print(new_factor)\n",
    "    potential_dict[time_slice] = new_factor\n",
    "    mid_bp = BeliefPropagation(self.one_and_half_junction_tree)\n",
    "    self._update_belief(mid_bp, self.in_clique, new_factor)\n",
    "\n",
    "    if evidence_time:\n",
    "        interface_nodes_dict = {(k[0], 0): v\n",
    "                                for k, v in evidence_time.items()\n",
    "                                if k in self.interface_nodes_1}\n",
    "    else:\n",
    "        interface_nodes_dict = {}"
   ]
  },
  {
   "cell_type": "code",
   "execution_count": 11,
   "metadata": {},
   "outputs": [
    {
     "name": "stdout",
     "output_type": "stream",
     "text": [
      "[[0.30729156 0.00394207]\n",
      " [0.00782264 0.32664633]]\n",
      "[[0.80817744 0.19182256]\n",
      " [0.54157469 0.45842531]]\n"
     ]
    }
   ],
   "source": [
    "print(mid_bp.junction_tree.get_factors()[1].values)\n",
    "print(mid_bp.junction_tree.get_factors()[0].values)\n",
    "\n",
    "final_factor = factor_product(*mid_bp.junction_tree.get_factors())"
   ]
  },
  {
   "cell_type": "code",
   "execution_count": 12,
   "metadata": {},
   "outputs": [
    {
     "data": {
      "text/plain": [
       "array([[[0.24834611, 0.00318589],\n",
       "        [0.05894545, 0.00075618]],\n",
       "\n",
       "       [[0.00423654, 0.17690338],\n",
       "        [0.00358609, 0.14974295]]])"
      ]
     },
     "execution_count": 12,
     "metadata": {},
     "output_type": "execute_result"
    }
   ],
   "source": [
    "final_factor.values"
   ]
  },
  {
   "cell_type": "code",
   "execution_count": 13,
   "metadata": {},
   "outputs": [
    {
     "ename": "SyntaxError",
     "evalue": "unexpected EOF while parsing (<ipython-input-13-424fbb3a34c5>, line 1)",
     "output_type": "error",
     "traceback": [
      "\u001b[0;36m  File \u001b[0;32m\"<ipython-input-13-424fbb3a34c5>\"\u001b[0;36m, line \u001b[0;32m1\u001b[0m\n\u001b[0;31m    print(\u001b[0m\n\u001b[0m          ^\u001b[0m\n\u001b[0;31mSyntaxError\u001b[0m\u001b[0;31m:\u001b[0m unexpected EOF while parsing\n"
     ]
    }
   ],
   "source": [
    "print("
   ]
  },
  {
   "cell_type": "code",
   "execution_count": 14,
   "metadata": {},
   "outputs": [
    {
     "data": {
      "text/plain": [
       "NodeView((('system_1', 0), ('system_1', 1), ('cat_obs', 0), ('cat_obs', 1)))"
      ]
     },
     "execution_count": 14,
     "metadata": {},
     "output_type": "execute_result"
    }
   ],
   "source": [
    "graph_of_interest = system_graphs[0].copy()\n",
    "graph_of_interest.nodes()"
   ]
  },
  {
   "cell_type": "code",
   "execution_count": 15,
   "metadata": {},
   "outputs": [],
   "source": [
    "from pgmpy.factors.discrete import TabularCPD\n",
    "categorical_factor0 = TabularCPD(\n",
    "            ('cat_obs', 0),\n",
    "            2,\n",
    "            np.eye(2),\n",
    "            evidence=[('system_1', 0)],\n",
    "            evidence_card=[2])\n",
    "categorical_factor1 = TabularCPD(\n",
    "            ('cat_obs', 1),\n",
    "            2,\n",
    "            np.eye(2),\n",
    "            evidence=[('system_1', 1)],\n",
    "            evidence_card=[2])"
   ]
  },
  {
   "cell_type": "code",
   "execution_count": 16,
   "metadata": {},
   "outputs": [
    {
     "name": "stderr",
     "output_type": "stream",
     "text": [
      "WARNING:root:Replacing existing CPD for ('system_1', 1)\n"
     ]
    }
   ],
   "source": [
    "\n",
    "graph_of_interest.factors = [system_graphs[0].factors[0], system_graphs[0].factors[1], categorical_factor0, categorical_factor1]\n",
    "inference = dbn_inf.DBNInference(graph_of_interest)\n",
    "self = inference\n",
    "system = self.model.get_latent_nodes()[0][0]\n",
    "observation_node = self.model.get_observable_nodes()[0][0]\n",
    "\n",
    "# variables = [(system, i) for i in range(1,len(fhmm_data))]\n",
    "variables = [(system, i) for i in range(1,100)]\n",
    "evidence = None"
   ]
  },
  {
   "cell_type": "code",
   "execution_count": 17,
   "metadata": {},
   "outputs": [
    {
     "name": "stderr",
     "output_type": "stream",
     "text": [
      "Eliminating: ('cat_obs', 1): 100%|██████████| 2/2 [00:00<00:00, 70.39it/s]\n",
      "Eliminating: ('cat_obs', 1): 100%|██████████| 2/2 [00:00<00:00, 98.92it/s]\n",
      "Eliminating: ('cat_obs', 1): 100%|██████████| 2/2 [00:00<00:00, 87.59it/s]\n",
      "Eliminating: ('cat_obs', 1):   0%|          | 0/2 [00:00<?, ?it/s] "
     ]
    },
    {
     "name": "stdout",
     "output_type": "stream",
     "text": [
      "[('system_1', 0)]\n",
      "+--------------------+------------------------+\n",
      "| ('system_1', 0)    |   phi(('system_1', 0)) |\n",
      "+====================+========================+\n",
      "| ('system_1', 0)(0) |                 0.0118 |\n",
      "+--------------------+------------------------+\n",
      "| ('system_1', 0)(1) |                 0.9748 |\n",
      "+--------------------+------------------------+\n",
      "+--------------------+------------------------+\n",
      "| ('system_1', 0)    |   phi(('system_1', 0)) |\n",
      "+====================+========================+\n",
      "| ('system_1', 0)(0) |                 0.0231 |\n",
      "+--------------------+------------------------+\n",
      "| ('system_1', 0)(1) |                 0.9506 |\n",
      "+--------------------+------------------------+\n",
      "+--------------------+------------------------+\n",
      "| ('system_1', 0)    |   phi(('system_1', 0)) |\n",
      "+====================+========================+\n",
      "| ('system_1', 0)(0) |                 0.0340 |\n",
      "+--------------------+------------------------+\n",
      "| ('system_1', 0)(1) |                 0.9273 |\n",
      "+--------------------+------------------------+\n"
     ]
    },
    {
     "name": "stderr",
     "output_type": "stream",
     "text": [
      "Eliminating: ('cat_obs', 1): 100%|██████████| 2/2 [00:00<00:00, 100.75it/s]\n",
      "Eliminating: ('cat_obs', 1): 100%|██████████| 2/2 [00:00<00:00, 58.92it/s]\n",
      "Eliminating: ('cat_obs', 1): 100%|██████████| 2/2 [00:00<00:00, 90.31it/s]\n",
      "Eliminating: ('cat_obs', 1): 100%|██████████| 2/2 [00:00<00:00, 117.54it/s]"
     ]
    },
    {
     "name": "stdout",
     "output_type": "stream",
     "text": [
      "+--------------------+------------------------+\n",
      "| ('system_1', 0)    |   phi(('system_1', 0)) |\n",
      "+====================+========================+\n",
      "| ('system_1', 0)(0) |                 0.0445 |\n",
      "+--------------------+------------------------+\n",
      "| ('system_1', 0)(1) |                 0.9048 |\n",
      "+--------------------+------------------------+\n",
      "+--------------------+------------------------+\n",
      "| ('system_1', 0)    |   phi(('system_1', 0)) |\n",
      "+====================+========================+\n",
      "| ('system_1', 0)(0) |                 0.0546 |\n",
      "+--------------------+------------------------+\n",
      "| ('system_1', 0)(1) |                 0.8832 |\n",
      "+--------------------+------------------------+\n",
      "+--------------------+------------------------+\n",
      "| ('system_1', 0)    |   phi(('system_1', 0)) |\n",
      "+====================+========================+\n",
      "| ('system_1', 0)(0) |                 0.0644 |\n",
      "+--------------------+------------------------+\n",
      "| ('system_1', 0)(1) |                 0.8623 |\n",
      "+--------------------+------------------------+\n",
      "+--------------------+------------------------+\n",
      "| ('system_1', 0)    |   phi(('system_1', 0)) |\n",
      "+====================+========================+\n",
      "| ('system_1', 0)(0) |                 0.0738 |\n",
      "+--------------------+------------------------+\n",
      "| ('system_1', 0)(1) |                 0.8422 |\n",
      "+--------------------+------------------------+\n"
     ]
    },
    {
     "name": "stderr",
     "output_type": "stream",
     "text": [
      "\n",
      "Eliminating: ('cat_obs', 1): 100%|██████████| 2/2 [00:00<00:00, 128.27it/s]\n",
      "Eliminating: ('cat_obs', 1): 100%|██████████| 2/2 [00:00<00:00, 142.81it/s]\n",
      "Eliminating: ('cat_obs', 1): 100%|██████████| 2/2 [00:00<00:00, 86.55it/s]\n",
      "Eliminating: ('cat_obs', 1): 100%|██████████| 2/2 [00:00<00:00, 381.84it/s]\n",
      "Eliminating: ('cat_obs', 1): 100%|██████████| 2/2 [00:00<00:00, 92.14it/s]"
     ]
    },
    {
     "name": "stdout",
     "output_type": "stream",
     "text": [
      "+--------------------+------------------------+\n",
      "| ('system_1', 0)    |   phi(('system_1', 0)) |\n",
      "+====================+========================+\n",
      "| ('system_1', 0)(0) |                 0.0828 |\n",
      "+--------------------+------------------------+\n",
      "| ('system_1', 0)(1) |                 0.8229 |\n",
      "+--------------------+------------------------+\n",
      "+--------------------+------------------------+\n",
      "| ('system_1', 0)    |   phi(('system_1', 0)) |\n",
      "+====================+========================+\n",
      "| ('system_1', 0)(0) |                 0.0915 |\n",
      "+--------------------+------------------------+\n",
      "| ('system_1', 0)(1) |                 0.8043 |\n",
      "+--------------------+------------------------+\n",
      "+--------------------+------------------------+\n",
      "| ('system_1', 0)    |   phi(('system_1', 0)) |\n",
      "+====================+========================+\n",
      "| ('system_1', 0)(0) |                 0.0999 |\n",
      "+--------------------+------------------------+\n",
      "| ('system_1', 0)(1) |                 0.7864 |\n",
      "+--------------------+------------------------+\n",
      "+--------------------+------------------------+\n",
      "| ('system_1', 0)    |   phi(('system_1', 0)) |\n",
      "+====================+========================+\n",
      "| ('system_1', 0)(0) |                 0.1080 |\n",
      "+--------------------+------------------------+\n",
      "| ('system_1', 0)(1) |                 0.7691 |\n",
      "+--------------------+------------------------+\n"
     ]
    },
    {
     "name": "stderr",
     "output_type": "stream",
     "text": [
      "\n",
      "Eliminating: ('cat_obs', 1): 100%|██████████| 2/2 [00:00<00:00, 143.55it/s]\n",
      "Eliminating: ('cat_obs', 1): 100%|██████████| 2/2 [00:00<00:00, 50.73it/s]\n",
      "Eliminating: ('cat_obs', 1): 100%|██████████| 2/2 [00:00<00:00, 237.99it/s]\n",
      "  0%|          | 0/2 [00:00<?, ?it/s]"
     ]
    },
    {
     "name": "stdout",
     "output_type": "stream",
     "text": [
      "+--------------------+------------------------+\n",
      "| ('system_1', 0)    |   phi(('system_1', 0)) |\n",
      "+====================+========================+\n",
      "| ('system_1', 0)(0) |                 0.1158 |\n",
      "+--------------------+------------------------+\n",
      "| ('system_1', 0)(1) |                 0.7525 |\n",
      "+--------------------+------------------------+\n",
      "+--------------------+------------------------+\n",
      "| ('system_1', 0)    |   phi(('system_1', 0)) |\n",
      "+====================+========================+\n",
      "| ('system_1', 0)(0) |                 0.1233 |\n",
      "+--------------------+------------------------+\n",
      "| ('system_1', 0)(1) |                 0.7364 |\n",
      "+--------------------+------------------------+\n",
      "+--------------------+------------------------+\n",
      "| ('system_1', 0)    |   phi(('system_1', 0)) |\n",
      "+====================+========================+\n",
      "| ('system_1', 0)(0) |                 0.1305 |\n",
      "+--------------------+------------------------+\n",
      "| ('system_1', 0)(1) |                 0.7210 |\n",
      "+--------------------+------------------------+\n",
      "+--------------------+------------------------+\n",
      "| ('system_1', 0)    |   phi(('system_1', 0)) |\n",
      "+====================+========================+\n",
      "| ('system_1', 0)(0) |                 0.1374 |\n",
      "+--------------------+------------------------+\n",
      "| ('system_1', 0)(1) |                 0.7062 |\n",
      "+--------------------+------------------------+\n"
     ]
    },
    {
     "name": "stderr",
     "output_type": "stream",
     "text": [
      "Eliminating: ('cat_obs', 1): 100%|██████████| 2/2 [00:00<00:00, 46.01it/s]\n",
      "Eliminating: ('cat_obs', 1): 100%|██████████| 2/2 [00:00<00:00, 66.19it/s]\n",
      "Eliminating: ('cat_obs', 1): 100%|██████████| 2/2 [00:00<00:00, 69.89it/s]\n"
     ]
    },
    {
     "name": "stdout",
     "output_type": "stream",
     "text": [
      "+--------------------+------------------------+\n",
      "| ('system_1', 0)    |   phi(('system_1', 0)) |\n",
      "+====================+========================+\n",
      "| ('system_1', 0)(0) |                 0.1441 |\n",
      "+--------------------+------------------------+\n",
      "| ('system_1', 0)(1) |                 0.6919 |\n",
      "+--------------------+------------------------+\n",
      "+--------------------+------------------------+\n",
      "| ('system_1', 0)    |   phi(('system_1', 0)) |\n",
      "+====================+========================+\n",
      "| ('system_1', 0)(0) |                 0.1505 |\n",
      "+--------------------+------------------------+\n",
      "| ('system_1', 0)(1) |                 0.6781 |\n",
      "+--------------------+------------------------+\n",
      "+--------------------+------------------------+\n",
      "| ('system_1', 0)    |   phi(('system_1', 0)) |\n",
      "+====================+========================+\n",
      "| ('system_1', 0)(0) |                 0.1568 |\n",
      "+--------------------+------------------------+\n",
      "| ('system_1', 0)(1) |                 0.6648 |\n",
      "+--------------------+------------------------+\n"
     ]
    },
    {
     "name": "stderr",
     "output_type": "stream",
     "text": [
      "Eliminating: ('cat_obs', 1): 100%|██████████| 2/2 [00:00<00:00, 112.75it/s]\n",
      "Eliminating: ('cat_obs', 1): 100%|██████████| 2/2 [00:00<00:00, 33.88it/s]\n",
      "Eliminating: ('cat_obs', 1): 100%|██████████| 2/2 [00:00<00:00, 136.07it/s]\n",
      "Eliminating: ('cat_obs', 1):   0%|          | 0/2 [00:00<?, ?it/s] "
     ]
    },
    {
     "name": "stdout",
     "output_type": "stream",
     "text": [
      "+--------------------+------------------------+\n",
      "| ('system_1', 0)    |   phi(('system_1', 0)) |\n",
      "+====================+========================+\n",
      "| ('system_1', 0)(0) |                 0.1627 |\n",
      "+--------------------+------------------------+\n",
      "| ('system_1', 0)(1) |                 0.6520 |\n",
      "+--------------------+------------------------+\n",
      "+--------------------+------------------------+\n",
      "| ('system_1', 0)    |   phi(('system_1', 0)) |\n",
      "+====================+========================+\n",
      "| ('system_1', 0)(0) |                 0.1685 |\n",
      "+--------------------+------------------------+\n",
      "| ('system_1', 0)(1) |                 0.6397 |\n",
      "+--------------------+------------------------+\n",
      "+--------------------+------------------------+\n",
      "| ('system_1', 0)    |   phi(('system_1', 0)) |\n",
      "+====================+========================+\n",
      "| ('system_1', 0)(0) |                 0.1740 |\n",
      "+--------------------+------------------------+\n",
      "| ('system_1', 0)(1) |                 0.6279 |\n",
      "+--------------------+------------------------+\n"
     ]
    },
    {
     "name": "stderr",
     "output_type": "stream",
     "text": [
      "Eliminating: ('cat_obs', 1): 100%|██████████| 2/2 [00:00<00:00, 105.79it/s]\n",
      "Eliminating: ('cat_obs', 1): 100%|██████████| 2/2 [00:00<00:00, 50.74it/s]\n",
      "Eliminating: ('cat_obs', 1): 100%|██████████| 2/2 [00:00<00:00, 300.97it/s]\n",
      "Eliminating: ('cat_obs', 1): 100%|██████████| 2/2 [00:00<00:00, 125.70it/s]\n"
     ]
    },
    {
     "name": "stdout",
     "output_type": "stream",
     "text": [
      "+--------------------+------------------------+\n",
      "| ('system_1', 0)    |   phi(('system_1', 0)) |\n",
      "+====================+========================+\n",
      "| ('system_1', 0)(0) |                 0.1794 |\n",
      "+--------------------+------------------------+\n",
      "| ('system_1', 0)(1) |                 0.6164 |\n",
      "+--------------------+------------------------+\n",
      "+--------------------+------------------------+\n",
      "| ('system_1', 0)    |   phi(('system_1', 0)) |\n",
      "+====================+========================+\n",
      "| ('system_1', 0)(0) |                 0.1845 |\n",
      "+--------------------+------------------------+\n",
      "| ('system_1', 0)(1) |                 0.6054 |\n",
      "+--------------------+------------------------+\n",
      "+--------------------+------------------------+\n",
      "| ('system_1', 0)    |   phi(('system_1', 0)) |\n",
      "+====================+========================+\n",
      "| ('system_1', 0)(0) |                 0.1895 |\n",
      "+--------------------+------------------------+\n",
      "| ('system_1', 0)(1) |                 0.5949 |\n",
      "+--------------------+------------------------+\n",
      "+--------------------+------------------------+\n",
      "| ('system_1', 0)    |   phi(('system_1', 0)) |\n",
      "+====================+========================+\n",
      "| ('system_1', 0)(0) |                 0.1942 |\n",
      "+--------------------+------------------------+\n",
      "| ('system_1', 0)(1) |                 0.5847 |\n",
      "+--------------------+------------------------+\n"
     ]
    },
    {
     "name": "stderr",
     "output_type": "stream",
     "text": [
      "Eliminating: ('cat_obs', 1): 100%|██████████| 2/2 [00:00<00:00, 130.81it/s]\n",
      "Eliminating: ('cat_obs', 1): 100%|██████████| 2/2 [00:00<00:00, 192.93it/s]\n",
      "Eliminating: ('cat_obs', 1): 100%|██████████| 2/2 [00:00<00:00, 138.28it/s]\n",
      "Eliminating: ('system_1', 0):   0%|          | 0/2 [00:00<?, ?it/s]"
     ]
    },
    {
     "name": "stdout",
     "output_type": "stream",
     "text": [
      "+--------------------+------------------------+\n",
      "| ('system_1', 0)    |   phi(('system_1', 0)) |\n",
      "+====================+========================+\n",
      "| ('system_1', 0)(0) |                 0.1988 |\n",
      "+--------------------+------------------------+\n",
      "| ('system_1', 0)(1) |                 0.5748 |\n",
      "+--------------------+------------------------+\n",
      "+--------------------+------------------------+\n",
      "| ('system_1', 0)    |   phi(('system_1', 0)) |\n",
      "+====================+========================+\n",
      "| ('system_1', 0)(0) |                 0.2033 |\n",
      "+--------------------+------------------------+\n",
      "| ('system_1', 0)(1) |                 0.5654 |\n",
      "+--------------------+------------------------+\n",
      "+--------------------+------------------------+\n",
      "| ('system_1', 0)    |   phi(('system_1', 0)) |\n",
      "+====================+========================+\n",
      "| ('system_1', 0)(0) |                 0.2075 |\n",
      "+--------------------+------------------------+\n",
      "| ('system_1', 0)(1) |                 0.5563 |\n",
      "+--------------------+------------------------+\n"
     ]
    },
    {
     "name": "stderr",
     "output_type": "stream",
     "text": [
      "Eliminating: ('cat_obs', 1): 100%|██████████| 2/2 [00:00<00:00, 29.05it/s]\n",
      "Eliminating: ('cat_obs', 1): 100%|██████████| 2/2 [00:00<00:00, 130.06it/s]\n",
      "Eliminating: ('cat_obs', 1): 100%|██████████| 2/2 [00:00<00:00, 202.68it/s]\n",
      "Eliminating: ('cat_obs', 1): 100%|██████████| 2/2 [00:00<00:00, 128.80it/s]\n",
      "Eliminating: ('cat_obs', 1): 100%|██████████| 2/2 [00:00<00:00, 144.18it/s]\n",
      "Eliminating: ('cat_obs', 1):   0%|          | 0/2 [00:00<?, ?it/s] "
     ]
    },
    {
     "name": "stdout",
     "output_type": "stream",
     "text": [
      "+--------------------+------------------------+\n",
      "| ('system_1', 0)    |   phi(('system_1', 0)) |\n",
      "+====================+========================+\n",
      "| ('system_1', 0)(0) |                 0.2116 |\n",
      "+--------------------+------------------------+\n",
      "| ('system_1', 0)(1) |                 0.5475 |\n",
      "+--------------------+------------------------+\n",
      "+--------------------+------------------------+\n",
      "| ('system_1', 0)    |   phi(('system_1', 0)) |\n",
      "+====================+========================+\n",
      "| ('system_1', 0)(0) |                 0.2156 |\n",
      "+--------------------+------------------------+\n",
      "| ('system_1', 0)(1) |                 0.5390 |\n",
      "+--------------------+------------------------+\n",
      "+--------------------+------------------------+\n",
      "| ('system_1', 0)    |   phi(('system_1', 0)) |\n",
      "+====================+========================+\n",
      "| ('system_1', 0)(0) |                 0.2194 |\n",
      "+--------------------+------------------------+\n",
      "| ('system_1', 0)(1) |                 0.5309 |\n",
      "+--------------------+------------------------+\n",
      "+--------------------+------------------------+\n",
      "| ('system_1', 0)    |   phi(('system_1', 0)) |\n",
      "+====================+========================+\n",
      "| ('system_1', 0)(0) |                 0.2230 |\n",
      "+--------------------+------------------------+\n",
      "| ('system_1', 0)(1) |                 0.5231 |\n",
      "+--------------------+------------------------+\n",
      "+--------------------+------------------------+\n",
      "| ('system_1', 0)    |   phi(('system_1', 0)) |\n",
      "+====================+========================+\n",
      "| ('system_1', 0)(0) |                 0.2266 |\n",
      "+--------------------+------------------------+\n",
      "| ('system_1', 0)(1) |                 0.5155 |\n",
      "+--------------------+------------------------+\n"
     ]
    },
    {
     "name": "stderr",
     "output_type": "stream",
     "text": [
      "Eliminating: ('cat_obs', 1): 100%|██████████| 2/2 [00:00<00:00, 125.59it/s]\n",
      "Eliminating: ('cat_obs', 1): 100%|██████████| 2/2 [00:00<00:00, 99.96it/s]\n",
      "Eliminating: ('cat_obs', 1): 100%|██████████| 2/2 [00:00<00:00, 275.03it/s]\n",
      "Eliminating: ('cat_obs', 1): 100%|██████████| 2/2 [00:00<00:00, 176.39it/s]\n",
      "Eliminating: ('cat_obs', 1): 100%|██████████| 2/2 [00:00<00:00, 247.19it/s]\n",
      "Eliminating: ('cat_obs', 1):   0%|          | 0/2 [00:00<?, ?it/s] "
     ]
    },
    {
     "name": "stdout",
     "output_type": "stream",
     "text": [
      "+--------------------+------------------------+\n",
      "| ('system_1', 0)    |   phi(('system_1', 0)) |\n",
      "+====================+========================+\n",
      "| ('system_1', 0)(0) |                 0.2300 |\n",
      "+--------------------+------------------------+\n",
      "| ('system_1', 0)(1) |                 0.5083 |\n",
      "+--------------------+------------------------+\n",
      "+--------------------+------------------------+\n",
      "| ('system_1', 0)    |   phi(('system_1', 0)) |\n",
      "+====================+========================+\n",
      "| ('system_1', 0)(0) |                 0.2332 |\n",
      "+--------------------+------------------------+\n",
      "| ('system_1', 0)(1) |                 0.5012 |\n",
      "+--------------------+------------------------+\n",
      "+--------------------+------------------------+\n",
      "| ('system_1', 0)    |   phi(('system_1', 0)) |\n",
      "+====================+========================+\n",
      "| ('system_1', 0)(0) |                 0.2364 |\n",
      "+--------------------+------------------------+\n",
      "| ('system_1', 0)(1) |                 0.4945 |\n",
      "+--------------------+------------------------+\n",
      "+--------------------+------------------------+\n",
      "| ('system_1', 0)    |   phi(('system_1', 0)) |\n",
      "+====================+========================+\n",
      "| ('system_1', 0)(0) |                 0.2394 |\n",
      "+--------------------+------------------------+\n",
      "| ('system_1', 0)(1) |                 0.4880 |\n",
      "+--------------------+------------------------+\n",
      "+--------------------+------------------------+\n",
      "| ('system_1', 0)    |   phi(('system_1', 0)) |\n",
      "+====================+========================+\n",
      "| ('system_1', 0)(0) |                 0.2424 |\n",
      "+--------------------+------------------------+\n",
      "| ('system_1', 0)(1) |                 0.4818 |\n",
      "+--------------------+------------------------+\n"
     ]
    },
    {
     "name": "stderr",
     "output_type": "stream",
     "text": [
      "Eliminating: ('cat_obs', 1): 100%|██████████| 2/2 [00:00<00:00, 164.23it/s]\n",
      "Eliminating: ('cat_obs', 1): 100%|██████████| 2/2 [00:00<00:00, 196.85it/s]\n",
      "Eliminating: ('cat_obs', 1): 100%|██████████| 2/2 [00:00<00:00, 68.14it/s]\n",
      "Eliminating: ('cat_obs', 1): 100%|██████████| 2/2 [00:00<00:00, 94.47it/s]\n",
      "Eliminating: ('cat_obs', 1): 100%|██████████| 2/2 [00:00<00:00, 273.82it/s]\n",
      "Eliminating: ('system_1', 0):   0%|          | 0/2 [00:00<?, ?it/s]"
     ]
    },
    {
     "name": "stdout",
     "output_type": "stream",
     "text": [
      "+--------------------+------------------------+\n",
      "| ('system_1', 0)    |   phi(('system_1', 0)) |\n",
      "+====================+========================+\n",
      "| ('system_1', 0)(0) |                 0.2452 |\n",
      "+--------------------+------------------------+\n",
      "| ('system_1', 0)(1) |                 0.4757 |\n",
      "+--------------------+------------------------+\n",
      "+--------------------+------------------------+\n",
      "| ('system_1', 0)    |   phi(('system_1', 0)) |\n",
      "+====================+========================+\n",
      "| ('system_1', 0)(0) |                 0.2479 |\n",
      "+--------------------+------------------------+\n",
      "| ('system_1', 0)(1) |                 0.4699 |\n",
      "+--------------------+------------------------+\n",
      "+--------------------+------------------------+\n",
      "| ('system_1', 0)    |   phi(('system_1', 0)) |\n",
      "+====================+========================+\n",
      "| ('system_1', 0)(0) |                 0.2505 |\n",
      "+--------------------+------------------------+\n",
      "| ('system_1', 0)(1) |                 0.4644 |\n",
      "+--------------------+------------------------+\n",
      "+--------------------+------------------------+\n",
      "| ('system_1', 0)    |   phi(('system_1', 0)) |\n",
      "+====================+========================+\n",
      "| ('system_1', 0)(0) |                 0.2530 |\n",
      "+--------------------+------------------------+\n",
      "| ('system_1', 0)(1) |                 0.4590 |\n",
      "+--------------------+------------------------+\n",
      "+--------------------+------------------------+\n",
      "| ('system_1', 0)    |   phi(('system_1', 0)) |\n",
      "+====================+========================+\n",
      "| ('system_1', 0)(0) |                 0.2554 |\n",
      "+--------------------+------------------------+\n",
      "| ('system_1', 0)(1) |                 0.4538 |\n",
      "+--------------------+------------------------+\n"
     ]
    },
    {
     "name": "stderr",
     "output_type": "stream",
     "text": [
      "Eliminating: ('cat_obs', 1): 100%|██████████| 2/2 [00:00<00:00, 125.47it/s]\n",
      "Eliminating: ('cat_obs', 1): 100%|██████████| 2/2 [00:00<00:00, 255.91it/s]\n",
      "Eliminating: ('cat_obs', 1): 100%|██████████| 2/2 [00:00<00:00, 80.60it/s]\n",
      "Eliminating: ('cat_obs', 1): 100%|██████████| 2/2 [00:00<00:00, 78.85it/s]\n",
      "Eliminating: ('system_1', 0):   0%|          | 0/2 [00:00<?, ?it/s]"
     ]
    },
    {
     "name": "stdout",
     "output_type": "stream",
     "text": [
      "+--------------------+------------------------+\n",
      "| ('system_1', 0)    |   phi(('system_1', 0)) |\n",
      "+====================+========================+\n",
      "| ('system_1', 0)(0) |                 0.2578 |\n",
      "+--------------------+------------------------+\n",
      "| ('system_1', 0)(1) |                 0.4488 |\n",
      "+--------------------+------------------------+\n",
      "+--------------------+------------------------+\n",
      "| ('system_1', 0)    |   phi(('system_1', 0)) |\n",
      "+====================+========================+\n",
      "| ('system_1', 0)(0) |                 0.2600 |\n",
      "+--------------------+------------------------+\n",
      "| ('system_1', 0)(1) |                 0.4440 |\n",
      "+--------------------+------------------------+\n",
      "+--------------------+------------------------+\n",
      "| ('system_1', 0)    |   phi(('system_1', 0)) |\n",
      "+====================+========================+\n",
      "| ('system_1', 0)(0) |                 0.2622 |\n",
      "+--------------------+------------------------+\n",
      "| ('system_1', 0)(1) |                 0.4394 |\n",
      "+--------------------+------------------------+\n",
      "+--------------------+------------------------+\n",
      "| ('system_1', 0)    |   phi(('system_1', 0)) |\n",
      "+====================+========================+\n",
      "| ('system_1', 0)(0) |                 0.2643 |\n",
      "+--------------------+------------------------+\n",
      "| ('system_1', 0)(1) |                 0.4349 |\n",
      "+--------------------+------------------------+\n"
     ]
    },
    {
     "name": "stderr",
     "output_type": "stream",
     "text": [
      "Eliminating: ('cat_obs', 1): 100%|██████████| 2/2 [00:00<00:00, 140.86it/s]\n",
      "Eliminating: ('cat_obs', 1): 100%|██████████| 2/2 [00:00<00:00, 63.07it/s]\n",
      "Eliminating: ('cat_obs', 1): 100%|██████████| 2/2 [00:00<00:00, 358.49it/s]\n",
      "Eliminating: ('cat_obs', 1): 100%|██████████| 2/2 [00:00<00:00, 177.32it/s]\n"
     ]
    },
    {
     "name": "stdout",
     "output_type": "stream",
     "text": [
      "+--------------------+------------------------+\n",
      "| ('system_1', 0)    |   phi(('system_1', 0)) |\n",
      "+====================+========================+\n",
      "| ('system_1', 0)(0) |                 0.2663 |\n",
      "+--------------------+------------------------+\n",
      "| ('system_1', 0)(1) |                 0.4306 |\n",
      "+--------------------+------------------------+\n",
      "+--------------------+------------------------+\n",
      "| ('system_1', 0)    |   phi(('system_1', 0)) |\n",
      "+====================+========================+\n",
      "| ('system_1', 0)(0) |                 0.2682 |\n",
      "+--------------------+------------------------+\n",
      "| ('system_1', 0)(1) |                 0.4265 |\n",
      "+--------------------+------------------------+\n",
      "+--------------------+------------------------+\n",
      "| ('system_1', 0)    |   phi(('system_1', 0)) |\n",
      "+====================+========================+\n",
      "| ('system_1', 0)(0) |                 0.2701 |\n",
      "+--------------------+------------------------+\n",
      "| ('system_1', 0)(1) |                 0.4225 |\n",
      "+--------------------+------------------------+\n",
      "+--------------------+------------------------+\n",
      "| ('system_1', 0)    |   phi(('system_1', 0)) |\n",
      "+====================+========================+\n",
      "| ('system_1', 0)(0) |                 0.2719 |\n",
      "+--------------------+------------------------+\n",
      "| ('system_1', 0)(1) |                 0.4187 |\n",
      "+--------------------+------------------------+\n"
     ]
    },
    {
     "name": "stderr",
     "output_type": "stream",
     "text": [
      "Eliminating: ('cat_obs', 1): 100%|██████████| 2/2 [00:00<00:00, 72.11it/s]\n",
      "Eliminating: ('cat_obs', 1): 100%|██████████| 2/2 [00:00<00:00, 130.90it/s]\n",
      "Eliminating: ('cat_obs', 1): 100%|██████████| 2/2 [00:00<00:00, 162.14it/s]\n",
      "Eliminating: ('cat_obs', 1): 100%|██████████| 2/2 [00:00<00:00, 197.79it/s]\n",
      "  0%|          | 0/2 [00:00<?, ?it/s]"
     ]
    },
    {
     "name": "stdout",
     "output_type": "stream",
     "text": [
      "+--------------------+------------------------+\n",
      "| ('system_1', 0)    |   phi(('system_1', 0)) |\n",
      "+====================+========================+\n",
      "| ('system_1', 0)(0) |                 0.2736 |\n",
      "+--------------------+------------------------+\n",
      "| ('system_1', 0)(1) |                 0.4150 |\n",
      "+--------------------+------------------------+\n",
      "+--------------------+------------------------+\n",
      "| ('system_1', 0)    |   phi(('system_1', 0)) |\n",
      "+====================+========================+\n",
      "| ('system_1', 0)(0) |                 0.2753 |\n",
      "+--------------------+------------------------+\n",
      "| ('system_1', 0)(1) |                 0.4114 |\n",
      "+--------------------+------------------------+\n",
      "+--------------------+------------------------+\n",
      "| ('system_1', 0)    |   phi(('system_1', 0)) |\n",
      "+====================+========================+\n",
      "| ('system_1', 0)(0) |                 0.2769 |\n",
      "+--------------------+------------------------+\n",
      "| ('system_1', 0)(1) |                 0.4080 |\n",
      "+--------------------+------------------------+\n",
      "+--------------------+------------------------+\n",
      "| ('system_1', 0)    |   phi(('system_1', 0)) |\n",
      "+====================+========================+\n",
      "| ('system_1', 0)(0) |                 0.2784 |\n",
      "+--------------------+------------------------+\n",
      "| ('system_1', 0)(1) |                 0.4047 |\n",
      "+--------------------+------------------------+\n"
     ]
    },
    {
     "name": "stderr",
     "output_type": "stream",
     "text": [
      "Eliminating: ('cat_obs', 1): 100%|██████████| 2/2 [00:00<00:00, 243.16it/s]\n",
      "Eliminating: ('cat_obs', 1): 100%|██████████| 2/2 [00:00<00:00, -81.07it/s]\n",
      "Eliminating: ('cat_obs', 1): 100%|██████████| 2/2 [00:00<00:00, 205.44it/s]\n",
      "Eliminating: ('cat_obs', 1): 100%|██████████| 2/2 [00:00<00:00, 177.48it/s]\n",
      "Eliminating: ('cat_obs', 1): 100%|██████████| 2/2 [00:00<00:00, 86.66it/s]\n"
     ]
    },
    {
     "name": "stdout",
     "output_type": "stream",
     "text": [
      "+--------------------+------------------------+\n",
      "| ('system_1', 0)    |   phi(('system_1', 0)) |\n",
      "+====================+========================+\n",
      "| ('system_1', 0)(0) |                 0.2799 |\n",
      "+--------------------+------------------------+\n",
      "| ('system_1', 0)(1) |                 0.4015 |\n",
      "+--------------------+------------------------+\n",
      "+--------------------+------------------------+\n",
      "| ('system_1', 0)    |   phi(('system_1', 0)) |\n",
      "+====================+========================+\n",
      "| ('system_1', 0)(0) |                 0.2813 |\n",
      "+--------------------+------------------------+\n",
      "| ('system_1', 0)(1) |                 0.3985 |\n",
      "+--------------------+------------------------+\n",
      "+--------------------+------------------------+\n",
      "| ('system_1', 0)    |   phi(('system_1', 0)) |\n",
      "+====================+========================+\n",
      "| ('system_1', 0)(0) |                 0.2827 |\n",
      "+--------------------+------------------------+\n",
      "| ('system_1', 0)(1) |                 0.3955 |\n",
      "+--------------------+------------------------+\n",
      "+--------------------+------------------------+\n",
      "| ('system_1', 0)    |   phi(('system_1', 0)) |\n",
      "+====================+========================+\n",
      "| ('system_1', 0)(0) |                 0.2840 |\n",
      "+--------------------+------------------------+\n",
      "| ('system_1', 0)(1) |                 0.3927 |\n",
      "+--------------------+------------------------+\n",
      "+--------------------+------------------------+\n",
      "| ('system_1', 0)    |   phi(('system_1', 0)) |\n",
      "+====================+========================+\n",
      "| ('system_1', 0)(0) |                 0.2853 |\n",
      "+--------------------+------------------------+\n",
      "| ('system_1', 0)(1) |                 0.3899 |\n",
      "+--------------------+------------------------+\n"
     ]
    },
    {
     "name": "stderr",
     "output_type": "stream",
     "text": [
      "Eliminating: ('cat_obs', 1): 100%|██████████| 2/2 [00:00<00:00, 567.87it/s]\n",
      "Eliminating: ('cat_obs', 1): 100%|██████████| 2/2 [00:00<00:00, 151.79it/s]\n",
      "Eliminating: ('cat_obs', 1): 100%|██████████| 2/2 [00:00<00:00, 134.67it/s]\n",
      "Eliminating: ('cat_obs', 1): 100%|██████████| 2/2 [00:00<00:00, 81.10it/s]\n",
      "Eliminating: ('cat_obs', 1): 100%|██████████| 2/2 [00:00<00:00, 142.38it/s]"
     ]
    },
    {
     "name": "stdout",
     "output_type": "stream",
     "text": [
      "+--------------------+------------------------+\n",
      "| ('system_1', 0)    |   phi(('system_1', 0)) |\n",
      "+====================+========================+\n",
      "| ('system_1', 0)(0) |                 0.2865 |\n",
      "+--------------------+------------------------+\n",
      "| ('system_1', 0)(1) |                 0.3873 |\n",
      "+--------------------+------------------------+\n",
      "+--------------------+------------------------+\n",
      "| ('system_1', 0)    |   phi(('system_1', 0)) |\n",
      "+====================+========================+\n",
      "| ('system_1', 0)(0) |                 0.2877 |\n",
      "+--------------------+------------------------+\n",
      "| ('system_1', 0)(1) |                 0.3848 |\n",
      "+--------------------+------------------------+\n",
      "+--------------------+------------------------+\n",
      "| ('system_1', 0)    |   phi(('system_1', 0)) |\n",
      "+====================+========================+\n",
      "| ('system_1', 0)(0) |                 0.2889 |\n",
      "+--------------------+------------------------+\n",
      "| ('system_1', 0)(1) |                 0.3823 |\n",
      "+--------------------+------------------------+\n",
      "+--------------------+------------------------+\n",
      "| ('system_1', 0)    |   phi(('system_1', 0)) |\n",
      "+====================+========================+\n",
      "| ('system_1', 0)(0) |                 0.2900 |\n",
      "+--------------------+------------------------+\n",
      "| ('system_1', 0)(1) |                 0.3800 |\n",
      "+--------------------+------------------------+\n",
      "+--------------------+------------------------+\n",
      "| ('system_1', 0)    |   phi(('system_1', 0)) |\n",
      "+====================+========================+\n",
      "| ('system_1', 0)(0) |                 0.2910 |\n",
      "+--------------------+------------------------+\n",
      "| ('system_1', 0)(1) |                 0.3777 |\n",
      "+--------------------+------------------------+\n"
     ]
    },
    {
     "name": "stderr",
     "output_type": "stream",
     "text": [
      "\n",
      "Eliminating: ('cat_obs', 1): 100%|██████████| 2/2 [00:00<00:00, 108.46it/s]\n",
      "Eliminating: ('cat_obs', 1): 100%|██████████| 2/2 [00:00<00:00, 104.73it/s]\n",
      "Eliminating: ('cat_obs', 1): 100%|██████████| 2/2 [00:00<00:00, 116.27it/s]\n",
      "Eliminating: ('cat_obs', 1): 100%|██████████| 2/2 [00:00<00:00, 249.67it/s]\n",
      "Eliminating: ('system_1', 0):   0%|          | 0/2 [00:00<?, ?it/s]"
     ]
    },
    {
     "name": "stdout",
     "output_type": "stream",
     "text": [
      "+--------------------+------------------------+\n",
      "| ('system_1', 0)    |   phi(('system_1', 0)) |\n",
      "+====================+========================+\n",
      "| ('system_1', 0)(0) |                 0.2920 |\n",
      "+--------------------+------------------------+\n",
      "| ('system_1', 0)(1) |                 0.3755 |\n",
      "+--------------------+------------------------+\n",
      "+--------------------+------------------------+\n",
      "| ('system_1', 0)    |   phi(('system_1', 0)) |\n",
      "+====================+========================+\n",
      "| ('system_1', 0)(0) |                 0.2930 |\n",
      "+--------------------+------------------------+\n",
      "| ('system_1', 0)(1) |                 0.3734 |\n",
      "+--------------------+------------------------+\n",
      "+--------------------+------------------------+\n",
      "| ('system_1', 0)    |   phi(('system_1', 0)) |\n",
      "+====================+========================+\n",
      "| ('system_1', 0)(0) |                 0.2940 |\n",
      "+--------------------+------------------------+\n",
      "| ('system_1', 0)(1) |                 0.3714 |\n",
      "+--------------------+------------------------+\n",
      "+--------------------+------------------------+\n",
      "| ('system_1', 0)    |   phi(('system_1', 0)) |\n",
      "+====================+========================+\n",
      "| ('system_1', 0)(0) |                 0.2949 |\n",
      "+--------------------+------------------------+\n",
      "| ('system_1', 0)(1) |                 0.3695 |\n",
      "+--------------------+------------------------+\n"
     ]
    },
    {
     "name": "stderr",
     "output_type": "stream",
     "text": [
      "Eliminating: ('cat_obs', 1): 100%|██████████| 2/2 [00:00<00:00, 80.59it/s]\n",
      "Eliminating: ('cat_obs', 1): 100%|██████████| 2/2 [00:00<00:00, 71.50it/s]\n",
      "Eliminating: ('cat_obs', 1): 100%|██████████| 2/2 [00:00<00:00, 166.33it/s]\n",
      "Eliminating: ('cat_obs', 1): 100%|██████████| 2/2 [00:00<00:00, 167.83it/s]\n",
      "Eliminating: ('cat_obs', 1): 100%|██████████| 2/2 [00:00<00:00, 156.24it/s]\n",
      "Eliminating: ('cat_obs', 1):   0%|          | 0/2 [00:00<?, ?it/s] "
     ]
    },
    {
     "name": "stdout",
     "output_type": "stream",
     "text": [
      "+--------------------+------------------------+\n",
      "| ('system_1', 0)    |   phi(('system_1', 0)) |\n",
      "+====================+========================+\n",
      "| ('system_1', 0)(0) |                 0.2957 |\n",
      "+--------------------+------------------------+\n",
      "| ('system_1', 0)(1) |                 0.3676 |\n",
      "+--------------------+------------------------+\n",
      "+--------------------+------------------------+\n",
      "| ('system_1', 0)    |   phi(('system_1', 0)) |\n",
      "+====================+========================+\n",
      "| ('system_1', 0)(0) |                 0.2966 |\n",
      "+--------------------+------------------------+\n",
      "| ('system_1', 0)(1) |                 0.3658 |\n",
      "+--------------------+------------------------+\n",
      "+--------------------+------------------------+\n",
      "| ('system_1', 0)    |   phi(('system_1', 0)) |\n",
      "+====================+========================+\n",
      "| ('system_1', 0)(0) |                 0.2974 |\n",
      "+--------------------+------------------------+\n",
      "| ('system_1', 0)(1) |                 0.3640 |\n",
      "+--------------------+------------------------+\n",
      "+--------------------+------------------------+\n",
      "| ('system_1', 0)    |   phi(('system_1', 0)) |\n",
      "+====================+========================+\n",
      "| ('system_1', 0)(0) |                 0.2982 |\n",
      "+--------------------+------------------------+\n",
      "| ('system_1', 0)(1) |                 0.3624 |\n",
      "+--------------------+------------------------+\n",
      "+--------------------+------------------------+\n",
      "| ('system_1', 0)    |   phi(('system_1', 0)) |\n",
      "+====================+========================+\n",
      "| ('system_1', 0)(0) |                 0.2989 |\n",
      "+--------------------+------------------------+\n",
      "| ('system_1', 0)(1) |                 0.3607 |\n",
      "+--------------------+------------------------+\n"
     ]
    },
    {
     "name": "stderr",
     "output_type": "stream",
     "text": [
      "Eliminating: ('cat_obs', 1): 100%|██████████| 2/2 [00:00<00:00, 126.35it/s]\n",
      "Eliminating: ('cat_obs', 1): 100%|██████████| 2/2 [00:00<00:00, 140.34it/s]\n",
      "Eliminating: ('cat_obs', 1): 100%|██████████| 2/2 [00:00<00:00, 250.74it/s]\n",
      "Eliminating: ('cat_obs', 1): 100%|██████████| 2/2 [00:00<00:00, 182.27it/s]\n",
      "Eliminating: ('cat_obs', 1): 100%|██████████| 2/2 [00:00<00:00, 180.83it/s]\n",
      "Eliminating: ('cat_obs', 1): 100%|██████████| 2/2 [00:00<00:00, 354.80it/s]"
     ]
    },
    {
     "name": "stdout",
     "output_type": "stream",
     "text": [
      "+--------------------+------------------------+\n",
      "| ('system_1', 0)    |   phi(('system_1', 0)) |\n",
      "+====================+========================+\n",
      "| ('system_1', 0)(0) |                 0.2997 |\n",
      "+--------------------+------------------------+\n",
      "| ('system_1', 0)(1) |                 0.3592 |\n",
      "+--------------------+------------------------+\n",
      "+--------------------+------------------------+\n",
      "| ('system_1', 0)    |   phi(('system_1', 0)) |\n",
      "+====================+========================+\n",
      "| ('system_1', 0)(0) |                 0.3004 |\n",
      "+--------------------+------------------------+\n",
      "| ('system_1', 0)(1) |                 0.3577 |\n",
      "+--------------------+------------------------+\n",
      "+--------------------+------------------------+\n",
      "| ('system_1', 0)    |   phi(('system_1', 0)) |\n",
      "+====================+========================+\n",
      "| ('system_1', 0)(0) |                 0.3010 |\n",
      "+--------------------+------------------------+\n",
      "| ('system_1', 0)(1) |                 0.3562 |\n",
      "+--------------------+------------------------+\n",
      "+--------------------+------------------------+\n",
      "| ('system_1', 0)    |   phi(('system_1', 0)) |\n",
      "+====================+========================+\n",
      "| ('system_1', 0)(0) |                 0.3017 |\n",
      "+--------------------+------------------------+\n",
      "| ('system_1', 0)(1) |                 0.3549 |\n",
      "+--------------------+------------------------+\n",
      "+--------------------+------------------------+\n",
      "| ('system_1', 0)    |   phi(('system_1', 0)) |\n",
      "+====================+========================+\n",
      "| ('system_1', 0)(0) |                 0.3023 |\n",
      "+--------------------+------------------------+\n",
      "| ('system_1', 0)(1) |                 0.3535 |\n",
      "+--------------------+------------------------+\n",
      "+--------------------+------------------------+\n",
      "| ('system_1', 0)    |   phi(('system_1', 0)) |\n",
      "+====================+========================+\n",
      "| ('system_1', 0)(0) |                 0.3029 |\n",
      "+--------------------+------------------------+\n",
      "| ('system_1', 0)(1) |                 0.3522 |\n",
      "+--------------------+------------------------+"
     ]
    },
    {
     "name": "stderr",
     "output_type": "stream",
     "text": [
      "\n",
      "Eliminating: ('cat_obs', 1): 100%|██████████| 2/2 [00:00<00:00, 73.64it/s]\n",
      "Eliminating: ('cat_obs', 1): 100%|██████████| 2/2 [00:00<00:00, 209.53it/s]\n",
      "Eliminating: ('cat_obs', 1): 100%|██████████| 2/2 [00:00<00:00, 214.99it/s]\n",
      "Eliminating: ('cat_obs', 1): 100%|██████████| 2/2 [00:00<00:00, 294.02it/s]\n",
      "Eliminating: ('cat_obs', 1):   0%|          | 0/2 [00:00<?, ?it/s] "
     ]
    },
    {
     "name": "stdout",
     "output_type": "stream",
     "text": [
      "\n",
      "+--------------------+------------------------+\n",
      "| ('system_1', 0)    |   phi(('system_1', 0)) |\n",
      "+====================+========================+\n",
      "| ('system_1', 0)(0) |                 0.3035 |\n",
      "+--------------------+------------------------+\n",
      "| ('system_1', 0)(1) |                 0.3510 |\n",
      "+--------------------+------------------------+\n",
      "+--------------------+------------------------+\n",
      "| ('system_1', 0)    |   phi(('system_1', 0)) |\n",
      "+====================+========================+\n",
      "| ('system_1', 0)(0) |                 0.3041 |\n",
      "+--------------------+------------------------+\n",
      "| ('system_1', 0)(1) |                 0.3498 |\n",
      "+--------------------+------------------------+\n",
      "+--------------------+------------------------+\n",
      "| ('system_1', 0)    |   phi(('system_1', 0)) |\n",
      "+====================+========================+\n",
      "| ('system_1', 0)(0) |                 0.3046 |\n",
      "+--------------------+------------------------+\n",
      "| ('system_1', 0)(1) |                 0.3486 |\n",
      "+--------------------+------------------------+\n",
      "+--------------------+------------------------+\n",
      "| ('system_1', 0)    |   phi(('system_1', 0)) |\n",
      "+====================+========================+\n",
      "| ('system_1', 0)(0) |                 0.3051 |\n",
      "+--------------------+------------------------+\n",
      "| ('system_1', 0)(1) |                 0.3475 |\n",
      "+--------------------+------------------------+\n"
     ]
    },
    {
     "name": "stderr",
     "output_type": "stream",
     "text": [
      "Eliminating: ('cat_obs', 1): 100%|██████████| 2/2 [00:00<00:00, 68.85it/s]\n",
      "Eliminating: ('cat_obs', 1): 100%|██████████| 2/2 [00:00<00:00, 145.88it/s]\n",
      "Eliminating: ('cat_obs', 1): 100%|██████████| 2/2 [00:00<00:00, 247.91it/s]\n",
      "Eliminating: ('cat_obs', 1): 100%|██████████| 2/2 [00:00<00:00, 368.50it/s]\n",
      "Eliminating: ('cat_obs', 1): 100%|██████████| 2/2 [00:00<00:00, 110.70it/s]\n",
      "Eliminating: ('cat_obs', 1): 100%|██████████| 2/2 [00:00<00:00, 153.09it/s]"
     ]
    },
    {
     "name": "stdout",
     "output_type": "stream",
     "text": [
      "+--------------------+------------------------+\n",
      "| ('system_1', 0)    |   phi(('system_1', 0)) |\n",
      "+====================+========================+\n",
      "| ('system_1', 0)(0) |                 0.3056 |\n",
      "+--------------------+------------------------+\n",
      "| ('system_1', 0)(1) |                 0.3465 |\n",
      "+--------------------+------------------------+\n",
      "+--------------------+------------------------+\n",
      "| ('system_1', 0)    |   phi(('system_1', 0)) |\n",
      "+====================+========================+\n",
      "| ('system_1', 0)(0) |                 0.3061 |\n",
      "+--------------------+------------------------+\n",
      "| ('system_1', 0)(1) |                 0.3454 |\n",
      "+--------------------+------------------------+\n",
      "+--------------------+------------------------+\n",
      "| ('system_1', 0)    |   phi(('system_1', 0)) |\n",
      "+====================+========================+\n",
      "| ('system_1', 0)(0) |                 0.3066 |\n",
      "+--------------------+------------------------+\n",
      "| ('system_1', 0)(1) |                 0.3445 |\n",
      "+--------------------+------------------------+\n",
      "+--------------------+------------------------+\n",
      "| ('system_1', 0)    |   phi(('system_1', 0)) |\n",
      "+====================+========================+\n",
      "| ('system_1', 0)(0) |                 0.3070 |\n",
      "+--------------------+------------------------+\n",
      "| ('system_1', 0)(1) |                 0.3435 |\n",
      "+--------------------+------------------------+\n",
      "+--------------------+------------------------+\n",
      "| ('system_1', 0)    |   phi(('system_1', 0)) |\n",
      "+====================+========================+\n",
      "| ('system_1', 0)(0) |                 0.3074 |\n",
      "+--------------------+------------------------+\n",
      "| ('system_1', 0)(1) |                 0.3426 |\n",
      "+--------------------+------------------------+\n"
     ]
    },
    {
     "name": "stderr",
     "output_type": "stream",
     "text": [
      "\n",
      "Eliminating: ('cat_obs', 1): 100%|██████████| 2/2 [00:00<00:00, 84.34it/s]\n",
      "Eliminating: ('cat_obs', 1): 100%|██████████| 2/2 [00:00<00:00, 79.61it/s]\n",
      "Eliminating: ('cat_obs', 1): 100%|██████████| 2/2 [00:00<00:00, 196.92it/s]\n",
      "Eliminating: ('cat_obs', 1): 100%|██████████| 2/2 [00:00<00:00, 165.08it/s]\n"
     ]
    },
    {
     "name": "stdout",
     "output_type": "stream",
     "text": [
      "+--------------------+------------------------+\n",
      "| ('system_1', 0)    |   phi(('system_1', 0)) |\n",
      "+====================+========================+\n",
      "| ('system_1', 0)(0) |                 0.3079 |\n",
      "+--------------------+------------------------+\n",
      "| ('system_1', 0)(1) |                 0.3417 |\n",
      "+--------------------+------------------------+\n",
      "+--------------------+------------------------+\n",
      "| ('system_1', 0)    |   phi(('system_1', 0)) |\n",
      "+====================+========================+\n",
      "| ('system_1', 0)(0) |                 0.3083 |\n",
      "+--------------------+------------------------+\n",
      "| ('system_1', 0)(1) |                 0.3408 |\n",
      "+--------------------+------------------------+\n",
      "+--------------------+------------------------+\n",
      "| ('system_1', 0)    |   phi(('system_1', 0)) |\n",
      "+====================+========================+\n",
      "| ('system_1', 0)(0) |                 0.3086 |\n",
      "+--------------------+------------------------+\n",
      "| ('system_1', 0)(1) |                 0.3400 |\n",
      "+--------------------+------------------------+\n",
      "+--------------------+------------------------+\n",
      "| ('system_1', 0)    |   phi(('system_1', 0)) |\n",
      "+====================+========================+\n",
      "| ('system_1', 0)(0) |                 0.3090 |\n",
      "+--------------------+------------------------+\n",
      "| ('system_1', 0)(1) |                 0.3392 |\n",
      "+--------------------+------------------------+\n"
     ]
    },
    {
     "name": "stderr",
     "output_type": "stream",
     "text": [
      "Eliminating: ('cat_obs', 1): 100%|██████████| 2/2 [00:00<00:00, 138.88it/s]\n",
      "Eliminating: ('cat_obs', 1): 100%|██████████| 2/2 [00:00<00:00, 126.76it/s]\n",
      "Eliminating: ('cat_obs', 1): 100%|██████████| 2/2 [00:00<00:00, 107.01it/s]\n"
     ]
    },
    {
     "name": "stdout",
     "output_type": "stream",
     "text": [
      "+--------------------+------------------------+\n",
      "| ('system_1', 0)    |   phi(('system_1', 0)) |\n",
      "+====================+========================+\n",
      "| ('system_1', 0)(0) |                 0.3094 |\n",
      "+--------------------+------------------------+\n",
      "| ('system_1', 0)(1) |                 0.3385 |\n",
      "+--------------------+------------------------+\n",
      "+--------------------+------------------------+\n",
      "| ('system_1', 0)    |   phi(('system_1', 0)) |\n",
      "+====================+========================+\n",
      "| ('system_1', 0)(0) |                 0.3097 |\n",
      "+--------------------+------------------------+\n",
      "| ('system_1', 0)(1) |                 0.3377 |\n",
      "+--------------------+------------------------+\n",
      "+--------------------+------------------------+\n",
      "| ('system_1', 0)    |   phi(('system_1', 0)) |\n",
      "+====================+========================+\n",
      "| ('system_1', 0)(0) |                 0.3100 |\n",
      "+--------------------+------------------------+\n",
      "| ('system_1', 0)(1) |                 0.3370 |\n",
      "+--------------------+------------------------+\n",
      "+--------------------+------------------------+\n",
      "| ('system_1', 0)    |   phi(('system_1', 0)) |\n",
      "+====================+========================+\n",
      "| ('system_1', 0)(0) |                 0.3103 |\n",
      "+--------------------+------------------------+\n",
      "| ('system_1', 0)(1) |                 0.3364 |\n",
      "+--------------------+------------------------+\n"
     ]
    },
    {
     "name": "stderr",
     "output_type": "stream",
     "text": [
      "Eliminating: ('cat_obs', 1): 100%|██████████| 2/2 [00:00<00:00, 92.89it/s]\n",
      "Eliminating: ('cat_obs', 1): 100%|██████████| 2/2 [00:00<00:00, 63.54it/s]\n"
     ]
    },
    {
     "name": "stdout",
     "output_type": "stream",
     "text": [
      "+--------------------+------------------------+\n",
      "| ('system_1', 0)    |   phi(('system_1', 0)) |\n",
      "+====================+========================+\n",
      "| ('system_1', 0)(0) |                 0.3107 |\n",
      "+--------------------+------------------------+\n",
      "| ('system_1', 0)(1) |                 0.3357 |\n",
      "+--------------------+------------------------+\n",
      "+--------------------+------------------------+\n",
      "| ('system_1', 0)    |   phi(('system_1', 0)) |\n",
      "+====================+========================+\n",
      "| ('system_1', 0)(0) |                 0.3109 |\n",
      "+--------------------+------------------------+\n",
      "| ('system_1', 0)(1) |                 0.3351 |\n",
      "+--------------------+------------------------+\n"
     ]
    }
   ],
   "source": [
    "variable_dict = defaultdict(list)\n",
    "for var in variables:\n",
    "    variable_dict[var[1]].append(var)\n",
    "\n",
    "time_range = max(variable_dict)\n",
    "if evidence:\n",
    "    evid_time_range = max(\n",
    "        [time_slice for var, time_slice in evidence.keys()])\n",
    "    time_range = max(time_range, evid_time_range)\n",
    "\n",
    "start_bp = BeliefPropagation(self.start_junction_tree)\n",
    "mid_bp = BeliefPropagation(self.one_and_half_junction_tree)\n",
    "evidence_0 = self._get_evidence(evidence, 0, 0)\n",
    "interface_nodes_dict = {}\n",
    "potential_dict = {}\n",
    "\n",
    "if evidence:\n",
    "    interface_nodes_dict = {\n",
    "        k: v\n",
    "        for k, v in evidence_0.items()\n",
    "        if k in self.interface_nodes_0\n",
    "    }\n",
    "initial_factor = self._get_factor(start_bp, evidence_0)\n",
    "marginalized_factor = self._marginalize_factor(self.interface_nodes_0,\n",
    "                                               initial_factor)\n",
    "print(self.interface_nodes_0)\n",
    "potential_dict[0] = marginalized_factor\n",
    "self._update_belief(mid_bp, self.in_clique, marginalized_factor)\n",
    "\n",
    "if variable_dict[0]:\n",
    "    factor_values = start_bp.query(\n",
    "        variable_dict[0], evidence=evidence_0, joint=False)\n",
    "else:\n",
    "    factor_values = {}\n",
    "\n",
    "for time_slice in range(1, time_range + 1):\n",
    "    evidence_time = self._get_evidence(evidence, time_slice, 1)\n",
    "    if interface_nodes_dict:\n",
    "        evidence_time.update(interface_nodes_dict)\n",
    "\n",
    "    if variable_dict[time_slice]:\n",
    "        variable_time = self._shift_nodes(variable_dict[time_slice], 1)\n",
    "        new_values = mid_bp.query(\n",
    "            variable_time, evidence=evidence_time, joint=False)\n",
    "        changed_values = {}\n",
    "        for key in new_values.keys():\n",
    "            new_key = (key[0], time_slice)\n",
    "            new_factor = DiscreteFactor([new_key],\n",
    "                                        new_values[key].cardinality,\n",
    "                                        new_values[key].values)\n",
    "            changed_values[new_key] = new_factor\n",
    "        factor_values.update(changed_values)\n",
    "    #TO DO: only necessary update spot I think.\n",
    "#     clique_phi = get_factor_variational(self, mid_bp, evidence_time)\n",
    "    clique_phi = self._get_factor(mid_bp, evidence_time)\n",
    "    out_clique_phi = self._marginalize_factor(self.interface_nodes_1,\n",
    "                                              clique_phi)\n",
    "    new_factor = self._shift_factor(out_clique_phi, 0)\n",
    "    print(new_factor)\n",
    "    potential_dict[time_slice] = new_factor\n",
    "    mid_bp = BeliefPropagation(self.one_and_half_junction_tree)\n",
    "    self._update_belief(mid_bp, self.in_clique, new_factor)\n",
    "\n",
    "    if evidence_time:\n",
    "        interface_nodes_dict = {(k[0], 0): v\n",
    "                                for k, v in evidence_time.items()\n",
    "                                if k in self.interface_nodes_1}\n",
    "    else:\n",
    "        interface_nodes_dict = {}"
   ]
  },
  {
   "cell_type": "code",
   "execution_count": 18,
   "metadata": {},
   "outputs": [
    {
     "name": "stdout",
     "output_type": "stream",
     "text": [
      "[[0.30729156 0.00394207]\n",
      " [0.00782264 0.32664633]]\n",
      "[[1. 0.]\n",
      " [0. 1.]]\n"
     ]
    }
   ],
   "source": [
    "print(mid_bp.junction_tree.get_factors()[1].values)\n",
    "print(mid_bp.junction_tree.get_factors()[0].values)\n",
    "\n",
    "final_product = factor_product(*mid_bp.junction_tree.get_factors())"
   ]
  },
  {
   "cell_type": "code",
   "execution_count": 19,
   "metadata": {},
   "outputs": [
    {
     "data": {
      "text/plain": [
       "array([[[0.30729156, 0.00394207],\n",
       "        [0.        , 0.        ]],\n",
       "\n",
       "       [[0.        , 0.        ],\n",
       "        [0.00782264, 0.32664633]]])"
      ]
     },
     "execution_count": 19,
     "metadata": {},
     "output_type": "execute_result"
    }
   ],
   "source": [
    "final_product.values"
   ]
  },
  {
   "cell_type": "code",
   "execution_count": null,
   "metadata": {},
   "outputs": [],
   "source": [
    "array([[[0.24834611, 0.00318589],\n",
    "        [0.05894545, 0.00075618]],\n",
    "\n",
    "       [[0.00423654, 0.17690338],\n",
    "        [0.00358609, 0.14974295]]])"
   ]
  }
 ],
 "metadata": {
  "kernelspec": {
   "display_name": "Python 3",
   "language": "python",
   "name": "python3"
  },
  "language_info": {
   "codemirror_mode": {
    "name": "ipython",
    "version": 3
   },
   "file_extension": ".py",
   "mimetype": "text/x-python",
   "name": "python",
   "nbconvert_exporter": "python",
   "pygments_lexer": "ipython3",
   "version": "3.7.3"
  }
 },
 "nbformat": 4,
 "nbformat_minor": 2
}
