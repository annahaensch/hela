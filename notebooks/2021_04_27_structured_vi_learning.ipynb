{
 "cells": [
  {
   "cell_type": "code",
   "execution_count": 1,
   "metadata": {},
   "outputs": [],
   "source": [
    "import pandas as pd\n",
    "import numpy as np\n",
    "\n",
    "# Hela ML libraries \n",
    "from hela import hmm\n",
    "import hela.generation.hmm as hmm_gen\n",
    "\n",
    "# Viz libraries\n",
    "import altair as alt\n",
    "import hela.visualization.hmm as hmmplot \n",
    "import matplotlib.pyplot as plt\n",
    "from hela.visualization.hmm import TU_COLORS\n",
    "%matplotlib inline\n",
    "\n",
    "# Utility Libraries\n",
    "from datetime import datetime\n",
    "from dask.distributed import Client\n",
    "from scipy.special import logsumexp\n",
    "from scipy import stats\n",
    "import itertools\n",
    "from IPython.display import Image"
   ]
  },
  {
   "cell_type": "code",
   "execution_count": 2,
   "metadata": {},
   "outputs": [],
   "source": [
    "gen = hmm_gen.FactoredHMMGenerativeModel(\n",
    "                                     ns_hidden_states =[4, 4],\n",
    "                                     n_gaussian_features = 4,\n",
    "                                     n_categorical_features = 0)\n",
    "\n",
    "factored_hidden_states = gen.generate_hidden_state_sequence(n_observations = 500)"
   ]
  },
  {
   "cell_type": "code",
   "execution_count": 3,
   "metadata": {},
   "outputs": [],
   "source": [
    "data = gen.generate_observations(factored_hidden_states)\n",
    "# fhmm_training_spec = gen.generative_model_to_fhmm_training_spec()\n",
    "fhmm_training_spec = hmm_gen.data_to_fhmm_training_spec(factored_hidden_states, \n",
    "                                   gen.ns_hidden_states, \n",
    "                                   data,\n",
    "#                                    categorical_features = [], \n",
    "                                   gaussian_features = list(gen.gaussian_values.columns)\n",
    "                                                       )\n",
    "\n",
    "fhmm_config = hmm.FactoredHMMConfiguration.from_spec(fhmm_training_spec)\n",
    "\n",
    "untrained_model = fhmm_config.to_model()"
   ]
  },
  {
   "cell_type": "code",
   "execution_count": 4,
   "metadata": {},
   "outputs": [
    {
     "data": {
      "text/html": [
       "<div>\n",
       "<style scoped>\n",
       "    .dataframe tbody tr th:only-of-type {\n",
       "        vertical-align: middle;\n",
       "    }\n",
       "\n",
       "    .dataframe tbody tr th {\n",
       "        vertical-align: top;\n",
       "    }\n",
       "\n",
       "    .dataframe thead th {\n",
       "        text-align: right;\n",
       "    }\n",
       "</style>\n",
       "<table border=\"1\" class=\"dataframe\">\n",
       "  <thead>\n",
       "    <tr style=\"text-align: right;\">\n",
       "      <th></th>\n",
       "      <th>gaussian_feature_0</th>\n",
       "      <th>gaussian_feature_1</th>\n",
       "      <th>gaussian_feature_2</th>\n",
       "      <th>gaussian_feature_3</th>\n",
       "    </tr>\n",
       "  </thead>\n",
       "  <tbody>\n",
       "    <tr>\n",
       "      <th>2020-08-01</th>\n",
       "      <td>-1.798800</td>\n",
       "      <td>-3.467944</td>\n",
       "      <td>3.644544</td>\n",
       "      <td>-0.471293</td>\n",
       "    </tr>\n",
       "    <tr>\n",
       "      <th>2020-08-02</th>\n",
       "      <td>-0.911950</td>\n",
       "      <td>-2.766553</td>\n",
       "      <td>2.856906</td>\n",
       "      <td>1.247256</td>\n",
       "    </tr>\n",
       "    <tr>\n",
       "      <th>2020-08-03</th>\n",
       "      <td>0.605806</td>\n",
       "      <td>-3.197247</td>\n",
       "      <td>3.045204</td>\n",
       "      <td>1.142476</td>\n",
       "    </tr>\n",
       "    <tr>\n",
       "      <th>2020-08-04</th>\n",
       "      <td>-0.372477</td>\n",
       "      <td>-2.781081</td>\n",
       "      <td>3.031308</td>\n",
       "      <td>0.423955</td>\n",
       "    </tr>\n",
       "    <tr>\n",
       "      <th>2020-08-05</th>\n",
       "      <td>-2.623511</td>\n",
       "      <td>-3.873819</td>\n",
       "      <td>3.634506</td>\n",
       "      <td>0.223079</td>\n",
       "    </tr>\n",
       "  </tbody>\n",
       "</table>\n",
       "</div>"
      ],
      "text/plain": [
       "            gaussian_feature_0  gaussian_feature_1  gaussian_feature_2  \\\n",
       "2020-08-01           -1.798800           -3.467944            3.644544   \n",
       "2020-08-02           -0.911950           -2.766553            2.856906   \n",
       "2020-08-03            0.605806           -3.197247            3.045204   \n",
       "2020-08-04           -0.372477           -2.781081            3.031308   \n",
       "2020-08-05           -2.623511           -3.873819            3.634506   \n",
       "\n",
       "            gaussian_feature_3  \n",
       "2020-08-01           -0.471293  \n",
       "2020-08-02            1.247256  \n",
       "2020-08-03            1.142476  \n",
       "2020-08-04            0.423955  \n",
       "2020-08-05            0.223079  "
      ]
     },
     "execution_count": 4,
     "metadata": {},
     "output_type": "execute_result"
    }
   ],
   "source": [
    "data.head()"
   ]
  },
  {
   "cell_type": "code",
   "execution_count": 5,
   "metadata": {},
   "outputs": [],
   "source": [
    "alg = untrained_model.load_learning_interface()\n",
    "model = alg.run(data = data, \n",
    "                 method = 'structured_vi', \n",
    "                 training_iterations = 10)"
   ]
  },
  {
   "cell_type": "code",
   "execution_count": 6,
   "metadata": {},
   "outputs": [
    {
     "ename": "NameError",
     "evalue": "name 'fhmm_model' is not defined",
     "output_type": "error",
     "traceback": [
      "\u001b[0;31m---------------------------------------------------------------------------\u001b[0m",
      "\u001b[0;31mNameError\u001b[0m                                 Traceback (most recent call last)",
      "\u001b[0;32m<ipython-input-6-ae4423db5537>\u001b[0m in \u001b[0;36m<module>\u001b[0;34m\u001b[0m\n\u001b[0;32m----> 1\u001b[0;31m \u001b[0minf\u001b[0m \u001b[0;34m=\u001b[0m \u001b[0mfhmm_model\u001b[0m\u001b[0;34m.\u001b[0m\u001b[0mload_inference_interface\u001b[0m\u001b[0;34m(\u001b[0m\u001b[0mfhmm_data\u001b[0m\u001b[0;34m)\u001b[0m\u001b[0;34m\u001b[0m\u001b[0;34m\u001b[0m\u001b[0m\n\u001b[0m\u001b[1;32m      2\u001b[0m h_t = np.zeros((len(fhmm_data), \n\u001b[1;32m      3\u001b[0m                         \u001b[0mlen\u001b[0m\u001b[0;34m(\u001b[0m\u001b[0mfhmm_model\u001b[0m\u001b[0;34m.\u001b[0m\u001b[0mns_hidden_states\u001b[0m\u001b[0;34m)\u001b[0m\u001b[0;34m,\u001b[0m\u001b[0;34m\u001b[0m\u001b[0;34m\u001b[0m\u001b[0m\n\u001b[1;32m      4\u001b[0m                         np.max(fhmm_model.ns_hidden_states)))\n\u001b[1;32m      5\u001b[0m \u001b[0;34m\u001b[0m\u001b[0m\n",
      "\u001b[0;31mNameError\u001b[0m: name 'fhmm_model' is not defined"
     ]
    }
   ],
   "source": [
    "inf = fhmm_model.load_inference_interface(fhmm_data)\n",
    "h_t = np.zeros((len(fhmm_data), \n",
    "                        len(fhmm_model.ns_hidden_states), \n",
    "                        np.max(fhmm_model.ns_hidden_states)))\n",
    "\n",
    "for i in range(5):\n",
    "    gamma, alpha, beta = inf.log_forward_backward(h_t)\n",
    "    h_t = inf.h_t_update(gamma, fhmm_data)\n",
    "log_path = inf.predict_hidden_states_log_viterbi(h_t)"
   ]
  },
  {
   "cell_type": "code",
   "execution_count": null,
   "metadata": {},
   "outputs": [],
   "source": [
    "flattened_pred_states = gen.flatten_hidden_state_sequence(log_path)\n",
    "hmmplot.draw_states(flattened_pred_states, hide_brush=False)"
   ]
  },
  {
   "cell_type": "code",
   "execution_count": null,
   "metadata": {
    "scrolled": true
   },
   "outputs": [],
   "source": [
    "flattened_hidden_states = gen.flatten_hidden_state_sequence(factored_hidden_states)\n",
    "hmmplot.draw_states(flattened_hidden_states, hide_brush=False)"
   ]
  },
  {
   "cell_type": "code",
   "execution_count": null,
   "metadata": {},
   "outputs": [],
   "source": [
    "hmmplot.draw_states(factored_hidden_states[0], hide_brush=False)"
   ]
  },
  {
   "cell_type": "code",
   "execution_count": null,
   "metadata": {},
   "outputs": [],
   "source": [
    "hmmplot.draw_states(factored_hidden_states[1], hide_brush=False)"
   ]
  },
  {
   "cell_type": "code",
   "execution_count": null,
   "metadata": {},
   "outputs": [],
   "source": [
    "likelihood = []\n",
    "for m in alg.model_results:\n",
    "    spec = hmm._factored_hmm_to_discrete_hmm(m)\n",
    "    hmm_config = hmm.DiscreteHMMConfiguration.from_spec(spec)\n",
    "    hmm_model = hmm_config.to_model()\n",
    "    hmm_inf = hmm_model.load_inference_interface()\n",
    "    log_prob = hmm_inf.predict_hidden_state_log_probability(fhmm_data)\n",
    "    likelihood.append(\n",
    "        logsumexp(hmm_inf._compute_forward_probabilities(log_prob)[-1]))\n",
    "#     print(m.transition_matrix)"
   ]
  },
  {
   "cell_type": "code",
   "execution_count": null,
   "metadata": {},
   "outputs": [],
   "source": []
  }
 ],
 "metadata": {
  "kernelspec": {
   "display_name": "Python 3",
   "language": "python",
   "name": "python3"
  },
  "language_info": {
   "codemirror_mode": {
    "name": "ipython",
    "version": 3
   },
   "file_extension": ".py",
   "mimetype": "text/x-python",
   "name": "python",
   "nbconvert_exporter": "python",
   "pygments_lexer": "ipython3",
   "version": "3.7.3"
  }
 },
 "nbformat": 4,
 "nbformat_minor": 2
}
